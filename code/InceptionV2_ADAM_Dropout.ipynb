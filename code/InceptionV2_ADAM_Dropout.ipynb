{
  "nbformat": 4,
  "nbformat_minor": 0,
  "metadata": {
    "colab": {
      "name": "InceptionV2_ADAM_Dropout.ipynb",
      "provenance": [],
      "collapsed_sections": []
    },
    "kernelspec": {
      "name": "python3",
      "display_name": "Python 3"
    },
    "accelerator": "GPU"
  },
  "cells": [
    {
      "cell_type": "markdown",
      "metadata": {
        "id": "qe3UvwFPYKMT"
      },
      "source": [
        "## Load Data Set"
      ]
    },
    {
      "cell_type": "code",
      "metadata": {
        "id": "Su96RREPI5li",
        "outputId": "2809842b-a57a-42f7-b22a-b8077ff36134",
        "colab": {
          "base_uri": "https://localhost:8080/",
          "height": 35
        }
      },
      "source": [
        "from google.colab import drive\n",
        "drive.mount('/content/gdrive')"
      ],
      "execution_count": 2,
      "outputs": [
        {
          "output_type": "stream",
          "text": [
            "Mounted at /content/gdrive\n"
          ],
          "name": "stdout"
        }
      ]
    },
    {
      "cell_type": "code",
      "metadata": {
        "id": "ixBthpNWrKzY"
      },
      "source": [
        "from keras.datasets import cifar100\n",
        "from keras.utils import to_categorical\n",
        "import numpy as np\n",
        "import cv2\n",
        "import os\n",
        "from keras import backend as K"
      ],
      "execution_count": 2,
      "outputs": []
    },
    {
      "cell_type": "code",
      "metadata": {
        "id": "d14LEXbNqu68"
      },
      "source": [
        "(x_train, y_train_), (x_test, y_test_) = cifar100.load_data()\n"
      ],
      "execution_count": 3,
      "outputs": []
    },
    {
      "cell_type": "code",
      "metadata": {
        "id": "p4lTzEl8djyJ"
      },
      "source": [
        "x_train = x_train.astype('float32') / 255\n",
        "x_test = x_test.astype('float32') / 255"
      ],
      "execution_count": 4,
      "outputs": []
    },
    {
      "cell_type": "code",
      "metadata": {
        "id": "6h_PwVSJrWjf"
      },
      "source": [
        "y_train = to_categorical(y_train_)\n",
        "y_test = to_categorical(y_test_)"
      ],
      "execution_count": 5,
      "outputs": []
    },
    {
      "cell_type": "markdown",
      "metadata": {
        "id": "fsSOLpMSYEKL"
      },
      "source": [
        "## Inception V2 model"
      ]
    },
    {
      "cell_type": "code",
      "metadata": {
        "id": "DlX5MwqCoSEF"
      },
      "source": [
        "import keras\n",
        "from keras.models import Model\n",
        "from keras.layers import Dense, Activation, Dropout, Flatten, Reshape\n",
        "from keras.layers import Conv2D, Input\n",
        "from keras.layers import MaxPooling2D\n",
        "from keras.callbacks import EarlyStopping\n",
        "from keras.layers.merge import concatenate\n",
        "import os"
      ],
      "execution_count": 11,
      "outputs": []
    },
    {
      "cell_type": "code",
      "metadata": {
        "id": "RfDkIclipUCR"
      },
      "source": [
        "input_shape = (32, 32, 3)\n",
        "input = Input(shape=input_shape)"
      ],
      "execution_count": 12,
      "outputs": []
    },
    {
      "cell_type": "code",
      "metadata": {
        "id": "t1Cv1ygQ7Cwj"
      },
      "source": [
        "layer1_1 = Conv2D(64, (1, 1), activation='elu', padding='same')(input)\n",
        "layer1_2 = Conv2D(96, (1, 1), activation='elu', padding='same')(input)\n",
        "layer1_2 = Conv2D(128, (3, 3), activation='elu', padding='same')(layer1_2)\n",
        "layer1_3 = Conv2D(16, (1, 1), activation='elu', padding='same')(input)\n",
        "layer1_3 = Conv2D(32, (5, 5), activation='elu', padding='same')(layer1_3)\n",
        "layer1_4 = MaxPooling2D(pool_size=(3, 3), strides=(1, 1), padding='same', data_format='channels_last')(input)\n",
        "layer1_4 = Conv2D(32, (1, 1), activation='elu', padding='same')(layer1_4)\n",
        " \n",
        "concat = concatenate([layer1_1, layer1_2, layer1_3, layer1_4])\n",
        "concat = Dropout(0.3)(concat)"
      ],
      "execution_count": 13,
      "outputs": []
    },
    {
      "cell_type": "code",
      "metadata": {
        "id": "ZgqX4ij5wn7J"
      },
      "source": [
        "layer2_1 = Conv2D(64, (1, 1), activation='elu', padding='same')(concat)\n",
        "layer2_2 = Conv2D(96, (1, 1), activation='elu', padding='same')(concat)\n",
        "layer2_2 = Conv2D(128, (3, 3), activation='elu', padding='same')(layer2_2)\n",
        "layer2_3 = Conv2D(16, (1, 1), activation='elu', padding='same')(concat)\n",
        "layer2_3 = Conv2D(32, (5, 5), activation='elu', padding='same')(layer2_3)\n",
        "layer2_4 = MaxPooling2D(pool_size=(3, 3), strides=(1, 1), padding='same', data_format='channels_last')(concat)\n",
        "layer2_4 = Conv2D(32, (1, 1), activation='elu', padding='same')(layer2_4)\n",
        "\n",
        "concat2 = concatenate([layer2_1, layer2_2, layer2_3, layer2_4])\n",
        "concat2 = Dropout(0.3)(concat2)"
      ],
      "execution_count": 14,
      "outputs": []
    },
    {
      "cell_type": "code",
      "metadata": {
        "id": "4RzN660c7naC"
      },
      "source": [
        "# layer3_1 = Conv2D(64, (1, 1), activation='elu', padding='same')(concat2)\n",
        "# layer3_2 = Conv2D(96, (1, 1), activation='elu', padding='same')(concat2)\n",
        "# layer3_2 = Conv2D(128, (3, 3), activation='elu', padding='same')(layer3_2)\n",
        "# layer3_3 = Conv2D(16, (1, 1), activation='elu', padding='same')(concat2)\n",
        "# layer3_3 = Conv2D(32, (5, 5), activation='elu', padding='same')(layer3_3)\n",
        "# layer3_4 = MaxPooling2D(pool_size=(3, 3), strides=(1, 1), padding='same', data_format='channels_last')(concat2)\n",
        "# layer3_4 = Conv2D(32, (1, 1), activation='elu', padding='same')(layer3_4)\n",
        " \n",
        "# concat3 = concatenate([layer3_1, layer3_2, layer3_3, layer3_4])"
      ],
      "execution_count": 15,
      "outputs": []
    },
    {
      "cell_type": "code",
      "metadata": {
        "id": "BqQohLdvpaGV",
        "outputId": "27918dd3-c8a0-420c-f7d4-d02669c5628a",
        "colab": {
          "base_uri": "https://localhost:8080/",
          "height": 1000
        }
      },
      "source": [
        "# layer4_1 = Conv2D(64, (1, 1), activation='elu', padding='same')(concat3)\n",
        "# layer4_2 = Conv2D(96, (1, 1), activation='elu', padding='same')(concat3)\n",
        "# layer4_2 = Conv2D(128, (3, 3), activation='elu', padding='same')(layer4_2)\n",
        "# layer4_3 = Conv2D(16, (1, 1), activation='elu', padding='same')(concat3)\n",
        "# layer4_3 = Conv2D(32, (5, 5), activation='elu', padding='same')(layer4_3)\n",
        "# layer4_4 = MaxPooling2D(pool_size=(3, 3), strides=(1, 1), padding='same', data_format='channels_last')(concat3)\n",
        "# layer4_4 = Conv2D(32, (1, 1), activation='elu', padding='same')(layer4_4)\n",
        " \n",
        "# concat4 = concatenate([layer4_1, layer4_2, layer4_3, layer4_4])\n",
        "\n",
        "output = Conv2D(8, (3, 3), activation='elu', padding='same')(concat2)\n",
        "output = MaxPooling2D(pool_size=(3, 3))(output)\n",
        "output = Flatten()(output)                 \n",
        "output = Dense(100, activation='softmax')(output) \n",
        "\n",
        "model = Model(inputs=input, outputs=output) \n",
        "model.summary()"
      ],
      "execution_count": 16,
      "outputs": [
        {
          "output_type": "stream",
          "text": [
            "Model: \"functional_1\"\n",
            "__________________________________________________________________________________________________\n",
            "Layer (type)                    Output Shape         Param #     Connected to                     \n",
            "==================================================================================================\n",
            "input_2 (InputLayer)            [(None, 32, 32, 3)]  0                                            \n",
            "__________________________________________________________________________________________________\n",
            "conv2d_13 (Conv2D)              (None, 32, 32, 96)   384         input_2[0][0]                    \n",
            "__________________________________________________________________________________________________\n",
            "conv2d_15 (Conv2D)              (None, 32, 32, 16)   64          input_2[0][0]                    \n",
            "__________________________________________________________________________________________________\n",
            "max_pooling2d_2 (MaxPooling2D)  (None, 32, 32, 3)    0           input_2[0][0]                    \n",
            "__________________________________________________________________________________________________\n",
            "conv2d_12 (Conv2D)              (None, 32, 32, 64)   256         input_2[0][0]                    \n",
            "__________________________________________________________________________________________________\n",
            "conv2d_14 (Conv2D)              (None, 32, 32, 128)  110720      conv2d_13[0][0]                  \n",
            "__________________________________________________________________________________________________\n",
            "conv2d_16 (Conv2D)              (None, 32, 32, 32)   12832       conv2d_15[0][0]                  \n",
            "__________________________________________________________________________________________________\n",
            "conv2d_17 (Conv2D)              (None, 32, 32, 32)   128         max_pooling2d_2[0][0]            \n",
            "__________________________________________________________________________________________________\n",
            "concatenate_2 (Concatenate)     (None, 32, 32, 256)  0           conv2d_12[0][0]                  \n",
            "                                                                 conv2d_14[0][0]                  \n",
            "                                                                 conv2d_16[0][0]                  \n",
            "                                                                 conv2d_17[0][0]                  \n",
            "__________________________________________________________________________________________________\n",
            "dropout_2 (Dropout)             (None, 32, 32, 256)  0           concatenate_2[0][0]              \n",
            "__________________________________________________________________________________________________\n",
            "conv2d_19 (Conv2D)              (None, 32, 32, 96)   24672       dropout_2[0][0]                  \n",
            "__________________________________________________________________________________________________\n",
            "conv2d_21 (Conv2D)              (None, 32, 32, 16)   4112        dropout_2[0][0]                  \n",
            "__________________________________________________________________________________________________\n",
            "max_pooling2d_3 (MaxPooling2D)  (None, 32, 32, 256)  0           dropout_2[0][0]                  \n",
            "__________________________________________________________________________________________________\n",
            "conv2d_18 (Conv2D)              (None, 32, 32, 64)   16448       dropout_2[0][0]                  \n",
            "__________________________________________________________________________________________________\n",
            "conv2d_20 (Conv2D)              (None, 32, 32, 128)  110720      conv2d_19[0][0]                  \n",
            "__________________________________________________________________________________________________\n",
            "conv2d_22 (Conv2D)              (None, 32, 32, 32)   12832       conv2d_21[0][0]                  \n",
            "__________________________________________________________________________________________________\n",
            "conv2d_23 (Conv2D)              (None, 32, 32, 32)   8224        max_pooling2d_3[0][0]            \n",
            "__________________________________________________________________________________________________\n",
            "concatenate_3 (Concatenate)     (None, 32, 32, 256)  0           conv2d_18[0][0]                  \n",
            "                                                                 conv2d_20[0][0]                  \n",
            "                                                                 conv2d_22[0][0]                  \n",
            "                                                                 conv2d_23[0][0]                  \n",
            "__________________________________________________________________________________________________\n",
            "dropout_3 (Dropout)             (None, 32, 32, 256)  0           concatenate_3[0][0]              \n",
            "__________________________________________________________________________________________________\n",
            "conv2d_24 (Conv2D)              (None, 32, 32, 8)    18440       dropout_3[0][0]                  \n",
            "__________________________________________________________________________________________________\n",
            "max_pooling2d_4 (MaxPooling2D)  (None, 10, 10, 8)    0           conv2d_24[0][0]                  \n",
            "__________________________________________________________________________________________________\n",
            "flatten (Flatten)               (None, 800)          0           max_pooling2d_4[0][0]            \n",
            "__________________________________________________________________________________________________\n",
            "dense (Dense)                   (None, 100)          80100       flatten[0][0]                    \n",
            "==================================================================================================\n",
            "Total params: 399,932\n",
            "Trainable params: 399,932\n",
            "Non-trainable params: 0\n",
            "__________________________________________________________________________________________________\n"
          ],
          "name": "stdout"
        }
      ]
    },
    {
      "cell_type": "code",
      "metadata": {
        "id": "wNXVRhvpsCwi"
      },
      "source": [
        "opt = keras.optimizers.Adam(learning_rate=0.0001, clipnorm=5)\n",
        "model.compile(loss=keras.losses.categorical_crossentropy, optimizer=opt, metrics=[\"accuracy\"])"
      ],
      "execution_count": 17,
      "outputs": []
    },
    {
      "cell_type": "code",
      "metadata": {
        "id": "E6Hea7ZxrbKJ",
        "outputId": "24efbc9d-613b-4377-959f-1ef2a157f466",
        "colab": {
          "base_uri": "https://localhost:8080/",
          "height": 1000
        }
      },
      "source": [
        "callback = EarlyStopping(monitor='loss', patience=20)\n",
        "history = model.fit(x_train, y_train, batch_size=128, epochs=200, verbose=1, validation_data=(x_test, y_test), callbacks=[callback])"
      ],
      "execution_count": 18,
      "outputs": [
        {
          "output_type": "stream",
          "text": [
            "Epoch 1/200\n",
            "391/391 [==============================] - 47s 120ms/step - loss: 4.3062 - accuracy: 0.0492 - val_loss: 4.0472 - val_accuracy: 0.0851\n",
            "Epoch 2/200\n",
            "391/391 [==============================] - 47s 121ms/step - loss: 3.8296 - accuracy: 0.1246 - val_loss: 3.8281 - val_accuracy: 0.1242\n",
            "Epoch 3/200\n",
            "391/391 [==============================] - 47s 120ms/step - loss: 3.6178 - accuracy: 0.1633 - val_loss: 3.7014 - val_accuracy: 0.1508\n",
            "Epoch 4/200\n",
            "391/391 [==============================] - 47s 120ms/step - loss: 3.4788 - accuracy: 0.1886 - val_loss: 3.5801 - val_accuracy: 0.1716\n",
            "Epoch 5/200\n",
            "391/391 [==============================] - 47s 120ms/step - loss: 3.3771 - accuracy: 0.2053 - val_loss: 3.5506 - val_accuracy: 0.1787\n",
            "Epoch 6/200\n",
            "391/391 [==============================] - 47s 121ms/step - loss: 3.2788 - accuracy: 0.2245 - val_loss: 3.5868 - val_accuracy: 0.1761\n",
            "Epoch 7/200\n",
            "391/391 [==============================] - 47s 121ms/step - loss: 3.2031 - accuracy: 0.2385 - val_loss: 3.6088 - val_accuracy: 0.1748\n",
            "Epoch 8/200\n",
            "391/391 [==============================] - 47s 121ms/step - loss: 3.1367 - accuracy: 0.2499 - val_loss: 3.3695 - val_accuracy: 0.2097\n",
            "Epoch 9/200\n",
            "391/391 [==============================] - 47s 120ms/step - loss: 3.0799 - accuracy: 0.2616 - val_loss: 3.5128 - val_accuracy: 0.1913\n",
            "Epoch 10/200\n",
            "391/391 [==============================] - 47s 120ms/step - loss: 3.0263 - accuracy: 0.2716 - val_loss: 3.5439 - val_accuracy: 0.1918\n",
            "Epoch 11/200\n",
            "391/391 [==============================] - 47s 120ms/step - loss: 2.9796 - accuracy: 0.2820 - val_loss: 3.5323 - val_accuracy: 0.1941\n",
            "Epoch 12/200\n",
            "391/391 [==============================] - 47s 120ms/step - loss: 2.9356 - accuracy: 0.2878 - val_loss: 3.5031 - val_accuracy: 0.2025\n",
            "Epoch 13/200\n",
            "391/391 [==============================] - 47s 120ms/step - loss: 2.8928 - accuracy: 0.2978 - val_loss: 3.5780 - val_accuracy: 0.1968\n",
            "Epoch 14/200\n",
            "391/391 [==============================] - 47s 120ms/step - loss: 2.8572 - accuracy: 0.3041 - val_loss: 3.3428 - val_accuracy: 0.2238\n",
            "Epoch 15/200\n",
            "391/391 [==============================] - 47s 120ms/step - loss: 2.8108 - accuracy: 0.3138 - val_loss: 3.5046 - val_accuracy: 0.2076\n",
            "Epoch 16/200\n",
            "391/391 [==============================] - 47s 121ms/step - loss: 2.7791 - accuracy: 0.3190 - val_loss: 3.2980 - val_accuracy: 0.2337\n",
            "Epoch 17/200\n",
            "391/391 [==============================] - 47s 120ms/step - loss: 2.7404 - accuracy: 0.3295 - val_loss: 3.1887 - val_accuracy: 0.2459\n",
            "Epoch 18/200\n",
            "391/391 [==============================] - 47s 120ms/step - loss: 2.7059 - accuracy: 0.3353 - val_loss: 3.1846 - val_accuracy: 0.2495\n",
            "Epoch 19/200\n",
            "391/391 [==============================] - 47s 120ms/step - loss: 2.6733 - accuracy: 0.3448 - val_loss: 3.1395 - val_accuracy: 0.2544\n",
            "Epoch 20/200\n",
            "391/391 [==============================] - 47s 120ms/step - loss: 2.6424 - accuracy: 0.3479 - val_loss: 3.1007 - val_accuracy: 0.2593\n",
            "Epoch 21/200\n",
            "391/391 [==============================] - 47s 120ms/step - loss: 2.6106 - accuracy: 0.3562 - val_loss: 3.1580 - val_accuracy: 0.2560\n",
            "Epoch 22/200\n",
            "391/391 [==============================] - 47s 120ms/step - loss: 2.5836 - accuracy: 0.3622 - val_loss: 3.1305 - val_accuracy: 0.2581\n",
            "Epoch 23/200\n",
            "391/391 [==============================] - 47s 120ms/step - loss: 2.5598 - accuracy: 0.3675 - val_loss: 3.0658 - val_accuracy: 0.2712\n",
            "Epoch 24/200\n",
            "391/391 [==============================] - 47s 120ms/step - loss: 2.5342 - accuracy: 0.3730 - val_loss: 3.1625 - val_accuracy: 0.2574\n",
            "Epoch 25/200\n",
            "391/391 [==============================] - 47s 120ms/step - loss: 2.5084 - accuracy: 0.3790 - val_loss: 3.1035 - val_accuracy: 0.2640\n",
            "Epoch 26/200\n",
            "391/391 [==============================] - 47s 120ms/step - loss: 2.4869 - accuracy: 0.3817 - val_loss: 3.0937 - val_accuracy: 0.2624\n",
            "Epoch 27/200\n",
            "391/391 [==============================] - 47s 120ms/step - loss: 2.4662 - accuracy: 0.3867 - val_loss: 3.0477 - val_accuracy: 0.2773\n",
            "Epoch 28/200\n",
            "391/391 [==============================] - 47s 120ms/step - loss: 2.4479 - accuracy: 0.3905 - val_loss: 3.1226 - val_accuracy: 0.2622\n",
            "Epoch 29/200\n",
            "391/391 [==============================] - 47s 120ms/step - loss: 2.4279 - accuracy: 0.3943 - val_loss: 2.9899 - val_accuracy: 0.2844\n",
            "Epoch 30/200\n",
            "391/391 [==============================] - 47s 120ms/step - loss: 2.4104 - accuracy: 0.3985 - val_loss: 3.0570 - val_accuracy: 0.2722\n",
            "Epoch 31/200\n",
            "391/391 [==============================] - 47s 120ms/step - loss: 2.3916 - accuracy: 0.4044 - val_loss: 3.0106 - val_accuracy: 0.2812\n",
            "Epoch 32/200\n",
            "391/391 [==============================] - 47s 120ms/step - loss: 2.3743 - accuracy: 0.4075 - val_loss: 3.0813 - val_accuracy: 0.2747\n",
            "Epoch 33/200\n",
            "391/391 [==============================] - 47s 120ms/step - loss: 2.3559 - accuracy: 0.4108 - val_loss: 3.1213 - val_accuracy: 0.2671\n",
            "Epoch 34/200\n",
            "391/391 [==============================] - 47s 120ms/step - loss: 2.3442 - accuracy: 0.4143 - val_loss: 3.0716 - val_accuracy: 0.2751\n",
            "Epoch 35/200\n",
            "391/391 [==============================] - 47s 120ms/step - loss: 2.3273 - accuracy: 0.4169 - val_loss: 3.0068 - val_accuracy: 0.2905\n",
            "Epoch 36/200\n",
            "391/391 [==============================] - 47s 120ms/step - loss: 2.3160 - accuracy: 0.4209 - val_loss: 3.0671 - val_accuracy: 0.2759\n",
            "Epoch 37/200\n",
            "391/391 [==============================] - 47s 120ms/step - loss: 2.2995 - accuracy: 0.4251 - val_loss: 3.0228 - val_accuracy: 0.2873\n",
            "Epoch 38/200\n",
            "391/391 [==============================] - 47s 120ms/step - loss: 2.2870 - accuracy: 0.4270 - val_loss: 3.0650 - val_accuracy: 0.2786\n",
            "Epoch 39/200\n",
            "391/391 [==============================] - 47s 120ms/step - loss: 2.2684 - accuracy: 0.4313 - val_loss: 3.0659 - val_accuracy: 0.2824\n",
            "Epoch 40/200\n",
            "391/391 [==============================] - 47s 120ms/step - loss: 2.2583 - accuracy: 0.4327 - val_loss: 3.0679 - val_accuracy: 0.2759\n",
            "Epoch 41/200\n",
            "391/391 [==============================] - 47s 120ms/step - loss: 2.2445 - accuracy: 0.4347 - val_loss: 3.1185 - val_accuracy: 0.2690\n",
            "Epoch 42/200\n",
            "391/391 [==============================] - 47s 120ms/step - loss: 2.2312 - accuracy: 0.4391 - val_loss: 3.1081 - val_accuracy: 0.2664\n",
            "Epoch 43/200\n",
            "391/391 [==============================] - 47s 120ms/step - loss: 2.2203 - accuracy: 0.4404 - val_loss: 3.0287 - val_accuracy: 0.2882\n",
            "Epoch 44/200\n",
            "391/391 [==============================] - 47s 120ms/step - loss: 2.2077 - accuracy: 0.4441 - val_loss: 3.0634 - val_accuracy: 0.2800\n",
            "Epoch 45/200\n",
            "391/391 [==============================] - 47s 120ms/step - loss: 2.1966 - accuracy: 0.4440 - val_loss: 3.0371 - val_accuracy: 0.2812\n",
            "Epoch 46/200\n",
            "391/391 [==============================] - 47s 120ms/step - loss: 2.1847 - accuracy: 0.4493 - val_loss: 3.0754 - val_accuracy: 0.2782\n",
            "Epoch 47/200\n",
            "391/391 [==============================] - 47s 120ms/step - loss: 2.1735 - accuracy: 0.4504 - val_loss: 3.0283 - val_accuracy: 0.2857\n",
            "Epoch 48/200\n",
            "391/391 [==============================] - 47s 120ms/step - loss: 2.1660 - accuracy: 0.4522 - val_loss: 3.0371 - val_accuracy: 0.2795\n",
            "Epoch 49/200\n",
            "391/391 [==============================] - 47s 120ms/step - loss: 2.1526 - accuracy: 0.4537 - val_loss: 3.1064 - val_accuracy: 0.2735\n",
            "Epoch 50/200\n",
            "391/391 [==============================] - 47s 120ms/step - loss: 2.1411 - accuracy: 0.4586 - val_loss: 3.0769 - val_accuracy: 0.2775\n",
            "Epoch 51/200\n",
            "391/391 [==============================] - 47s 120ms/step - loss: 2.1337 - accuracy: 0.4612 - val_loss: 3.0889 - val_accuracy: 0.2784\n",
            "Epoch 52/200\n",
            "391/391 [==============================] - 47s 120ms/step - loss: 2.1188 - accuracy: 0.4626 - val_loss: 3.0649 - val_accuracy: 0.2825\n",
            "Epoch 53/200\n",
            "391/391 [==============================] - 47s 120ms/step - loss: 2.1074 - accuracy: 0.4648 - val_loss: 3.0117 - val_accuracy: 0.2910\n",
            "Epoch 54/200\n",
            "391/391 [==============================] - 47s 120ms/step - loss: 2.0998 - accuracy: 0.4668 - val_loss: 3.0389 - val_accuracy: 0.2828\n",
            "Epoch 55/200\n",
            "391/391 [==============================] - 47s 120ms/step - loss: 2.0901 - accuracy: 0.4672 - val_loss: 2.9387 - val_accuracy: 0.3001\n",
            "Epoch 56/200\n",
            "391/391 [==============================] - 47s 120ms/step - loss: 2.0842 - accuracy: 0.4693 - val_loss: 3.0883 - val_accuracy: 0.2769\n",
            "Epoch 57/200\n",
            "391/391 [==============================] - 47s 120ms/step - loss: 2.0749 - accuracy: 0.4713 - val_loss: 3.1066 - val_accuracy: 0.2747\n",
            "Epoch 58/200\n",
            "391/391 [==============================] - 47s 120ms/step - loss: 2.0641 - accuracy: 0.4741 - val_loss: 3.0646 - val_accuracy: 0.2803\n",
            "Epoch 59/200\n",
            "391/391 [==============================] - 47s 120ms/step - loss: 2.0540 - accuracy: 0.4752 - val_loss: 3.0947 - val_accuracy: 0.2786\n",
            "Epoch 60/200\n",
            "391/391 [==============================] - 47s 120ms/step - loss: 2.0461 - accuracy: 0.4777 - val_loss: 3.0717 - val_accuracy: 0.2823\n",
            "Epoch 61/200\n",
            "391/391 [==============================] - 47s 120ms/step - loss: 2.0349 - accuracy: 0.4825 - val_loss: 3.0480 - val_accuracy: 0.2817\n",
            "Epoch 62/200\n",
            "391/391 [==============================] - 47s 120ms/step - loss: 2.0275 - accuracy: 0.4834 - val_loss: 3.0242 - val_accuracy: 0.2884\n",
            "Epoch 63/200\n",
            "391/391 [==============================] - 47s 120ms/step - loss: 2.0166 - accuracy: 0.4835 - val_loss: 2.9981 - val_accuracy: 0.2937\n",
            "Epoch 64/200\n",
            "391/391 [==============================] - 47s 120ms/step - loss: 2.0079 - accuracy: 0.4854 - val_loss: 3.0327 - val_accuracy: 0.2869\n",
            "Epoch 65/200\n",
            "391/391 [==============================] - 47s 120ms/step - loss: 1.9998 - accuracy: 0.4877 - val_loss: 3.0262 - val_accuracy: 0.2892\n",
            "Epoch 66/200\n",
            "391/391 [==============================] - 47s 120ms/step - loss: 1.9952 - accuracy: 0.4897 - val_loss: 3.0888 - val_accuracy: 0.2805\n",
            "Epoch 67/200\n",
            "391/391 [==============================] - 47s 120ms/step - loss: 1.9859 - accuracy: 0.4933 - val_loss: 3.0718 - val_accuracy: 0.2856\n",
            "Epoch 68/200\n",
            "391/391 [==============================] - 47s 120ms/step - loss: 1.9770 - accuracy: 0.4932 - val_loss: 3.0267 - val_accuracy: 0.2896\n",
            "Epoch 69/200\n",
            "391/391 [==============================] - 47s 120ms/step - loss: 1.9697 - accuracy: 0.4931 - val_loss: 3.1539 - val_accuracy: 0.2748\n",
            "Epoch 70/200\n",
            "391/391 [==============================] - 47s 120ms/step - loss: 1.9600 - accuracy: 0.4972 - val_loss: 3.0467 - val_accuracy: 0.2872\n",
            "Epoch 71/200\n",
            "391/391 [==============================] - 47s 120ms/step - loss: 1.9540 - accuracy: 0.4983 - val_loss: 3.0194 - val_accuracy: 0.2937\n",
            "Epoch 72/200\n",
            "391/391 [==============================] - 47s 120ms/step - loss: 1.9450 - accuracy: 0.4967 - val_loss: 3.0615 - val_accuracy: 0.2857\n",
            "Epoch 73/200\n",
            "391/391 [==============================] - 47s 120ms/step - loss: 1.9385 - accuracy: 0.5006 - val_loss: 3.0791 - val_accuracy: 0.2839\n",
            "Epoch 74/200\n",
            "391/391 [==============================] - 47s 120ms/step - loss: 1.9316 - accuracy: 0.5026 - val_loss: 3.0042 - val_accuracy: 0.2969\n",
            "Epoch 75/200\n",
            "391/391 [==============================] - 47s 120ms/step - loss: 1.9260 - accuracy: 0.5042 - val_loss: 3.0721 - val_accuracy: 0.2856\n",
            "Epoch 76/200\n",
            "391/391 [==============================] - 47s 120ms/step - loss: 1.9173 - accuracy: 0.5057 - val_loss: 3.0200 - val_accuracy: 0.2960\n",
            "Epoch 77/200\n",
            "391/391 [==============================] - 47s 120ms/step - loss: 1.9131 - accuracy: 0.5079 - val_loss: 3.0639 - val_accuracy: 0.2896\n",
            "Epoch 78/200\n",
            "391/391 [==============================] - 47s 120ms/step - loss: 1.9056 - accuracy: 0.5096 - val_loss: 3.0957 - val_accuracy: 0.2843\n",
            "Epoch 79/200\n",
            "391/391 [==============================] - 47s 120ms/step - loss: 1.8982 - accuracy: 0.5096 - val_loss: 3.0314 - val_accuracy: 0.2916\n",
            "Epoch 80/200\n",
            "391/391 [==============================] - 47s 120ms/step - loss: 1.8895 - accuracy: 0.5125 - val_loss: 3.1285 - val_accuracy: 0.2747\n",
            "Epoch 81/200\n",
            "391/391 [==============================] - 47s 120ms/step - loss: 1.8839 - accuracy: 0.5122 - val_loss: 3.0214 - val_accuracy: 0.2990\n",
            "Epoch 82/200\n",
            "391/391 [==============================] - 47s 120ms/step - loss: 1.8735 - accuracy: 0.5165 - val_loss: 3.1502 - val_accuracy: 0.2805\n",
            "Epoch 83/200\n",
            "391/391 [==============================] - 47s 120ms/step - loss: 1.8664 - accuracy: 0.5178 - val_loss: 3.1832 - val_accuracy: 0.2723\n",
            "Epoch 84/200\n",
            "391/391 [==============================] - 47s 120ms/step - loss: 1.8639 - accuracy: 0.5181 - val_loss: 3.1481 - val_accuracy: 0.2823\n",
            "Epoch 85/200\n",
            "391/391 [==============================] - 47s 120ms/step - loss: 1.8568 - accuracy: 0.5220 - val_loss: 3.0824 - val_accuracy: 0.2875\n",
            "Epoch 86/200\n",
            "391/391 [==============================] - 47s 120ms/step - loss: 1.8505 - accuracy: 0.5202 - val_loss: 2.9890 - val_accuracy: 0.3037\n",
            "Epoch 87/200\n",
            "391/391 [==============================] - 47s 120ms/step - loss: 1.8443 - accuracy: 0.5225 - val_loss: 3.0164 - val_accuracy: 0.2999\n",
            "Epoch 88/200\n",
            "391/391 [==============================] - 47s 120ms/step - loss: 1.8389 - accuracy: 0.5213 - val_loss: 3.0493 - val_accuracy: 0.2959\n",
            "Epoch 89/200\n",
            "391/391 [==============================] - 47s 120ms/step - loss: 1.8322 - accuracy: 0.5234 - val_loss: 3.0168 - val_accuracy: 0.2998\n",
            "Epoch 90/200\n",
            "391/391 [==============================] - 47s 120ms/step - loss: 1.8248 - accuracy: 0.5264 - val_loss: 3.0584 - val_accuracy: 0.2969\n",
            "Epoch 91/200\n",
            "391/391 [==============================] - 47s 120ms/step - loss: 1.8200 - accuracy: 0.5287 - val_loss: 3.1226 - val_accuracy: 0.2796\n",
            "Epoch 92/200\n",
            "391/391 [==============================] - 47s 121ms/step - loss: 1.8140 - accuracy: 0.5293 - val_loss: 3.0983 - val_accuracy: 0.2837\n",
            "Epoch 93/200\n",
            "391/391 [==============================] - 47s 120ms/step - loss: 1.8109 - accuracy: 0.5296 - val_loss: 3.0441 - val_accuracy: 0.2952\n",
            "Epoch 94/200\n",
            "391/391 [==============================] - 47s 121ms/step - loss: 1.8008 - accuracy: 0.5309 - val_loss: 3.1591 - val_accuracy: 0.2822\n",
            "Epoch 95/200\n",
            "391/391 [==============================] - 47s 120ms/step - loss: 1.7981 - accuracy: 0.5319 - val_loss: 3.0746 - val_accuracy: 0.2917\n",
            "Epoch 96/200\n",
            "391/391 [==============================] - 47s 120ms/step - loss: 1.7896 - accuracy: 0.5319 - val_loss: 3.1355 - val_accuracy: 0.2860\n",
            "Epoch 97/200\n",
            "391/391 [==============================] - 47s 120ms/step - loss: 1.7832 - accuracy: 0.5361 - val_loss: 3.0791 - val_accuracy: 0.2947\n",
            "Epoch 98/200\n",
            "391/391 [==============================] - 47s 120ms/step - loss: 1.7766 - accuracy: 0.5391 - val_loss: 3.1074 - val_accuracy: 0.2906\n",
            "Epoch 99/200\n",
            "391/391 [==============================] - 47s 121ms/step - loss: 1.7728 - accuracy: 0.5386 - val_loss: 3.1448 - val_accuracy: 0.2819\n",
            "Epoch 100/200\n",
            "391/391 [==============================] - 47s 120ms/step - loss: 1.7665 - accuracy: 0.5395 - val_loss: 3.1208 - val_accuracy: 0.2890\n",
            "Epoch 101/200\n",
            "391/391 [==============================] - 47s 120ms/step - loss: 1.7649 - accuracy: 0.5373 - val_loss: 3.1016 - val_accuracy: 0.2935\n",
            "Epoch 102/200\n",
            "391/391 [==============================] - 47s 120ms/step - loss: 1.7572 - accuracy: 0.5427 - val_loss: 3.0810 - val_accuracy: 0.2919\n",
            "Epoch 103/200\n",
            "391/391 [==============================] - 47s 120ms/step - loss: 1.7528 - accuracy: 0.5410 - val_loss: 3.1755 - val_accuracy: 0.2851\n",
            "Epoch 104/200\n",
            "391/391 [==============================] - 47s 120ms/step - loss: 1.7451 - accuracy: 0.5441 - val_loss: 3.1214 - val_accuracy: 0.2916\n",
            "Epoch 105/200\n",
            "391/391 [==============================] - 47s 120ms/step - loss: 1.7431 - accuracy: 0.5444 - val_loss: 3.1640 - val_accuracy: 0.2843\n",
            "Epoch 106/200\n",
            "391/391 [==============================] - 47s 120ms/step - loss: 1.7362 - accuracy: 0.5461 - val_loss: 3.0760 - val_accuracy: 0.3003\n",
            "Epoch 107/200\n",
            "391/391 [==============================] - 47s 120ms/step - loss: 1.7347 - accuracy: 0.5443 - val_loss: 3.0845 - val_accuracy: 0.2944\n",
            "Epoch 108/200\n",
            "391/391 [==============================] - 47s 120ms/step - loss: 1.7254 - accuracy: 0.5488 - val_loss: 3.0797 - val_accuracy: 0.2970\n",
            "Epoch 109/200\n",
            "391/391 [==============================] - 47s 120ms/step - loss: 1.7223 - accuracy: 0.5465 - val_loss: 3.1375 - val_accuracy: 0.2913\n",
            "Epoch 110/200\n",
            "391/391 [==============================] - 47s 120ms/step - loss: 1.7228 - accuracy: 0.5493 - val_loss: 3.1254 - val_accuracy: 0.2943\n",
            "Epoch 111/200\n",
            "391/391 [==============================] - 47s 121ms/step - loss: 1.7124 - accuracy: 0.5498 - val_loss: 3.0426 - val_accuracy: 0.3015\n",
            "Epoch 112/200\n",
            "391/391 [==============================] - 47s 120ms/step - loss: 1.7089 - accuracy: 0.5520 - val_loss: 3.0824 - val_accuracy: 0.2991\n",
            "Epoch 113/200\n",
            "391/391 [==============================] - 47s 120ms/step - loss: 1.7082 - accuracy: 0.5528 - val_loss: 3.0813 - val_accuracy: 0.2974\n",
            "Epoch 114/200\n",
            "391/391 [==============================] - 47s 120ms/step - loss: 1.6984 - accuracy: 0.5525 - val_loss: 3.0547 - val_accuracy: 0.3003\n",
            "Epoch 115/200\n",
            "391/391 [==============================] - 47s 121ms/step - loss: 1.6981 - accuracy: 0.5511 - val_loss: 3.0452 - val_accuracy: 0.3026\n",
            "Epoch 116/200\n",
            "391/391 [==============================] - 47s 121ms/step - loss: 1.6921 - accuracy: 0.5539 - val_loss: 3.1373 - val_accuracy: 0.2922\n",
            "Epoch 117/200\n",
            "391/391 [==============================] - 47s 120ms/step - loss: 1.6856 - accuracy: 0.5565 - val_loss: 3.1346 - val_accuracy: 0.2946\n",
            "Epoch 118/200\n",
            "391/391 [==============================] - 47s 120ms/step - loss: 1.6846 - accuracy: 0.5568 - val_loss: 3.1480 - val_accuracy: 0.2896\n",
            "Epoch 119/200\n",
            "391/391 [==============================] - 47s 121ms/step - loss: 1.6775 - accuracy: 0.5577 - val_loss: 3.1448 - val_accuracy: 0.2969\n",
            "Epoch 120/200\n",
            "391/391 [==============================] - 47s 120ms/step - loss: 1.6732 - accuracy: 0.5616 - val_loss: 3.0926 - val_accuracy: 0.2999\n",
            "Epoch 121/200\n",
            "391/391 [==============================] - 47s 120ms/step - loss: 1.6698 - accuracy: 0.5576 - val_loss: 3.0846 - val_accuracy: 0.3000\n",
            "Epoch 122/200\n",
            "391/391 [==============================] - 47s 120ms/step - loss: 1.6604 - accuracy: 0.5610 - val_loss: 3.1152 - val_accuracy: 0.2972\n",
            "Epoch 123/200\n",
            "391/391 [==============================] - 47s 120ms/step - loss: 1.6615 - accuracy: 0.5607 - val_loss: 3.1699 - val_accuracy: 0.2929\n",
            "Epoch 124/200\n",
            "391/391 [==============================] - 47s 120ms/step - loss: 1.6571 - accuracy: 0.5624 - val_loss: 3.1503 - val_accuracy: 0.2996\n",
            "Epoch 125/200\n",
            "391/391 [==============================] - 47s 120ms/step - loss: 1.6568 - accuracy: 0.5613 - val_loss: 3.1058 - val_accuracy: 0.3001\n",
            "Epoch 126/200\n",
            "391/391 [==============================] - 47s 120ms/step - loss: 1.6499 - accuracy: 0.5643 - val_loss: 3.1353 - val_accuracy: 0.2962\n",
            "Epoch 127/200\n",
            "391/391 [==============================] - 47s 120ms/step - loss: 1.6443 - accuracy: 0.5630 - val_loss: 3.1484 - val_accuracy: 0.2956\n",
            "Epoch 128/200\n",
            "391/391 [==============================] - 47s 120ms/step - loss: 1.6398 - accuracy: 0.5670 - val_loss: 3.1911 - val_accuracy: 0.2945\n",
            "Epoch 129/200\n",
            "391/391 [==============================] - 47s 120ms/step - loss: 1.6390 - accuracy: 0.5660 - val_loss: 3.1303 - val_accuracy: 0.2983\n",
            "Epoch 130/200\n",
            "391/391 [==============================] - 47s 120ms/step - loss: 1.6310 - accuracy: 0.5679 - val_loss: 3.1497 - val_accuracy: 0.2941\n",
            "Epoch 131/200\n",
            "391/391 [==============================] - 47s 120ms/step - loss: 1.6271 - accuracy: 0.5679 - val_loss: 3.1212 - val_accuracy: 0.3011\n",
            "Epoch 132/200\n",
            "391/391 [==============================] - 47s 120ms/step - loss: 1.6235 - accuracy: 0.5689 - val_loss: 3.1456 - val_accuracy: 0.2974\n",
            "Epoch 133/200\n",
            "391/391 [==============================] - 47s 120ms/step - loss: 1.6171 - accuracy: 0.5713 - val_loss: 3.2083 - val_accuracy: 0.2955\n",
            "Epoch 134/200\n",
            "391/391 [==============================] - 47s 119ms/step - loss: 1.6150 - accuracy: 0.5711 - val_loss: 3.1110 - val_accuracy: 0.3009\n",
            "Epoch 135/200\n",
            "391/391 [==============================] - 47s 120ms/step - loss: 1.6094 - accuracy: 0.5723 - val_loss: 3.1021 - val_accuracy: 0.3034\n",
            "Epoch 136/200\n",
            "391/391 [==============================] - 47s 120ms/step - loss: 1.6086 - accuracy: 0.5711 - val_loss: 3.0967 - val_accuracy: 0.3038\n",
            "Epoch 137/200\n",
            "391/391 [==============================] - 47s 120ms/step - loss: 1.6060 - accuracy: 0.5721 - val_loss: 3.1606 - val_accuracy: 0.3001\n",
            "Epoch 138/200\n",
            "391/391 [==============================] - 47s 120ms/step - loss: 1.5999 - accuracy: 0.5722 - val_loss: 3.1366 - val_accuracy: 0.3009\n",
            "Epoch 139/200\n",
            "391/391 [==============================] - 47s 120ms/step - loss: 1.5946 - accuracy: 0.5758 - val_loss: 3.1468 - val_accuracy: 0.3001\n",
            "Epoch 140/200\n",
            "391/391 [==============================] - 47s 120ms/step - loss: 1.5962 - accuracy: 0.5764 - val_loss: 3.0670 - val_accuracy: 0.3112\n",
            "Epoch 141/200\n",
            "391/391 [==============================] - 47s 120ms/step - loss: 1.5931 - accuracy: 0.5756 - val_loss: 3.0743 - val_accuracy: 0.3074\n",
            "Epoch 142/200\n",
            "391/391 [==============================] - 47s 120ms/step - loss: 1.5839 - accuracy: 0.5764 - val_loss: 3.1298 - val_accuracy: 0.3017\n",
            "Epoch 143/200\n",
            "391/391 [==============================] - 47s 120ms/step - loss: 1.5811 - accuracy: 0.5796 - val_loss: 3.1455 - val_accuracy: 0.3056\n",
            "Epoch 144/200\n",
            "391/391 [==============================] - 47s 120ms/step - loss: 1.5791 - accuracy: 0.5793 - val_loss: 3.0946 - val_accuracy: 0.3073\n",
            "Epoch 145/200\n",
            "391/391 [==============================] - 47s 120ms/step - loss: 1.5765 - accuracy: 0.5791 - val_loss: 3.1236 - val_accuracy: 0.3047\n",
            "Epoch 146/200\n",
            "391/391 [==============================] - 47s 120ms/step - loss: 1.5722 - accuracy: 0.5813 - val_loss: 3.1186 - val_accuracy: 0.3039\n",
            "Epoch 147/200\n",
            "391/391 [==============================] - 47s 120ms/step - loss: 1.5678 - accuracy: 0.5816 - val_loss: 3.1343 - val_accuracy: 0.3061\n",
            "Epoch 148/200\n",
            "391/391 [==============================] - 47s 120ms/step - loss: 1.5645 - accuracy: 0.5818 - val_loss: 3.1114 - val_accuracy: 0.3072\n",
            "Epoch 149/200\n",
            "391/391 [==============================] - 47s 120ms/step - loss: 1.5643 - accuracy: 0.5824 - val_loss: 3.1132 - val_accuracy: 0.3045\n",
            "Epoch 150/200\n",
            "391/391 [==============================] - 47s 120ms/step - loss: 1.5588 - accuracy: 0.5826 - val_loss: 3.1337 - val_accuracy: 0.3078\n",
            "Epoch 151/200\n",
            "391/391 [==============================] - 47s 120ms/step - loss: 1.5564 - accuracy: 0.5821 - val_loss: 3.1010 - val_accuracy: 0.3100\n",
            "Epoch 152/200\n",
            "391/391 [==============================] - 47s 120ms/step - loss: 1.5541 - accuracy: 0.5845 - val_loss: 3.1647 - val_accuracy: 0.3001\n",
            "Epoch 153/200\n",
            "391/391 [==============================] - 47s 120ms/step - loss: 1.5454 - accuracy: 0.5861 - val_loss: 3.1612 - val_accuracy: 0.3084\n",
            "Epoch 154/200\n",
            "391/391 [==============================] - 47s 120ms/step - loss: 1.5481 - accuracy: 0.5849 - val_loss: 3.1859 - val_accuracy: 0.2980\n",
            "Epoch 155/200\n",
            "391/391 [==============================] - 47s 120ms/step - loss: 1.5393 - accuracy: 0.5864 - val_loss: 3.2094 - val_accuracy: 0.2964\n",
            "Epoch 156/200\n",
            "391/391 [==============================] - 47s 120ms/step - loss: 1.5424 - accuracy: 0.5836 - val_loss: 3.1502 - val_accuracy: 0.3049\n",
            "Epoch 157/200\n",
            "391/391 [==============================] - 47s 120ms/step - loss: 1.5345 - accuracy: 0.5901 - val_loss: 3.1511 - val_accuracy: 0.3075\n",
            "Epoch 158/200\n",
            "391/391 [==============================] - 47s 120ms/step - loss: 1.5341 - accuracy: 0.5897 - val_loss: 3.1340 - val_accuracy: 0.3073\n",
            "Epoch 159/200\n",
            "391/391 [==============================] - 47s 119ms/step - loss: 1.5320 - accuracy: 0.5875 - val_loss: 3.1247 - val_accuracy: 0.3091\n",
            "Epoch 160/200\n",
            "391/391 [==============================] - 47s 120ms/step - loss: 1.5245 - accuracy: 0.5878 - val_loss: 3.1700 - val_accuracy: 0.3049\n",
            "Epoch 161/200\n",
            "391/391 [==============================] - 47s 120ms/step - loss: 1.5249 - accuracy: 0.5894 - val_loss: 3.1594 - val_accuracy: 0.3087\n",
            "Epoch 162/200\n",
            "391/391 [==============================] - 47s 120ms/step - loss: 1.5187 - accuracy: 0.5894 - val_loss: 3.1821 - val_accuracy: 0.3032\n",
            "Epoch 163/200\n",
            "391/391 [==============================] - 47s 120ms/step - loss: 1.5181 - accuracy: 0.5922 - val_loss: 3.2122 - val_accuracy: 0.2991\n",
            "Epoch 164/200\n",
            "391/391 [==============================] - 47s 120ms/step - loss: 1.5109 - accuracy: 0.5930 - val_loss: 3.1839 - val_accuracy: 0.3052\n",
            "Epoch 165/200\n",
            "391/391 [==============================] - 47s 120ms/step - loss: 1.5123 - accuracy: 0.5947 - val_loss: 3.1270 - val_accuracy: 0.3133\n",
            "Epoch 166/200\n",
            "391/391 [==============================] - 47s 120ms/step - loss: 1.5102 - accuracy: 0.5957 - val_loss: 3.1773 - val_accuracy: 0.3095\n",
            "Epoch 167/200\n",
            "391/391 [==============================] - 47s 120ms/step - loss: 1.5045 - accuracy: 0.5954 - val_loss: 3.1535 - val_accuracy: 0.3098\n",
            "Epoch 168/200\n",
            "391/391 [==============================] - 47s 120ms/step - loss: 1.5025 - accuracy: 0.5949 - val_loss: 3.1207 - val_accuracy: 0.3116\n",
            "Epoch 169/200\n",
            "391/391 [==============================] - 47s 120ms/step - loss: 1.5032 - accuracy: 0.5929 - val_loss: 3.1729 - val_accuracy: 0.3093\n",
            "Epoch 170/200\n",
            "391/391 [==============================] - 47s 120ms/step - loss: 1.4972 - accuracy: 0.5969 - val_loss: 3.2322 - val_accuracy: 0.2991\n",
            "Epoch 171/200\n",
            "391/391 [==============================] - 47s 120ms/step - loss: 1.4926 - accuracy: 0.5989 - val_loss: 3.1685 - val_accuracy: 0.3109\n",
            "Epoch 172/200\n",
            "391/391 [==============================] - 47s 120ms/step - loss: 1.4897 - accuracy: 0.5978 - val_loss: 3.1769 - val_accuracy: 0.3093\n",
            "Epoch 173/200\n",
            "391/391 [==============================] - 47s 120ms/step - loss: 1.4881 - accuracy: 0.5974 - val_loss: 3.2229 - val_accuracy: 0.3042\n",
            "Epoch 174/200\n",
            "391/391 [==============================] - 47s 120ms/step - loss: 1.4879 - accuracy: 0.5982 - val_loss: 3.1554 - val_accuracy: 0.3108\n",
            "Epoch 175/200\n",
            "391/391 [==============================] - 47s 120ms/step - loss: 1.4811 - accuracy: 0.5999 - val_loss: 3.2012 - val_accuracy: 0.3030\n",
            "Epoch 176/200\n",
            "391/391 [==============================] - 47s 120ms/step - loss: 1.4779 - accuracy: 0.6024 - val_loss: 3.2417 - val_accuracy: 0.2999\n",
            "Epoch 177/200\n",
            "391/391 [==============================] - 47s 120ms/step - loss: 1.4774 - accuracy: 0.6005 - val_loss: 3.1578 - val_accuracy: 0.3123\n",
            "Epoch 178/200\n",
            "391/391 [==============================] - 47s 120ms/step - loss: 1.4736 - accuracy: 0.6008 - val_loss: 3.2038 - val_accuracy: 0.3071\n",
            "Epoch 179/200\n",
            "391/391 [==============================] - 47s 120ms/step - loss: 1.4712 - accuracy: 0.6010 - val_loss: 3.1728 - val_accuracy: 0.3101\n",
            "Epoch 180/200\n",
            "391/391 [==============================] - 47s 120ms/step - loss: 1.4617 - accuracy: 0.6053 - val_loss: 3.1454 - val_accuracy: 0.3166\n",
            "Epoch 181/200\n",
            "391/391 [==============================] - 47s 120ms/step - loss: 1.4629 - accuracy: 0.6030 - val_loss: 3.1918 - val_accuracy: 0.3105\n",
            "Epoch 182/200\n",
            "391/391 [==============================] - 47s 120ms/step - loss: 1.4633 - accuracy: 0.6051 - val_loss: 3.2131 - val_accuracy: 0.3075\n",
            "Epoch 183/200\n",
            "391/391 [==============================] - 47s 120ms/step - loss: 1.4642 - accuracy: 0.6030 - val_loss: 3.1294 - val_accuracy: 0.3152\n",
            "Epoch 184/200\n",
            "391/391 [==============================] - 47s 120ms/step - loss: 1.4532 - accuracy: 0.6060 - val_loss: 3.2253 - val_accuracy: 0.3055\n",
            "Epoch 185/200\n",
            "391/391 [==============================] - 47s 120ms/step - loss: 1.4560 - accuracy: 0.6055 - val_loss: 3.1503 - val_accuracy: 0.3176\n",
            "Epoch 186/200\n",
            "391/391 [==============================] - 47s 120ms/step - loss: 1.4500 - accuracy: 0.6073 - val_loss: 3.2021 - val_accuracy: 0.3074\n",
            "Epoch 187/200\n",
            "391/391 [==============================] - 47s 120ms/step - loss: 1.4466 - accuracy: 0.6059 - val_loss: 3.2161 - val_accuracy: 0.3096\n",
            "Epoch 188/200\n",
            "391/391 [==============================] - 47s 120ms/step - loss: 1.4409 - accuracy: 0.6091 - val_loss: 3.2451 - val_accuracy: 0.3059\n",
            "Epoch 189/200\n",
            "391/391 [==============================] - 47s 120ms/step - loss: 1.4446 - accuracy: 0.6059 - val_loss: 3.2052 - val_accuracy: 0.3129\n",
            "Epoch 190/200\n",
            "391/391 [==============================] - 47s 120ms/step - loss: 1.4458 - accuracy: 0.6052 - val_loss: 3.2635 - val_accuracy: 0.2987\n",
            "Epoch 191/200\n",
            "391/391 [==============================] - 47s 120ms/step - loss: 1.4421 - accuracy: 0.6071 - val_loss: 3.2140 - val_accuracy: 0.3121\n",
            "Epoch 192/200\n",
            "391/391 [==============================] - 47s 120ms/step - loss: 1.4338 - accuracy: 0.6096 - val_loss: 3.2239 - val_accuracy: 0.3101\n",
            "Epoch 193/200\n",
            "391/391 [==============================] - 47s 120ms/step - loss: 1.4314 - accuracy: 0.6107 - val_loss: 3.2243 - val_accuracy: 0.3092\n",
            "Epoch 194/200\n",
            "391/391 [==============================] - 47s 120ms/step - loss: 1.4316 - accuracy: 0.6112 - val_loss: 3.2439 - val_accuracy: 0.3071\n",
            "Epoch 195/200\n",
            "391/391 [==============================] - 47s 120ms/step - loss: 1.4237 - accuracy: 0.6120 - val_loss: 3.2761 - val_accuracy: 0.3041\n",
            "Epoch 196/200\n",
            "391/391 [==============================] - 47s 120ms/step - loss: 1.4209 - accuracy: 0.6148 - val_loss: 3.2330 - val_accuracy: 0.3119\n",
            "Epoch 197/200\n",
            "391/391 [==============================] - 47s 120ms/step - loss: 1.4200 - accuracy: 0.6148 - val_loss: 3.2440 - val_accuracy: 0.3075\n",
            "Epoch 198/200\n",
            "391/391 [==============================] - 47s 120ms/step - loss: 1.4229 - accuracy: 0.6131 - val_loss: 3.2519 - val_accuracy: 0.3099\n",
            "Epoch 199/200\n",
            "391/391 [==============================] - 47s 120ms/step - loss: 1.4228 - accuracy: 0.6122 - val_loss: 3.2615 - val_accuracy: 0.3080\n",
            "Epoch 200/200\n",
            "391/391 [==============================] - 47s 120ms/step - loss: 1.4169 - accuracy: 0.6141 - val_loss: 3.2787 - val_accuracy: 0.3058\n"
          ],
          "name": "stdout"
        }
      ]
    },
    {
      "cell_type": "code",
      "metadata": {
        "id": "r_QICA0vECJf"
      },
      "source": [
        "model.save_weights(filepath=F\"/content/gdrive/My Drive/Checkpoints/InceptionV2_ADAM_Dropout.h5\")"
      ],
      "execution_count": 23,
      "outputs": []
    },
    {
      "cell_type": "markdown",
      "metadata": {
        "id": "PK9Ww8AJYaaM"
      },
      "source": [
        "## Test Metrics"
      ]
    },
    {
      "cell_type": "code",
      "metadata": {
        "id": "dZuWXGeW-nqY",
        "outputId": "05772528-4541-428b-d1ee-2ce51f300c8a",
        "colab": {
          "base_uri": "https://localhost:8080/",
          "height": 313
        }
      },
      "source": [
        "import matplotlib.pyplot as plt\n",
        "\n",
        "history_dict = history.history\n",
        "print(history_dict.keys())\n",
        "loss_values = history_dict['loss']\n",
        "val_loss_values = history_dict['val_loss']\n",
        "\n",
        "epochs = range(1, len(history_dict['accuracy']) + 1)\n",
        "\n",
        "plt.plot(epochs, loss_values, 'bo', label='Training loss')\n",
        "plt.plot(epochs, val_loss_values, 'b', label='Validation loss')\n",
        "plt.title('Training and validation loss')\n",
        "plt.xlabel('Epochs')\n",
        "plt.ylabel('Loss')\n",
        "plt.legend()\n",
        "\n",
        "plt.show()"
      ],
      "execution_count": 20,
      "outputs": [
        {
          "output_type": "stream",
          "text": [
            "dict_keys(['loss', 'accuracy', 'val_loss', 'val_accuracy'])\n"
          ],
          "name": "stdout"
        },
        {
          "output_type": "display_data",
          "data": {
            "image/png": "[encoded data removed]",
            "text/plain": [
              "<Figure size 432x288 with 1 Axes>"
            ]
          },
          "metadata": {
            "tags": [],
            "needs_background": "light"
          }
        }
      ]
    },
    {
      "cell_type": "code",
      "metadata": {
        "id": "AfO0lHJIE0Gy",
        "outputId": "7d8ee815-1ffe-44c9-9c25-288d4902adca",
        "colab": {
          "base_uri": "https://localhost:8080/",
          "height": 1000
        }
      },
      "source": [
        "y_pred = model.predict(x_test).argmax(-1)\n",
        "import sklearn.metrics as metrics\n",
        "print(metrics.classification_report(y_test.argmax(axis=1), y_pred))"
      ],
      "execution_count": 21,
      "outputs": [
        {
          "output_type": "stream",
          "text": [
            "              precision    recall  f1-score   support\n",
            "\n",
            "           0       0.57      0.51      0.54       100\n",
            "           1       0.28      0.45      0.34       100\n",
            "           2       0.24      0.07      0.11       100\n",
            "           3       0.16      0.21      0.18       100\n",
            "           4       0.10      0.28      0.15       100\n",
            "           5       0.31      0.18      0.23       100\n",
            "           6       0.33      0.33      0.33       100\n",
            "           7       0.31      0.37      0.34       100\n",
            "           8       0.59      0.38      0.46       100\n",
            "           9       0.58      0.45      0.51       100\n",
            "          10       0.23      0.21      0.22       100\n",
            "          11       0.25      0.11      0.15       100\n",
            "          12       0.30      0.35      0.33       100\n",
            "          13       0.35      0.26      0.30       100\n",
            "          14       0.27      0.28      0.27       100\n",
            "          15       0.26      0.11      0.15       100\n",
            "          16       0.46      0.27      0.34       100\n",
            "          17       0.48      0.32      0.39       100\n",
            "          18       0.24      0.25      0.24       100\n",
            "          19       0.24      0.12      0.16       100\n",
            "          20       0.78      0.47      0.59       100\n",
            "          21       0.38      0.62      0.47       100\n",
            "          22       0.45      0.29      0.35       100\n",
            "          23       0.30      0.59      0.40       100\n",
            "          24       0.42      0.60      0.49       100\n",
            "          25       0.25      0.20      0.22       100\n",
            "          26       0.26      0.26      0.26       100\n",
            "          27       0.18      0.37      0.24       100\n",
            "          28       0.58      0.42      0.49       100\n",
            "          29       0.36      0.18      0.24       100\n",
            "          30       0.32      0.38      0.35       100\n",
            "          31       0.33      0.35      0.34       100\n",
            "          32       0.27      0.21      0.24       100\n",
            "          33       0.16      0.45      0.24       100\n",
            "          34       0.27      0.23      0.25       100\n",
            "          35       0.23      0.10      0.14       100\n",
            "          36       0.42      0.27      0.33       100\n",
            "          37       0.56      0.20      0.29       100\n",
            "          38       0.16      0.10      0.12       100\n",
            "          39       0.39      0.16      0.23       100\n",
            "          40       0.42      0.28      0.34       100\n",
            "          41       0.64      0.58      0.61       100\n",
            "          42       0.23      0.36      0.28       100\n",
            "          43       0.28      0.27      0.28       100\n",
            "          44       0.16      0.14      0.15       100\n",
            "          45       0.17      0.21      0.19       100\n",
            "          46       0.22      0.14      0.17       100\n",
            "          47       0.28      0.43      0.34       100\n",
            "          48       0.63      0.64      0.63       100\n",
            "          49       0.39      0.30      0.34       100\n",
            "          50       0.11      0.07      0.09       100\n",
            "          51       0.30      0.16      0.21       100\n",
            "          52       0.38      0.54      0.45       100\n",
            "          53       0.54      0.42      0.47       100\n",
            "          54       0.36      0.23      0.28       100\n",
            "          55       0.14      0.12      0.13       100\n",
            "          56       0.41      0.44      0.43       100\n",
            "          57       0.43      0.20      0.27       100\n",
            "          58       0.49      0.34      0.40       100\n",
            "          59       0.19      0.34      0.24       100\n",
            "          60       0.57      0.64      0.60       100\n",
            "          61       0.55      0.43      0.48       100\n",
            "          62       0.25      0.30      0.27       100\n",
            "          63       0.18      0.48      0.26       100\n",
            "          64       0.05      0.05      0.05       100\n",
            "          65       0.14      0.08      0.10       100\n",
            "          66       0.32      0.17      0.22       100\n",
            "          67       0.25      0.31      0.28       100\n",
            "          68       0.50      0.69      0.58       100\n",
            "          69       0.49      0.43      0.46       100\n",
            "          70       0.36      0.30      0.33       100\n",
            "          71       0.36      0.59      0.45       100\n",
            "          72       0.11      0.10      0.10       100\n",
            "          73       0.30      0.17      0.22       100\n",
            "          74       0.15      0.26      0.19       100\n",
            "          75       0.53      0.51      0.52       100\n",
            "          76       0.53      0.54      0.53       100\n",
            "          77       0.15      0.18      0.17       100\n",
            "          78       0.13      0.09      0.11       100\n",
            "          79       0.25      0.31      0.28       100\n",
            "          80       0.08      0.07      0.08       100\n",
            "          81       0.31      0.23      0.26       100\n",
            "          82       0.25      0.71      0.37       100\n",
            "          83       0.33      0.32      0.33       100\n",
            "          84       0.36      0.14      0.20       100\n",
            "          85       0.35      0.50      0.41       100\n",
            "          86       0.52      0.34      0.41       100\n",
            "          87       0.57      0.37      0.45       100\n",
            "          88       0.27      0.17      0.21       100\n",
            "          89       0.31      0.32      0.32       100\n",
            "          90       0.26      0.25      0.25       100\n",
            "          91       0.44      0.39      0.41       100\n",
            "          92       0.23      0.12      0.16       100\n",
            "          93       0.13      0.19      0.15       100\n",
            "          94       0.62      0.50      0.56       100\n",
            "          95       0.39      0.38      0.39       100\n",
            "          96       0.18      0.42      0.25       100\n",
            "          97       0.36      0.18      0.24       100\n",
            "          98       0.17      0.05      0.08       100\n",
            "          99       0.20      0.13      0.16       100\n",
            "\n",
            "    accuracy                           0.31     10000\n",
            "   macro avg       0.33      0.31      0.30     10000\n",
            "weighted avg       0.33      0.31      0.30     10000\n",
            "\n"
          ],
          "name": "stdout"
        }
      ]
    },
    {
      "cell_type": "markdown",
      "metadata": {
        "id": "b8SADQsAT1JV"
      },
      "source": [
        "## TESTS"
      ]
    },
    {
      "cell_type": "code",
      "metadata": {
        "id": "T4Smel9NqS1r"
      },
      "source": [
        "# model.load_weights(filepath=F\"/content/gdrive/My Drive/Checkpoints/InceptionV2_ADAM_Dropout.h5\")\n",
        "\n",
        "model.load_weights(\"InceptionV2_ADAM_Dropout.h5\")"
      ],
      "execution_count": null,
      "outputs": []
    },
    {
      "cell_type": "code",
      "metadata": {
        "id": "b0XDBMyDq0d3",
        "outputId": "b22d4457-d63a-4396-9549-16c1a018cd8a",
        "colab": {
          "base_uri": "https://localhost:8080/",
          "height": 54
        }
      },
      "source": [
        "result = model.evaluate(batch_size=128, x=x_test, y=y_test)\n",
        "dict(zip(model.metrics_names,result))"
      ],
      "execution_count": 22,
      "outputs": [
        {
          "output_type": "stream",
          "text": [
            "79/79 [==============================] - 3s 32ms/step - loss: 3.2787 - accuracy: 0.3058\n"
          ],
          "name": "stdout"
        },
        {
          "output_type": "execute_result",
          "data": {
            "text/plain": [
              "{'accuracy': 0.3057999908924103, 'loss': 3.2787327766418457}"
            ]
          },
          "metadata": {
            "tags": []
          },
          "execution_count": 22
        }
      ]
    },
    {
      "cell_type": "code",
      "metadata": {
        "id": "sgZYqnfyWKOM"
      },
      "source": [
        ""
      ],
      "execution_count": null,
      "outputs": []
    }
  ]
}