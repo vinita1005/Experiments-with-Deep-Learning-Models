{
  "nbformat": 4,
  "nbformat_minor": 0,
  "metadata": {
    "colab": {
      "name": "InceptionV2_adam_NoRegularization.ipynb",
      "provenance": [],
      "collapsed_sections": []
    },
    "kernelspec": {
      "name": "python3",
      "display_name": "Python 3"
    },
    "accelerator": "GPU"
  },
  "cells": [
    {
      "cell_type": "markdown",
      "metadata": {
        "id": "qe3UvwFPYKMT"
      },
      "source": [
        "## Load Data Set"
      ]
    },
    {
      "cell_type": "code",
      "metadata": {
        "id": "Su96RREPI5li",
        "outputId": "1656be09-05eb-46ba-dc04-968531b92301",
        "colab": {
          "base_uri": "https://localhost:8080/",
          "height": 35
        }
      },
      "source": [
        "from google.colab import drive\n",
        "drive.mount('/content/gdrive')"
      ],
      "execution_count": 1,
      "outputs": [
        {
          "output_type": "stream",
          "text": [
            "Mounted at /content/gdrive\n"
          ],
          "name": "stdout"
        }
      ]
    },
    {
      "cell_type": "code",
      "metadata": {
        "id": "ixBthpNWrKzY"
      },
      "source": [
        "from keras.datasets import cifar100\n",
        "from keras.utils import to_categorical\n",
        "import numpy as np\n",
        "import cv2\n",
        "import os\n",
        "from keras import backend as K"
      ],
      "execution_count": 2,
      "outputs": []
    },
    {
      "cell_type": "code",
      "metadata": {
        "id": "d14LEXbNqu68",
        "outputId": "9aeb1122-38fe-40fd-8565-b9da1b40f842",
        "colab": {
          "base_uri": "https://localhost:8080/",
          "height": 54
        }
      },
      "source": [
        "(x_train, y_train_), (x_test, y_test_) = cifar100.load_data()\n"
      ],
      "execution_count": 3,
      "outputs": [
        {
          "output_type": "stream",
          "text": [
            "Downloading data from https://www.cs.toronto.edu/~kriz/cifar-100-python.tar.gz\n",
            "169009152/169001437 [==============================] - 6s 0us/step\n"
          ],
          "name": "stdout"
        }
      ]
    },
    {
      "cell_type": "code",
      "metadata": {
        "id": "p4lTzEl8djyJ"
      },
      "source": [
        "x_train = x_train.astype('float32') / 255\n",
        "x_test = x_test.astype('float32') / 255"
      ],
      "execution_count": 4,
      "outputs": []
    },
    {
      "cell_type": "code",
      "metadata": {
        "id": "6h_PwVSJrWjf"
      },
      "source": [
        "y_train = to_categorical(y_train_)\n",
        "y_test = to_categorical(y_test_)"
      ],
      "execution_count": 5,
      "outputs": []
    },
    {
      "cell_type": "markdown",
      "metadata": {
        "id": "fsSOLpMSYEKL"
      },
      "source": [
        "## Inception V2 model"
      ]
    },
    {
      "cell_type": "code",
      "metadata": {
        "id": "DlX5MwqCoSEF"
      },
      "source": [
        "import keras\n",
        "from keras.models import Model\n",
        "from keras.layers import Dense, Activation, Dropout, Flatten, Reshape\n",
        "from keras.layers import Conv2D, Input\n",
        "from keras.layers import MaxPooling2D\n",
        "from keras.callbacks import EarlyStopping\n",
        "from keras.layers.merge import concatenate\n",
        "import os"
      ],
      "execution_count": 6,
      "outputs": []
    },
    {
      "cell_type": "code",
      "metadata": {
        "id": "RfDkIclipUCR"
      },
      "source": [
        "input_shape = (32, 32, 3)\n",
        "input = Input(shape=input_shape)"
      ],
      "execution_count": 7,
      "outputs": []
    },
    {
      "cell_type": "code",
      "metadata": {
        "id": "t1Cv1ygQ7Cwj"
      },
      "source": [
        "layer1_1 = Conv2D(64, (1, 1), activation='elu', padding='same')(input)\n",
        "layer1_2 = Conv2D(96, (1, 1), activation='elu', padding='same')(input)\n",
        "layer1_2 = Conv2D(128, (3, 3), activation='elu', padding='same')(layer1_2)\n",
        "layer1_3 = Conv2D(16, (1, 1), activation='elu', padding='same')(input)\n",
        "layer1_3 = Conv2D(32, (5, 5), activation='elu', padding='same')(layer1_3)\n",
        "layer1_4 = MaxPooling2D(pool_size=(3, 3), strides=(1, 1), padding='same', data_format='channels_last')(input)\n",
        "layer1_4 = Conv2D(32, (1, 1), activation='elu', padding='same')(layer1_4)\n",
        " \n",
        "concat = concatenate([layer1_1, layer1_2, layer1_3, layer1_4])"
      ],
      "execution_count": 8,
      "outputs": []
    },
    {
      "cell_type": "code",
      "metadata": {
        "id": "ZgqX4ij5wn7J"
      },
      "source": [
        "layer2_1 = Conv2D(64, (1, 1), activation='elu', padding='same')(concat)\n",
        "layer2_2 = Conv2D(96, (1, 1), activation='elu', padding='same')(concat)\n",
        "layer2_2 = Conv2D(128, (3, 3), activation='elu', padding='same')(layer2_2)\n",
        "layer2_3 = Conv2D(16, (1, 1), activation='elu', padding='same')(concat)\n",
        "layer2_3 = Conv2D(32, (5, 5), activation='elu', padding='same')(layer2_3)\n",
        "layer2_4 = MaxPooling2D(pool_size=(3, 3), strides=(1, 1), padding='same', data_format='channels_last')(concat)\n",
        "layer2_4 = Conv2D(32, (1, 1), activation='elu', padding='same')(layer2_4)\n",
        "\n",
        "concat2 = concatenate([layer2_1, layer2_2, layer2_3, layer2_4])"
      ],
      "execution_count": 9,
      "outputs": []
    },
    {
      "cell_type": "code",
      "metadata": {
        "id": "4RzN660c7naC"
      },
      "source": [
        "layer3_1 = Conv2D(64, (1, 1), activation='elu', padding='same')(concat2)\n",
        "layer3_2 = Conv2D(96, (1, 1), activation='elu', padding='same')(concat2)\n",
        "layer3_2 = Conv2D(128, (3, 3), activation='elu', padding='same')(layer3_2)\n",
        "layer3_3 = Conv2D(16, (1, 1), activation='elu', padding='same')(concat2)\n",
        "layer3_3 = Conv2D(32, (5, 5), activation='elu', padding='same')(layer3_3)\n",
        "layer3_4 = MaxPooling2D(pool_size=(3, 3), strides=(1, 1), padding='same', data_format='channels_last')(concat2)\n",
        "layer3_4 = Conv2D(32, (1, 1), activation='elu', padding='same')(layer3_4)\n",
        " \n",
        "concat3 = concatenate([layer3_1, layer3_2, layer3_3, layer3_4])"
      ],
      "execution_count": 10,
      "outputs": []
    },
    {
      "cell_type": "code",
      "metadata": {
        "id": "BqQohLdvpaGV",
        "outputId": "13dedcd1-9983-4844-9b85-e2bc3875bd93",
        "colab": {
          "base_uri": "https://localhost:8080/",
          "height": 1000
        }
      },
      "source": [
        "layer4_1 = Conv2D(64, (1, 1), activation='elu', padding='same')(concat3)\n",
        "layer4_2 = Conv2D(96, (1, 1), activation='elu', padding='same')(concat3)\n",
        "layer4_2 = Conv2D(128, (3, 3), activation='elu', padding='same')(layer4_2)\n",
        "layer4_3 = Conv2D(16, (1, 1), activation='elu', padding='same')(concat3)\n",
        "layer4_3 = Conv2D(32, (5, 5), activation='elu', padding='same')(layer4_3)\n",
        "layer4_4 = MaxPooling2D(pool_size=(3, 3), strides=(1, 1), padding='same', data_format='channels_last')(concat3)\n",
        "layer4_4 = Conv2D(32, (1, 1), activation='elu', padding='same')(layer4_4)\n",
        " \n",
        "concat4 = concatenate([layer4_1, layer4_2, layer4_3, layer4_4])\n",
        "\n",
        "output = Conv2D(8, (3, 3), activation='elu', padding='same')(concat4)\n",
        "output = MaxPooling2D(pool_size=(3, 3))(output)\n",
        "output = Flatten()(output)                 \n",
        "output = Dense(100, activation='softmax')(output) \n",
        "\n",
        "model = Model(inputs=input, outputs=output) \n",
        "model.summary()"
      ],
      "execution_count": 11,
      "outputs": [
        {
          "output_type": "stream",
          "text": [
            "Model: \"functional_1\"\n",
            "__________________________________________________________________________________________________\n",
            "Layer (type)                    Output Shape         Param #     Connected to                     \n",
            "==================================================================================================\n",
            "input_1 (InputLayer)            [(None, 32, 32, 3)]  0                                            \n",
            "__________________________________________________________________________________________________\n",
            "conv2d_1 (Conv2D)               (None, 32, 32, 96)   384         input_1[0][0]                    \n",
            "__________________________________________________________________________________________________\n",
            "conv2d_3 (Conv2D)               (None, 32, 32, 16)   64          input_1[0][0]                    \n",
            "__________________________________________________________________________________________________\n",
            "max_pooling2d (MaxPooling2D)    (None, 32, 32, 3)    0           input_1[0][0]                    \n",
            "__________________________________________________________________________________________________\n",
            "conv2d (Conv2D)                 (None, 32, 32, 64)   256         input_1[0][0]                    \n",
            "__________________________________________________________________________________________________\n",
            "conv2d_2 (Conv2D)               (None, 32, 32, 128)  110720      conv2d_1[0][0]                   \n",
            "__________________________________________________________________________________________________\n",
            "conv2d_4 (Conv2D)               (None, 32, 32, 32)   12832       conv2d_3[0][0]                   \n",
            "__________________________________________________________________________________________________\n",
            "conv2d_5 (Conv2D)               (None, 32, 32, 32)   128         max_pooling2d[0][0]              \n",
            "__________________________________________________________________________________________________\n",
            "concatenate (Concatenate)       (None, 32, 32, 256)  0           conv2d[0][0]                     \n",
            "                                                                 conv2d_2[0][0]                   \n",
            "                                                                 conv2d_4[0][0]                   \n",
            "                                                                 conv2d_5[0][0]                   \n",
            "__________________________________________________________________________________________________\n",
            "conv2d_7 (Conv2D)               (None, 32, 32, 96)   24672       concatenate[0][0]                \n",
            "__________________________________________________________________________________________________\n",
            "conv2d_9 (Conv2D)               (None, 32, 32, 16)   4112        concatenate[0][0]                \n",
            "__________________________________________________________________________________________________\n",
            "max_pooling2d_1 (MaxPooling2D)  (None, 32, 32, 256)  0           concatenate[0][0]                \n",
            "__________________________________________________________________________________________________\n",
            "conv2d_6 (Conv2D)               (None, 32, 32, 64)   16448       concatenate[0][0]                \n",
            "__________________________________________________________________________________________________\n",
            "conv2d_8 (Conv2D)               (None, 32, 32, 128)  110720      conv2d_7[0][0]                   \n",
            "__________________________________________________________________________________________________\n",
            "conv2d_10 (Conv2D)              (None, 32, 32, 32)   12832       conv2d_9[0][0]                   \n",
            "__________________________________________________________________________________________________\n",
            "conv2d_11 (Conv2D)              (None, 32, 32, 32)   8224        max_pooling2d_1[0][0]            \n",
            "__________________________________________________________________________________________________\n",
            "concatenate_1 (Concatenate)     (None, 32, 32, 256)  0           conv2d_6[0][0]                   \n",
            "                                                                 conv2d_8[0][0]                   \n",
            "                                                                 conv2d_10[0][0]                  \n",
            "                                                                 conv2d_11[0][0]                  \n",
            "__________________________________________________________________________________________________\n",
            "conv2d_13 (Conv2D)              (None, 32, 32, 96)   24672       concatenate_1[0][0]              \n",
            "__________________________________________________________________________________________________\n",
            "conv2d_15 (Conv2D)              (None, 32, 32, 16)   4112        concatenate_1[0][0]              \n",
            "__________________________________________________________________________________________________\n",
            "max_pooling2d_2 (MaxPooling2D)  (None, 32, 32, 256)  0           concatenate_1[0][0]              \n",
            "__________________________________________________________________________________________________\n",
            "conv2d_12 (Conv2D)              (None, 32, 32, 64)   16448       concatenate_1[0][0]              \n",
            "__________________________________________________________________________________________________\n",
            "conv2d_14 (Conv2D)              (None, 32, 32, 128)  110720      conv2d_13[0][0]                  \n",
            "__________________________________________________________________________________________________\n",
            "conv2d_16 (Conv2D)              (None, 32, 32, 32)   12832       conv2d_15[0][0]                  \n",
            "__________________________________________________________________________________________________\n",
            "conv2d_17 (Conv2D)              (None, 32, 32, 32)   8224        max_pooling2d_2[0][0]            \n",
            "__________________________________________________________________________________________________\n",
            "concatenate_2 (Concatenate)     (None, 32, 32, 256)  0           conv2d_12[0][0]                  \n",
            "                                                                 conv2d_14[0][0]                  \n",
            "                                                                 conv2d_16[0][0]                  \n",
            "                                                                 conv2d_17[0][0]                  \n",
            "__________________________________________________________________________________________________\n",
            "conv2d_19 (Conv2D)              (None, 32, 32, 96)   24672       concatenate_2[0][0]              \n",
            "__________________________________________________________________________________________________\n",
            "conv2d_21 (Conv2D)              (None, 32, 32, 16)   4112        concatenate_2[0][0]              \n",
            "__________________________________________________________________________________________________\n",
            "max_pooling2d_3 (MaxPooling2D)  (None, 32, 32, 256)  0           concatenate_2[0][0]              \n",
            "__________________________________________________________________________________________________\n",
            "conv2d_18 (Conv2D)              (None, 32, 32, 64)   16448       concatenate_2[0][0]              \n",
            "__________________________________________________________________________________________________\n",
            "conv2d_20 (Conv2D)              (None, 32, 32, 128)  110720      conv2d_19[0][0]                  \n",
            "__________________________________________________________________________________________________\n",
            "conv2d_22 (Conv2D)              (None, 32, 32, 32)   12832       conv2d_21[0][0]                  \n",
            "__________________________________________________________________________________________________\n",
            "conv2d_23 (Conv2D)              (None, 32, 32, 32)   8224        max_pooling2d_3[0][0]            \n",
            "__________________________________________________________________________________________________\n",
            "concatenate_3 (Concatenate)     (None, 32, 32, 256)  0           conv2d_18[0][0]                  \n",
            "                                                                 conv2d_20[0][0]                  \n",
            "                                                                 conv2d_22[0][0]                  \n",
            "                                                                 conv2d_23[0][0]                  \n",
            "__________________________________________________________________________________________________\n",
            "conv2d_24 (Conv2D)              (None, 32, 32, 8)    18440       concatenate_3[0][0]              \n",
            "__________________________________________________________________________________________________\n",
            "max_pooling2d_4 (MaxPooling2D)  (None, 10, 10, 8)    0           conv2d_24[0][0]                  \n",
            "__________________________________________________________________________________________________\n",
            "flatten (Flatten)               (None, 800)          0           max_pooling2d_4[0][0]            \n",
            "__________________________________________________________________________________________________\n",
            "dense (Dense)                   (None, 100)          80100       flatten[0][0]                    \n",
            "==================================================================================================\n",
            "Total params: 753,948\n",
            "Trainable params: 753,948\n",
            "Non-trainable params: 0\n",
            "__________________________________________________________________________________________________\n"
          ],
          "name": "stdout"
        }
      ]
    },
    {
      "cell_type": "code",
      "metadata": {
        "id": "wNXVRhvpsCwi"
      },
      "source": [
        "opt = keras.optimizers.Adam(learning_rate=0.0001, clipnorm=5)\n",
        "model.compile(loss=keras.losses.categorical_crossentropy, optimizer=opt, metrics=[\"accuracy\"])"
      ],
      "execution_count": 12,
      "outputs": []
    },
    {
      "cell_type": "code",
      "metadata": {
        "id": "E6Hea7ZxrbKJ",
        "outputId": "17da5d2b-fe89-4f95-e652-89271bf35d8e",
        "colab": {
          "base_uri": "https://localhost:8080/",
          "height": 1000
        }
      },
      "source": [
        "callback = EarlyStopping(monitor='val_loss', patience=20)\n",
        "history = model.fit(x_train, y_train, batch_size=128, epochs=100, verbose=1, validation_data=(x_test, y_test), callbacks=[callback])\n",
        "model.save_weights(filepath=F\"/content/gdrive/My Drive/Checkpoints/InceptionV2_ADAM_NoRegularization.h5\")"
      ],
      "execution_count": 13,
      "outputs": [
        {
          "output_type": "stream",
          "text": [
            "Epoch 1/100\n",
            "391/391 [==============================] - 28s 71ms/step - loss: 4.1524 - accuracy: 0.0738 - val_loss: 3.7964 - val_accuracy: 0.1315\n",
            "Epoch 2/100\n",
            "391/391 [==============================] - 27s 70ms/step - loss: 3.6170 - accuracy: 0.1586 - val_loss: 3.5168 - val_accuracy: 0.1794\n",
            "Epoch 3/100\n",
            "391/391 [==============================] - 27s 70ms/step - loss: 3.3861 - accuracy: 0.1988 - val_loss: 3.3257 - val_accuracy: 0.2127\n",
            "Epoch 4/100\n",
            "391/391 [==============================] - 27s 70ms/step - loss: 3.2253 - accuracy: 0.2298 - val_loss: 3.2019 - val_accuracy: 0.2329\n",
            "Epoch 5/100\n",
            "391/391 [==============================] - 27s 70ms/step - loss: 3.0972 - accuracy: 0.2531 - val_loss: 3.0985 - val_accuracy: 0.2523\n",
            "Epoch 6/100\n",
            "391/391 [==============================] - 27s 69ms/step - loss: 2.9937 - accuracy: 0.2704 - val_loss: 3.0335 - val_accuracy: 0.2635\n",
            "Epoch 7/100\n",
            "391/391 [==============================] - 27s 70ms/step - loss: 2.9090 - accuracy: 0.2885 - val_loss: 2.9646 - val_accuracy: 0.2801\n",
            "Epoch 8/100\n",
            "391/391 [==============================] - 27s 70ms/step - loss: 2.8378 - accuracy: 0.3032 - val_loss: 2.9158 - val_accuracy: 0.2879\n",
            "Epoch 9/100\n",
            "391/391 [==============================] - 27s 70ms/step - loss: 2.7678 - accuracy: 0.3187 - val_loss: 2.8685 - val_accuracy: 0.2989\n",
            "Epoch 10/100\n",
            "391/391 [==============================] - 27s 70ms/step - loss: 2.7048 - accuracy: 0.3309 - val_loss: 2.8141 - val_accuracy: 0.3095\n",
            "Epoch 11/100\n",
            "391/391 [==============================] - 27s 70ms/step - loss: 2.6440 - accuracy: 0.3429 - val_loss: 2.7814 - val_accuracy: 0.3195\n",
            "Epoch 12/100\n",
            "391/391 [==============================] - 27s 69ms/step - loss: 2.5844 - accuracy: 0.3560 - val_loss: 2.7424 - val_accuracy: 0.3243\n",
            "Epoch 13/100\n",
            "391/391 [==============================] - 27s 70ms/step - loss: 2.5258 - accuracy: 0.3677 - val_loss: 2.6958 - val_accuracy: 0.3348\n",
            "Epoch 14/100\n",
            "391/391 [==============================] - 27s 70ms/step - loss: 2.4661 - accuracy: 0.3816 - val_loss: 2.6606 - val_accuracy: 0.3428\n",
            "Epoch 15/100\n",
            "391/391 [==============================] - 27s 70ms/step - loss: 2.4047 - accuracy: 0.3946 - val_loss: 2.6049 - val_accuracy: 0.3490\n",
            "Epoch 16/100\n",
            "391/391 [==============================] - 27s 70ms/step - loss: 2.3545 - accuracy: 0.4029 - val_loss: 2.5574 - val_accuracy: 0.3632\n",
            "Epoch 17/100\n",
            "391/391 [==============================] - 27s 70ms/step - loss: 2.2992 - accuracy: 0.4143 - val_loss: 2.5287 - val_accuracy: 0.3704\n",
            "Epoch 18/100\n",
            "391/391 [==============================] - 27s 70ms/step - loss: 2.2508 - accuracy: 0.4251 - val_loss: 2.5107 - val_accuracy: 0.3719\n",
            "Epoch 19/100\n",
            "391/391 [==============================] - 27s 70ms/step - loss: 2.2113 - accuracy: 0.4348 - val_loss: 2.5044 - val_accuracy: 0.3764\n",
            "Epoch 20/100\n",
            "391/391 [==============================] - 27s 70ms/step - loss: 2.1733 - accuracy: 0.4411 - val_loss: 2.4571 - val_accuracy: 0.3830\n",
            "Epoch 21/100\n",
            "391/391 [==============================] - 27s 70ms/step - loss: 2.1310 - accuracy: 0.4530 - val_loss: 2.4491 - val_accuracy: 0.3844\n",
            "Epoch 22/100\n",
            "391/391 [==============================] - 27s 70ms/step - loss: 2.1027 - accuracy: 0.4582 - val_loss: 2.4092 - val_accuracy: 0.3920\n",
            "Epoch 23/100\n",
            "391/391 [==============================] - 27s 70ms/step - loss: 2.0604 - accuracy: 0.4670 - val_loss: 2.4234 - val_accuracy: 0.3922\n",
            "Epoch 24/100\n",
            "391/391 [==============================] - 27s 70ms/step - loss: 2.0303 - accuracy: 0.4729 - val_loss: 2.4182 - val_accuracy: 0.3932\n",
            "Epoch 25/100\n",
            "391/391 [==============================] - 27s 70ms/step - loss: 2.0032 - accuracy: 0.4803 - val_loss: 2.4071 - val_accuracy: 0.3897\n",
            "Epoch 26/100\n",
            "391/391 [==============================] - 27s 70ms/step - loss: 1.9665 - accuracy: 0.4891 - val_loss: 2.3673 - val_accuracy: 0.4002\n",
            "Epoch 27/100\n",
            "391/391 [==============================] - 27s 70ms/step - loss: 1.9379 - accuracy: 0.4961 - val_loss: 2.3717 - val_accuracy: 0.4012\n",
            "Epoch 28/100\n",
            "391/391 [==============================] - 27s 70ms/step - loss: 1.9122 - accuracy: 0.5022 - val_loss: 2.3789 - val_accuracy: 0.4007\n",
            "Epoch 29/100\n",
            "391/391 [==============================] - 27s 70ms/step - loss: 1.8842 - accuracy: 0.5058 - val_loss: 2.3633 - val_accuracy: 0.4058\n",
            "Epoch 30/100\n",
            "391/391 [==============================] - 27s 70ms/step - loss: 1.8562 - accuracy: 0.5132 - val_loss: 2.3676 - val_accuracy: 0.4025\n",
            "Epoch 31/100\n",
            "391/391 [==============================] - 28s 70ms/step - loss: 1.8319 - accuracy: 0.5195 - val_loss: 2.3606 - val_accuracy: 0.4073\n",
            "Epoch 32/100\n",
            "391/391 [==============================] - 27s 70ms/step - loss: 1.8032 - accuracy: 0.5263 - val_loss: 2.3593 - val_accuracy: 0.4077\n",
            "Epoch 33/100\n",
            "391/391 [==============================] - 27s 70ms/step - loss: 1.7758 - accuracy: 0.5333 - val_loss: 2.3549 - val_accuracy: 0.4069\n",
            "Epoch 34/100\n",
            "391/391 [==============================] - 27s 70ms/step - loss: 1.7464 - accuracy: 0.5404 - val_loss: 2.3639 - val_accuracy: 0.4069\n",
            "Epoch 35/100\n",
            "391/391 [==============================] - 27s 70ms/step - loss: 1.7191 - accuracy: 0.5458 - val_loss: 2.3657 - val_accuracy: 0.4063\n",
            "Epoch 36/100\n",
            "391/391 [==============================] - 27s 70ms/step - loss: 1.6934 - accuracy: 0.5532 - val_loss: 2.3736 - val_accuracy: 0.4108\n",
            "Epoch 37/100\n",
            "391/391 [==============================] - 27s 70ms/step - loss: 1.6656 - accuracy: 0.5581 - val_loss: 2.3663 - val_accuracy: 0.4127\n",
            "Epoch 38/100\n",
            "391/391 [==============================] - 27s 70ms/step - loss: 1.6371 - accuracy: 0.5659 - val_loss: 2.3934 - val_accuracy: 0.4123\n",
            "Epoch 39/100\n",
            "391/391 [==============================] - 27s 70ms/step - loss: 1.6135 - accuracy: 0.5711 - val_loss: 2.4101 - val_accuracy: 0.4109\n",
            "Epoch 40/100\n",
            "391/391 [==============================] - 27s 70ms/step - loss: 1.5863 - accuracy: 0.5771 - val_loss: 2.4097 - val_accuracy: 0.4124\n",
            "Epoch 41/100\n",
            "391/391 [==============================] - 27s 70ms/step - loss: 1.5563 - accuracy: 0.5864 - val_loss: 2.4402 - val_accuracy: 0.4067\n",
            "Epoch 42/100\n",
            "391/391 [==============================] - 27s 70ms/step - loss: 1.5284 - accuracy: 0.5920 - val_loss: 2.4242 - val_accuracy: 0.4162\n",
            "Epoch 43/100\n",
            "391/391 [==============================] - 27s 70ms/step - loss: 1.5019 - accuracy: 0.5997 - val_loss: 2.4299 - val_accuracy: 0.4178\n",
            "Epoch 44/100\n",
            "391/391 [==============================] - 27s 70ms/step - loss: 1.4744 - accuracy: 0.6054 - val_loss: 2.4527 - val_accuracy: 0.4137\n",
            "Epoch 45/100\n",
            "391/391 [==============================] - 27s 70ms/step - loss: 1.4469 - accuracy: 0.6131 - val_loss: 2.4881 - val_accuracy: 0.4064\n",
            "Epoch 46/100\n",
            "391/391 [==============================] - 27s 69ms/step - loss: 1.4154 - accuracy: 0.6216 - val_loss: 2.5000 - val_accuracy: 0.4070\n",
            "Epoch 47/100\n",
            "391/391 [==============================] - 27s 69ms/step - loss: 1.3879 - accuracy: 0.6271 - val_loss: 2.4959 - val_accuracy: 0.4078\n",
            "Epoch 48/100\n",
            "391/391 [==============================] - 27s 69ms/step - loss: 1.3587 - accuracy: 0.6360 - val_loss: 2.5662 - val_accuracy: 0.4025\n",
            "Epoch 49/100\n",
            "391/391 [==============================] - 27s 69ms/step - loss: 1.3276 - accuracy: 0.6422 - val_loss: 2.5463 - val_accuracy: 0.4086\n",
            "Epoch 50/100\n",
            "391/391 [==============================] - 27s 70ms/step - loss: 1.2963 - accuracy: 0.6524 - val_loss: 2.5827 - val_accuracy: 0.4101\n",
            "Epoch 51/100\n",
            "391/391 [==============================] - 27s 69ms/step - loss: 1.2682 - accuracy: 0.6612 - val_loss: 2.6076 - val_accuracy: 0.4086\n",
            "Epoch 52/100\n",
            "391/391 [==============================] - 27s 70ms/step - loss: 1.2399 - accuracy: 0.6655 - val_loss: 2.6581 - val_accuracy: 0.4033\n",
            "Epoch 53/100\n",
            "391/391 [==============================] - 27s 69ms/step - loss: 1.2086 - accuracy: 0.6749 - val_loss: 2.6627 - val_accuracy: 0.4035\n"
          ],
          "name": "stdout"
        }
      ]
    },
    {
      "cell_type": "code",
      "metadata": {
        "id": "dZuWXGeW-nqY",
        "outputId": "5689fcd6-de73-4954-e3bf-c9942eabd210",
        "colab": {
          "base_uri": "https://localhost:8080/",
          "height": 313
        }
      },
      "source": [
        "import matplotlib.pyplot as plt\n",
        "\n",
        "history_dict = history.history\n",
        "print(history_dict.keys())\n",
        "loss_values = history_dict['loss']\n",
        "val_loss_values = history_dict['val_loss']\n",
        "\n",
        "epochs = range(1, len(history_dict['accuracy']) + 1)\n",
        "\n",
        "plt.plot(epochs, loss_values, 'bo', label='Training loss')\n",
        "plt.plot(epochs, val_loss_values, 'b', label='Validation loss')\n",
        "plt.title('Training and validation loss')\n",
        "plt.xlabel('Epochs')\n",
        "plt.ylabel('Loss')\n",
        "plt.legend()\n",
        "\n",
        "plt.show()"
      ],
      "execution_count": 14,
      "outputs": [
        {
          "output_type": "stream",
          "text": [
            "dict_keys(['loss', 'accuracy', 'val_loss', 'val_accuracy'])\n"
          ],
          "name": "stdout"
        },
        {
          "output_type": "display_data",
          "data": {
            "image/png": "[encoded data removed]",
            "text/plain": [
              "<Figure size 432x288 with 1 Axes>"
            ]
          },
          "metadata": {
            "tags": [],
            "needs_background": "light"
          }
        }
      ]
    },
    {
      "cell_type": "code",
      "metadata": {
        "id": "AfO0lHJIE0Gy",
        "outputId": "71dfe6f0-ff50-4a1c-d716-19f6ebdb2a32",
        "colab": {
          "base_uri": "https://localhost:8080/",
          "height": 1000
        }
      },
      "source": [
        "y_pred = model.predict(x_test).argmax(-1)\n",
        "import sklearn.metrics as metrics\n",
        "print(metrics.classification_report(y_test.argmax(axis=1), y_pred))"
      ],
      "execution_count": 15,
      "outputs": [
        {
          "output_type": "stream",
          "text": [
            "              precision    recall  f1-score   support\n",
            "\n",
            "           0       0.70      0.67      0.68       100\n",
            "           1       0.40      0.55      0.46       100\n",
            "           2       0.20      0.23      0.21       100\n",
            "           3       0.20      0.22      0.21       100\n",
            "           4       0.24      0.32      0.27       100\n",
            "           5       0.37      0.45      0.41       100\n",
            "           6       0.47      0.48      0.48       100\n",
            "           7       0.42      0.47      0.44       100\n",
            "           8       0.68      0.50      0.58       100\n",
            "           9       0.49      0.56      0.52       100\n",
            "          10       0.34      0.42      0.38       100\n",
            "          11       0.22      0.27      0.24       100\n",
            "          12       0.29      0.45      0.35       100\n",
            "          13       0.33      0.37      0.35       100\n",
            "          14       0.35      0.27      0.30       100\n",
            "          15       0.26      0.36      0.31       100\n",
            "          16       0.37      0.52      0.43       100\n",
            "          17       0.61      0.59      0.60       100\n",
            "          18       0.28      0.13      0.18       100\n",
            "          19       0.33      0.27      0.30       100\n",
            "          20       0.63      0.69      0.66       100\n",
            "          21       0.48      0.65      0.55       100\n",
            "          22       0.36      0.37      0.37       100\n",
            "          23       0.67      0.48      0.56       100\n",
            "          24       0.63      0.46      0.53       100\n",
            "          25       0.31      0.30      0.30       100\n",
            "          26       0.47      0.27      0.34       100\n",
            "          27       0.27      0.28      0.28       100\n",
            "          28       0.65      0.68      0.67       100\n",
            "          29       0.49      0.35      0.41       100\n",
            "          30       0.35      0.32      0.34       100\n",
            "          31       0.36      0.34      0.35       100\n",
            "          32       0.32      0.24      0.28       100\n",
            "          33       0.43      0.52      0.47       100\n",
            "          34       0.32      0.44      0.37       100\n",
            "          35       0.28      0.13      0.18       100\n",
            "          36       0.35      0.45      0.39       100\n",
            "          37       0.35      0.47      0.40       100\n",
            "          38       0.28      0.25      0.26       100\n",
            "          39       0.44      0.33      0.38       100\n",
            "          40       0.37      0.33      0.35       100\n",
            "          41       0.61      0.57      0.59       100\n",
            "          42       0.39      0.37      0.38       100\n",
            "          43       0.33      0.41      0.36       100\n",
            "          44       0.17      0.12      0.14       100\n",
            "          45       0.27      0.25      0.26       100\n",
            "          46       0.27      0.23      0.25       100\n",
            "          47       0.46      0.61      0.53       100\n",
            "          48       0.67      0.70      0.69       100\n",
            "          49       0.70      0.47      0.56       100\n",
            "          50       0.21      0.14      0.17       100\n",
            "          51       0.28      0.22      0.25       100\n",
            "          52       0.51      0.50      0.50       100\n",
            "          53       0.61      0.72      0.66       100\n",
            "          54       0.45      0.45      0.45       100\n",
            "          55       0.07      0.05      0.06       100\n",
            "          56       0.57      0.52      0.54       100\n",
            "          57       0.46      0.46      0.46       100\n",
            "          58       0.41      0.48      0.44       100\n",
            "          59       0.41      0.31      0.35       100\n",
            "          60       0.67      0.77      0.72       100\n",
            "          61       0.60      0.50      0.54       100\n",
            "          62       0.49      0.52      0.50       100\n",
            "          63       0.43      0.30      0.35       100\n",
            "          64       0.19      0.21      0.20       100\n",
            "          65       0.20      0.20      0.20       100\n",
            "          66       0.30      0.24      0.27       100\n",
            "          67       0.37      0.26      0.30       100\n",
            "          68       0.71      0.75      0.73       100\n",
            "          69       0.43      0.67      0.53       100\n",
            "          70       0.39      0.46      0.42       100\n",
            "          71       0.58      0.64      0.61       100\n",
            "          72       0.18      0.13      0.15       100\n",
            "          73       0.39      0.23      0.29       100\n",
            "          74       0.20      0.17      0.19       100\n",
            "          75       0.56      0.57      0.57       100\n",
            "          76       0.58      0.66      0.62       100\n",
            "          77       0.32      0.23      0.27       100\n",
            "          78       0.20      0.12      0.15       100\n",
            "          79       0.43      0.50      0.46       100\n",
            "          80       0.15      0.15      0.15       100\n",
            "          81       0.41      0.57      0.47       100\n",
            "          82       0.70      0.63      0.66       100\n",
            "          83       0.35      0.25      0.29       100\n",
            "          84       0.29      0.33      0.31       100\n",
            "          85       0.53      0.46      0.49       100\n",
            "          86       0.48      0.40      0.44       100\n",
            "          87       0.50      0.56      0.53       100\n",
            "          88       0.38      0.40      0.39       100\n",
            "          89       0.39      0.50      0.44       100\n",
            "          90       0.34      0.30      0.32       100\n",
            "          91       0.38      0.52      0.44       100\n",
            "          92       0.36      0.38      0.37       100\n",
            "          93       0.30      0.21      0.25       100\n",
            "          94       0.71      0.74      0.73       100\n",
            "          95       0.35      0.46      0.40       100\n",
            "          96       0.45      0.36      0.40       100\n",
            "          97       0.28      0.40      0.33       100\n",
            "          98       0.22      0.25      0.23       100\n",
            "          99       0.34      0.32      0.33       100\n",
            "\n",
            "    accuracy                           0.40     10000\n",
            "   macro avg       0.40      0.40      0.40     10000\n",
            "weighted avg       0.40      0.40      0.40     10000\n",
            "\n"
          ],
          "name": "stdout"
        }
      ]
    },
    {
      "cell_type": "markdown",
      "metadata": {
        "id": "H_Ua68UfyP4j"
      },
      "source": [
        "# TESTS"
      ]
    },
    {
      "cell_type": "code",
      "metadata": {
        "id": "T4Smel9NqS1r"
      },
      "source": [
        "# model.load_weights(filepath=F\"/content/gdrive/My Drive/Checkpoints/InceptionV2_ADAM_NoRegularization.h5\")\n",
        "\n",
        "model.load_weights(\"InceptionV2_ADAM_NoRegularization.h5\")"
      ],
      "execution_count": 16,
      "outputs": []
    },
    {
      "cell_type": "code",
      "metadata": {
        "id": "b0XDBMyDq0d3",
        "outputId": "fd0b1074-196a-4c28-973d-22e5c1ebf057",
        "colab": {
          "base_uri": "https://localhost:8080/",
          "height": 54
        }
      },
      "source": [
        "result = model.evaluate(batch_size=128, x=x_test, y=y_test)\n",
        "dict(zip(model.metrics_names,result))"
      ],
      "execution_count": 17,
      "outputs": [
        {
          "output_type": "stream",
          "text": [
            "79/79 [==============================] - 2s 23ms/step - loss: 2.6627 - accuracy: 0.4035\n"
          ],
          "name": "stdout"
        },
        {
          "output_type": "execute_result",
          "data": {
            "text/plain": [
              "{'accuracy': 0.4034999907016754, 'loss': 2.6627461910247803}"
            ]
          },
          "metadata": {
            "tags": []
          },
          "execution_count": 17
        }
      ]
    },
    {
      "cell_type": "code",
      "metadata": {
        "id": "B_dkY0ZB477h"
      },
      "source": [
        ""
      ],
      "execution_count": null,
      "outputs": []
    }
  ]
}