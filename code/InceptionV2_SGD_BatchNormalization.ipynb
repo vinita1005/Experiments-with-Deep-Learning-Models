{
  "nbformat": 4,
  "nbformat_minor": 0,
  "metadata": {
    "colab": {
      "name": "InceptionV2_SGD_BatchNormalization.ipynb",
      "provenance": [],
      "collapsed_sections": []
    },
    "kernelspec": {
      "name": "python3",
      "display_name": "Python 3"
    },
    "accelerator": "GPU"
  },
  "cells": [
    {
      "cell_type": "markdown",
      "metadata": {
        "id": "qe3UvwFPYKMT"
      },
      "source": [
        "## Load Data Set"
      ]
    },
    {
      "cell_type": "code",
      "metadata": {
        "id": "Su96RREPI5li",
        "outputId": "577cefcf-0823-40eb-8247-f76dd00db8a7",
        "colab": {
          "base_uri": "https://localhost:8080/",
          "height": 35
        }
      },
      "source": [
        "from google.colab import drive\n",
        "drive.mount('/content/gdrive')"
      ],
      "execution_count": 1,
      "outputs": [
        {
          "output_type": "stream",
          "text": [
            "Mounted at /content/gdrive\n"
          ],
          "name": "stdout"
        }
      ]
    },
    {
      "cell_type": "code",
      "metadata": {
        "id": "ixBthpNWrKzY"
      },
      "source": [
        "from keras.datasets import cifar100\n",
        "from keras.utils import to_categorical\n",
        "import numpy as np\n",
        "import cv2\n",
        "import os\n",
        "from keras import backend as K"
      ],
      "execution_count": 2,
      "outputs": []
    },
    {
      "cell_type": "code",
      "metadata": {
        "id": "d14LEXbNqu68",
        "outputId": "2cf05bfb-4d5b-4279-c246-3a395d9b23c5",
        "colab": {
          "base_uri": "https://localhost:8080/",
          "height": 54
        }
      },
      "source": [
        "(x_train, y_train_), (x_test, y_test_) = cifar100.load_data()\n"
      ],
      "execution_count": 3,
      "outputs": [
        {
          "output_type": "stream",
          "text": [
            "Downloading data from https://www.cs.toronto.edu/~kriz/cifar-100-python.tar.gz\n",
            "169009152/169001437 [==============================] - 6s 0us/step\n"
          ],
          "name": "stdout"
        }
      ]
    },
    {
      "cell_type": "code",
      "metadata": {
        "id": "p4lTzEl8djyJ"
      },
      "source": [
        "x_train = x_train.astype('float32') / 255\n",
        "x_test = x_test.astype('float32') / 255"
      ],
      "execution_count": 4,
      "outputs": []
    },
    {
      "cell_type": "code",
      "metadata": {
        "id": "6h_PwVSJrWjf"
      },
      "source": [
        "y_train = to_categorical(y_train_)\n",
        "y_test = to_categorical(y_test_)"
      ],
      "execution_count": 5,
      "outputs": []
    },
    {
      "cell_type": "markdown",
      "metadata": {
        "id": "fsSOLpMSYEKL"
      },
      "source": [
        "## Inception V2 model"
      ]
    },
    {
      "cell_type": "code",
      "metadata": {
        "id": "DlX5MwqCoSEF"
      },
      "source": [
        "import keras\n",
        "import tensorflow as tf\n",
        "from keras.models import Model\n",
        "from keras.layers import Dense, Activation, Dropout, Flatten, Reshape\n",
        "from keras.layers import Conv2D, Input\n",
        "from keras.layers import MaxPooling2D, BatchNormalization\n",
        "from keras.callbacks import EarlyStopping\n",
        "from keras.layers.merge import concatenate\n",
        "import os"
      ],
      "execution_count": 6,
      "outputs": []
    },
    {
      "cell_type": "code",
      "metadata": {
        "id": "RfDkIclipUCR"
      },
      "source": [
        "input_shape = (32, 32, 3)\n",
        "input = Input(shape=input_shape)"
      ],
      "execution_count": 7,
      "outputs": []
    },
    {
      "cell_type": "code",
      "metadata": {
        "id": "t1Cv1ygQ7Cwj"
      },
      "source": [
        "layer1_1 = Conv2D(64, (1, 1), activation='elu', padding='same')(input)\n",
        "layer1_2 = Conv2D(96, (1, 1), activation='elu', padding='same')(input)\n",
        "layer1_2 = Conv2D(128, (3, 3), activation='elu', padding='same')(layer1_2)\n",
        "layer1_3 = Conv2D(16, (1, 1), activation='elu', padding='same')(input)\n",
        "layer1_3 = Conv2D(32, (5, 5), activation='elu', padding='same')(layer1_3)\n",
        "layer1_4 = MaxPooling2D(pool_size=(3, 3), strides=(1, 1), padding='same', data_format='channels_last')(input)\n",
        "layer1_4 = Conv2D(32, (1, 1), activation='elu', padding='same')(layer1_4)\n",
        " \n",
        "concat = concatenate([layer1_1, layer1_2, layer1_3, layer1_4])\n",
        "concat = BatchNormalization()(concat)\n",
        "concat = Activation('elu')(concat)"
      ],
      "execution_count": 8,
      "outputs": []
    },
    {
      "cell_type": "code",
      "metadata": {
        "id": "ZgqX4ij5wn7J"
      },
      "source": [
        "layer2_1 = Conv2D(64, (1, 1), activation='elu', padding='same')(concat)\n",
        "layer2_2 = Conv2D(96, (1, 1), activation='elu', padding='same')(concat)\n",
        "layer2_2 = Conv2D(128, (3, 3), activation='elu', padding='same')(layer2_2)\n",
        "layer2_3 = Conv2D(16, (1, 1), activation='elu', padding='same')(concat)\n",
        "layer2_3 = Conv2D(32, (5, 5), activation='elu', padding='same')(layer2_3)\n",
        "layer2_4 = MaxPooling2D(pool_size=(3, 3), strides=(1, 1), padding='same', data_format='channels_last')(concat)\n",
        "layer2_4 = Conv2D(32, (1, 1), activation='elu', padding='same')(layer2_4)\n",
        "\n",
        "concat2 = concatenate([layer2_1, layer2_2, layer2_3, layer2_4])\n",
        "concat2 = BatchNormalization()(concat2)\n",
        "concat2 = Activation('elu')(concat2)"
      ],
      "execution_count": 9,
      "outputs": []
    },
    {
      "cell_type": "code",
      "metadata": {
        "id": "4RzN660c7naC"
      },
      "source": [
        "# layer3_1 = Conv2D(64, (1, 1), activation='elu', padding='same')(concat2)\n",
        "# layer3_2 = Conv2D(96, (1, 1), activation='elu', padding='same')(concat2)\n",
        "# layer3_2 = Conv2D(128, (3, 3), activation='elu', padding='same')(layer3_2)\n",
        "# layer3_3 = Conv2D(16, (1, 1), activation='elu', padding='same')(concat2)\n",
        "# layer3_3 = Conv2D(32, (5, 5), activation='elu', padding='same')(layer3_3)\n",
        "# layer3_4 = MaxPooling2D(pool_size=(3, 3), strides=(1, 1), padding='same', data_format='channels_last')(concat2)\n",
        "# layer3_4 = Conv2D(32, (1, 1), activation='elu', padding='same')(layer3_4)\n",
        "\n",
        "# concat3 = concatenate([layer3_1, layer3_2, layer3_3, layer3_4])\n",
        "# concat3 = BatchNormalization()(concat3)\n",
        "# concat3 = Activation('elu')(concat3)"
      ],
      "execution_count": 10,
      "outputs": []
    },
    {
      "cell_type": "code",
      "metadata": {
        "id": "BqQohLdvpaGV",
        "outputId": "59d91f9e-1037-47f1-8484-97b1ae2dd4bf",
        "colab": {
          "base_uri": "https://localhost:8080/",
          "height": 1000
        }
      },
      "source": [
        "# layer4_1 = Conv2D(64, (1, 1), activation='elu', padding='same')(concat3)\n",
        "# layer4_2 = Conv2D(96, (1, 1), activation='elu', padding='same')(concat3)\n",
        "# layer4_2 = Conv2D(128, (3, 3), activation='elu', padding='same')(layer4_2)\n",
        "# layer4_3 = Conv2D(16, (1, 1), activation='elu', padding='same')(concat3)\n",
        "# layer4_3 = Conv2D(32, (5, 5), activation='elu', padding='same')(layer4_3)\n",
        "# layer4_4 = MaxPooling2D(pool_size=(3, 3), strides=(1, 1), padding='same', data_format='channels_last')(concat3)\n",
        "# layer4_4 = Conv2D(32, (1, 1), activation='elu', padding='same')(layer4_4)\n",
        "\n",
        "# concat4 = concatenate([layer4_1, layer4_2, layer4_3, layer4_4])\n",
        "# concat4 = BatchNormalization()(concat4)\n",
        "# concat4 = Activation('elu')(concat4)\n",
        "\n",
        "output = Conv2D(8, (3, 3), activation=tf.keras.layers.LeakyReLU(alpha=0.3), padding='same')(concat2)\n",
        "output = MaxPooling2D(pool_size=(3, 3))(output)\n",
        "output = Flatten()(output)                 \n",
        "output = Dense(100, activation='softmax')(output) \n",
        "\n",
        "model = Model(inputs=input, outputs=output) \n",
        "model.summary()"
      ],
      "execution_count": 11,
      "outputs": [
        {
          "output_type": "stream",
          "text": [
            "Model: \"functional_1\"\n",
            "__________________________________________________________________________________________________\n",
            "Layer (type)                    Output Shape         Param #     Connected to                     \n",
            "==================================================================================================\n",
            "input_1 (InputLayer)            [(None, 32, 32, 3)]  0                                            \n",
            "__________________________________________________________________________________________________\n",
            "conv2d_1 (Conv2D)               (None, 32, 32, 96)   384         input_1[0][0]                    \n",
            "__________________________________________________________________________________________________\n",
            "conv2d_3 (Conv2D)               (None, 32, 32, 16)   64          input_1[0][0]                    \n",
            "__________________________________________________________________________________________________\n",
            "max_pooling2d (MaxPooling2D)    (None, 32, 32, 3)    0           input_1[0][0]                    \n",
            "__________________________________________________________________________________________________\n",
            "conv2d (Conv2D)                 (None, 32, 32, 64)   256         input_1[0][0]                    \n",
            "__________________________________________________________________________________________________\n",
            "conv2d_2 (Conv2D)               (None, 32, 32, 128)  110720      conv2d_1[0][0]                   \n",
            "__________________________________________________________________________________________________\n",
            "conv2d_4 (Conv2D)               (None, 32, 32, 32)   12832       conv2d_3[0][0]                   \n",
            "__________________________________________________________________________________________________\n",
            "conv2d_5 (Conv2D)               (None, 32, 32, 32)   128         max_pooling2d[0][0]              \n",
            "__________________________________________________________________________________________________\n",
            "concatenate (Concatenate)       (None, 32, 32, 256)  0           conv2d[0][0]                     \n",
            "                                                                 conv2d_2[0][0]                   \n",
            "                                                                 conv2d_4[0][0]                   \n",
            "                                                                 conv2d_5[0][0]                   \n",
            "__________________________________________________________________________________________________\n",
            "batch_normalization (BatchNorma (None, 32, 32, 256)  1024        concatenate[0][0]                \n",
            "__________________________________________________________________________________________________\n",
            "activation (Activation)         (None, 32, 32, 256)  0           batch_normalization[0][0]        \n",
            "__________________________________________________________________________________________________\n",
            "conv2d_7 (Conv2D)               (None, 32, 32, 96)   24672       activation[0][0]                 \n",
            "__________________________________________________________________________________________________\n",
            "conv2d_9 (Conv2D)               (None, 32, 32, 16)   4112        activation[0][0]                 \n",
            "__________________________________________________________________________________________________\n",
            "max_pooling2d_1 (MaxPooling2D)  (None, 32, 32, 256)  0           activation[0][0]                 \n",
            "__________________________________________________________________________________________________\n",
            "conv2d_6 (Conv2D)               (None, 32, 32, 64)   16448       activation[0][0]                 \n",
            "__________________________________________________________________________________________________\n",
            "conv2d_8 (Conv2D)               (None, 32, 32, 128)  110720      conv2d_7[0][0]                   \n",
            "__________________________________________________________________________________________________\n",
            "conv2d_10 (Conv2D)              (None, 32, 32, 32)   12832       conv2d_9[0][0]                   \n",
            "__________________________________________________________________________________________________\n",
            "conv2d_11 (Conv2D)              (None, 32, 32, 32)   8224        max_pooling2d_1[0][0]            \n",
            "__________________________________________________________________________________________________\n",
            "concatenate_1 (Concatenate)     (None, 32, 32, 256)  0           conv2d_6[0][0]                   \n",
            "                                                                 conv2d_8[0][0]                   \n",
            "                                                                 conv2d_10[0][0]                  \n",
            "                                                                 conv2d_11[0][0]                  \n",
            "__________________________________________________________________________________________________\n",
            "batch_normalization_1 (BatchNor (None, 32, 32, 256)  1024        concatenate_1[0][0]              \n",
            "__________________________________________________________________________________________________\n",
            "activation_1 (Activation)       (None, 32, 32, 256)  0           batch_normalization_1[0][0]      \n",
            "__________________________________________________________________________________________________\n",
            "conv2d_12 (Conv2D)              (None, 32, 32, 8)    18440       activation_1[0][0]               \n",
            "__________________________________________________________________________________________________\n",
            "max_pooling2d_2 (MaxPooling2D)  (None, 10, 10, 8)    0           conv2d_12[0][0]                  \n",
            "__________________________________________________________________________________________________\n",
            "flatten (Flatten)               (None, 800)          0           max_pooling2d_2[0][0]            \n",
            "__________________________________________________________________________________________________\n",
            "dense (Dense)                   (None, 100)          80100       flatten[0][0]                    \n",
            "==================================================================================================\n",
            "Total params: 401,980\n",
            "Trainable params: 400,956\n",
            "Non-trainable params: 1,024\n",
            "__________________________________________________________________________________________________\n"
          ],
          "name": "stdout"
        }
      ]
    },
    {
      "cell_type": "code",
      "metadata": {
        "id": "wNXVRhvpsCwi",
        "outputId": "51dc9381-2dfe-4f75-8b30-24f2e90fbd30",
        "colab": {
          "base_uri": "https://localhost:8080/",
          "height": 1000
        }
      },
      "source": [
        "opt = keras.optimizers.SGD(learning_rate=0.01, clipnorm=5)\n",
        "model.compile(loss=keras.losses.categorical_crossentropy, optimizer=opt, metrics=[\"accuracy\"])\n",
        "callback = EarlyStopping(monitor='val_loss', patience=20)\n",
        "history = model.fit(x_train, y_train, batch_size=128, epochs=200, verbose=1, validation_data=(x_test, y_test), callbacks=[callback])\n",
        "model.save_weights(filepath=F\"/content/gdrive/My Drive/Checkpoints/InceptionV2_SGD_BatchNormalization.h5\")"
      ],
      "execution_count": 12,
      "outputs": [
        {
          "output_type": "stream",
          "text": [
            "Epoch 1/200\n",
            "391/391 [==============================] - 16s 40ms/step - loss: 4.3246 - accuracy: 0.0542 - val_loss: 4.2056 - val_accuracy: 0.0594\n",
            "Epoch 2/200\n",
            "391/391 [==============================] - 15s 39ms/step - loss: 3.7688 - accuracy: 0.1315 - val_loss: 3.7049 - val_accuracy: 0.1376\n",
            "Epoch 3/200\n",
            "391/391 [==============================] - 15s 39ms/step - loss: 3.4595 - accuracy: 0.1824 - val_loss: 3.6072 - val_accuracy: 0.1626\n",
            "Epoch 4/200\n",
            "391/391 [==============================] - 15s 39ms/step - loss: 3.2461 - accuracy: 0.2208 - val_loss: 3.2579 - val_accuracy: 0.2211\n",
            "Epoch 5/200\n",
            "391/391 [==============================] - 15s 39ms/step - loss: 3.1020 - accuracy: 0.2477 - val_loss: 3.2469 - val_accuracy: 0.2223\n",
            "Epoch 6/200\n",
            "391/391 [==============================] - 15s 39ms/step - loss: 2.9770 - accuracy: 0.2726 - val_loss: 3.1608 - val_accuracy: 0.2479\n",
            "Epoch 7/200\n",
            "391/391 [==============================] - 15s 39ms/step - loss: 2.8786 - accuracy: 0.2925 - val_loss: 3.1361 - val_accuracy: 0.2556\n",
            "Epoch 8/200\n",
            "391/391 [==============================] - 15s 39ms/step - loss: 2.7908 - accuracy: 0.3109 - val_loss: 3.0643 - val_accuracy: 0.2617\n",
            "Epoch 9/200\n",
            "391/391 [==============================] - 15s 39ms/step - loss: 2.7082 - accuracy: 0.3279 - val_loss: 3.3143 - val_accuracy: 0.2388\n",
            "Epoch 10/200\n",
            "391/391 [==============================] - 15s 39ms/step - loss: 2.6360 - accuracy: 0.3413 - val_loss: 2.8964 - val_accuracy: 0.2894\n",
            "Epoch 11/200\n",
            "391/391 [==============================] - 15s 39ms/step - loss: 2.5734 - accuracy: 0.3565 - val_loss: 2.8648 - val_accuracy: 0.3015\n",
            "Epoch 12/200\n",
            "391/391 [==============================] - 15s 39ms/step - loss: 2.5161 - accuracy: 0.3679 - val_loss: 2.7916 - val_accuracy: 0.3129\n",
            "Epoch 13/200\n",
            "391/391 [==============================] - 15s 39ms/step - loss: 2.4631 - accuracy: 0.3775 - val_loss: 2.7354 - val_accuracy: 0.3225\n",
            "Epoch 14/200\n",
            "391/391 [==============================] - 15s 39ms/step - loss: 2.4116 - accuracy: 0.3890 - val_loss: 3.4299 - val_accuracy: 0.2316\n",
            "Epoch 15/200\n",
            "391/391 [==============================] - 15s 39ms/step - loss: 2.3683 - accuracy: 0.3993 - val_loss: 3.0344 - val_accuracy: 0.2844\n",
            "Epoch 16/200\n",
            "391/391 [==============================] - 15s 39ms/step - loss: 2.3249 - accuracy: 0.4060 - val_loss: 2.6987 - val_accuracy: 0.3284\n",
            "Epoch 17/200\n",
            "391/391 [==============================] - 15s 39ms/step - loss: 2.2814 - accuracy: 0.4169 - val_loss: 2.7708 - val_accuracy: 0.3254\n",
            "Epoch 18/200\n",
            "391/391 [==============================] - 15s 39ms/step - loss: 2.2437 - accuracy: 0.4247 - val_loss: 2.6983 - val_accuracy: 0.3298\n",
            "Epoch 19/200\n",
            "391/391 [==============================] - 15s 39ms/step - loss: 2.2056 - accuracy: 0.4353 - val_loss: 2.7102 - val_accuracy: 0.3346\n",
            "Epoch 20/200\n",
            "391/391 [==============================] - 15s 39ms/step - loss: 2.1691 - accuracy: 0.4425 - val_loss: 2.8243 - val_accuracy: 0.3170\n",
            "Epoch 21/200\n",
            "391/391 [==============================] - 15s 39ms/step - loss: 2.1376 - accuracy: 0.4502 - val_loss: 2.5781 - val_accuracy: 0.3589\n",
            "Epoch 22/200\n",
            "391/391 [==============================] - 15s 39ms/step - loss: 2.1010 - accuracy: 0.4592 - val_loss: 2.7400 - val_accuracy: 0.3266\n",
            "Epoch 23/200\n",
            "391/391 [==============================] - 15s 39ms/step - loss: 2.0707 - accuracy: 0.4648 - val_loss: 2.8527 - val_accuracy: 0.3124\n",
            "Epoch 24/200\n",
            "391/391 [==============================] - 15s 39ms/step - loss: 2.0401 - accuracy: 0.4725 - val_loss: 2.6150 - val_accuracy: 0.3565\n",
            "Epoch 25/200\n",
            "391/391 [==============================] - 15s 39ms/step - loss: 2.0103 - accuracy: 0.4794 - val_loss: 2.6738 - val_accuracy: 0.3453\n",
            "Epoch 26/200\n",
            "391/391 [==============================] - 15s 39ms/step - loss: 1.9825 - accuracy: 0.4837 - val_loss: 2.7622 - val_accuracy: 0.3437\n",
            "Epoch 27/200\n",
            "391/391 [==============================] - 15s 39ms/step - loss: 1.9502 - accuracy: 0.4929 - val_loss: 2.6857 - val_accuracy: 0.3517\n",
            "Epoch 28/200\n",
            "391/391 [==============================] - 15s 39ms/step - loss: 1.9247 - accuracy: 0.4997 - val_loss: 2.6116 - val_accuracy: 0.3628\n",
            "Epoch 29/200\n",
            "391/391 [==============================] - 15s 39ms/step - loss: 1.8938 - accuracy: 0.5045 - val_loss: 2.6842 - val_accuracy: 0.3550\n",
            "Epoch 30/200\n",
            "391/391 [==============================] - 15s 39ms/step - loss: 1.8684 - accuracy: 0.5123 - val_loss: 2.6779 - val_accuracy: 0.3553\n",
            "Epoch 31/200\n",
            "391/391 [==============================] - 15s 39ms/step - loss: 1.8463 - accuracy: 0.5164 - val_loss: 2.6135 - val_accuracy: 0.3663\n",
            "Epoch 32/200\n",
            "391/391 [==============================] - 15s 39ms/step - loss: 1.8192 - accuracy: 0.5230 - val_loss: 2.5845 - val_accuracy: 0.3705\n",
            "Epoch 33/200\n",
            "391/391 [==============================] - 15s 39ms/step - loss: 1.7941 - accuracy: 0.5277 - val_loss: 2.6037 - val_accuracy: 0.3670\n",
            "Epoch 34/200\n",
            "391/391 [==============================] - 15s 39ms/step - loss: 1.7679 - accuracy: 0.5356 - val_loss: 2.6261 - val_accuracy: 0.3603\n",
            "Epoch 35/200\n",
            "391/391 [==============================] - 15s 39ms/step - loss: 1.7459 - accuracy: 0.5408 - val_loss: 2.6315 - val_accuracy: 0.3670\n",
            "Epoch 36/200\n",
            "391/391 [==============================] - 15s 39ms/step - loss: 1.7210 - accuracy: 0.5457 - val_loss: 2.5518 - val_accuracy: 0.3811\n",
            "Epoch 37/200\n",
            "391/391 [==============================] - 15s 39ms/step - loss: 1.7003 - accuracy: 0.5517 - val_loss: 2.6064 - val_accuracy: 0.3776\n",
            "Epoch 38/200\n",
            "391/391 [==============================] - 15s 39ms/step - loss: 1.6735 - accuracy: 0.5578 - val_loss: 2.6456 - val_accuracy: 0.3751\n",
            "Epoch 39/200\n",
            "391/391 [==============================] - 15s 39ms/step - loss: 1.6501 - accuracy: 0.5647 - val_loss: 2.6218 - val_accuracy: 0.3758\n",
            "Epoch 40/200\n",
            "391/391 [==============================] - 15s 39ms/step - loss: 1.6283 - accuracy: 0.5684 - val_loss: 2.6448 - val_accuracy: 0.3700\n",
            "Epoch 41/200\n",
            "391/391 [==============================] - 15s 39ms/step - loss: 1.6068 - accuracy: 0.5715 - val_loss: 2.7075 - val_accuracy: 0.3629\n",
            "Epoch 42/200\n",
            "391/391 [==============================] - 15s 39ms/step - loss: 1.5808 - accuracy: 0.5809 - val_loss: 2.7542 - val_accuracy: 0.3535\n",
            "Epoch 43/200\n",
            "391/391 [==============================] - 15s 39ms/step - loss: 1.5609 - accuracy: 0.5844 - val_loss: 2.7263 - val_accuracy: 0.3676\n",
            "Epoch 44/200\n",
            "391/391 [==============================] - 15s 39ms/step - loss: 1.5405 - accuracy: 0.5899 - val_loss: 2.6834 - val_accuracy: 0.3683\n",
            "Epoch 45/200\n",
            "391/391 [==============================] - 15s 39ms/step - loss: 1.5166 - accuracy: 0.5944 - val_loss: 2.6622 - val_accuracy: 0.3763\n",
            "Epoch 46/200\n",
            "391/391 [==============================] - 15s 39ms/step - loss: 1.4930 - accuracy: 0.5994 - val_loss: 2.7653 - val_accuracy: 0.3600\n",
            "Epoch 47/200\n",
            "391/391 [==============================] - 15s 39ms/step - loss: 1.4741 - accuracy: 0.6055 - val_loss: 2.6768 - val_accuracy: 0.3788\n",
            "Epoch 48/200\n",
            "391/391 [==============================] - 15s 39ms/step - loss: 1.4498 - accuracy: 0.6116 - val_loss: 2.7823 - val_accuracy: 0.3693\n",
            "Epoch 49/200\n",
            "391/391 [==============================] - 15s 39ms/step - loss: 1.4271 - accuracy: 0.6159 - val_loss: 2.8006 - val_accuracy: 0.3669\n",
            "Epoch 50/200\n",
            "391/391 [==============================] - 15s 39ms/step - loss: 1.4055 - accuracy: 0.6228 - val_loss: 2.7703 - val_accuracy: 0.3761\n",
            "Epoch 51/200\n",
            "391/391 [==============================] - 15s 39ms/step - loss: 1.3866 - accuracy: 0.6270 - val_loss: 2.7612 - val_accuracy: 0.3717\n",
            "Epoch 52/200\n",
            "391/391 [==============================] - 15s 39ms/step - loss: 1.3645 - accuracy: 0.6320 - val_loss: 2.8042 - val_accuracy: 0.3660\n",
            "Epoch 53/200\n",
            "391/391 [==============================] - 15s 39ms/step - loss: 1.3473 - accuracy: 0.6371 - val_loss: 2.8796 - val_accuracy: 0.3517\n",
            "Epoch 54/200\n",
            "391/391 [==============================] - 15s 39ms/step - loss: 1.3219 - accuracy: 0.6421 - val_loss: 2.8917 - val_accuracy: 0.3656\n",
            "Epoch 55/200\n",
            "391/391 [==============================] - 15s 39ms/step - loss: 1.3030 - accuracy: 0.6469 - val_loss: 2.9016 - val_accuracy: 0.3644\n",
            "Epoch 56/200\n",
            "391/391 [==============================] - 15s 39ms/step - loss: 1.2858 - accuracy: 0.6533 - val_loss: 2.8572 - val_accuracy: 0.3667\n"
          ],
          "name": "stdout"
        }
      ]
    },
    {
      "cell_type": "markdown",
      "metadata": {
        "id": "PK9Ww8AJYaaM"
      },
      "source": [
        "## Test Metrics"
      ]
    },
    {
      "cell_type": "code",
      "metadata": {
        "id": "dZuWXGeW-nqY",
        "outputId": "24448a63-9756-4971-becb-56e7c159b306",
        "colab": {
          "base_uri": "https://localhost:8080/",
          "height": 313
        }
      },
      "source": [
        "import matplotlib.pyplot as plt\n",
        "\n",
        "history_dict = history.history\n",
        "print(history_dict.keys())\n",
        "loss_values = history_dict['loss']\n",
        "val_loss_values = history_dict['val_loss']\n",
        "\n",
        "epochs = range(1, len(history_dict['accuracy']) + 1)\n",
        "\n",
        "plt.plot(epochs, loss_values, 'bo', label='Training loss')\n",
        "plt.plot(epochs, val_loss_values, 'b', label='Validation loss')\n",
        "plt.title('Training and validation loss')\n",
        "plt.xlabel('Epochs')\n",
        "plt.ylabel('Loss')\n",
        "plt.legend()\n",
        "\n",
        "plt.show()"
      ],
      "execution_count": 13,
      "outputs": [
        {
          "output_type": "stream",
          "text": [
            "dict_keys(['loss', 'accuracy', 'val_loss', 'val_accuracy'])\n"
          ],
          "name": "stdout"
        },
        {
          "output_type": "display_data",
          "data": {
            "image/png": "[encoded data removed]",
            "text/plain": [
              "<Figure size 432x288 with 1 Axes>"
            ]
          },
          "metadata": {
            "tags": [],
            "needs_background": "light"
          }
        }
      ]
    },
    {
      "cell_type": "code",
      "metadata": {
        "id": "AfO0lHJIE0Gy",
        "outputId": "1955c782-0d0c-42ef-af39-4a4ad71fd22b",
        "colab": {
          "base_uri": "https://localhost:8080/",
          "height": 1000
        }
      },
      "source": [
        "y_pred = model.predict(x_test).argmax(-1)\n",
        "import sklearn.metrics as metrics\n",
        "print(metrics.classification_report(y_test.argmax(axis=1), y_pred))"
      ],
      "execution_count": 14,
      "outputs": [
        {
          "output_type": "stream",
          "text": [
            "              precision    recall  f1-score   support\n",
            "\n",
            "           0       0.59      0.70      0.64       100\n",
            "           1       0.50      0.48      0.49       100\n",
            "           2       0.20      0.14      0.16       100\n",
            "           3       0.13      0.13      0.13       100\n",
            "           4       0.22      0.20      0.21       100\n",
            "           5       0.37      0.31      0.34       100\n",
            "           6       0.42      0.45      0.43       100\n",
            "           7       0.36      0.44      0.40       100\n",
            "           8       0.69      0.41      0.52       100\n",
            "           9       0.53      0.55      0.54       100\n",
            "          10       0.25      0.28      0.26       100\n",
            "          11       0.21      0.23      0.22       100\n",
            "          12       0.36      0.35      0.36       100\n",
            "          13       0.34      0.38      0.36       100\n",
            "          14       0.26      0.25      0.26       100\n",
            "          15       0.32      0.28      0.30       100\n",
            "          16       0.34      0.36      0.35       100\n",
            "          17       0.59      0.37      0.45       100\n",
            "          18       0.27      0.23      0.25       100\n",
            "          19       0.31      0.26      0.28       100\n",
            "          20       0.74      0.62      0.67       100\n",
            "          21       0.46      0.49      0.48       100\n",
            "          22       0.35      0.36      0.35       100\n",
            "          23       0.50      0.52      0.51       100\n",
            "          24       0.55      0.59      0.57       100\n",
            "          25       0.26      0.30      0.28       100\n",
            "          26       0.36      0.29      0.32       100\n",
            "          27       0.32      0.32      0.32       100\n",
            "          28       0.62      0.67      0.64       100\n",
            "          29       0.24      0.38      0.29       100\n",
            "          30       0.35      0.37      0.36       100\n",
            "          31       0.40      0.34      0.37       100\n",
            "          32       0.35      0.29      0.32       100\n",
            "          33       0.39      0.46      0.42       100\n",
            "          34       0.28      0.27      0.28       100\n",
            "          35       0.16      0.17      0.16       100\n",
            "          36       0.30      0.31      0.30       100\n",
            "          37       0.35      0.42      0.38       100\n",
            "          38       0.17      0.19      0.18       100\n",
            "          39       0.25      0.26      0.26       100\n",
            "          40       0.36      0.31      0.33       100\n",
            "          41       0.74      0.60      0.66       100\n",
            "          42       0.34      0.42      0.38       100\n",
            "          43       0.44      0.40      0.42       100\n",
            "          44       0.13      0.09      0.11       100\n",
            "          45       0.17      0.18      0.18       100\n",
            "          46       0.24      0.24      0.24       100\n",
            "          47       0.44      0.47      0.45       100\n",
            "          48       0.66      0.63      0.64       100\n",
            "          49       0.50      0.53      0.52       100\n",
            "          50       0.15      0.15      0.15       100\n",
            "          51       0.24      0.18      0.21       100\n",
            "          52       0.51      0.59      0.55       100\n",
            "          53       0.57      0.65      0.61       100\n",
            "          54       0.49      0.43      0.46       100\n",
            "          55       0.12      0.10      0.11       100\n",
            "          56       0.48      0.53      0.50       100\n",
            "          57       0.36      0.43      0.39       100\n",
            "          58       0.47      0.49      0.48       100\n",
            "          59       0.30      0.19      0.23       100\n",
            "          60       0.61      0.71      0.65       100\n",
            "          61       0.66      0.44      0.53       100\n",
            "          62       0.34      0.32      0.33       100\n",
            "          63       0.22      0.26      0.24       100\n",
            "          64       0.17      0.15      0.16       100\n",
            "          65       0.24      0.25      0.24       100\n",
            "          66       0.29      0.21      0.24       100\n",
            "          67       0.30      0.28      0.29       100\n",
            "          68       0.62      0.72      0.66       100\n",
            "          69       0.50      0.65      0.57       100\n",
            "          70       0.41      0.37      0.39       100\n",
            "          71       0.52      0.60      0.56       100\n",
            "          72       0.09      0.11      0.10       100\n",
            "          73       0.30      0.33      0.31       100\n",
            "          74       0.21      0.16      0.18       100\n",
            "          75       0.43      0.55      0.48       100\n",
            "          76       0.51      0.65      0.57       100\n",
            "          77       0.20      0.18      0.19       100\n",
            "          78       0.15      0.15      0.15       100\n",
            "          79       0.45      0.39      0.42       100\n",
            "          80       0.19      0.13      0.16       100\n",
            "          81       0.49      0.32      0.39       100\n",
            "          82       0.64      0.52      0.57       100\n",
            "          83       0.26      0.29      0.27       100\n",
            "          84       0.27      0.19      0.22       100\n",
            "          85       0.49      0.39      0.44       100\n",
            "          86       0.41      0.36      0.38       100\n",
            "          87       0.41      0.55      0.47       100\n",
            "          88       0.27      0.19      0.22       100\n",
            "          89       0.37      0.42      0.39       100\n",
            "          90       0.33      0.41      0.36       100\n",
            "          91       0.38      0.47      0.42       100\n",
            "          92       0.37      0.29      0.32       100\n",
            "          93       0.16      0.10      0.12       100\n",
            "          94       0.64      0.74      0.69       100\n",
            "          95       0.34      0.55      0.42       100\n",
            "          96       0.33      0.44      0.37       100\n",
            "          97       0.51      0.31      0.39       100\n",
            "          98       0.15      0.22      0.18       100\n",
            "          99       0.25      0.27      0.26       100\n",
            "\n",
            "    accuracy                           0.37     10000\n",
            "   macro avg       0.37      0.37      0.36     10000\n",
            "weighted avg       0.37      0.37      0.36     10000\n",
            "\n"
          ],
          "name": "stdout"
        }
      ]
    },
    {
      "cell_type": "code",
      "metadata": {
        "id": "Y2xfOgbT-hQ8"
      },
      "source": [
        ""
      ],
      "execution_count": null,
      "outputs": []
    },
    {
      "cell_type": "code",
      "metadata": {
        "id": "T4Smel9NqS1r"
      },
      "source": [
        "# model.load_weights(filepath=F\"/content/gdrive/My Drive/Checkpoints/InceptionV2_SGD_BatchNormalization.h5\")\n",
        "\n",
        "model.load_weights(\"InceptionV2_SGD_BatchNormalization.h5\")"
      ],
      "execution_count": 15,
      "outputs": []
    },
    {
      "cell_type": "code",
      "metadata": {
        "id": "b0XDBMyDq0d3",
        "outputId": "9968a464-1ba4-4d19-e1ee-d50e3733f225",
        "colab": {
          "base_uri": "https://localhost:8080/",
          "height": 54
        }
      },
      "source": [
        "result = model.evaluate(batch_size=128, x=x_test, y=y_test)\n",
        "dict(zip(model.metrics_names,result))"
      ],
      "execution_count": 16,
      "outputs": [
        {
          "output_type": "stream",
          "text": [
            "79/79 [==============================] - 1s 14ms/step - loss: 2.8572 - accuracy: 0.3667\n"
          ],
          "name": "stdout"
        },
        {
          "output_type": "execute_result",
          "data": {
            "text/plain": [
              "{'accuracy': 0.3666999936103821, 'loss': 2.8572497367858887}"
            ]
          },
          "metadata": {
            "tags": []
          },
          "execution_count": 16
        }
      ]
    },
    {
      "cell_type": "code",
      "metadata": {
        "id": "1L9dur_fSvns"
      },
      "source": [
        ""
      ],
      "execution_count": null,
      "outputs": []
    }
  ]
}