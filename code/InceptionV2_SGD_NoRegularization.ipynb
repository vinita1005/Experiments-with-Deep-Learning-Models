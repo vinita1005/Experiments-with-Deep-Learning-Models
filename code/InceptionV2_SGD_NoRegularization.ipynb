{
  "nbformat": 4,
  "nbformat_minor": 0,
  "metadata": {
    "colab": {
      "name": "InceptionV2_SGD_NoRegularization.ipynb",
      "provenance": [],
      "collapsed_sections": []
    },
    "kernelspec": {
      "name": "python3",
      "display_name": "Python 3"
    },
    "accelerator": "GPU"
  },
  "cells": [
    {
      "cell_type": "markdown",
      "metadata": {
        "id": "qe3UvwFPYKMT"
      },
      "source": [
        "## Load Data Set"
      ]
    },
    {
      "cell_type": "code",
      "metadata": {
        "id": "Su96RREPI5li",
        "outputId": "d164b805-33f2-4082-8e1d-d3844585dc02",
        "colab": {
          "base_uri": "https://localhost:8080/",
          "height": 35
        }
      },
      "source": [
        "from google.colab import drive\n",
        "drive.mount('/content/gdrive')"
      ],
      "execution_count": 1,
      "outputs": [
        {
          "output_type": "stream",
          "text": [
            "Mounted at /content/gdrive\n"
          ],
          "name": "stdout"
        }
      ]
    },
    {
      "cell_type": "code",
      "metadata": {
        "id": "ixBthpNWrKzY"
      },
      "source": [
        "from keras.datasets import cifar100\n",
        "from keras.utils import to_categorical\n",
        "import numpy as np\n",
        "import cv2\n",
        "import os\n",
        "from keras import backend as K"
      ],
      "execution_count": 2,
      "outputs": []
    },
    {
      "cell_type": "code",
      "metadata": {
        "id": "d14LEXbNqu68",
        "outputId": "f0f75bdd-5348-434d-f94f-1a7180ffd078",
        "colab": {
          "base_uri": "https://localhost:8080/",
          "height": 54
        }
      },
      "source": [
        "(x_train, y_train_), (x_test, y_test_) = cifar100.load_data()\n"
      ],
      "execution_count": 3,
      "outputs": [
        {
          "output_type": "stream",
          "text": [
            "Downloading data from https://www.cs.toronto.edu/~kriz/cifar-100-python.tar.gz\n",
            "169009152/169001437 [==============================] - 4s 0us/step\n"
          ],
          "name": "stdout"
        }
      ]
    },
    {
      "cell_type": "code",
      "metadata": {
        "id": "p4lTzEl8djyJ"
      },
      "source": [
        "x_train = x_train.astype('float32') / 255\n",
        "x_test = x_test.astype('float32') / 255"
      ],
      "execution_count": 4,
      "outputs": []
    },
    {
      "cell_type": "code",
      "metadata": {
        "id": "6h_PwVSJrWjf"
      },
      "source": [
        "y_train = to_categorical(y_train_)\n",
        "y_test = to_categorical(y_test_)"
      ],
      "execution_count": 5,
      "outputs": []
    },
    {
      "cell_type": "markdown",
      "metadata": {
        "id": "fsSOLpMSYEKL"
      },
      "source": [
        "## Inception V2 model"
      ]
    },
    {
      "cell_type": "code",
      "metadata": {
        "id": "DlX5MwqCoSEF"
      },
      "source": [
        "import keras\n",
        "from keras.models import Model\n",
        "from keras.layers import Dense, Activation, Dropout, Flatten, Reshape\n",
        "from keras.layers import Conv2D, Input\n",
        "from keras.layers import MaxPooling2D\n",
        "from keras.callbacks import EarlyStopping\n",
        "from keras.layers.merge import concatenate\n",
        "import os"
      ],
      "execution_count": 6,
      "outputs": []
    },
    {
      "cell_type": "code",
      "metadata": {
        "id": "RfDkIclipUCR"
      },
      "source": [
        "input_shape = (32, 32, 3)\n",
        "input = Input(shape=input_shape)"
      ],
      "execution_count": 7,
      "outputs": []
    },
    {
      "cell_type": "code",
      "metadata": {
        "id": "t1Cv1ygQ7Cwj"
      },
      "source": [
        "layer1_1 = Conv2D(64, (1, 1), activation='elu', padding='same')(input)\n",
        "layer1_2 = Conv2D(96, (1, 1), activation='elu', padding='same')(input)\n",
        "layer1_2 = Conv2D(128, (3, 3), activation='elu', padding='same')(layer1_2)\n",
        "layer1_3 = Conv2D(16, (1, 1), activation='elu', padding='same')(input)\n",
        "layer1_3 = Conv2D(32, (5, 5), activation='elu', padding='same')(layer1_3)\n",
        "layer1_4 = MaxPooling2D(pool_size=(3, 3), strides=(1, 1), padding='same', data_format='channels_last')(input)\n",
        "layer1_4 = Conv2D(32, (1, 1), activation='elu', padding='same')(layer1_4)\n",
        " \n",
        "concat = concatenate([layer1_1, layer1_2, layer1_3, layer1_4])"
      ],
      "execution_count": 8,
      "outputs": []
    },
    {
      "cell_type": "code",
      "metadata": {
        "id": "ZgqX4ij5wn7J"
      },
      "source": [
        "layer2_1 = Conv2D(64, (1, 1), activation='elu', padding='same')(concat)\n",
        "layer2_2 = Conv2D(96, (1, 1), activation='elu', padding='same')(concat)\n",
        "layer2_2 = Conv2D(128, (3, 3), activation='elu', padding='same')(layer2_2)\n",
        "layer2_3 = Conv2D(16, (1, 1), activation='elu', padding='same')(concat)\n",
        "layer2_3 = Conv2D(32, (5, 5), activation='elu', padding='same')(layer2_3)\n",
        "layer2_4 = MaxPooling2D(pool_size=(3, 3), strides=(1, 1), padding='same', data_format='channels_last')(concat)\n",
        "layer2_4 = Conv2D(32, (1, 1), activation='elu', padding='same')(layer2_4)\n",
        "\n",
        "concat2 = concatenate([layer2_1, layer2_2, layer2_3, layer2_4])"
      ],
      "execution_count": 9,
      "outputs": []
    },
    {
      "cell_type": "code",
      "metadata": {
        "id": "4RzN660c7naC"
      },
      "source": [
        "layer3_1 = Conv2D(64, (1, 1), activation='elu', padding='same')(concat2)\n",
        "layer3_2 = Conv2D(96, (1, 1), activation='elu', padding='same')(concat2)\n",
        "layer3_2 = Conv2D(128, (3, 3), activation='elu', padding='same')(layer3_2)\n",
        "layer3_3 = Conv2D(16, (1, 1), activation='elu', padding='same')(concat2)\n",
        "layer3_3 = Conv2D(32, (5, 5), activation='elu', padding='same')(layer3_3)\n",
        "layer3_4 = MaxPooling2D(pool_size=(3, 3), strides=(1, 1), padding='same', data_format='channels_last')(concat2)\n",
        "layer3_4 = Conv2D(32, (1, 1), activation='elu', padding='same')(layer3_4)\n",
        " \n",
        "concat3 = concatenate([layer3_1, layer3_2, layer3_3, layer3_4])"
      ],
      "execution_count": 10,
      "outputs": []
    },
    {
      "cell_type": "code",
      "metadata": {
        "id": "BqQohLdvpaGV",
        "outputId": "b182716b-eabd-4bde-c84d-55a39d121d74",
        "colab": {
          "base_uri": "https://localhost:8080/",
          "height": 1000
        }
      },
      "source": [
        "layer4_1 = Conv2D(64, (1, 1), activation='elu', padding='same')(concat3)\n",
        "layer4_2 = Conv2D(96, (1, 1), activation='elu', padding='same')(concat3)\n",
        "layer4_2 = Conv2D(128, (3, 3), activation='elu', padding='same')(layer4_2)\n",
        "layer4_3 = Conv2D(16, (1, 1), activation='elu', padding='same')(concat3)\n",
        "layer4_3 = Conv2D(32, (5, 5), activation='elu', padding='same')(layer4_3)\n",
        "layer4_4 = MaxPooling2D(pool_size=(3, 3), strides=(1, 1), padding='same', data_format='channels_last')(concat3)\n",
        "layer4_4 = Conv2D(32, (1, 1), activation='elu', padding='same')(layer4_4)\n",
        " \n",
        "concat4 = concatenate([layer4_1, layer4_2, layer4_3, layer4_4])\n",
        "\n",
        "output = Conv2D(8, (3, 3), activation='elu', padding='same')(concat4)\n",
        "output = MaxPooling2D(pool_size=(3, 3))(output)\n",
        "output = Flatten()(output)                 \n",
        "output = Dense(100, activation='softmax')(output) \n",
        "\n",
        "model = Model(inputs=input, outputs=output) \n",
        "model.summary()"
      ],
      "execution_count": 11,
      "outputs": [
        {
          "output_type": "stream",
          "text": [
            "Model: \"functional_1\"\n",
            "__________________________________________________________________________________________________\n",
            "Layer (type)                    Output Shape         Param #     Connected to                     \n",
            "==================================================================================================\n",
            "input_1 (InputLayer)            [(None, 32, 32, 3)]  0                                            \n",
            "__________________________________________________________________________________________________\n",
            "conv2d_1 (Conv2D)               (None, 32, 32, 96)   384         input_1[0][0]                    \n",
            "__________________________________________________________________________________________________\n",
            "conv2d_3 (Conv2D)               (None, 32, 32, 16)   64          input_1[0][0]                    \n",
            "__________________________________________________________________________________________________\n",
            "max_pooling2d (MaxPooling2D)    (None, 32, 32, 3)    0           input_1[0][0]                    \n",
            "__________________________________________________________________________________________________\n",
            "conv2d (Conv2D)                 (None, 32, 32, 64)   256         input_1[0][0]                    \n",
            "__________________________________________________________________________________________________\n",
            "conv2d_2 (Conv2D)               (None, 32, 32, 128)  110720      conv2d_1[0][0]                   \n",
            "__________________________________________________________________________________________________\n",
            "conv2d_4 (Conv2D)               (None, 32, 32, 32)   12832       conv2d_3[0][0]                   \n",
            "__________________________________________________________________________________________________\n",
            "conv2d_5 (Conv2D)               (None, 32, 32, 32)   128         max_pooling2d[0][0]              \n",
            "__________________________________________________________________________________________________\n",
            "concatenate (Concatenate)       (None, 32, 32, 256)  0           conv2d[0][0]                     \n",
            "                                                                 conv2d_2[0][0]                   \n",
            "                                                                 conv2d_4[0][0]                   \n",
            "                                                                 conv2d_5[0][0]                   \n",
            "__________________________________________________________________________________________________\n",
            "conv2d_7 (Conv2D)               (None, 32, 32, 96)   24672       concatenate[0][0]                \n",
            "__________________________________________________________________________________________________\n",
            "conv2d_9 (Conv2D)               (None, 32, 32, 16)   4112        concatenate[0][0]                \n",
            "__________________________________________________________________________________________________\n",
            "max_pooling2d_1 (MaxPooling2D)  (None, 32, 32, 256)  0           concatenate[0][0]                \n",
            "__________________________________________________________________________________________________\n",
            "conv2d_6 (Conv2D)               (None, 32, 32, 64)   16448       concatenate[0][0]                \n",
            "__________________________________________________________________________________________________\n",
            "conv2d_8 (Conv2D)               (None, 32, 32, 128)  110720      conv2d_7[0][0]                   \n",
            "__________________________________________________________________________________________________\n",
            "conv2d_10 (Conv2D)              (None, 32, 32, 32)   12832       conv2d_9[0][0]                   \n",
            "__________________________________________________________________________________________________\n",
            "conv2d_11 (Conv2D)              (None, 32, 32, 32)   8224        max_pooling2d_1[0][0]            \n",
            "__________________________________________________________________________________________________\n",
            "concatenate_1 (Concatenate)     (None, 32, 32, 256)  0           conv2d_6[0][0]                   \n",
            "                                                                 conv2d_8[0][0]                   \n",
            "                                                                 conv2d_10[0][0]                  \n",
            "                                                                 conv2d_11[0][0]                  \n",
            "__________________________________________________________________________________________________\n",
            "conv2d_13 (Conv2D)              (None, 32, 32, 96)   24672       concatenate_1[0][0]              \n",
            "__________________________________________________________________________________________________\n",
            "conv2d_15 (Conv2D)              (None, 32, 32, 16)   4112        concatenate_1[0][0]              \n",
            "__________________________________________________________________________________________________\n",
            "max_pooling2d_2 (MaxPooling2D)  (None, 32, 32, 256)  0           concatenate_1[0][0]              \n",
            "__________________________________________________________________________________________________\n",
            "conv2d_12 (Conv2D)              (None, 32, 32, 64)   16448       concatenate_1[0][0]              \n",
            "__________________________________________________________________________________________________\n",
            "conv2d_14 (Conv2D)              (None, 32, 32, 128)  110720      conv2d_13[0][0]                  \n",
            "__________________________________________________________________________________________________\n",
            "conv2d_16 (Conv2D)              (None, 32, 32, 32)   12832       conv2d_15[0][0]                  \n",
            "__________________________________________________________________________________________________\n",
            "conv2d_17 (Conv2D)              (None, 32, 32, 32)   8224        max_pooling2d_2[0][0]            \n",
            "__________________________________________________________________________________________________\n",
            "concatenate_2 (Concatenate)     (None, 32, 32, 256)  0           conv2d_12[0][0]                  \n",
            "                                                                 conv2d_14[0][0]                  \n",
            "                                                                 conv2d_16[0][0]                  \n",
            "                                                                 conv2d_17[0][0]                  \n",
            "__________________________________________________________________________________________________\n",
            "conv2d_19 (Conv2D)              (None, 32, 32, 96)   24672       concatenate_2[0][0]              \n",
            "__________________________________________________________________________________________________\n",
            "conv2d_21 (Conv2D)              (None, 32, 32, 16)   4112        concatenate_2[0][0]              \n",
            "__________________________________________________________________________________________________\n",
            "max_pooling2d_3 (MaxPooling2D)  (None, 32, 32, 256)  0           concatenate_2[0][0]              \n",
            "__________________________________________________________________________________________________\n",
            "conv2d_18 (Conv2D)              (None, 32, 32, 64)   16448       concatenate_2[0][0]              \n",
            "__________________________________________________________________________________________________\n",
            "conv2d_20 (Conv2D)              (None, 32, 32, 128)  110720      conv2d_19[0][0]                  \n",
            "__________________________________________________________________________________________________\n",
            "conv2d_22 (Conv2D)              (None, 32, 32, 32)   12832       conv2d_21[0][0]                  \n",
            "__________________________________________________________________________________________________\n",
            "conv2d_23 (Conv2D)              (None, 32, 32, 32)   8224        max_pooling2d_3[0][0]            \n",
            "__________________________________________________________________________________________________\n",
            "concatenate_3 (Concatenate)     (None, 32, 32, 256)  0           conv2d_18[0][0]                  \n",
            "                                                                 conv2d_20[0][0]                  \n",
            "                                                                 conv2d_22[0][0]                  \n",
            "                                                                 conv2d_23[0][0]                  \n",
            "__________________________________________________________________________________________________\n",
            "conv2d_24 (Conv2D)              (None, 32, 32, 8)    18440       concatenate_3[0][0]              \n",
            "__________________________________________________________________________________________________\n",
            "max_pooling2d_4 (MaxPooling2D)  (None, 10, 10, 8)    0           conv2d_24[0][0]                  \n",
            "__________________________________________________________________________________________________\n",
            "flatten (Flatten)               (None, 800)          0           max_pooling2d_4[0][0]            \n",
            "__________________________________________________________________________________________________\n",
            "dense (Dense)                   (None, 100)          80100       flatten[0][0]                    \n",
            "==================================================================================================\n",
            "Total params: 753,948\n",
            "Trainable params: 753,948\n",
            "Non-trainable params: 0\n",
            "__________________________________________________________________________________________________\n"
          ],
          "name": "stdout"
        }
      ]
    },
    {
      "cell_type": "code",
      "metadata": {
        "id": "wNXVRhvpsCwi"
      },
      "source": [
        "opt = keras.optimizers.SGD(learning_rate=0.001, clipnorm=5)\n",
        "model.compile(loss=keras.losses.categorical_crossentropy, optimizer=opt, metrics=[\"accuracy\"])"
      ],
      "execution_count": 12,
      "outputs": []
    },
    {
      "cell_type": "code",
      "metadata": {
        "id": "E6Hea7ZxrbKJ",
        "outputId": "9c73e818-a7f8-4964-d506-2417245a3474",
        "colab": {
          "base_uri": "https://localhost:8080/",
          "height": 1000
        }
      },
      "source": [
        "callback = EarlyStopping(monitor='val_loss', patience=20)\n",
        "history = model.fit(x_train, y_train, batch_size=128, epochs=100, verbose=1, validation_data=(x_test, y_test), callbacks=[callback])\n",
        "model.save_weights(filepath=F\"/content/gdrive/My Drive/Checkpoints/Inception_SGD_NoRegularization.h5\")"
      ],
      "execution_count": 13,
      "outputs": [
        {
          "output_type": "stream",
          "text": [
            "Epoch 1/100\n",
            "  2/391 [..............................] - ETA: 23s - loss: 4.7017 - accuracy: 0.0117WARNING:tensorflow:Callbacks method `on_train_batch_end` is slow compared to the batch time (batch time: 0.0478s vs `on_train_batch_end` time: 0.0723s). Check your callbacks.\n",
            "391/391 [==============================] - 50s 129ms/step - loss: 4.6006 - accuracy: 0.0116 - val_loss: 4.5906 - val_accuracy: 0.0121\n",
            "Epoch 2/100\n",
            "391/391 [==============================] - 50s 127ms/step - loss: 4.5807 - accuracy: 0.0149 - val_loss: 4.5732 - val_accuracy: 0.0190\n",
            "Epoch 3/100\n",
            "391/391 [==============================] - 50s 127ms/step - loss: 4.5605 - accuracy: 0.0190 - val_loss: 4.5504 - val_accuracy: 0.0217\n",
            "Epoch 4/100\n",
            "391/391 [==============================] - 49s 127ms/step - loss: 4.5330 - accuracy: 0.0226 - val_loss: 4.5213 - val_accuracy: 0.0273\n",
            "Epoch 5/100\n",
            "391/391 [==============================] - 49s 126ms/step - loss: 4.4995 - accuracy: 0.0266 - val_loss: 4.4896 - val_accuracy: 0.0278\n",
            "Epoch 6/100\n",
            "391/391 [==============================] - 50s 127ms/step - loss: 4.4649 - accuracy: 0.0284 - val_loss: 4.4546 - val_accuracy: 0.0314\n",
            "Epoch 7/100\n",
            "391/391 [==============================] - 49s 126ms/step - loss: 4.4320 - accuracy: 0.0307 - val_loss: 4.4231 - val_accuracy: 0.0322\n",
            "Epoch 8/100\n",
            "391/391 [==============================] - 49s 126ms/step - loss: 4.4007 - accuracy: 0.0331 - val_loss: 4.3941 - val_accuracy: 0.0339\n",
            "Epoch 9/100\n",
            "391/391 [==============================] - 49s 126ms/step - loss: 4.3705 - accuracy: 0.0366 - val_loss: 4.3651 - val_accuracy: 0.0365\n",
            "Epoch 10/100\n",
            "391/391 [==============================] - 49s 126ms/step - loss: 4.3405 - accuracy: 0.0417 - val_loss: 4.3332 - val_accuracy: 0.0423\n",
            "Epoch 11/100\n",
            "391/391 [==============================] - 49s 126ms/step - loss: 4.3092 - accuracy: 0.0467 - val_loss: 4.3014 - val_accuracy: 0.0454\n",
            "Epoch 12/100\n",
            "391/391 [==============================] - 49s 126ms/step - loss: 4.2765 - accuracy: 0.0514 - val_loss: 4.2682 - val_accuracy: 0.0526\n",
            "Epoch 13/100\n",
            "391/391 [==============================] - 49s 126ms/step - loss: 4.2406 - accuracy: 0.0564 - val_loss: 4.2326 - val_accuracy: 0.0570\n",
            "Epoch 14/100\n",
            "391/391 [==============================] - 49s 126ms/step - loss: 4.2030 - accuracy: 0.0620 - val_loss: 4.1968 - val_accuracy: 0.0605\n",
            "Epoch 15/100\n",
            "391/391 [==============================] - 49s 126ms/step - loss: 4.1633 - accuracy: 0.0686 - val_loss: 4.1558 - val_accuracy: 0.0690\n",
            "Epoch 16/100\n",
            "391/391 [==============================] - 49s 126ms/step - loss: 4.1234 - accuracy: 0.0756 - val_loss: 4.1128 - val_accuracy: 0.0768\n",
            "Epoch 17/100\n",
            "391/391 [==============================] - 49s 126ms/step - loss: 4.0830 - accuracy: 0.0830 - val_loss: 4.0753 - val_accuracy: 0.0813\n",
            "Epoch 18/100\n",
            "391/391 [==============================] - 49s 126ms/step - loss: 4.0431 - accuracy: 0.0900 - val_loss: 4.0387 - val_accuracy: 0.0911\n",
            "Epoch 19/100\n",
            "391/391 [==============================] - 49s 125ms/step - loss: 4.0047 - accuracy: 0.0971 - val_loss: 4.0011 - val_accuracy: 0.0979\n",
            "Epoch 20/100\n",
            "391/391 [==============================] - 49s 126ms/step - loss: 3.9683 - accuracy: 0.1021 - val_loss: 3.9669 - val_accuracy: 0.1029\n",
            "Epoch 21/100\n",
            "391/391 [==============================] - 49s 126ms/step - loss: 3.9315 - accuracy: 0.1101 - val_loss: 3.9381 - val_accuracy: 0.1090\n",
            "Epoch 22/100\n",
            "391/391 [==============================] - 49s 125ms/step - loss: 3.8977 - accuracy: 0.1155 - val_loss: 3.9036 - val_accuracy: 0.1164\n",
            "Epoch 23/100\n",
            "391/391 [==============================] - 49s 125ms/step - loss: 3.8645 - accuracy: 0.1210 - val_loss: 3.8706 - val_accuracy: 0.1234\n",
            "Epoch 24/100\n",
            "391/391 [==============================] - 49s 125ms/step - loss: 3.8322 - accuracy: 0.1271 - val_loss: 3.8520 - val_accuracy: 0.1237\n",
            "Epoch 25/100\n",
            "391/391 [==============================] - 49s 125ms/step - loss: 3.8018 - accuracy: 0.1311 - val_loss: 3.8158 - val_accuracy: 0.1294\n",
            "Epoch 26/100\n",
            "391/391 [==============================] - 49s 126ms/step - loss: 3.7738 - accuracy: 0.1365 - val_loss: 3.7833 - val_accuracy: 0.1378\n",
            "Epoch 27/100\n",
            "391/391 [==============================] - 49s 125ms/step - loss: 3.7463 - accuracy: 0.1408 - val_loss: 3.7554 - val_accuracy: 0.1428\n",
            "Epoch 28/100\n",
            "391/391 [==============================] - 49s 125ms/step - loss: 3.7205 - accuracy: 0.1457 - val_loss: 3.7526 - val_accuracy: 0.1432\n",
            "Epoch 29/100\n",
            "391/391 [==============================] - 49s 126ms/step - loss: 3.6954 - accuracy: 0.1506 - val_loss: 3.7154 - val_accuracy: 0.1488\n",
            "Epoch 30/100\n",
            "391/391 [==============================] - 49s 125ms/step - loss: 3.6718 - accuracy: 0.1532 - val_loss: 3.6925 - val_accuracy: 0.1544\n",
            "Epoch 31/100\n",
            "391/391 [==============================] - 49s 125ms/step - loss: 3.6507 - accuracy: 0.1581 - val_loss: 3.6696 - val_accuracy: 0.1573\n",
            "Epoch 32/100\n",
            "391/391 [==============================] - 49s 126ms/step - loss: 3.6290 - accuracy: 0.1606 - val_loss: 3.6588 - val_accuracy: 0.1565\n",
            "Epoch 33/100\n",
            "391/391 [==============================] - 49s 125ms/step - loss: 3.6075 - accuracy: 0.1644 - val_loss: 3.6271 - val_accuracy: 0.1627\n",
            "Epoch 34/100\n",
            "391/391 [==============================] - 49s 125ms/step - loss: 3.5873 - accuracy: 0.1676 - val_loss: 3.6179 - val_accuracy: 0.1649\n",
            "Epoch 35/100\n",
            "391/391 [==============================] - 49s 125ms/step - loss: 3.5687 - accuracy: 0.1715 - val_loss: 3.5892 - val_accuracy: 0.1719\n",
            "Epoch 36/100\n",
            "391/391 [==============================] - 49s 125ms/step - loss: 3.5495 - accuracy: 0.1756 - val_loss: 3.5828 - val_accuracy: 0.1716\n",
            "Epoch 37/100\n",
            "391/391 [==============================] - 49s 125ms/step - loss: 3.5329 - accuracy: 0.1780 - val_loss: 3.5643 - val_accuracy: 0.1766\n",
            "Epoch 38/100\n",
            "391/391 [==============================] - 49s 125ms/step - loss: 3.5143 - accuracy: 0.1802 - val_loss: 3.5389 - val_accuracy: 0.1811\n",
            "Epoch 39/100\n",
            "391/391 [==============================] - 49s 126ms/step - loss: 3.4962 - accuracy: 0.1838 - val_loss: 3.5402 - val_accuracy: 0.1801\n",
            "Epoch 40/100\n",
            "391/391 [==============================] - 49s 126ms/step - loss: 3.4816 - accuracy: 0.1865 - val_loss: 3.5267 - val_accuracy: 0.1823\n",
            "Epoch 41/100\n",
            "391/391 [==============================] - 49s 126ms/step - loss: 3.4657 - accuracy: 0.1896 - val_loss: 3.5207 - val_accuracy: 0.1875\n",
            "Epoch 42/100\n",
            "391/391 [==============================] - 49s 126ms/step - loss: 3.4491 - accuracy: 0.1920 - val_loss: 3.4844 - val_accuracy: 0.1919\n",
            "Epoch 43/100\n",
            "391/391 [==============================] - 49s 126ms/step - loss: 3.4338 - accuracy: 0.1946 - val_loss: 3.4843 - val_accuracy: 0.1906\n",
            "Epoch 44/100\n",
            "391/391 [==============================] - 49s 126ms/step - loss: 3.4198 - accuracy: 0.1971 - val_loss: 3.4659 - val_accuracy: 0.1968\n",
            "Epoch 45/100\n",
            "391/391 [==============================] - 49s 126ms/step - loss: 3.4045 - accuracy: 0.2013 - val_loss: 3.4540 - val_accuracy: 0.1960\n",
            "Epoch 46/100\n",
            "391/391 [==============================] - 49s 126ms/step - loss: 3.3910 - accuracy: 0.2034 - val_loss: 3.4297 - val_accuracy: 0.2029\n",
            "Epoch 47/100\n",
            "391/391 [==============================] - 49s 126ms/step - loss: 3.3772 - accuracy: 0.2055 - val_loss: 3.4438 - val_accuracy: 0.2006\n",
            "Epoch 48/100\n",
            "391/391 [==============================] - 49s 126ms/step - loss: 3.3632 - accuracy: 0.2078 - val_loss: 3.4122 - val_accuracy: 0.2063\n",
            "Epoch 49/100\n",
            "391/391 [==============================] - 49s 126ms/step - loss: 3.3504 - accuracy: 0.2105 - val_loss: 3.3970 - val_accuracy: 0.2082\n",
            "Epoch 50/100\n",
            "391/391 [==============================] - 49s 126ms/step - loss: 3.3373 - accuracy: 0.2126 - val_loss: 3.3838 - val_accuracy: 0.2137\n",
            "Epoch 51/100\n",
            "391/391 [==============================] - 49s 126ms/step - loss: 3.3248 - accuracy: 0.2151 - val_loss: 3.3768 - val_accuracy: 0.2124\n",
            "Epoch 52/100\n",
            "391/391 [==============================] - 49s 126ms/step - loss: 3.3134 - accuracy: 0.2165 - val_loss: 3.3661 - val_accuracy: 0.2146\n",
            "Epoch 53/100\n",
            "391/391 [==============================] - 49s 126ms/step - loss: 3.3010 - accuracy: 0.2191 - val_loss: 3.3947 - val_accuracy: 0.2090\n",
            "Epoch 54/100\n",
            "391/391 [==============================] - 49s 126ms/step - loss: 3.2896 - accuracy: 0.2210 - val_loss: 3.3424 - val_accuracy: 0.2220\n",
            "Epoch 55/100\n",
            "391/391 [==============================] - 49s 126ms/step - loss: 3.2793 - accuracy: 0.2228 - val_loss: 3.3336 - val_accuracy: 0.2197\n",
            "Epoch 56/100\n",
            "391/391 [==============================] - 49s 126ms/step - loss: 3.2686 - accuracy: 0.2253 - val_loss: 3.3530 - val_accuracy: 0.2158\n",
            "Epoch 57/100\n",
            "391/391 [==============================] - 49s 126ms/step - loss: 3.2567 - accuracy: 0.2279 - val_loss: 3.3166 - val_accuracy: 0.2249\n",
            "Epoch 58/100\n",
            "391/391 [==============================] - 49s 126ms/step - loss: 3.2449 - accuracy: 0.2308 - val_loss: 3.3284 - val_accuracy: 0.2234\n",
            "Epoch 59/100\n",
            "391/391 [==============================] - 49s 126ms/step - loss: 3.2359 - accuracy: 0.2309 - val_loss: 3.3088 - val_accuracy: 0.2221\n",
            "Epoch 60/100\n",
            "391/391 [==============================] - 49s 126ms/step - loss: 3.2251 - accuracy: 0.2347 - val_loss: 3.2849 - val_accuracy: 0.2297\n",
            "Epoch 61/100\n",
            "391/391 [==============================] - 49s 126ms/step - loss: 3.2164 - accuracy: 0.2363 - val_loss: 3.2979 - val_accuracy: 0.2287\n",
            "Epoch 62/100\n",
            "391/391 [==============================] - 49s 126ms/step - loss: 3.2051 - accuracy: 0.2378 - val_loss: 3.3285 - val_accuracy: 0.2247\n",
            "Epoch 63/100\n",
            "391/391 [==============================] - 49s 126ms/step - loss: 3.1963 - accuracy: 0.2400 - val_loss: 3.2581 - val_accuracy: 0.2362\n",
            "Epoch 64/100\n",
            "391/391 [==============================] - 49s 126ms/step - loss: 3.1875 - accuracy: 0.2411 - val_loss: 3.2536 - val_accuracy: 0.2377\n",
            "Epoch 65/100\n",
            "391/391 [==============================] - 49s 126ms/step - loss: 3.1783 - accuracy: 0.2423 - val_loss: 3.2523 - val_accuracy: 0.2360\n",
            "Epoch 66/100\n",
            "391/391 [==============================] - 49s 126ms/step - loss: 3.1689 - accuracy: 0.2442 - val_loss: 3.2434 - val_accuracy: 0.2395\n",
            "Epoch 67/100\n",
            "391/391 [==============================] - 49s 126ms/step - loss: 3.1618 - accuracy: 0.2448 - val_loss: 3.2279 - val_accuracy: 0.2415\n",
            "Epoch 68/100\n",
            "391/391 [==============================] - 49s 126ms/step - loss: 3.1523 - accuracy: 0.2483 - val_loss: 3.2247 - val_accuracy: 0.2435\n",
            "Epoch 69/100\n",
            "391/391 [==============================] - 49s 126ms/step - loss: 3.1423 - accuracy: 0.2492 - val_loss: 3.2181 - val_accuracy: 0.2438\n",
            "Epoch 70/100\n",
            "391/391 [==============================] - 49s 126ms/step - loss: 3.1342 - accuracy: 0.2495 - val_loss: 3.2070 - val_accuracy: 0.2476\n",
            "Epoch 71/100\n",
            "391/391 [==============================] - 49s 126ms/step - loss: 3.1257 - accuracy: 0.2528 - val_loss: 3.2090 - val_accuracy: 0.2450\n",
            "Epoch 72/100\n",
            "391/391 [==============================] - 49s 126ms/step - loss: 3.1175 - accuracy: 0.2530 - val_loss: 3.1985 - val_accuracy: 0.2462\n",
            "Epoch 73/100\n",
            "391/391 [==============================] - 49s 126ms/step - loss: 3.1084 - accuracy: 0.2559 - val_loss: 3.1885 - val_accuracy: 0.2493\n",
            "Epoch 74/100\n",
            "391/391 [==============================] - 49s 126ms/step - loss: 3.1007 - accuracy: 0.2570 - val_loss: 3.1865 - val_accuracy: 0.2452\n",
            "Epoch 75/100\n",
            "391/391 [==============================] - 49s 126ms/step - loss: 3.0932 - accuracy: 0.2582 - val_loss: 3.1815 - val_accuracy: 0.2494\n",
            "Epoch 76/100\n",
            "391/391 [==============================] - 49s 126ms/step - loss: 3.0866 - accuracy: 0.2602 - val_loss: 3.1722 - val_accuracy: 0.2518\n",
            "Epoch 77/100\n",
            "391/391 [==============================] - 49s 126ms/step - loss: 3.0785 - accuracy: 0.2605 - val_loss: 3.1579 - val_accuracy: 0.2536\n",
            "Epoch 78/100\n",
            "391/391 [==============================] - 49s 126ms/step - loss: 3.0697 - accuracy: 0.2629 - val_loss: 3.1562 - val_accuracy: 0.2557\n",
            "Epoch 79/100\n",
            "391/391 [==============================] - 49s 126ms/step - loss: 3.0631 - accuracy: 0.2636 - val_loss: 3.1487 - val_accuracy: 0.2558\n",
            "Epoch 80/100\n",
            "391/391 [==============================] - 49s 126ms/step - loss: 3.0568 - accuracy: 0.2661 - val_loss: 3.1390 - val_accuracy: 0.2570\n",
            "Epoch 81/100\n",
            "391/391 [==============================] - 49s 126ms/step - loss: 3.0465 - accuracy: 0.2686 - val_loss: 3.1409 - val_accuracy: 0.2569\n",
            "Epoch 82/100\n",
            "391/391 [==============================] - 49s 126ms/step - loss: 3.0394 - accuracy: 0.2694 - val_loss: 3.1447 - val_accuracy: 0.2549\n",
            "Epoch 83/100\n",
            "391/391 [==============================] - 49s 126ms/step - loss: 3.0341 - accuracy: 0.2694 - val_loss: 3.1254 - val_accuracy: 0.2605\n",
            "Epoch 84/100\n",
            "391/391 [==============================] - 49s 126ms/step - loss: 3.0265 - accuracy: 0.2708 - val_loss: 3.1157 - val_accuracy: 0.2634\n",
            "Epoch 85/100\n",
            "391/391 [==============================] - 49s 126ms/step - loss: 3.0192 - accuracy: 0.2716 - val_loss: 3.1157 - val_accuracy: 0.2588\n",
            "Epoch 86/100\n",
            "391/391 [==============================] - 49s 126ms/step - loss: 3.0107 - accuracy: 0.2747 - val_loss: 3.1146 - val_accuracy: 0.2597\n",
            "Epoch 87/100\n",
            "391/391 [==============================] - 49s 126ms/step - loss: 3.0044 - accuracy: 0.2757 - val_loss: 3.1169 - val_accuracy: 0.2612\n",
            "Epoch 88/100\n",
            "391/391 [==============================] - 49s 126ms/step - loss: 2.9979 - accuracy: 0.2756 - val_loss: 3.0968 - val_accuracy: 0.2655\n",
            "Epoch 89/100\n",
            "391/391 [==============================] - 50s 127ms/step - loss: 2.9919 - accuracy: 0.2769 - val_loss: 3.1002 - val_accuracy: 0.2641\n",
            "Epoch 90/100\n",
            "391/391 [==============================] - 50s 127ms/step - loss: 2.9847 - accuracy: 0.2805 - val_loss: 3.0897 - val_accuracy: 0.2656\n",
            "Epoch 91/100\n",
            "391/391 [==============================] - 49s 126ms/step - loss: 2.9776 - accuracy: 0.2796 - val_loss: 3.0841 - val_accuracy: 0.2674\n",
            "Epoch 92/100\n",
            "391/391 [==============================] - 49s 126ms/step - loss: 2.9705 - accuracy: 0.2811 - val_loss: 3.0807 - val_accuracy: 0.2697\n",
            "Epoch 93/100\n",
            "391/391 [==============================] - 49s 126ms/step - loss: 2.9656 - accuracy: 0.2827 - val_loss: 3.0736 - val_accuracy: 0.2687\n",
            "Epoch 94/100\n",
            "391/391 [==============================] - 49s 126ms/step - loss: 2.9575 - accuracy: 0.2821 - val_loss: 3.0696 - val_accuracy: 0.2687\n",
            "Epoch 95/100\n",
            "391/391 [==============================] - 49s 126ms/step - loss: 2.9513 - accuracy: 0.2853 - val_loss: 3.0593 - val_accuracy: 0.2698\n",
            "Epoch 96/100\n",
            "391/391 [==============================] - 49s 126ms/step - loss: 2.9448 - accuracy: 0.2874 - val_loss: 3.0544 - val_accuracy: 0.2697\n",
            "Epoch 97/100\n",
            "391/391 [==============================] - 49s 126ms/step - loss: 2.9396 - accuracy: 0.2872 - val_loss: 3.0542 - val_accuracy: 0.2715\n",
            "Epoch 98/100\n",
            "391/391 [==============================] - 49s 126ms/step - loss: 2.9321 - accuracy: 0.2898 - val_loss: 3.0474 - val_accuracy: 0.2738\n",
            "Epoch 99/100\n",
            "391/391 [==============================] - 49s 126ms/step - loss: 2.9260 - accuracy: 0.2900 - val_loss: 3.0391 - val_accuracy: 0.2734\n",
            "Epoch 100/100\n",
            "391/391 [==============================] - 49s 126ms/step - loss: 2.9191 - accuracy: 0.2919 - val_loss: 3.0314 - val_accuracy: 0.2764\n"
          ],
          "name": "stdout"
        }
      ]
    },
    {
      "cell_type": "markdown",
      "metadata": {
        "id": "PK9Ww8AJYaaM"
      },
      "source": [
        "## Test Metrics"
      ]
    },
    {
      "cell_type": "code",
      "metadata": {
        "id": "0RHXlG8fOxUN",
        "outputId": "bc61c11b-8d47-43e4-a50a-20881160ea5a",
        "colab": {
          "base_uri": "https://localhost:8080/",
          "height": 591
        }
      },
      "source": [
        "import matplotlib.pyplot as plt\n",
        "import matplotlib.pyplot as plt2\n",
        "\n",
        "history_dict = history.history\n",
        "print(history_dict.keys())\n",
        "loss_values = history_dict['loss']\n",
        "val_loss_values = history_dict['val_loss']\n",
        "train_acc = history_dict['accuracy']\n",
        "test_acc = history_dict['val_accuracy']\n",
        "\n",
        "epochs = range(1, len(history_dict['accuracy']) + 1)\n",
        "\n",
        "plt.plot(epochs, loss_values, 'bo', label='Training loss')\n",
        "plt.plot(epochs, val_loss_values, 'b', label='Validation loss')\n",
        "plt.title('Training and validation loss')\n",
        "plt.xlabel('Epochs')\n",
        "plt.ylabel('Loss')\n",
        "plt.legend()\n",
        "\n",
        "plt.show()\n",
        "\n",
        "\n",
        "plt2.plot(epochs, train_acc, 'b', label='Training Accuracy')\n",
        "plt2.plot(epochs, test_acc, color = 'red', label='Validation Accuracy')\n",
        "plt2.title('Training and validation accuracy')\n",
        "plt2.xlabel('Epochs')\n",
        "plt2.ylabel('Accuracy')\n",
        "plt2.legend()\n",
        "\n",
        "plt2.show()"
      ],
      "execution_count": 14,
      "outputs": [
        {
          "output_type": "stream",
          "text": [
            "dict_keys(['loss', 'accuracy', 'val_loss', 'val_accuracy'])\n"
          ],
          "name": "stdout"
        },
        {
          "output_type": "display_data",
          "data": {
            "image/png": "[encoded data removed]",
            "text/plain": [
              "<Figure size 432x288 with 1 Axes>"
            ]
          },
          "metadata": {
            "tags": [],
            "needs_background": "light"
          }
        },
        {
          "output_type": "display_data",
          "data": {
            "image/png": "[encoded data removed]",
            "text/plain": [
              "<Figure size 432x288 with 1 Axes>"
            ]
          },
          "metadata": {
            "tags": [],
            "needs_background": "light"
          }
        }
      ]
    },
    {
      "cell_type": "code",
      "metadata": {
        "id": "AfO0lHJIE0Gy",
        "outputId": "c716d70d-7cc8-4f23-cc4b-e7b2ba7b41a2",
        "colab": {
          "base_uri": "https://localhost:8080/",
          "height": 1000
        }
      },
      "source": [
        "y_pred = model.predict(x_test).argmax(-1)\n",
        "import sklearn.metrics as metrics\n",
        "print(metrics.classification_report(y_test.argmax(axis=1), y_pred))"
      ],
      "execution_count": 15,
      "outputs": [
        {
          "output_type": "stream",
          "text": [
            "              precision    recall  f1-score   support\n",
            "\n",
            "           0       0.50      0.62      0.56       100\n",
            "           1       0.36      0.33      0.35       100\n",
            "           2       0.19      0.11      0.14       100\n",
            "           3       0.13      0.09      0.11       100\n",
            "           4       0.07      0.08      0.07       100\n",
            "           5       0.18      0.22      0.20       100\n",
            "           6       0.33      0.27      0.30       100\n",
            "           7       0.25      0.25      0.25       100\n",
            "           8       0.25      0.32      0.28       100\n",
            "           9       0.47      0.36      0.41       100\n",
            "          10       0.19      0.10      0.13       100\n",
            "          11       0.23      0.09      0.13       100\n",
            "          12       0.25      0.24      0.24       100\n",
            "          13       0.24      0.22      0.23       100\n",
            "          14       0.15      0.13      0.14       100\n",
            "          15       0.17      0.14      0.15       100\n",
            "          16       0.33      0.16      0.22       100\n",
            "          17       0.37      0.50      0.43       100\n",
            "          18       0.30      0.34      0.32       100\n",
            "          19       0.22      0.23      0.23       100\n",
            "          20       0.47      0.57      0.51       100\n",
            "          21       0.35      0.52      0.42       100\n",
            "          22       0.27      0.20      0.23       100\n",
            "          23       0.50      0.48      0.49       100\n",
            "          24       0.37      0.52      0.43       100\n",
            "          25       0.24      0.18      0.21       100\n",
            "          26       0.25      0.17      0.20       100\n",
            "          27       0.14      0.17      0.15       100\n",
            "          28       0.42      0.52      0.46       100\n",
            "          29       0.25      0.17      0.20       100\n",
            "          30       0.31      0.40      0.35       100\n",
            "          31       0.18      0.26      0.21       100\n",
            "          32       0.31      0.21      0.25       100\n",
            "          33       0.23      0.32      0.27       100\n",
            "          34       0.19      0.17      0.18       100\n",
            "          35       0.16      0.10      0.12       100\n",
            "          36       0.22      0.25      0.23       100\n",
            "          37       0.22      0.23      0.23       100\n",
            "          38       0.07      0.09      0.08       100\n",
            "          39       0.15      0.15      0.15       100\n",
            "          40       0.36      0.23      0.28       100\n",
            "          41       0.57      0.51      0.54       100\n",
            "          42       0.14      0.30      0.19       100\n",
            "          43       0.20      0.39      0.26       100\n",
            "          44       0.15      0.10      0.12       100\n",
            "          45       0.13      0.11      0.12       100\n",
            "          46       0.18      0.15      0.16       100\n",
            "          47       0.46      0.31      0.37       100\n",
            "          48       0.50      0.65      0.57       100\n",
            "          49       0.30      0.32      0.31       100\n",
            "          50       0.05      0.02      0.03       100\n",
            "          51       0.21      0.23      0.22       100\n",
            "          52       0.50      0.61      0.55       100\n",
            "          53       0.39      0.54      0.45       100\n",
            "          54       0.37      0.35      0.36       100\n",
            "          55       0.11      0.06      0.08       100\n",
            "          56       0.32      0.34      0.33       100\n",
            "          57       0.28      0.28      0.28       100\n",
            "          58       0.31      0.33      0.32       100\n",
            "          59       0.18      0.22      0.20       100\n",
            "          60       0.59      0.61      0.60       100\n",
            "          61       0.24      0.24      0.24       100\n",
            "          62       0.39      0.36      0.37       100\n",
            "          63       0.17      0.27      0.21       100\n",
            "          64       0.07      0.05      0.06       100\n",
            "          65       0.16      0.12      0.14       100\n",
            "          66       0.22      0.28      0.25       100\n",
            "          67       0.33      0.32      0.32       100\n",
            "          68       0.47      0.55      0.50       100\n",
            "          69       0.43      0.53      0.48       100\n",
            "          70       0.41      0.27      0.33       100\n",
            "          71       0.52      0.54      0.53       100\n",
            "          72       0.08      0.04      0.05       100\n",
            "          73       0.32      0.31      0.32       100\n",
            "          74       0.12      0.12      0.12       100\n",
            "          75       0.36      0.59      0.45       100\n",
            "          76       0.52      0.52      0.52       100\n",
            "          77       0.10      0.05      0.07       100\n",
            "          78       0.07      0.05      0.06       100\n",
            "          79       0.26      0.29      0.27       100\n",
            "          80       0.06      0.06      0.06       100\n",
            "          81       0.24      0.19      0.21       100\n",
            "          82       0.51      0.63      0.57       100\n",
            "          83       0.19      0.14      0.16       100\n",
            "          84       0.13      0.09      0.11       100\n",
            "          85       0.32      0.42      0.36       100\n",
            "          86       0.27      0.34      0.30       100\n",
            "          87       0.29      0.27      0.28       100\n",
            "          88       0.16      0.20      0.18       100\n",
            "          89       0.30      0.36      0.33       100\n",
            "          90       0.24      0.21      0.23       100\n",
            "          91       0.26      0.29      0.27       100\n",
            "          92       0.28      0.18      0.22       100\n",
            "          93       0.16      0.11      0.13       100\n",
            "          94       0.33      0.52      0.40       100\n",
            "          95       0.30      0.31      0.30       100\n",
            "          96       0.23      0.31      0.27       100\n",
            "          97       0.16      0.25      0.19       100\n",
            "          98       0.08      0.04      0.05       100\n",
            "          99       0.32      0.08      0.13       100\n",
            "\n",
            "    accuracy                           0.28     10000\n",
            "   macro avg       0.27      0.28      0.27     10000\n",
            "weighted avg       0.27      0.28      0.27     10000\n",
            "\n"
          ],
          "name": "stdout"
        }
      ]
    },
    {
      "cell_type": "code",
      "metadata": {
        "id": "xKkQW9kvxH81"
      },
      "source": [
        ""
      ],
      "execution_count": null,
      "outputs": []
    },
    {
      "cell_type": "markdown",
      "metadata": {
        "id": "zoPSaOh3yj2y"
      },
      "source": [
        "## TESTS"
      ]
    },
    {
      "cell_type": "code",
      "metadata": {
        "id": "T4Smel9NqS1r"
      },
      "source": [
        "# model.load_weights(filepath=F\"/content/gdrive/My Drive/Checkpoints/Inception_SGD_NoRegularization.h5\")\n",
        "\n",
        "model.load_weights(\"Inception_SGD_NoRegularization.h5\")"
      ],
      "execution_count": 16,
      "outputs": []
    },
    {
      "cell_type": "code",
      "metadata": {
        "id": "b0XDBMyDq0d3",
        "outputId": "c6dfbc5a-c680-409e-fd8c-0c72c3cd0a98",
        "colab": {
          "base_uri": "https://localhost:8080/",
          "height": 54
        }
      },
      "source": [
        "result = model.evaluate(batch_size=128, x=x_test, y=y_test)\n",
        "dict(zip(model.metrics_names,result))"
      ],
      "execution_count": 17,
      "outputs": [
        {
          "output_type": "stream",
          "text": [
            "79/79 [==============================] - 3s 39ms/step - loss: 3.0314 - accuracy: 0.2764\n"
          ],
          "name": "stdout"
        },
        {
          "output_type": "execute_result",
          "data": {
            "text/plain": [
              "{'accuracy': 0.27639999985694885, 'loss': 3.031393527984619}"
            ]
          },
          "metadata": {
            "tags": []
          },
          "execution_count": 17
        }
      ]
    },
    {
      "cell_type": "code",
      "metadata": {
        "id": "X_-F37clOgO3"
      },
      "source": [
        ""
      ],
      "execution_count": null,
      "outputs": []
    }
  ]
}