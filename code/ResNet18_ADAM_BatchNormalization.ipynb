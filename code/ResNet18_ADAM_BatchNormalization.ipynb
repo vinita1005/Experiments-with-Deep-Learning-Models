{
  "nbformat": 4,
  "nbformat_minor": 0,
  "metadata": {
    "colab": {
      "name": "ResNet18_ADAM_BatchNormalization.ipynb",
      "provenance": [],
      "collapsed_sections": []
    },
    "kernelspec": {
      "name": "python3",
      "display_name": "Python 3"
    },
    "accelerator": "GPU"
  },
  "cells": [
    {
      "cell_type": "markdown",
      "metadata": {
        "id": "vh7P5M1mq6Y-"
      },
      "source": [
        "## Load DataSet"
      ]
    },
    {
      "cell_type": "code",
      "metadata": {
        "id": "AubeCh7dqp5j",
        "outputId": "0fcd7753-bd18-4a07-debf-10b0e35a953a",
        "colab": {
          "base_uri": "https://localhost:8080/",
          "height": 35
        }
      },
      "source": [
        "from google.colab import drive\n",
        "drive.mount('/content/gdrive')"
      ],
      "execution_count": 1,
      "outputs": [
        {
          "output_type": "stream",
          "text": [
            "Mounted at /content/gdrive\n"
          ],
          "name": "stdout"
        }
      ]
    },
    {
      "cell_type": "code",
      "metadata": {
        "id": "ixBthpNWrKzY"
      },
      "source": [
        "from keras.datasets import cifar100\n",
        "from keras.utils import to_categorical\n",
        "import numpy as np\n",
        "import cv2\n",
        "import os\n",
        "from keras import backend as K"
      ],
      "execution_count": 2,
      "outputs": []
    },
    {
      "cell_type": "code",
      "metadata": {
        "id": "d14LEXbNqu68",
        "outputId": "4d556e34-fada-4c29-e35d-86960712b85b",
        "colab": {
          "base_uri": "https://localhost:8080/",
          "height": 54
        }
      },
      "source": [
        "(x_train, y_train_), (x_test, y_test_) = cifar100.load_data()\n"
      ],
      "execution_count": 3,
      "outputs": [
        {
          "output_type": "stream",
          "text": [
            "Downloading data from https://www.cs.toronto.edu/~kriz/cifar-100-python.tar.gz\n",
            "169009152/169001437 [==============================] - 11s 0us/step\n"
          ],
          "name": "stdout"
        }
      ]
    },
    {
      "cell_type": "code",
      "metadata": {
        "id": "p4lTzEl8djyJ"
      },
      "source": [
        "x_train = x_train.astype('float32') / 255\n",
        "x_test = x_test.astype('float32') / 255"
      ],
      "execution_count": 4,
      "outputs": []
    },
    {
      "cell_type": "code",
      "metadata": {
        "id": "6h_PwVSJrWjf"
      },
      "source": [
        "y_train = to_categorical(y_train_)\n",
        "y_test = to_categorical(y_test_)"
      ],
      "execution_count": 5,
      "outputs": []
    },
    {
      "cell_type": "markdown",
      "metadata": {
        "id": "JNKd1ENdqz9c"
      },
      "source": [
        "## ResNet18 Model"
      ]
    },
    {
      "cell_type": "code",
      "metadata": {
        "id": "DlX5MwqCoSEF"
      },
      "source": [
        "import keras\n",
        "from keras.models import Model\n",
        "from keras.layers import Dense, Activation, Dropout, Flatten, Reshape\n",
        "from keras.layers import Conv2D, Input\n",
        "from keras.layers import MaxPooling2D, AveragePooling2D, BatchNormalization\n",
        "from keras.callbacks import EarlyStopping\n",
        "from keras.layers.merge import concatenate\n",
        "from keras.regularizers import l2\n",
        "import os"
      ],
      "execution_count": 6,
      "outputs": []
    },
    {
      "cell_type": "code",
      "metadata": {
        "id": "RfDkIclipUCR"
      },
      "source": [
        "input_shape = (32, 32, 3)\n",
        "input = Input(shape=input_shape)\n",
        "x = Conv2D(kernel_size=3, filters=16, strides=1, padding='same', kernel_regularizer=l2(1e-4))(input)\n",
        "x = BatchNormalization()(x)\n",
        "x = Activation('elu')(x)"
      ],
      "execution_count": 7,
      "outputs": []
    },
    {
      "cell_type": "code",
      "metadata": {
        "id": "WBA3W_AW9Yr0"
      },
      "source": [
        "#Stack 1\n",
        "for block in range(2):\n",
        "  y = BatchNormalization()(x)\n",
        "  y = Activation('elu')(y)\n",
        "  y = Conv2D(kernel_size=3, filters=16, strides=1, padding='same', kernel_initializer='he_normal', kernel_regularizer=l2(1e-4))(y)\n",
        "  \n",
        "  y = BatchNormalization()(x)\n",
        "  y = Activation('elu')(y)\n",
        "  y = Conv2D(kernel_size=3, filters=16, strides=1, padding='same', kernel_regularizer=l2(1e-4))(y)\n",
        "\n",
        "  x = keras.layers.add([y, x])\n",
        "  x = Activation('elu')(x)\n",
        "\n",
        "#Stack 2\n",
        "for block in range(2):\n",
        "  y = BatchNormalization()(x)\n",
        "  y = Activation('elu')(y)\n",
        "  y = Conv2D(kernel_size=3, filters=32, strides=1, padding='same', kernel_initializer='he_normal', kernel_regularizer=l2(1e-4))(y)\n",
        "  \n",
        "  y = BatchNormalization()(x)\n",
        "  y = Activation('elu')(y)\n",
        "  y = Conv2D(kernel_size=3, filters=32, strides=1, padding='same', kernel_regularizer=l2(1e-4))(y)\n",
        "  if block == 0:\n",
        "    x_2 = Conv2D(kernel_size=1, filters=32, strides=1, padding='same')(x)\n",
        "  else:\n",
        "    x_2 = x\n",
        "  x = keras.layers.add([y, x_2])\n",
        "  x = Activation('elu')(x)\n",
        "\n",
        "#Stack 3\n",
        "for block in range(2):\n",
        "  y = BatchNormalization()(x)\n",
        "  y = Activation('elu')(y)\n",
        "  y = Conv2D(kernel_size=3, filters=64, strides=1, padding='same', kernel_initializer='he_normal', kernel_regularizer=l2(1e-4))(y)\n",
        "  \n",
        "  y = BatchNormalization()(x)\n",
        "  y = Activation('elu')(y)\n",
        "  y = Conv2D(kernel_size=3, filters=64, strides=1, padding='same', kernel_regularizer=l2(1e-4))(y)\n",
        "  if block == 0:\n",
        "    x_2 = Conv2D(kernel_size=1, filters=64, strides=1, padding='same')(x)\n",
        "  else:\n",
        "    x_2 = x\n",
        "  x = keras.layers.add([y, x_2])\n",
        "  x = Activation('elu')(x)\n",
        "\n",
        "#Stack 4\n",
        "for block in range(2):\n",
        "  y = BatchNormalization()(x)\n",
        "  y = Activation('elu')(y)\n",
        "  y = Conv2D(kernel_size=3, filters=128, strides=1, padding='same', kernel_initializer='he_normal', kernel_regularizer=l2(1e-4))(y)\n",
        "  \n",
        "  y = BatchNormalization()(x)\n",
        "  y = Activation('elu')(y)\n",
        "  y = Conv2D(kernel_size=3, filters=128, strides=1, padding='same', kernel_regularizer=l2(1e-4))(y)\n",
        "  if block == 0:\n",
        "    x_2 = Conv2D(kernel_size=1, filters=128, strides=1, padding='same')(x)\n",
        "  else:\n",
        "    x_2 = x\n",
        "  x = keras.layers.add([y, x_2])\n",
        "  x = Activation('elu')(x)"
      ],
      "execution_count": 8,
      "outputs": []
    },
    {
      "cell_type": "code",
      "metadata": {
        "id": "tVSQG--VVdUI"
      },
      "source": [
        "x = BatchNormalization()(x)\n",
        "x = Activation('elu')(x)\n",
        "x = AveragePooling2D(pool_size=8)(x)\n",
        "output = Flatten()(x)\n",
        "output = Dense(100, activation='softmax', kernel_initializer='he_normal')(output)"
      ],
      "execution_count": 9,
      "outputs": []
    },
    {
      "cell_type": "code",
      "metadata": {
        "id": "DSj5_am_WJaS",
        "outputId": "740479d5-d81e-4f3c-9b70-03e25278079c",
        "colab": {
          "base_uri": "https://localhost:8080/",
          "height": 1000
        }
      },
      "source": [
        "model = Model(inputs=input, outputs=output)\n",
        "model.summary()"
      ],
      "execution_count": 10,
      "outputs": [
        {
          "output_type": "stream",
          "text": [
            "Model: \"functional_1\"\n",
            "__________________________________________________________________________________________________\n",
            "Layer (type)                    Output Shape         Param #     Connected to                     \n",
            "==================================================================================================\n",
            "input_1 (InputLayer)            [(None, 32, 32, 3)]  0                                            \n",
            "__________________________________________________________________________________________________\n",
            "conv2d (Conv2D)                 (None, 32, 32, 16)   448         input_1[0][0]                    \n",
            "__________________________________________________________________________________________________\n",
            "batch_normalization (BatchNorma (None, 32, 32, 16)   64          conv2d[0][0]                     \n",
            "__________________________________________________________________________________________________\n",
            "activation (Activation)         (None, 32, 32, 16)   0           batch_normalization[0][0]        \n",
            "__________________________________________________________________________________________________\n",
            "batch_normalization_2 (BatchNor (None, 32, 32, 16)   64          activation[0][0]                 \n",
            "__________________________________________________________________________________________________\n",
            "activation_2 (Activation)       (None, 32, 32, 16)   0           batch_normalization_2[0][0]      \n",
            "__________________________________________________________________________________________________\n",
            "conv2d_2 (Conv2D)               (None, 32, 32, 16)   2320        activation_2[0][0]               \n",
            "__________________________________________________________________________________________________\n",
            "add (Add)                       (None, 32, 32, 16)   0           conv2d_2[0][0]                   \n",
            "                                                                 activation[0][0]                 \n",
            "__________________________________________________________________________________________________\n",
            "activation_3 (Activation)       (None, 32, 32, 16)   0           add[0][0]                        \n",
            "__________________________________________________________________________________________________\n",
            "batch_normalization_4 (BatchNor (None, 32, 32, 16)   64          activation_3[0][0]               \n",
            "__________________________________________________________________________________________________\n",
            "activation_5 (Activation)       (None, 32, 32, 16)   0           batch_normalization_4[0][0]      \n",
            "__________________________________________________________________________________________________\n",
            "conv2d_4 (Conv2D)               (None, 32, 32, 16)   2320        activation_5[0][0]               \n",
            "__________________________________________________________________________________________________\n",
            "add_1 (Add)                     (None, 32, 32, 16)   0           conv2d_4[0][0]                   \n",
            "                                                                 activation_3[0][0]               \n",
            "__________________________________________________________________________________________________\n",
            "activation_6 (Activation)       (None, 32, 32, 16)   0           add_1[0][0]                      \n",
            "__________________________________________________________________________________________________\n",
            "batch_normalization_6 (BatchNor (None, 32, 32, 16)   64          activation_6[0][0]               \n",
            "__________________________________________________________________________________________________\n",
            "activation_8 (Activation)       (None, 32, 32, 16)   0           batch_normalization_6[0][0]      \n",
            "__________________________________________________________________________________________________\n",
            "conv2d_6 (Conv2D)               (None, 32, 32, 32)   4640        activation_8[0][0]               \n",
            "__________________________________________________________________________________________________\n",
            "conv2d_7 (Conv2D)               (None, 32, 32, 32)   544         activation_6[0][0]               \n",
            "__________________________________________________________________________________________________\n",
            "add_2 (Add)                     (None, 32, 32, 32)   0           conv2d_6[0][0]                   \n",
            "                                                                 conv2d_7[0][0]                   \n",
            "__________________________________________________________________________________________________\n",
            "activation_9 (Activation)       (None, 32, 32, 32)   0           add_2[0][0]                      \n",
            "__________________________________________________________________________________________________\n",
            "batch_normalization_8 (BatchNor (None, 32, 32, 32)   128         activation_9[0][0]               \n",
            "__________________________________________________________________________________________________\n",
            "activation_11 (Activation)      (None, 32, 32, 32)   0           batch_normalization_8[0][0]      \n",
            "__________________________________________________________________________________________________\n",
            "conv2d_9 (Conv2D)               (None, 32, 32, 32)   9248        activation_11[0][0]              \n",
            "__________________________________________________________________________________________________\n",
            "add_3 (Add)                     (None, 32, 32, 32)   0           conv2d_9[0][0]                   \n",
            "                                                                 activation_9[0][0]               \n",
            "__________________________________________________________________________________________________\n",
            "activation_12 (Activation)      (None, 32, 32, 32)   0           add_3[0][0]                      \n",
            "__________________________________________________________________________________________________\n",
            "batch_normalization_10 (BatchNo (None, 32, 32, 32)   128         activation_12[0][0]              \n",
            "__________________________________________________________________________________________________\n",
            "activation_14 (Activation)      (None, 32, 32, 32)   0           batch_normalization_10[0][0]     \n",
            "__________________________________________________________________________________________________\n",
            "conv2d_11 (Conv2D)              (None, 32, 32, 64)   18496       activation_14[0][0]              \n",
            "__________________________________________________________________________________________________\n",
            "conv2d_12 (Conv2D)              (None, 32, 32, 64)   2112        activation_12[0][0]              \n",
            "__________________________________________________________________________________________________\n",
            "add_4 (Add)                     (None, 32, 32, 64)   0           conv2d_11[0][0]                  \n",
            "                                                                 conv2d_12[0][0]                  \n",
            "__________________________________________________________________________________________________\n",
            "activation_15 (Activation)      (None, 32, 32, 64)   0           add_4[0][0]                      \n",
            "__________________________________________________________________________________________________\n",
            "batch_normalization_12 (BatchNo (None, 32, 32, 64)   256         activation_15[0][0]              \n",
            "__________________________________________________________________________________________________\n",
            "activation_17 (Activation)      (None, 32, 32, 64)   0           batch_normalization_12[0][0]     \n",
            "__________________________________________________________________________________________________\n",
            "conv2d_14 (Conv2D)              (None, 32, 32, 64)   36928       activation_17[0][0]              \n",
            "__________________________________________________________________________________________________\n",
            "add_5 (Add)                     (None, 32, 32, 64)   0           conv2d_14[0][0]                  \n",
            "                                                                 activation_15[0][0]              \n",
            "__________________________________________________________________________________________________\n",
            "activation_18 (Activation)      (None, 32, 32, 64)   0           add_5[0][0]                      \n",
            "__________________________________________________________________________________________________\n",
            "batch_normalization_14 (BatchNo (None, 32, 32, 64)   256         activation_18[0][0]              \n",
            "__________________________________________________________________________________________________\n",
            "activation_20 (Activation)      (None, 32, 32, 64)   0           batch_normalization_14[0][0]     \n",
            "__________________________________________________________________________________________________\n",
            "conv2d_16 (Conv2D)              (None, 32, 32, 128)  73856       activation_20[0][0]              \n",
            "__________________________________________________________________________________________________\n",
            "conv2d_17 (Conv2D)              (None, 32, 32, 128)  8320        activation_18[0][0]              \n",
            "__________________________________________________________________________________________________\n",
            "add_6 (Add)                     (None, 32, 32, 128)  0           conv2d_16[0][0]                  \n",
            "                                                                 conv2d_17[0][0]                  \n",
            "__________________________________________________________________________________________________\n",
            "activation_21 (Activation)      (None, 32, 32, 128)  0           add_6[0][0]                      \n",
            "__________________________________________________________________________________________________\n",
            "batch_normalization_16 (BatchNo (None, 32, 32, 128)  512         activation_21[0][0]              \n",
            "__________________________________________________________________________________________________\n",
            "activation_23 (Activation)      (None, 32, 32, 128)  0           batch_normalization_16[0][0]     \n",
            "__________________________________________________________________________________________________\n",
            "conv2d_19 (Conv2D)              (None, 32, 32, 128)  147584      activation_23[0][0]              \n",
            "__________________________________________________________________________________________________\n",
            "add_7 (Add)                     (None, 32, 32, 128)  0           conv2d_19[0][0]                  \n",
            "                                                                 activation_21[0][0]              \n",
            "__________________________________________________________________________________________________\n",
            "activation_24 (Activation)      (None, 32, 32, 128)  0           add_7[0][0]                      \n",
            "__________________________________________________________________________________________________\n",
            "batch_normalization_17 (BatchNo (None, 32, 32, 128)  512         activation_24[0][0]              \n",
            "__________________________________________________________________________________________________\n",
            "activation_25 (Activation)      (None, 32, 32, 128)  0           batch_normalization_17[0][0]     \n",
            "__________________________________________________________________________________________________\n",
            "average_pooling2d (AveragePooli (None, 4, 4, 128)    0           activation_25[0][0]              \n",
            "__________________________________________________________________________________________________\n",
            "flatten (Flatten)               (None, 2048)         0           average_pooling2d[0][0]          \n",
            "__________________________________________________________________________________________________\n",
            "dense (Dense)                   (None, 100)          204900      flatten[0][0]                    \n",
            "==================================================================================================\n",
            "Total params: 513,764\n",
            "Trainable params: 512,740\n",
            "Non-trainable params: 1,024\n",
            "__________________________________________________________________________________________________\n"
          ],
          "name": "stdout"
        }
      ]
    },
    {
      "cell_type": "code",
      "metadata": {
        "id": "LaQF3uMDWQQh",
        "outputId": "c5180315-df1b-4091-d468-ddb6da9d31d3",
        "colab": {
          "base_uri": "https://localhost:8080/",
          "height": 1000
        }
      },
      "source": [
        "opt = keras.optimizers.Adam(learning_rate=0.0001, clipnorm=5)\n",
        "model.compile(loss=keras.losses.categorical_crossentropy, optimizer=opt, metrics=[\"accuracy\"])\n",
        "callback = EarlyStopping(monitor='val_loss', patience=20)\n",
        "history = model.fit(x_train, y_train, batch_size=128, epochs=200, verbose=1, validation_data=(x_test, y_test), callbacks=[callback])"
      ],
      "execution_count": 11,
      "outputs": [
        {
          "output_type": "stream",
          "text": [
            "Epoch 1/200\n",
            "391/391 [==============================] - 13s 34ms/step - loss: 3.7744 - accuracy: 0.1496 - val_loss: 3.9117 - val_accuracy: 0.1218\n",
            "Epoch 2/200\n",
            "391/391 [==============================] - 13s 32ms/step - loss: 3.1385 - accuracy: 0.2600 - val_loss: 3.0390 - val_accuracy: 0.2773\n",
            "Epoch 3/200\n",
            "391/391 [==============================] - 13s 32ms/step - loss: 2.8313 - accuracy: 0.3159 - val_loss: 2.7932 - val_accuracy: 0.3284\n",
            "Epoch 4/200\n",
            "391/391 [==============================] - 13s 32ms/step - loss: 2.6160 - accuracy: 0.3579 - val_loss: 2.6434 - val_accuracy: 0.3531\n",
            "Epoch 5/200\n",
            "391/391 [==============================] - 13s 32ms/step - loss: 2.4528 - accuracy: 0.3946 - val_loss: 2.5279 - val_accuracy: 0.3800\n",
            "Epoch 6/200\n",
            "391/391 [==============================] - 13s 32ms/step - loss: 2.3238 - accuracy: 0.4215 - val_loss: 2.4396 - val_accuracy: 0.3951\n",
            "Epoch 7/200\n",
            "391/391 [==============================] - 13s 32ms/step - loss: 2.2180 - accuracy: 0.4445 - val_loss: 2.3615 - val_accuracy: 0.4112\n",
            "Epoch 8/200\n",
            "391/391 [==============================] - 13s 32ms/step - loss: 2.1236 - accuracy: 0.4665 - val_loss: 2.3133 - val_accuracy: 0.4196\n",
            "Epoch 9/200\n",
            "391/391 [==============================] - 13s 32ms/step - loss: 2.0417 - accuracy: 0.4862 - val_loss: 2.2577 - val_accuracy: 0.4354\n",
            "Epoch 10/200\n",
            "391/391 [==============================] - 13s 32ms/step - loss: 1.9688 - accuracy: 0.5013 - val_loss: 2.2036 - val_accuracy: 0.4449\n",
            "Epoch 11/200\n",
            "391/391 [==============================] - 13s 32ms/step - loss: 1.8976 - accuracy: 0.5176 - val_loss: 2.1787 - val_accuracy: 0.4508\n",
            "Epoch 12/200\n",
            "391/391 [==============================] - 13s 32ms/step - loss: 1.8336 - accuracy: 0.5337 - val_loss: 2.1266 - val_accuracy: 0.4649\n",
            "Epoch 13/200\n",
            "391/391 [==============================] - 13s 32ms/step - loss: 1.7729 - accuracy: 0.5478 - val_loss: 2.1025 - val_accuracy: 0.4681\n",
            "Epoch 14/200\n",
            "391/391 [==============================] - 13s 33ms/step - loss: 1.7160 - accuracy: 0.5613 - val_loss: 2.0571 - val_accuracy: 0.4786\n",
            "Epoch 15/200\n",
            "391/391 [==============================] - 13s 32ms/step - loss: 1.6608 - accuracy: 0.5749 - val_loss: 2.0575 - val_accuracy: 0.4804\n",
            "Epoch 16/200\n",
            "391/391 [==============================] - 13s 32ms/step - loss: 1.6102 - accuracy: 0.5878 - val_loss: 2.0304 - val_accuracy: 0.4822\n",
            "Epoch 17/200\n",
            "391/391 [==============================] - 13s 32ms/step - loss: 1.5606 - accuracy: 0.5991 - val_loss: 2.0390 - val_accuracy: 0.4850\n",
            "Epoch 18/200\n",
            "391/391 [==============================] - 13s 32ms/step - loss: 1.5100 - accuracy: 0.6130 - val_loss: 2.0066 - val_accuracy: 0.4901\n",
            "Epoch 19/200\n",
            "391/391 [==============================] - 13s 32ms/step - loss: 1.4652 - accuracy: 0.6254 - val_loss: 1.9926 - val_accuracy: 0.4949\n",
            "Epoch 20/200\n",
            "391/391 [==============================] - 13s 32ms/step - loss: 1.4210 - accuracy: 0.6365 - val_loss: 1.9729 - val_accuracy: 0.4950\n",
            "Epoch 21/200\n",
            "391/391 [==============================] - 13s 32ms/step - loss: 1.3788 - accuracy: 0.6476 - val_loss: 1.9717 - val_accuracy: 0.4972\n",
            "Epoch 22/200\n",
            "391/391 [==============================] - 13s 32ms/step - loss: 1.3378 - accuracy: 0.6585 - val_loss: 1.9358 - val_accuracy: 0.5083\n",
            "Epoch 23/200\n",
            "391/391 [==============================] - 13s 32ms/step - loss: 1.2986 - accuracy: 0.6700 - val_loss: 1.9405 - val_accuracy: 0.5074\n",
            "Epoch 24/200\n",
            "391/391 [==============================] - 13s 32ms/step - loss: 1.2566 - accuracy: 0.6798 - val_loss: 1.9494 - val_accuracy: 0.5090\n",
            "Epoch 25/200\n",
            "391/391 [==============================] - 13s 32ms/step - loss: 1.2191 - accuracy: 0.6880 - val_loss: 1.9354 - val_accuracy: 0.5070\n",
            "Epoch 26/200\n",
            "391/391 [==============================] - 13s 32ms/step - loss: 1.1820 - accuracy: 0.7012 - val_loss: 1.9412 - val_accuracy: 0.5135\n",
            "Epoch 27/200\n",
            "391/391 [==============================] - 13s 32ms/step - loss: 1.1453 - accuracy: 0.7125 - val_loss: 1.9271 - val_accuracy: 0.5151\n",
            "Epoch 28/200\n",
            "391/391 [==============================] - 13s 32ms/step - loss: 1.1082 - accuracy: 0.7202 - val_loss: 1.9308 - val_accuracy: 0.5175\n",
            "Epoch 29/200\n",
            "391/391 [==============================] - 13s 32ms/step - loss: 1.0732 - accuracy: 0.7324 - val_loss: 1.9183 - val_accuracy: 0.5136\n",
            "Epoch 30/200\n",
            "391/391 [==============================] - 13s 32ms/step - loss: 1.0385 - accuracy: 0.7419 - val_loss: 1.9211 - val_accuracy: 0.5194\n",
            "Epoch 31/200\n",
            "391/391 [==============================] - 13s 32ms/step - loss: 1.0057 - accuracy: 0.7515 - val_loss: 1.9159 - val_accuracy: 0.5211\n",
            "Epoch 32/200\n",
            "391/391 [==============================] - 13s 32ms/step - loss: 0.9732 - accuracy: 0.7594 - val_loss: 1.9267 - val_accuracy: 0.5169\n",
            "Epoch 33/200\n",
            "391/391 [==============================] - 13s 32ms/step - loss: 0.9395 - accuracy: 0.7683 - val_loss: 1.9242 - val_accuracy: 0.5207\n",
            "Epoch 34/200\n",
            "391/391 [==============================] - 13s 32ms/step - loss: 0.9093 - accuracy: 0.7783 - val_loss: 1.9271 - val_accuracy: 0.5193\n",
            "Epoch 35/200\n",
            "391/391 [==============================] - 13s 32ms/step - loss: 0.8806 - accuracy: 0.7861 - val_loss: 1.9400 - val_accuracy: 0.5185\n",
            "Epoch 36/200\n",
            "391/391 [==============================] - 13s 32ms/step - loss: 0.8476 - accuracy: 0.7964 - val_loss: 1.9423 - val_accuracy: 0.5175\n",
            "Epoch 37/200\n",
            "391/391 [==============================] - 13s 32ms/step - loss: 0.8195 - accuracy: 0.8055 - val_loss: 1.9591 - val_accuracy: 0.5210\n",
            "Epoch 38/200\n",
            "391/391 [==============================] - 13s 32ms/step - loss: 0.7886 - accuracy: 0.8149 - val_loss: 1.9532 - val_accuracy: 0.5196\n",
            "Epoch 39/200\n",
            "391/391 [==============================] - 13s 33ms/step - loss: 0.7600 - accuracy: 0.8222 - val_loss: 1.9540 - val_accuracy: 0.5196\n",
            "Epoch 40/200\n",
            "391/391 [==============================] - 13s 32ms/step - loss: 0.7304 - accuracy: 0.8325 - val_loss: 1.9772 - val_accuracy: 0.5189\n",
            "Epoch 41/200\n",
            "391/391 [==============================] - 13s 32ms/step - loss: 0.7043 - accuracy: 0.8406 - val_loss: 1.9770 - val_accuracy: 0.5170\n",
            "Epoch 42/200\n",
            "391/391 [==============================] - 13s 32ms/step - loss: 0.6782 - accuracy: 0.8472 - val_loss: 2.0059 - val_accuracy: 0.5164\n",
            "Epoch 43/200\n",
            "391/391 [==============================] - 13s 32ms/step - loss: 0.6506 - accuracy: 0.8570 - val_loss: 1.9969 - val_accuracy: 0.5209\n",
            "Epoch 44/200\n",
            "391/391 [==============================] - 13s 32ms/step - loss: 0.6258 - accuracy: 0.8661 - val_loss: 2.0378 - val_accuracy: 0.5160\n",
            "Epoch 45/200\n",
            "391/391 [==============================] - 13s 32ms/step - loss: 0.6018 - accuracy: 0.8725 - val_loss: 2.0364 - val_accuracy: 0.5209\n",
            "Epoch 46/200\n",
            "391/391 [==============================] - 13s 32ms/step - loss: 0.5783 - accuracy: 0.8798 - val_loss: 2.0518 - val_accuracy: 0.5091\n",
            "Epoch 47/200\n",
            "391/391 [==============================] - 13s 32ms/step - loss: 0.5542 - accuracy: 0.8871 - val_loss: 2.0692 - val_accuracy: 0.5157\n",
            "Epoch 48/200\n",
            "391/391 [==============================] - 13s 32ms/step - loss: 0.5314 - accuracy: 0.8939 - val_loss: 2.0505 - val_accuracy: 0.5186\n",
            "Epoch 49/200\n",
            "391/391 [==============================] - 13s 32ms/step - loss: 0.5077 - accuracy: 0.9009 - val_loss: 2.0681 - val_accuracy: 0.5181\n",
            "Epoch 50/200\n",
            "391/391 [==============================] - 13s 32ms/step - loss: 0.4858 - accuracy: 0.9067 - val_loss: 2.0860 - val_accuracy: 0.5174\n",
            "Epoch 51/200\n",
            "391/391 [==============================] - 13s 32ms/step - loss: 0.4644 - accuracy: 0.9143 - val_loss: 2.1077 - val_accuracy: 0.5148\n"
          ],
          "name": "stdout"
        }
      ]
    },
    {
      "cell_type": "code",
      "metadata": {
        "id": "Sj1qfOWkETMP"
      },
      "source": [
        "model.save_weights(filepath=F\"/content/gdrive/My Drive/Checkpoints/ResNet18_ADAM_BatchNormalization.h5\")"
      ],
      "execution_count": 12,
      "outputs": []
    },
    {
      "cell_type": "code",
      "metadata": {
        "id": "dZuWXGeW-nqY",
        "outputId": "eaa4beae-a9cd-4697-82b2-cb770142180d",
        "colab": {
          "base_uri": "https://localhost:8080/",
          "height": 591
        }
      },
      "source": [
        "import matplotlib.pyplot as plt\n",
        "import matplotlib.pyplot as plt2\n",
        "\n",
        "history_dict = history.history\n",
        "print(history_dict.keys())\n",
        "loss_values = history_dict['loss']\n",
        "val_loss_values = history_dict['val_loss']\n",
        "train_acc = history_dict['accuracy']\n",
        "test_acc = history_dict['val_accuracy']\n",
        "\n",
        "epochs = range(1, len(history_dict['accuracy']) + 1)\n",
        "\n",
        "plt.plot(epochs, loss_values, 'bo', label='Training loss')\n",
        "plt.plot(epochs, val_loss_values, 'b', label='Validation loss')\n",
        "plt.title('Training and validation loss')\n",
        "plt.xlabel('Epochs')\n",
        "plt.ylabel('Loss')\n",
        "plt.legend()\n",
        "\n",
        "plt.show()\n",
        "\n",
        "\n",
        "plt2.plot(epochs, train_acc, 'b', label='Training Accuracy')\n",
        "plt2.plot(epochs, test_acc, color = 'red', label='Validation Accuracy')\n",
        "plt2.title('Training and validation accuracy')\n",
        "plt2.xlabel('Epochs')\n",
        "plt2.ylabel('Accuracy')\n",
        "plt2.legend()\n",
        "\n",
        "plt2.show()"
      ],
      "execution_count": 13,
      "outputs": [
        {
          "output_type": "stream",
          "text": [
            "dict_keys(['loss', 'accuracy', 'val_loss', 'val_accuracy'])\n"
          ],
          "name": "stdout"
        },
        {
          "output_type": "display_data",
          "data": {
            "image/png": "[encoded data removed]",
            "text/plain": [
              "<Figure size 432x288 with 1 Axes>"
            ]
          },
          "metadata": {
            "tags": [],
            "needs_background": "light"
          }
        },
        {
          "output_type": "display_data",
          "data": {
            "image/png": "[encoded data removed]",
            "text/plain": [
              "<Figure size 432x288 with 1 Axes>"
            ]
          },
          "metadata": {
            "tags": [],
            "needs_background": "light"
          }
        }
      ]
    },
    {
      "cell_type": "code",
      "metadata": {
        "id": "AfO0lHJIE0Gy",
        "outputId": "fb91a101-7968-476e-c3db-c781406d74ad",
        "colab": {
          "base_uri": "https://localhost:8080/",
          "height": 1000
        }
      },
      "source": [
        "y_pred = model.predict(x_test).argmax(-1)\n",
        "import sklearn.metrics as metrics\n",
        "print(metrics.classification_report(y_test.argmax(axis=1), y_pred))"
      ],
      "execution_count": 14,
      "outputs": [
        {
          "output_type": "stream",
          "text": [
            "              precision    recall  f1-score   support\n",
            "\n",
            "           0       0.75      0.72      0.73       100\n",
            "           1       0.68      0.67      0.67       100\n",
            "           2       0.41      0.42      0.41       100\n",
            "           3       0.37      0.31      0.34       100\n",
            "           4       0.31      0.37      0.34       100\n",
            "           5       0.51      0.41      0.46       100\n",
            "           6       0.61      0.51      0.55       100\n",
            "           7       0.52      0.50      0.51       100\n",
            "           8       0.69      0.70      0.70       100\n",
            "           9       0.67      0.62      0.64       100\n",
            "          10       0.36      0.47      0.41       100\n",
            "          11       0.31      0.31      0.31       100\n",
            "          12       0.50      0.56      0.53       100\n",
            "          13       0.51      0.49      0.50       100\n",
            "          14       0.47      0.38      0.42       100\n",
            "          15       0.48      0.46      0.47       100\n",
            "          16       0.55      0.54      0.55       100\n",
            "          17       0.80      0.66      0.72       100\n",
            "          18       0.49      0.49      0.49       100\n",
            "          19       0.42      0.38      0.40       100\n",
            "          20       0.79      0.67      0.72       100\n",
            "          21       0.68      0.65      0.66       100\n",
            "          22       0.46      0.42      0.44       100\n",
            "          23       0.69      0.61      0.65       100\n",
            "          24       0.71      0.69      0.70       100\n",
            "          25       0.37      0.38      0.38       100\n",
            "          26       0.51      0.40      0.45       100\n",
            "          27       0.37      0.40      0.39       100\n",
            "          28       0.67      0.62      0.65       100\n",
            "          29       0.49      0.46      0.47       100\n",
            "          30       0.48      0.49      0.48       100\n",
            "          31       0.46      0.50      0.48       100\n",
            "          32       0.40      0.42      0.41       100\n",
            "          33       0.56      0.58      0.57       100\n",
            "          34       0.50      0.53      0.52       100\n",
            "          35       0.35      0.33      0.34       100\n",
            "          36       0.55      0.53      0.54       100\n",
            "          37       0.52      0.58      0.55       100\n",
            "          38       0.30      0.36      0.32       100\n",
            "          39       0.64      0.57      0.60       100\n",
            "          40       0.40      0.50      0.44       100\n",
            "          41       0.78      0.75      0.77       100\n",
            "          42       0.54      0.57      0.55       100\n",
            "          43       0.60      0.52      0.56       100\n",
            "          44       0.21      0.25      0.23       100\n",
            "          45       0.33      0.53      0.41       100\n",
            "          46       0.31      0.25      0.28       100\n",
            "          47       0.59      0.61      0.60       100\n",
            "          48       0.75      0.79      0.77       100\n",
            "          49       0.61      0.70      0.65       100\n",
            "          50       0.31      0.30      0.30       100\n",
            "          51       0.46      0.50      0.48       100\n",
            "          52       0.66      0.60      0.63       100\n",
            "          53       0.73      0.76      0.75       100\n",
            "          54       0.68      0.64      0.66       100\n",
            "          55       0.15      0.14      0.15       100\n",
            "          56       0.71      0.72      0.71       100\n",
            "          57       0.57      0.48      0.52       100\n",
            "          58       0.59      0.56      0.57       100\n",
            "          59       0.49      0.53      0.51       100\n",
            "          60       0.82      0.77      0.79       100\n",
            "          61       0.61      0.53      0.57       100\n",
            "          62       0.54      0.62      0.58       100\n",
            "          63       0.51      0.48      0.49       100\n",
            "          64       0.33      0.30      0.31       100\n",
            "          65       0.39      0.37      0.38       100\n",
            "          66       0.41      0.46      0.43       100\n",
            "          67       0.41      0.40      0.41       100\n",
            "          68       0.81      0.85      0.83       100\n",
            "          69       0.57      0.68      0.62       100\n",
            "          70       0.51      0.49      0.50       100\n",
            "          71       0.63      0.73      0.68       100\n",
            "          72       0.28      0.25      0.27       100\n",
            "          73       0.47      0.34      0.40       100\n",
            "          74       0.32      0.38      0.35       100\n",
            "          75       0.66      0.67      0.66       100\n",
            "          76       0.73      0.74      0.73       100\n",
            "          77       0.43      0.37      0.40       100\n",
            "          78       0.32      0.29      0.30       100\n",
            "          79       0.46      0.48      0.47       100\n",
            "          80       0.26      0.24      0.25       100\n",
            "          81       0.56      0.63      0.59       100\n",
            "          82       0.84      0.75      0.79       100\n",
            "          83       0.43      0.40      0.41       100\n",
            "          84       0.43      0.49      0.46       100\n",
            "          85       0.65      0.62      0.64       100\n",
            "          86       0.72      0.58      0.64       100\n",
            "          87       0.54      0.64      0.58       100\n",
            "          88       0.68      0.48      0.56       100\n",
            "          89       0.63      0.61      0.62       100\n",
            "          90       0.46      0.52      0.49       100\n",
            "          91       0.59      0.61      0.60       100\n",
            "          92       0.42      0.39      0.41       100\n",
            "          93       0.36      0.35      0.35       100\n",
            "          94       0.80      0.80      0.80       100\n",
            "          95       0.52      0.57      0.55       100\n",
            "          96       0.39      0.38      0.39       100\n",
            "          97       0.42      0.53      0.47       100\n",
            "          98       0.28      0.32      0.30       100\n",
            "          99       0.46      0.51      0.48       100\n",
            "\n",
            "    accuracy                           0.51     10000\n",
            "   macro avg       0.52      0.51      0.52     10000\n",
            "weighted avg       0.52      0.51      0.52     10000\n",
            "\n"
          ],
          "name": "stdout"
        }
      ]
    },
    {
      "cell_type": "code",
      "metadata": {
        "id": "XI7TqTg5ozTB"
      },
      "source": [
        ""
      ],
      "execution_count": null,
      "outputs": []
    },
    {
      "cell_type": "markdown",
      "metadata": {
        "id": "v1M94nUIEncw"
      },
      "source": [
        "TESTS"
      ]
    },
    {
      "cell_type": "code",
      "metadata": {
        "id": "mmsYSW24Eo6n"
      },
      "source": [
        ""
      ],
      "execution_count": null,
      "outputs": []
    },
    {
      "cell_type": "code",
      "metadata": {
        "id": "T4Smel9NqS1r"
      },
      "source": [
        "# model.load_weights(filepath=F\"/content/gdrive/My Drive/Checkpoints/ResNet18_ADAM_BatchNormalization.h5\")\n",
        "\n",
        "model.load_weights(\"ResNet18_ADAM_NoRegularization.h5\")"
      ],
      "execution_count": 15,
      "outputs": []
    },
    {
      "cell_type": "code",
      "metadata": {
        "id": "b0XDBMyDq0d3",
        "outputId": "f3f77769-db63-4792-cdb7-75e75a91032e",
        "colab": {
          "base_uri": "https://localhost:8080/",
          "height": 54
        }
      },
      "source": [
        "result = model.evaluate(batch_size=128, x=x_test, y=y_test)\n",
        "dict(zip(model.metrics_names,result))"
      ],
      "execution_count": 16,
      "outputs": [
        {
          "output_type": "stream",
          "text": [
            "79/79 [==============================] - 1s 12ms/step - loss: 2.1077 - accuracy: 0.5148\n"
          ],
          "name": "stdout"
        },
        {
          "output_type": "execute_result",
          "data": {
            "text/plain": [
              "{'accuracy': 0.5148000121116638, 'loss': 2.107679605484009}"
            ]
          },
          "metadata": {
            "tags": []
          },
          "execution_count": 16
        }
      ]
    },
    {
      "cell_type": "code",
      "metadata": {
        "id": "aJXvBrAJHeU-"
      },
      "source": [
        ""
      ],
      "execution_count": null,
      "outputs": []
    }
  ]
}