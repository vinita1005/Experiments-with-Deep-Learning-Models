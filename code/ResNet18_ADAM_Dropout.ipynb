{
  "nbformat": 4,
  "nbformat_minor": 0,
  "metadata": {
    "colab": {
      "name": "ResNet18_ADAM_Dropout.ipynb",
      "provenance": [],
      "collapsed_sections": []
    },
    "kernelspec": {
      "name": "python3",
      "display_name": "Python 3"
    },
    "accelerator": "GPU"
  },
  "cells": [
    {
      "cell_type": "markdown",
      "metadata": {
        "id": "vh7P5M1mq6Y-"
      },
      "source": [
        "## Load DataSet"
      ]
    },
    {
      "cell_type": "code",
      "metadata": {
        "id": "AubeCh7dqp5j",
        "outputId": "f4a7e31c-444d-40db-fa19-81963802674a",
        "colab": {
          "base_uri": "https://localhost:8080/",
          "height": 35
        }
      },
      "source": [
        "from google.colab import drive\n",
        "drive.mount('/content/gdrive')"
      ],
      "execution_count": 1,
      "outputs": [
        {
          "output_type": "stream",
          "text": [
            "Mounted at /content/gdrive\n"
          ],
          "name": "stdout"
        }
      ]
    },
    {
      "cell_type": "code",
      "metadata": {
        "id": "ixBthpNWrKzY"
      },
      "source": [
        "from keras.datasets import cifar100\n",
        "from keras.utils import to_categorical\n",
        "import numpy as np\n",
        "import cv2\n",
        "import os\n",
        "from keras import backend as K"
      ],
      "execution_count": 2,
      "outputs": []
    },
    {
      "cell_type": "code",
      "metadata": {
        "id": "d14LEXbNqu68",
        "outputId": "e0f98c7c-1ad0-45e8-f2b7-ca7dce1aece9",
        "colab": {
          "base_uri": "https://localhost:8080/",
          "height": 54
        }
      },
      "source": [
        "(x_train, y_train_), (x_test, y_test_) = cifar100.load_data()\n"
      ],
      "execution_count": 3,
      "outputs": [
        {
          "output_type": "stream",
          "text": [
            "Downloading data from https://www.cs.toronto.edu/~kriz/cifar-100-python.tar.gz\n",
            "169009152/169001437 [==============================] - 6s 0us/step\n"
          ],
          "name": "stdout"
        }
      ]
    },
    {
      "cell_type": "code",
      "metadata": {
        "id": "p4lTzEl8djyJ"
      },
      "source": [
        "x_train = x_train.astype('float32') / 255\n",
        "x_test = x_test.astype('float32') / 255"
      ],
      "execution_count": 4,
      "outputs": []
    },
    {
      "cell_type": "code",
      "metadata": {
        "id": "6h_PwVSJrWjf"
      },
      "source": [
        "y_train = to_categorical(y_train_)\n",
        "y_test = to_categorical(y_test_)"
      ],
      "execution_count": 5,
      "outputs": []
    },
    {
      "cell_type": "markdown",
      "metadata": {
        "id": "JNKd1ENdqz9c"
      },
      "source": [
        "## ResNet18 Model"
      ]
    },
    {
      "cell_type": "code",
      "metadata": {
        "id": "DlX5MwqCoSEF"
      },
      "source": [
        "import keras\n",
        "from keras.models import Model\n",
        "from keras.layers import Dense, Activation, Dropout, Flatten, Reshape\n",
        "from keras.layers import Conv2D, Input\n",
        "from keras.layers import MaxPooling2D, AveragePooling2D, Dropout\n",
        "from keras.callbacks import EarlyStopping\n",
        "from keras.layers.merge import concatenate\n",
        "from keras.regularizers import l2\n",
        "import os"
      ],
      "execution_count": 6,
      "outputs": []
    },
    {
      "cell_type": "code",
      "metadata": {
        "id": "RfDkIclipUCR"
      },
      "source": [
        "input_shape = (32, 32, 3)\n",
        "input = Input(shape=input_shape)\n",
        "x = Conv2D(kernel_size=3, filters=16, strides=1, padding='same', kernel_regularizer=l2(1e-4))(input)\n",
        "x = Activation('elu')(x)"
      ],
      "execution_count": 7,
      "outputs": []
    },
    {
      "cell_type": "code",
      "metadata": {
        "id": "WBA3W_AW9Yr0"
      },
      "source": [
        "#Stack 1\n",
        "for block in range(2):\n",
        "  y = Activation('elu')(x)\n",
        "  y = Dropout(0.2)(y)\n",
        "  y = Conv2D(kernel_size=3, filters=16, strides=1, padding='same', kernel_initializer='he_normal', kernel_regularizer=l2(1e-4))(y)\n",
        "  y = Activation('elu')(x)\n",
        "  y = Dropout(0.2)(y)\n",
        "  y = Conv2D(kernel_size=3, filters=16, strides=1, padding='same', kernel_regularizer=l2(1e-4))(y)\n",
        "\n",
        "  x = keras.layers.add([y, x])\n",
        "  x = Activation('elu')(x)\n",
        "\n",
        "#Stack 2\n",
        "for block in range(2):\n",
        "  y = Activation('elu')(x)\n",
        "  y = Dropout(0.2)(y)\n",
        "  y = Conv2D(kernel_size=3, filters=32, strides=1, padding='same', kernel_initializer='he_normal', kernel_regularizer=l2(1e-4))(y)\n",
        "  y = Activation('elu')(x)\n",
        "  y = Dropout(0.2)(y)\n",
        "  y = Conv2D(kernel_size=3, filters=32, strides=1, padding='same', kernel_regularizer=l2(1e-4))(y)\n",
        "  if block == 0:\n",
        "    x_2 = Conv2D(kernel_size=1, filters=32, strides=1, padding='same')(x)\n",
        "  else:\n",
        "    x_2 = x\n",
        "  x = keras.layers.add([y, x_2])\n",
        "  x = Activation('elu')(x)\n",
        "\n",
        "#Stack 3\n",
        "for block in range(2):\n",
        "  y = Activation('elu')(x)\n",
        "  y = Dropout(0.2)(y)\n",
        "  y = Conv2D(kernel_size=3, filters=64, strides=1, padding='same', kernel_initializer='he_normal', kernel_regularizer=l2(1e-4))(y)\n",
        "  y = Activation('elu')(x)\n",
        "  y = Dropout(0.2)(y)\n",
        "  y = Conv2D(kernel_size=3, filters=64, strides=1, padding='same', kernel_regularizer=l2(1e-4))(y)\n",
        "  if block == 0:\n",
        "    x_2 = Conv2D(kernel_size=1, filters=64, strides=1, padding='same')(x)\n",
        "  else:\n",
        "    x_2 = x\n",
        "  x = keras.layers.add([y, x_2])\n",
        "  x = Activation('elu')(x)\n",
        "\n",
        "#Stack 4\n",
        "for block in range(2):\n",
        "  y = Activation('elu')(x)\n",
        "  y = Dropout(0.2)(y)\n",
        "  y = Conv2D(kernel_size=3, filters=128, strides=1, padding='same', kernel_initializer='he_normal', kernel_regularizer=l2(1e-4))(y)\n",
        "  y = Activation('elu')(x)\n",
        "  y = Dropout(0.2)(y)\n",
        "  y = Conv2D(kernel_size=3, filters=128, strides=1, padding='same', kernel_regularizer=l2(1e-4))(y)\n",
        "  if block == 0:\n",
        "    x_2 = Conv2D(kernel_size=1, filters=128, strides=1, padding='same')(x)\n",
        "  else:\n",
        "    x_2 = x\n",
        "  x = keras.layers.add([y, x_2])\n",
        "  x = Activation('elu')(x)"
      ],
      "execution_count": 8,
      "outputs": []
    },
    {
      "cell_type": "code",
      "metadata": {
        "id": "tVSQG--VVdUI"
      },
      "source": [
        "x = Activation('elu')(x)\n",
        "x = Dropout(0.2)(x)\n",
        "x = AveragePooling2D(pool_size=8)(x)\n",
        "output = Flatten()(x)\n",
        "output = Dense(100, activation='softmax', kernel_initializer='he_normal')(output)"
      ],
      "execution_count": 9,
      "outputs": []
    },
    {
      "cell_type": "code",
      "metadata": {
        "id": "DSj5_am_WJaS",
        "outputId": "469f9091-804d-44a4-881c-c6094ac081ad",
        "colab": {
          "base_uri": "https://localhost:8080/",
          "height": 1000
        }
      },
      "source": [
        "model = Model(inputs=input, outputs=output)\n",
        "model.summary()"
      ],
      "execution_count": 10,
      "outputs": [
        {
          "output_type": "stream",
          "text": [
            "Model: \"functional_1\"\n",
            "__________________________________________________________________________________________________\n",
            "Layer (type)                    Output Shape         Param #     Connected to                     \n",
            "==================================================================================================\n",
            "input_1 (InputLayer)            [(None, 32, 32, 3)]  0                                            \n",
            "__________________________________________________________________________________________________\n",
            "conv2d (Conv2D)                 (None, 32, 32, 16)   448         input_1[0][0]                    \n",
            "__________________________________________________________________________________________________\n",
            "activation (Activation)         (None, 32, 32, 16)   0           conv2d[0][0]                     \n",
            "__________________________________________________________________________________________________\n",
            "activation_2 (Activation)       (None, 32, 32, 16)   0           activation[0][0]                 \n",
            "__________________________________________________________________________________________________\n",
            "dropout_1 (Dropout)             (None, 32, 32, 16)   0           activation_2[0][0]               \n",
            "__________________________________________________________________________________________________\n",
            "conv2d_2 (Conv2D)               (None, 32, 32, 16)   2320        dropout_1[0][0]                  \n",
            "__________________________________________________________________________________________________\n",
            "add (Add)                       (None, 32, 32, 16)   0           conv2d_2[0][0]                   \n",
            "                                                                 activation[0][0]                 \n",
            "__________________________________________________________________________________________________\n",
            "activation_3 (Activation)       (None, 32, 32, 16)   0           add[0][0]                        \n",
            "__________________________________________________________________________________________________\n",
            "activation_5 (Activation)       (None, 32, 32, 16)   0           activation_3[0][0]               \n",
            "__________________________________________________________________________________________________\n",
            "dropout_3 (Dropout)             (None, 32, 32, 16)   0           activation_5[0][0]               \n",
            "__________________________________________________________________________________________________\n",
            "conv2d_4 (Conv2D)               (None, 32, 32, 16)   2320        dropout_3[0][0]                  \n",
            "__________________________________________________________________________________________________\n",
            "add_1 (Add)                     (None, 32, 32, 16)   0           conv2d_4[0][0]                   \n",
            "                                                                 activation_3[0][0]               \n",
            "__________________________________________________________________________________________________\n",
            "activation_6 (Activation)       (None, 32, 32, 16)   0           add_1[0][0]                      \n",
            "__________________________________________________________________________________________________\n",
            "activation_8 (Activation)       (None, 32, 32, 16)   0           activation_6[0][0]               \n",
            "__________________________________________________________________________________________________\n",
            "dropout_5 (Dropout)             (None, 32, 32, 16)   0           activation_8[0][0]               \n",
            "__________________________________________________________________________________________________\n",
            "conv2d_6 (Conv2D)               (None, 32, 32, 32)   4640        dropout_5[0][0]                  \n",
            "__________________________________________________________________________________________________\n",
            "conv2d_7 (Conv2D)               (None, 32, 32, 32)   544         activation_6[0][0]               \n",
            "__________________________________________________________________________________________________\n",
            "add_2 (Add)                     (None, 32, 32, 32)   0           conv2d_6[0][0]                   \n",
            "                                                                 conv2d_7[0][0]                   \n",
            "__________________________________________________________________________________________________\n",
            "activation_9 (Activation)       (None, 32, 32, 32)   0           add_2[0][0]                      \n",
            "__________________________________________________________________________________________________\n",
            "activation_11 (Activation)      (None, 32, 32, 32)   0           activation_9[0][0]               \n",
            "__________________________________________________________________________________________________\n",
            "dropout_7 (Dropout)             (None, 32, 32, 32)   0           activation_11[0][0]              \n",
            "__________________________________________________________________________________________________\n",
            "conv2d_9 (Conv2D)               (None, 32, 32, 32)   9248        dropout_7[0][0]                  \n",
            "__________________________________________________________________________________________________\n",
            "add_3 (Add)                     (None, 32, 32, 32)   0           conv2d_9[0][0]                   \n",
            "                                                                 activation_9[0][0]               \n",
            "__________________________________________________________________________________________________\n",
            "activation_12 (Activation)      (None, 32, 32, 32)   0           add_3[0][0]                      \n",
            "__________________________________________________________________________________________________\n",
            "activation_14 (Activation)      (None, 32, 32, 32)   0           activation_12[0][0]              \n",
            "__________________________________________________________________________________________________\n",
            "dropout_9 (Dropout)             (None, 32, 32, 32)   0           activation_14[0][0]              \n",
            "__________________________________________________________________________________________________\n",
            "conv2d_11 (Conv2D)              (None, 32, 32, 64)   18496       dropout_9[0][0]                  \n",
            "__________________________________________________________________________________________________\n",
            "conv2d_12 (Conv2D)              (None, 32, 32, 64)   2112        activation_12[0][0]              \n",
            "__________________________________________________________________________________________________\n",
            "add_4 (Add)                     (None, 32, 32, 64)   0           conv2d_11[0][0]                  \n",
            "                                                                 conv2d_12[0][0]                  \n",
            "__________________________________________________________________________________________________\n",
            "activation_15 (Activation)      (None, 32, 32, 64)   0           add_4[0][0]                      \n",
            "__________________________________________________________________________________________________\n",
            "activation_17 (Activation)      (None, 32, 32, 64)   0           activation_15[0][0]              \n",
            "__________________________________________________________________________________________________\n",
            "dropout_11 (Dropout)            (None, 32, 32, 64)   0           activation_17[0][0]              \n",
            "__________________________________________________________________________________________________\n",
            "conv2d_14 (Conv2D)              (None, 32, 32, 64)   36928       dropout_11[0][0]                 \n",
            "__________________________________________________________________________________________________\n",
            "add_5 (Add)                     (None, 32, 32, 64)   0           conv2d_14[0][0]                  \n",
            "                                                                 activation_15[0][0]              \n",
            "__________________________________________________________________________________________________\n",
            "activation_18 (Activation)      (None, 32, 32, 64)   0           add_5[0][0]                      \n",
            "__________________________________________________________________________________________________\n",
            "activation_20 (Activation)      (None, 32, 32, 64)   0           activation_18[0][0]              \n",
            "__________________________________________________________________________________________________\n",
            "dropout_13 (Dropout)            (None, 32, 32, 64)   0           activation_20[0][0]              \n",
            "__________________________________________________________________________________________________\n",
            "conv2d_16 (Conv2D)              (None, 32, 32, 128)  73856       dropout_13[0][0]                 \n",
            "__________________________________________________________________________________________________\n",
            "conv2d_17 (Conv2D)              (None, 32, 32, 128)  8320        activation_18[0][0]              \n",
            "__________________________________________________________________________________________________\n",
            "add_6 (Add)                     (None, 32, 32, 128)  0           conv2d_16[0][0]                  \n",
            "                                                                 conv2d_17[0][0]                  \n",
            "__________________________________________________________________________________________________\n",
            "activation_21 (Activation)      (None, 32, 32, 128)  0           add_6[0][0]                      \n",
            "__________________________________________________________________________________________________\n",
            "activation_23 (Activation)      (None, 32, 32, 128)  0           activation_21[0][0]              \n",
            "__________________________________________________________________________________________________\n",
            "dropout_15 (Dropout)            (None, 32, 32, 128)  0           activation_23[0][0]              \n",
            "__________________________________________________________________________________________________\n",
            "conv2d_19 (Conv2D)              (None, 32, 32, 128)  147584      dropout_15[0][0]                 \n",
            "__________________________________________________________________________________________________\n",
            "add_7 (Add)                     (None, 32, 32, 128)  0           conv2d_19[0][0]                  \n",
            "                                                                 activation_21[0][0]              \n",
            "__________________________________________________________________________________________________\n",
            "activation_24 (Activation)      (None, 32, 32, 128)  0           add_7[0][0]                      \n",
            "__________________________________________________________________________________________________\n",
            "activation_25 (Activation)      (None, 32, 32, 128)  0           activation_24[0][0]              \n",
            "__________________________________________________________________________________________________\n",
            "dropout_16 (Dropout)            (None, 32, 32, 128)  0           activation_25[0][0]              \n",
            "__________________________________________________________________________________________________\n",
            "average_pooling2d (AveragePooli (None, 4, 4, 128)    0           dropout_16[0][0]                 \n",
            "__________________________________________________________________________________________________\n",
            "flatten (Flatten)               (None, 2048)         0           average_pooling2d[0][0]          \n",
            "__________________________________________________________________________________________________\n",
            "dense (Dense)                   (None, 100)          204900      flatten[0][0]                    \n",
            "==================================================================================================\n",
            "Total params: 511,716\n",
            "Trainable params: 511,716\n",
            "Non-trainable params: 0\n",
            "__________________________________________________________________________________________________\n"
          ],
          "name": "stdout"
        }
      ]
    },
    {
      "cell_type": "code",
      "metadata": {
        "id": "LaQF3uMDWQQh",
        "outputId": "16d0923b-57ac-40ff-a6da-c9e7badc2afe",
        "colab": {
          "base_uri": "https://localhost:8080/",
          "height": 1000
        }
      },
      "source": [
        "opt = keras.optimizers.Adam(learning_rate=0.0001, clipnorm=5)\n",
        "model.compile(loss=keras.losses.categorical_crossentropy, optimizer=opt, metrics=[\"accuracy\"])\n",
        "callback = EarlyStopping(monitor='val_loss', patience=20)\n",
        "history = model.fit(x_train, y_train, batch_size=128, epochs=200, verbose=1, validation_data=(x_test, y_test), callbacks=[callback])"
      ],
      "execution_count": 11,
      "outputs": [
        {
          "output_type": "stream",
          "text": [
            "Epoch 1/200\n",
            "391/391 [==============================] - 13s 34ms/step - loss: 4.0881 - accuracy: 0.0889 - val_loss: 4.1318 - val_accuracy: 0.0998\n",
            "Epoch 2/200\n",
            "391/391 [==============================] - 13s 33ms/step - loss: 3.5716 - accuracy: 0.1751 - val_loss: 3.7626 - val_accuracy: 0.1553\n",
            "Epoch 3/200\n",
            "391/391 [==============================] - 13s 33ms/step - loss: 3.3572 - accuracy: 0.2150 - val_loss: 3.5054 - val_accuracy: 0.1994\n",
            "Epoch 4/200\n",
            "391/391 [==============================] - 13s 33ms/step - loss: 3.1651 - accuracy: 0.2505 - val_loss: 3.2594 - val_accuracy: 0.2393\n",
            "Epoch 5/200\n",
            "391/391 [==============================] - 13s 33ms/step - loss: 2.9870 - accuracy: 0.2825 - val_loss: 3.0979 - val_accuracy: 0.2675\n",
            "Epoch 6/200\n",
            "391/391 [==============================] - 13s 33ms/step - loss: 2.8556 - accuracy: 0.3104 - val_loss: 3.0360 - val_accuracy: 0.2880\n",
            "Epoch 7/200\n",
            "391/391 [==============================] - 13s 33ms/step - loss: 2.7388 - accuracy: 0.3350 - val_loss: 2.9081 - val_accuracy: 0.3112\n",
            "Epoch 8/200\n",
            "391/391 [==============================] - 13s 33ms/step - loss: 2.6417 - accuracy: 0.3534 - val_loss: 2.8344 - val_accuracy: 0.3205\n",
            "Epoch 9/200\n",
            "391/391 [==============================] - 13s 33ms/step - loss: 2.5454 - accuracy: 0.3739 - val_loss: 2.7111 - val_accuracy: 0.3450\n",
            "Epoch 10/200\n",
            "391/391 [==============================] - 13s 33ms/step - loss: 2.4589 - accuracy: 0.3907 - val_loss: 2.6610 - val_accuracy: 0.3562\n",
            "Epoch 11/200\n",
            "391/391 [==============================] - 13s 32ms/step - loss: 2.3750 - accuracy: 0.4117 - val_loss: 2.6068 - val_accuracy: 0.3665\n",
            "Epoch 12/200\n",
            "391/391 [==============================] - 13s 32ms/step - loss: 2.3012 - accuracy: 0.4268 - val_loss: 2.5710 - val_accuracy: 0.3793\n",
            "Epoch 13/200\n",
            "391/391 [==============================] - 13s 32ms/step - loss: 2.2302 - accuracy: 0.4420 - val_loss: 2.5068 - val_accuracy: 0.3950\n",
            "Epoch 14/200\n",
            "391/391 [==============================] - 13s 32ms/step - loss: 2.1662 - accuracy: 0.4563 - val_loss: 2.4779 - val_accuracy: 0.4013\n",
            "Epoch 15/200\n",
            "391/391 [==============================] - 13s 33ms/step - loss: 2.1026 - accuracy: 0.4705 - val_loss: 2.4286 - val_accuracy: 0.4102\n",
            "Epoch 16/200\n",
            "391/391 [==============================] - 13s 32ms/step - loss: 2.0451 - accuracy: 0.4827 - val_loss: 2.3992 - val_accuracy: 0.4206\n",
            "Epoch 17/200\n",
            "391/391 [==============================] - 13s 32ms/step - loss: 1.9905 - accuracy: 0.4956 - val_loss: 2.3845 - val_accuracy: 0.4227\n",
            "Epoch 18/200\n",
            "391/391 [==============================] - 13s 32ms/step - loss: 1.9385 - accuracy: 0.5065 - val_loss: 2.3609 - val_accuracy: 0.4275\n",
            "Epoch 19/200\n",
            "391/391 [==============================] - 13s 33ms/step - loss: 1.8906 - accuracy: 0.5187 - val_loss: 2.3577 - val_accuracy: 0.4305\n",
            "Epoch 20/200\n",
            "391/391 [==============================] - 13s 33ms/step - loss: 1.8471 - accuracy: 0.5254 - val_loss: 2.3516 - val_accuracy: 0.4362\n",
            "Epoch 21/200\n",
            "391/391 [==============================] - 13s 33ms/step - loss: 1.8037 - accuracy: 0.5360 - val_loss: 2.3065 - val_accuracy: 0.4405\n",
            "Epoch 22/200\n",
            "391/391 [==============================] - 13s 33ms/step - loss: 1.7596 - accuracy: 0.5473 - val_loss: 2.3179 - val_accuracy: 0.4427\n",
            "Epoch 23/200\n",
            "391/391 [==============================] - 13s 33ms/step - loss: 1.7167 - accuracy: 0.5571 - val_loss: 2.2916 - val_accuracy: 0.4493\n",
            "Epoch 24/200\n",
            "391/391 [==============================] - 13s 33ms/step - loss: 1.6723 - accuracy: 0.5677 - val_loss: 2.2889 - val_accuracy: 0.4565\n",
            "Epoch 25/200\n",
            "391/391 [==============================] - 13s 33ms/step - loss: 1.6417 - accuracy: 0.5747 - val_loss: 2.2781 - val_accuracy: 0.4569\n",
            "Epoch 26/200\n",
            "391/391 [==============================] - 13s 33ms/step - loss: 1.6018 - accuracy: 0.5839 - val_loss: 2.2784 - val_accuracy: 0.4613\n",
            "Epoch 27/200\n",
            "391/391 [==============================] - 13s 33ms/step - loss: 1.5639 - accuracy: 0.5930 - val_loss: 2.2954 - val_accuracy: 0.4602\n",
            "Epoch 28/200\n",
            "391/391 [==============================] - 13s 33ms/step - loss: 1.5274 - accuracy: 0.6025 - val_loss: 2.2790 - val_accuracy: 0.4644\n",
            "Epoch 29/200\n",
            "391/391 [==============================] - 13s 33ms/step - loss: 1.4974 - accuracy: 0.6099 - val_loss: 2.2532 - val_accuracy: 0.4685\n",
            "Epoch 30/200\n",
            "391/391 [==============================] - 13s 33ms/step - loss: 1.4626 - accuracy: 0.6178 - val_loss: 2.3102 - val_accuracy: 0.4659\n",
            "Epoch 31/200\n",
            "391/391 [==============================] - 13s 33ms/step - loss: 1.4292 - accuracy: 0.6253 - val_loss: 2.2993 - val_accuracy: 0.4716\n",
            "Epoch 32/200\n",
            "391/391 [==============================] - 13s 33ms/step - loss: 1.3926 - accuracy: 0.6334 - val_loss: 2.2918 - val_accuracy: 0.4733\n",
            "Epoch 33/200\n",
            "391/391 [==============================] - 13s 33ms/step - loss: 1.3616 - accuracy: 0.6410 - val_loss: 2.3251 - val_accuracy: 0.4664\n",
            "Epoch 34/200\n",
            "391/391 [==============================] - 13s 33ms/step - loss: 1.3326 - accuracy: 0.6473 - val_loss: 2.3161 - val_accuracy: 0.4732\n",
            "Epoch 35/200\n",
            "391/391 [==============================] - 13s 33ms/step - loss: 1.3042 - accuracy: 0.6565 - val_loss: 2.3341 - val_accuracy: 0.4738\n",
            "Epoch 36/200\n",
            "391/391 [==============================] - 13s 33ms/step - loss: 1.2712 - accuracy: 0.6635 - val_loss: 2.3470 - val_accuracy: 0.4777\n",
            "Epoch 37/200\n",
            "391/391 [==============================] - 13s 33ms/step - loss: 1.2455 - accuracy: 0.6696 - val_loss: 2.3489 - val_accuracy: 0.4767\n",
            "Epoch 38/200\n",
            "391/391 [==============================] - 13s 33ms/step - loss: 1.2166 - accuracy: 0.6762 - val_loss: 2.3874 - val_accuracy: 0.4746\n",
            "Epoch 39/200\n",
            "391/391 [==============================] - 13s 33ms/step - loss: 1.1942 - accuracy: 0.6824 - val_loss: 2.3797 - val_accuracy: 0.4786\n",
            "Epoch 40/200\n",
            "391/391 [==============================] - 13s 33ms/step - loss: 1.1603 - accuracy: 0.6917 - val_loss: 2.4163 - val_accuracy: 0.4751\n",
            "Epoch 41/200\n",
            "391/391 [==============================] - 13s 33ms/step - loss: 1.1338 - accuracy: 0.6967 - val_loss: 2.4178 - val_accuracy: 0.4786\n",
            "Epoch 42/200\n",
            "391/391 [==============================] - 13s 33ms/step - loss: 1.1075 - accuracy: 0.7039 - val_loss: 2.4261 - val_accuracy: 0.4809\n",
            "Epoch 43/200\n",
            "391/391 [==============================] - 13s 33ms/step - loss: 1.0867 - accuracy: 0.7078 - val_loss: 2.4736 - val_accuracy: 0.4793\n",
            "Epoch 44/200\n",
            "391/391 [==============================] - 13s 33ms/step - loss: 1.0619 - accuracy: 0.7144 - val_loss: 2.4809 - val_accuracy: 0.4788\n",
            "Epoch 45/200\n",
            "391/391 [==============================] - 13s 33ms/step - loss: 1.0383 - accuracy: 0.7205 - val_loss: 2.5206 - val_accuracy: 0.4786\n",
            "Epoch 46/200\n",
            "391/391 [==============================] - 13s 33ms/step - loss: 1.0114 - accuracy: 0.7263 - val_loss: 2.5174 - val_accuracy: 0.4808\n",
            "Epoch 47/200\n",
            "391/391 [==============================] - 13s 33ms/step - loss: 0.9924 - accuracy: 0.7334 - val_loss: 2.5386 - val_accuracy: 0.4785\n",
            "Epoch 48/200\n",
            "391/391 [==============================] - 13s 33ms/step - loss: 0.9689 - accuracy: 0.7379 - val_loss: 2.5782 - val_accuracy: 0.4804\n",
            "Epoch 49/200\n",
            "391/391 [==============================] - 13s 33ms/step - loss: 0.9416 - accuracy: 0.7441 - val_loss: 2.5824 - val_accuracy: 0.4836\n"
          ],
          "name": "stdout"
        }
      ]
    },
    {
      "cell_type": "code",
      "metadata": {
        "id": "DmzrfUeNH8fu"
      },
      "source": [
        "model.save_weights(filepath=F\"/content/gdrive/My Drive/Checkpoints/ResNet18_ADAM_Dropout.h5\")"
      ],
      "execution_count": 15,
      "outputs": []
    },
    {
      "cell_type": "code",
      "metadata": {
        "id": "dZuWXGeW-nqY",
        "outputId": "f1458824-7aad-4a32-d8ac-a851d716b1b0",
        "colab": {
          "base_uri": "https://localhost:8080/",
          "height": 591
        }
      },
      "source": [
        "import matplotlib.pyplot as plt\n",
        "import matplotlib.pyplot as plt2\n",
        "\n",
        "history_dict = history.history\n",
        "print(history_dict.keys())\n",
        "loss_values = history_dict['loss']\n",
        "val_loss_values = history_dict['val_loss']\n",
        "train_acc = history_dict['accuracy']\n",
        "test_acc = history_dict['val_accuracy']\n",
        "\n",
        "epochs = range(1, len(history_dict['accuracy']) + 1)\n",
        "\n",
        "plt.plot(epochs, loss_values, 'bo', label='Training loss')\n",
        "plt.plot(epochs, val_loss_values, 'b', label='Validation loss')\n",
        "plt.title('Training and validation loss')\n",
        "plt.xlabel('Epochs')\n",
        "plt.ylabel('Loss')\n",
        "plt.legend()\n",
        "\n",
        "plt.show()\n",
        "\n",
        "\n",
        "plt2.plot(epochs, train_acc, 'b', label='Training Accuracy')\n",
        "plt2.plot(epochs, test_acc, color = 'red', label='Validation Accuracy')\n",
        "plt2.title('Training and validation accuracy')\n",
        "plt2.xlabel('Epochs')\n",
        "plt2.ylabel('Accuracy')\n",
        "plt2.legend()\n",
        "\n",
        "plt2.show()"
      ],
      "execution_count": 13,
      "outputs": [
        {
          "output_type": "stream",
          "text": [
            "dict_keys(['loss', 'accuracy', 'val_loss', 'val_accuracy'])\n"
          ],
          "name": "stdout"
        },
        {
          "output_type": "display_data",
          "data": {
            "image/png": "[encoded data removed]",
            "text/plain": [
              "<Figure size 432x288 with 1 Axes>"
            ]
          },
          "metadata": {
            "tags": [],
            "needs_background": "light"
          }
        },
        {
          "output_type": "display_data",
          "data": {
            "image/png": "[encoded data removed]",
            "text/plain": [
              "<Figure size 432x288 with 1 Axes>"
            ]
          },
          "metadata": {
            "tags": [],
            "needs_background": "light"
          }
        }
      ]
    },
    {
      "cell_type": "code",
      "metadata": {
        "id": "AfO0lHJIE0Gy",
        "outputId": "9b61c724-0e10-48bc-de60-c77387f86e02",
        "colab": {
          "base_uri": "https://localhost:8080/",
          "height": 1000
        }
      },
      "source": [
        "y_pred = model.predict(x_test).argmax(-1)\n",
        "import sklearn.metrics as metrics\n",
        "print(metrics.classification_report(y_test.argmax(axis=1), y_pred))"
      ],
      "execution_count": 14,
      "outputs": [
        {
          "output_type": "stream",
          "text": [
            "              precision    recall  f1-score   support\n",
            "\n",
            "           0       0.70      0.73      0.71       100\n",
            "           1       0.62      0.60      0.61       100\n",
            "           2       0.32      0.43      0.37       100\n",
            "           3       0.29      0.28      0.29       100\n",
            "           4       0.26      0.25      0.25       100\n",
            "           5       0.43      0.47      0.45       100\n",
            "           6       0.61      0.47      0.53       100\n",
            "           7       0.54      0.46      0.50       100\n",
            "           8       0.64      0.67      0.66       100\n",
            "           9       0.59      0.59      0.59       100\n",
            "          10       0.31      0.30      0.30       100\n",
            "          11       0.24      0.29      0.26       100\n",
            "          12       0.55      0.48      0.51       100\n",
            "          13       0.50      0.42      0.46       100\n",
            "          14       0.49      0.41      0.45       100\n",
            "          15       0.39      0.44      0.41       100\n",
            "          16       0.40      0.52      0.45       100\n",
            "          17       0.63      0.71      0.67       100\n",
            "          18       0.38      0.41      0.39       100\n",
            "          19       0.41      0.34      0.37       100\n",
            "          20       0.77      0.72      0.75       100\n",
            "          21       0.65      0.65      0.65       100\n",
            "          22       0.48      0.48      0.48       100\n",
            "          23       0.63      0.68      0.65       100\n",
            "          24       0.74      0.61      0.67       100\n",
            "          25       0.30      0.28      0.29       100\n",
            "          26       0.55      0.39      0.46       100\n",
            "          27       0.32      0.40      0.36       100\n",
            "          28       0.57      0.78      0.66       100\n",
            "          29       0.54      0.40      0.46       100\n",
            "          30       0.46      0.51      0.49       100\n",
            "          31       0.45      0.47      0.46       100\n",
            "          32       0.48      0.34      0.40       100\n",
            "          33       0.46      0.46      0.46       100\n",
            "          34       0.55      0.48      0.51       100\n",
            "          35       0.38      0.20      0.26       100\n",
            "          36       0.42      0.52      0.46       100\n",
            "          37       0.41      0.43      0.42       100\n",
            "          38       0.32      0.33      0.33       100\n",
            "          39       0.51      0.55      0.53       100\n",
            "          40       0.49      0.40      0.44       100\n",
            "          41       0.84      0.72      0.77       100\n",
            "          42       0.40      0.55      0.46       100\n",
            "          43       0.51      0.52      0.51       100\n",
            "          44       0.22      0.27      0.24       100\n",
            "          45       0.44      0.27      0.33       100\n",
            "          46       0.29      0.23      0.26       100\n",
            "          47       0.66      0.52      0.58       100\n",
            "          48       0.84      0.69      0.76       100\n",
            "          49       0.66      0.67      0.66       100\n",
            "          50       0.28      0.19      0.22       100\n",
            "          51       0.50      0.46      0.48       100\n",
            "          52       0.54      0.67      0.60       100\n",
            "          53       0.64      0.74      0.69       100\n",
            "          54       0.49      0.66      0.56       100\n",
            "          55       0.23      0.19      0.21       100\n",
            "          56       0.59      0.67      0.63       100\n",
            "          57       0.54      0.59      0.56       100\n",
            "          58       0.61      0.59      0.60       100\n",
            "          59       0.55      0.46      0.50       100\n",
            "          60       0.82      0.72      0.77       100\n",
            "          61       0.60      0.57      0.58       100\n",
            "          62       0.48      0.53      0.50       100\n",
            "          63       0.38      0.50      0.43       100\n",
            "          64       0.21      0.25      0.23       100\n",
            "          65       0.35      0.17      0.23       100\n",
            "          66       0.32      0.42      0.37       100\n",
            "          67       0.37      0.37      0.37       100\n",
            "          68       0.78      0.79      0.79       100\n",
            "          69       0.61      0.66      0.63       100\n",
            "          70       0.54      0.35      0.42       100\n",
            "          71       0.56      0.70      0.62       100\n",
            "          72       0.18      0.16      0.17       100\n",
            "          73       0.49      0.34      0.40       100\n",
            "          74       0.35      0.28      0.31       100\n",
            "          75       0.82      0.62      0.70       100\n",
            "          76       0.54      0.76      0.63       100\n",
            "          77       0.40      0.31      0.35       100\n",
            "          78       0.25      0.27      0.26       100\n",
            "          79       0.56      0.45      0.50       100\n",
            "          80       0.32      0.29      0.30       100\n",
            "          81       0.45      0.57      0.50       100\n",
            "          82       0.81      0.70      0.75       100\n",
            "          83       0.49      0.38      0.43       100\n",
            "          84       0.40      0.34      0.37       100\n",
            "          85       0.52      0.64      0.58       100\n",
            "          86       0.52      0.56      0.54       100\n",
            "          87       0.53      0.64      0.58       100\n",
            "          88       0.48      0.42      0.45       100\n",
            "          89       0.53      0.61      0.56       100\n",
            "          90       0.48      0.53      0.50       100\n",
            "          91       0.46      0.59      0.52       100\n",
            "          92       0.44      0.44      0.44       100\n",
            "          93       0.29      0.29      0.29       100\n",
            "          94       0.77      0.84      0.80       100\n",
            "          95       0.56      0.51      0.53       100\n",
            "          96       0.44      0.44      0.44       100\n",
            "          97       0.46      0.52      0.49       100\n",
            "          98       0.23      0.30      0.26       100\n",
            "          99       0.42      0.52      0.46       100\n",
            "\n",
            "    accuracy                           0.48     10000\n",
            "   macro avg       0.49      0.48      0.48     10000\n",
            "weighted avg       0.49      0.48      0.48     10000\n",
            "\n"
          ],
          "name": "stdout"
        }
      ]
    },
    {
      "cell_type": "code",
      "metadata": {
        "id": "XI7TqTg5ozTB"
      },
      "source": [
        ""
      ],
      "execution_count": null,
      "outputs": []
    },
    {
      "cell_type": "markdown",
      "metadata": {
        "id": "v1M94nUIEncw"
      },
      "source": [
        "TESTS"
      ]
    },
    {
      "cell_type": "code",
      "metadata": {
        "id": "T4Smel9NqS1r"
      },
      "source": [
        "model.load_weights(filepath=F\"/content/gdrive/My Drive/Checkpoints/ResNet18_ADAM_Dropout.h5\")\n",
        "\n",
        "# model.load_weights(\"ResNet18_ADAM_Dropout.h5\")"
      ],
      "execution_count": 18,
      "outputs": []
    },
    {
      "cell_type": "code",
      "metadata": {
        "id": "b0XDBMyDq0d3",
        "outputId": "bbf54e31-2e3c-4a32-9d5e-557b87b24137",
        "colab": {
          "base_uri": "https://localhost:8080/",
          "height": 54
        }
      },
      "source": [
        "result = model.evaluate(batch_size=128, x=x_test, y=y_test)\n",
        "dict(zip(model.metrics_names,result))"
      ],
      "execution_count": 19,
      "outputs": [
        {
          "output_type": "stream",
          "text": [
            "79/79 [==============================] - 1s 11ms/step - loss: 2.5824 - accuracy: 0.4836\n"
          ],
          "name": "stdout"
        },
        {
          "output_type": "execute_result",
          "data": {
            "text/plain": [
              "{'accuracy': 0.483599990606308, 'loss': 2.582385301589966}"
            ]
          },
          "metadata": {
            "tags": []
          },
          "execution_count": 19
        }
      ]
    },
    {
      "cell_type": "code",
      "metadata": {
        "id": "PWAtCdAEMz7U"
      },
      "source": [
        ""
      ],
      "execution_count": null,
      "outputs": []
    }
  ]
}