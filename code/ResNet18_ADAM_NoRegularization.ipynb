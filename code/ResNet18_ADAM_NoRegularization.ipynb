{
  "nbformat": 4,
  "nbformat_minor": 0,
  "metadata": {
    "accelerator": "GPU",
    "colab": {
      "name": "ResNet18_ADAM_NoRegularization.ipynb",
      "provenance": [],
      "collapsed_sections": []
    },
    "kernelspec": {
      "display_name": "Python 3",
      "name": "python3"
    }
  },
  "cells": [
    {
      "cell_type": "markdown",
      "metadata": {
        "id": "vh7P5M1mq6Y-"
      },
      "source": [
        "## Load DataSet"
      ]
    },
    {
      "cell_type": "code",
      "metadata": {
        "id": "AubeCh7dqp5j"
      },
      "source": [
        "from google.colab import drive\n",
        "drive.mount('/content/gdrive')"
      ],
      "execution_count": null,
      "outputs": []
    },
    {
      "cell_type": "code",
      "metadata": {
        "id": "ixBthpNWrKzY"
      },
      "source": [
        "from keras.datasets import cifar100\n",
        "from keras.utils import to_categorical\n",
        "import numpy as np\n",
        "import cv2\n",
        "import os\n",
        "from keras import backend as K"
      ],
      "execution_count": 3,
      "outputs": []
    },
    {
      "cell_type": "code",
      "metadata": {
        "id": "d14LEXbNqu68",
        "outputId": "8b76864b-f63d-4c8a-e14c-f764d9299621",
        "colab": {
          "base_uri": "https://localhost:8080/",
          "height": 54
        }
      },
      "source": [
        "(x_train, y_train_), (x_test, y_test_) = cifar100.load_data()\n"
      ],
      "execution_count": 4,
      "outputs": [
        {
          "output_type": "stream",
          "text": [
            "Downloading data from https://www.cs.toronto.edu/~kriz/cifar-100-python.tar.gz\n",
            "169009152/169001437 [==============================] - 6s 0us/step\n"
          ],
          "name": "stdout"
        }
      ]
    },
    {
      "cell_type": "code",
      "metadata": {
        "id": "p4lTzEl8djyJ"
      },
      "source": [
        "x_train = x_train.astype('float32') / 255\n",
        "x_test = x_test.astype('float32') / 255"
      ],
      "execution_count": 5,
      "outputs": []
    },
    {
      "cell_type": "code",
      "metadata": {
        "id": "6h_PwVSJrWjf"
      },
      "source": [
        "y_train = to_categorical(y_train_)\n",
        "y_test = to_categorical(y_test_)"
      ],
      "execution_count": 6,
      "outputs": []
    },
    {
      "cell_type": "markdown",
      "metadata": {
        "id": "JNKd1ENdqz9c"
      },
      "source": [
        "## ResNet18 Model"
      ]
    },
    {
      "cell_type": "code",
      "metadata": {
        "id": "DlX5MwqCoSEF"
      },
      "source": [
        "import keras\n",
        "from keras.models import Model\n",
        "from keras.layers import Dense, Activation, Dropout, Flatten, Reshape\n",
        "from keras.layers import Conv2D, Input\n",
        "from keras.layers import MaxPooling2D, AveragePooling2D\n",
        "from keras.callbacks import EarlyStopping\n",
        "from keras.layers.merge import concatenate\n",
        "from keras.regularizers import l2\n",
        "import os"
      ],
      "execution_count": 7,
      "outputs": []
    },
    {
      "cell_type": "code",
      "metadata": {
        "id": "RfDkIclipUCR"
      },
      "source": [
        "input_shape = (32, 32, 3)\n",
        "input = Input(shape=input_shape)\n",
        "x = Conv2D(kernel_size=3, filters=16, strides=1, padding='same', kernel_regularizer=l2(1e-4))(input)\n",
        "x = Activation('elu')(x)"
      ],
      "execution_count": 8,
      "outputs": []
    },
    {
      "cell_type": "code",
      "metadata": {
        "id": "WBA3W_AW9Yr0"
      },
      "source": [
        "#Stack 1\n",
        "for block in range(2):\n",
        "  y = Activation('elu')(x)\n",
        "  y = Conv2D(kernel_size=3, filters=16, strides=1, padding='same', kernel_initializer='he_normal', kernel_regularizer=l2(1e-4))(y)\n",
        "  y = Activation('elu')(x)\n",
        "  y = Conv2D(kernel_size=3, filters=16, strides=1, padding='same', kernel_regularizer=l2(1e-4))(y)\n",
        "\n",
        "  x = keras.layers.add([y, x])\n",
        "  x = Activation('elu')(x)\n",
        "\n",
        "#Stack 2\n",
        "for block in range(2):\n",
        "  y = Activation('elu')(x)\n",
        "  y = Conv2D(kernel_size=3, filters=32, strides=1, padding='same', kernel_initializer='he_normal', kernel_regularizer=l2(1e-4))(y)\n",
        "  y = Activation('elu')(x)\n",
        "  y = Conv2D(kernel_size=3, filters=32, strides=1, padding='same', kernel_regularizer=l2(1e-4))(y)\n",
        "  if block == 0:\n",
        "    x_2 = Conv2D(kernel_size=1, filters=32, strides=1, padding='same')(x)\n",
        "  else:\n",
        "    x_2 = x\n",
        "  x = keras.layers.add([y, x_2])\n",
        "  x = Activation('elu')(x)\n",
        "\n",
        "#Stack 3\n",
        "for block in range(2):\n",
        "  y = Activation('elu')(x)\n",
        "  y = Conv2D(kernel_size=3, filters=64, strides=1, padding='same', kernel_initializer='he_normal', kernel_regularizer=l2(1e-4))(y)\n",
        "  y = Activation('elu')(x)\n",
        "  y = Conv2D(kernel_size=3, filters=64, strides=1, padding='same', kernel_regularizer=l2(1e-4))(y)\n",
        "  if block == 0:\n",
        "    x_2 = Conv2D(kernel_size=1, filters=64, strides=1, padding='same')(x)\n",
        "  else:\n",
        "    x_2 = x\n",
        "  x = keras.layers.add([y, x_2])\n",
        "  x = Activation('elu')(x)\n",
        "\n",
        "#Stack 4\n",
        "for block in range(2):\n",
        "  y = Activation('elu')(x)\n",
        "  y = Conv2D(kernel_size=3, filters=128, strides=1, padding='same', kernel_initializer='he_normal', kernel_regularizer=l2(1e-4))(y)\n",
        "  y = Activation('elu')(x)\n",
        "  y = Conv2D(kernel_size=3, filters=128, strides=1, padding='same', kernel_regularizer=l2(1e-4))(y)\n",
        "  if block == 0:\n",
        "    x_2 = Conv2D(kernel_size=1, filters=128, strides=1, padding='same')(x)\n",
        "  else:\n",
        "    x_2 = x\n",
        "  x = keras.layers.add([y, x_2])\n",
        "  x = Activation('elu')(x)"
      ],
      "execution_count": 9,
      "outputs": []
    },
    {
      "cell_type": "code",
      "metadata": {
        "id": "tVSQG--VVdUI"
      },
      "source": [
        "# x = Activation('elu')(x)\n",
        "x = AveragePooling2D(pool_size=8)(x)\n",
        "output = Flatten()(x)\n",
        "output = Dense(100, activation='softmax', kernel_initializer='he_normal')(output)"
      ],
      "execution_count": 10,
      "outputs": []
    },
    {
      "cell_type": "code",
      "metadata": {
        "id": "DSj5_am_WJaS",
        "outputId": "73cd1c32-6b36-4358-e604-499595ef701c",
        "colab": {
          "base_uri": "https://localhost:8080/",
          "height": 1000
        }
      },
      "source": [
        "model = Model(inputs=input, outputs=output)\n",
        "model.summary()"
      ],
      "execution_count": 11,
      "outputs": [
        {
          "output_type": "stream",
          "text": [
            "Model: \"functional_1\"\n",
            "__________________________________________________________________________________________________\n",
            "Layer (type)                    Output Shape         Param #     Connected to                     \n",
            "==================================================================================================\n",
            "input_1 (InputLayer)            [(None, 32, 32, 3)]  0                                            \n",
            "__________________________________________________________________________________________________\n",
            "conv2d (Conv2D)                 (None, 32, 32, 16)   448         input_1[0][0]                    \n",
            "__________________________________________________________________________________________________\n",
            "activation (Activation)         (None, 32, 32, 16)   0           conv2d[0][0]                     \n",
            "__________________________________________________________________________________________________\n",
            "activation_2 (Activation)       (None, 32, 32, 16)   0           activation[0][0]                 \n",
            "__________________________________________________________________________________________________\n",
            "conv2d_2 (Conv2D)               (None, 32, 32, 16)   2320        activation_2[0][0]               \n",
            "__________________________________________________________________________________________________\n",
            "add (Add)                       (None, 32, 32, 16)   0           conv2d_2[0][0]                   \n",
            "                                                                 activation[0][0]                 \n",
            "__________________________________________________________________________________________________\n",
            "activation_3 (Activation)       (None, 32, 32, 16)   0           add[0][0]                        \n",
            "__________________________________________________________________________________________________\n",
            "activation_5 (Activation)       (None, 32, 32, 16)   0           activation_3[0][0]               \n",
            "__________________________________________________________________________________________________\n",
            "conv2d_4 (Conv2D)               (None, 32, 32, 16)   2320        activation_5[0][0]               \n",
            "__________________________________________________________________________________________________\n",
            "add_1 (Add)                     (None, 32, 32, 16)   0           conv2d_4[0][0]                   \n",
            "                                                                 activation_3[0][0]               \n",
            "__________________________________________________________________________________________________\n",
            "activation_6 (Activation)       (None, 32, 32, 16)   0           add_1[0][0]                      \n",
            "__________________________________________________________________________________________________\n",
            "activation_8 (Activation)       (None, 32, 32, 16)   0           activation_6[0][0]               \n",
            "__________________________________________________________________________________________________\n",
            "conv2d_6 (Conv2D)               (None, 32, 32, 32)   4640        activation_8[0][0]               \n",
            "__________________________________________________________________________________________________\n",
            "conv2d_7 (Conv2D)               (None, 32, 32, 32)   544         activation_6[0][0]               \n",
            "__________________________________________________________________________________________________\n",
            "add_2 (Add)                     (None, 32, 32, 32)   0           conv2d_6[0][0]                   \n",
            "                                                                 conv2d_7[0][0]                   \n",
            "__________________________________________________________________________________________________\n",
            "activation_9 (Activation)       (None, 32, 32, 32)   0           add_2[0][0]                      \n",
            "__________________________________________________________________________________________________\n",
            "activation_11 (Activation)      (None, 32, 32, 32)   0           activation_9[0][0]               \n",
            "__________________________________________________________________________________________________\n",
            "conv2d_9 (Conv2D)               (None, 32, 32, 32)   9248        activation_11[0][0]              \n",
            "__________________________________________________________________________________________________\n",
            "add_3 (Add)                     (None, 32, 32, 32)   0           conv2d_9[0][0]                   \n",
            "                                                                 activation_9[0][0]               \n",
            "__________________________________________________________________________________________________\n",
            "activation_12 (Activation)      (None, 32, 32, 32)   0           add_3[0][0]                      \n",
            "__________________________________________________________________________________________________\n",
            "activation_14 (Activation)      (None, 32, 32, 32)   0           activation_12[0][0]              \n",
            "__________________________________________________________________________________________________\n",
            "conv2d_11 (Conv2D)              (None, 32, 32, 64)   18496       activation_14[0][0]              \n",
            "__________________________________________________________________________________________________\n",
            "conv2d_12 (Conv2D)              (None, 32, 32, 64)   2112        activation_12[0][0]              \n",
            "__________________________________________________________________________________________________\n",
            "add_4 (Add)                     (None, 32, 32, 64)   0           conv2d_11[0][0]                  \n",
            "                                                                 conv2d_12[0][0]                  \n",
            "__________________________________________________________________________________________________\n",
            "activation_15 (Activation)      (None, 32, 32, 64)   0           add_4[0][0]                      \n",
            "__________________________________________________________________________________________________\n",
            "activation_17 (Activation)      (None, 32, 32, 64)   0           activation_15[0][0]              \n",
            "__________________________________________________________________________________________________\n",
            "conv2d_14 (Conv2D)              (None, 32, 32, 64)   36928       activation_17[0][0]              \n",
            "__________________________________________________________________________________________________\n",
            "add_5 (Add)                     (None, 32, 32, 64)   0           conv2d_14[0][0]                  \n",
            "                                                                 activation_15[0][0]              \n",
            "__________________________________________________________________________________________________\n",
            "activation_18 (Activation)      (None, 32, 32, 64)   0           add_5[0][0]                      \n",
            "__________________________________________________________________________________________________\n",
            "activation_20 (Activation)      (None, 32, 32, 64)   0           activation_18[0][0]              \n",
            "__________________________________________________________________________________________________\n",
            "conv2d_16 (Conv2D)              (None, 32, 32, 128)  73856       activation_20[0][0]              \n",
            "__________________________________________________________________________________________________\n",
            "conv2d_17 (Conv2D)              (None, 32, 32, 128)  8320        activation_18[0][0]              \n",
            "__________________________________________________________________________________________________\n",
            "add_6 (Add)                     (None, 32, 32, 128)  0           conv2d_16[0][0]                  \n",
            "                                                                 conv2d_17[0][0]                  \n",
            "__________________________________________________________________________________________________\n",
            "activation_21 (Activation)      (None, 32, 32, 128)  0           add_6[0][0]                      \n",
            "__________________________________________________________________________________________________\n",
            "activation_23 (Activation)      (None, 32, 32, 128)  0           activation_21[0][0]              \n",
            "__________________________________________________________________________________________________\n",
            "conv2d_19 (Conv2D)              (None, 32, 32, 128)  147584      activation_23[0][0]              \n",
            "__________________________________________________________________________________________________\n",
            "add_7 (Add)                     (None, 32, 32, 128)  0           conv2d_19[0][0]                  \n",
            "                                                                 activation_21[0][0]              \n",
            "__________________________________________________________________________________________________\n",
            "activation_24 (Activation)      (None, 32, 32, 128)  0           add_7[0][0]                      \n",
            "__________________________________________________________________________________________________\n",
            "average_pooling2d (AveragePooli (None, 4, 4, 128)    0           activation_24[0][0]              \n",
            "__________________________________________________________________________________________________\n",
            "flatten (Flatten)               (None, 2048)         0           average_pooling2d[0][0]          \n",
            "__________________________________________________________________________________________________\n",
            "dense (Dense)                   (None, 100)          204900      flatten[0][0]                    \n",
            "==================================================================================================\n",
            "Total params: 511,716\n",
            "Trainable params: 511,716\n",
            "Non-trainable params: 0\n",
            "__________________________________________________________________________________________________\n"
          ],
          "name": "stdout"
        }
      ]
    },
    {
      "cell_type": "code",
      "metadata": {
        "id": "LaQF3uMDWQQh",
        "outputId": "e90576ba-4ef7-4662-b305-b5cd9b513e8f",
        "colab": {
          "base_uri": "https://localhost:8080/",
          "height": 1000
        }
      },
      "source": [
        "opt = keras.optimizers.Adam(learning_rate=0.0001, clipnorm=5)\n",
        "model.compile(loss=keras.losses.categorical_crossentropy, optimizer=opt, metrics=[\"accuracy\"])\n",
        "callback = EarlyStopping(monitor='val_loss', patience=20)\n",
        "history = model.fit(x_train, y_train, batch_size=128, epochs=200, verbose=1, validation_data=(x_test, y_test), callbacks=[callback])"
      ],
      "execution_count": 13,
      "outputs": [
        {
          "output_type": "stream",
          "text": [
            "Epoch 1/200\n",
            "391/391 [==============================] - 11s 27ms/step - loss: 3.2832 - accuracy: 0.2312 - val_loss: 3.2482 - val_accuracy: 0.2389\n",
            "Epoch 2/200\n",
            "391/391 [==============================] - 11s 27ms/step - loss: 3.1045 - accuracy: 0.2631 - val_loss: 3.0989 - val_accuracy: 0.2664\n",
            "Epoch 3/200\n",
            "391/391 [==============================] - 10s 27ms/step - loss: 2.9427 - accuracy: 0.2938 - val_loss: 2.9772 - val_accuracy: 0.2950\n",
            "Epoch 4/200\n",
            "391/391 [==============================] - 10s 27ms/step - loss: 2.7921 - accuracy: 0.3241 - val_loss: 2.8546 - val_accuracy: 0.3105\n",
            "Epoch 5/200\n",
            "391/391 [==============================] - 10s 27ms/step - loss: 2.6631 - accuracy: 0.3485 - val_loss: 2.7652 - val_accuracy: 0.3300\n",
            "Epoch 6/200\n",
            "391/391 [==============================] - 10s 26ms/step - loss: 2.5415 - accuracy: 0.3743 - val_loss: 2.6770 - val_accuracy: 0.3484\n",
            "Epoch 7/200\n",
            "391/391 [==============================] - 11s 27ms/step - loss: 2.4349 - accuracy: 0.3974 - val_loss: 2.5944 - val_accuracy: 0.3634\n",
            "Epoch 8/200\n",
            "391/391 [==============================] - 10s 27ms/step - loss: 2.3421 - accuracy: 0.4159 - val_loss: 2.5482 - val_accuracy: 0.3773\n",
            "Epoch 9/200\n",
            "391/391 [==============================] - 11s 27ms/step - loss: 2.2562 - accuracy: 0.4351 - val_loss: 2.4776 - val_accuracy: 0.3884\n",
            "Epoch 10/200\n",
            "391/391 [==============================] - 10s 27ms/step - loss: 2.1761 - accuracy: 0.4534 - val_loss: 2.4453 - val_accuracy: 0.4003\n",
            "Epoch 11/200\n",
            "391/391 [==============================] - 10s 26ms/step - loss: 2.1049 - accuracy: 0.4684 - val_loss: 2.3955 - val_accuracy: 0.4076\n",
            "Epoch 12/200\n",
            "391/391 [==============================] - 10s 26ms/step - loss: 2.0369 - accuracy: 0.4849 - val_loss: 2.3831 - val_accuracy: 0.4128\n",
            "Epoch 13/200\n",
            "391/391 [==============================] - 10s 26ms/step - loss: 1.9759 - accuracy: 0.5012 - val_loss: 2.3283 - val_accuracy: 0.4262\n",
            "Epoch 14/200\n",
            "391/391 [==============================] - 10s 26ms/step - loss: 1.9162 - accuracy: 0.5122 - val_loss: 2.3354 - val_accuracy: 0.4266\n",
            "Epoch 15/200\n",
            "391/391 [==============================] - 10s 26ms/step - loss: 1.8608 - accuracy: 0.5267 - val_loss: 2.3028 - val_accuracy: 0.4351\n",
            "Epoch 16/200\n",
            "391/391 [==============================] - 10s 26ms/step - loss: 1.8054 - accuracy: 0.5394 - val_loss: 2.2971 - val_accuracy: 0.4356\n",
            "Epoch 17/200\n",
            "391/391 [==============================] - 10s 26ms/step - loss: 1.7542 - accuracy: 0.5510 - val_loss: 2.2837 - val_accuracy: 0.4405\n",
            "Epoch 18/200\n",
            "391/391 [==============================] - 10s 26ms/step - loss: 1.7043 - accuracy: 0.5627 - val_loss: 2.2792 - val_accuracy: 0.4414\n",
            "Epoch 19/200\n",
            "391/391 [==============================] - 10s 26ms/step - loss: 1.6572 - accuracy: 0.5738 - val_loss: 2.2569 - val_accuracy: 0.4512\n",
            "Epoch 20/200\n",
            "391/391 [==============================] - 10s 26ms/step - loss: 1.6105 - accuracy: 0.5848 - val_loss: 2.2737 - val_accuracy: 0.4492\n",
            "Epoch 21/200\n",
            "391/391 [==============================] - 10s 26ms/step - loss: 1.5628 - accuracy: 0.5973 - val_loss: 2.2899 - val_accuracy: 0.4514\n",
            "Epoch 22/200\n",
            "391/391 [==============================] - 10s 26ms/step - loss: 1.5188 - accuracy: 0.6084 - val_loss: 2.2511 - val_accuracy: 0.4594\n",
            "Epoch 23/200\n",
            "391/391 [==============================] - 10s 26ms/step - loss: 1.4726 - accuracy: 0.6183 - val_loss: 2.2709 - val_accuracy: 0.4600\n",
            "Epoch 24/200\n",
            "391/391 [==============================] - 10s 26ms/step - loss: 1.4303 - accuracy: 0.6303 - val_loss: 2.2602 - val_accuracy: 0.4630\n",
            "Epoch 25/200\n",
            "391/391 [==============================] - 10s 26ms/step - loss: 1.3887 - accuracy: 0.6404 - val_loss: 2.2879 - val_accuracy: 0.4626\n",
            "Epoch 26/200\n",
            "391/391 [==============================] - 10s 26ms/step - loss: 1.3468 - accuracy: 0.6518 - val_loss: 2.2936 - val_accuracy: 0.4663\n",
            "Epoch 27/200\n",
            "391/391 [==============================] - 10s 26ms/step - loss: 1.3070 - accuracy: 0.6611 - val_loss: 2.3038 - val_accuracy: 0.4656\n",
            "Epoch 28/200\n",
            "391/391 [==============================] - 10s 26ms/step - loss: 1.2684 - accuracy: 0.6706 - val_loss: 2.3163 - val_accuracy: 0.4653\n",
            "Epoch 29/200\n",
            "391/391 [==============================] - 10s 26ms/step - loss: 1.2255 - accuracy: 0.6815 - val_loss: 2.3482 - val_accuracy: 0.4660\n",
            "Epoch 30/200\n",
            "391/391 [==============================] - 10s 26ms/step - loss: 1.1917 - accuracy: 0.6907 - val_loss: 2.3717 - val_accuracy: 0.4632\n",
            "Epoch 31/200\n",
            "391/391 [==============================] - 10s 26ms/step - loss: 1.1521 - accuracy: 0.7012 - val_loss: 2.3974 - val_accuracy: 0.4668\n",
            "Epoch 32/200\n",
            "391/391 [==============================] - 10s 26ms/step - loss: 1.1126 - accuracy: 0.7104 - val_loss: 2.4403 - val_accuracy: 0.4631\n",
            "Epoch 33/200\n",
            "391/391 [==============================] - 10s 26ms/step - loss: 1.0791 - accuracy: 0.7187 - val_loss: 2.4618 - val_accuracy: 0.4627\n",
            "Epoch 34/200\n",
            "391/391 [==============================] - 10s 26ms/step - loss: 1.0440 - accuracy: 0.7293 - val_loss: 2.5088 - val_accuracy: 0.4622\n",
            "Epoch 35/200\n",
            "391/391 [==============================] - 10s 26ms/step - loss: 1.0056 - accuracy: 0.7406 - val_loss: 2.5076 - val_accuracy: 0.4652\n",
            "Epoch 36/200\n",
            "391/391 [==============================] - 10s 26ms/step - loss: 0.9712 - accuracy: 0.7480 - val_loss: 2.5504 - val_accuracy: 0.4666\n",
            "Epoch 37/200\n",
            "391/391 [==============================] - 10s 26ms/step - loss: 0.9359 - accuracy: 0.7583 - val_loss: 2.6465 - val_accuracy: 0.4616\n",
            "Epoch 38/200\n",
            "391/391 [==============================] - 10s 26ms/step - loss: 0.9052 - accuracy: 0.7661 - val_loss: 2.6329 - val_accuracy: 0.4578\n",
            "Epoch 39/200\n",
            "391/391 [==============================] - 11s 27ms/step - loss: 0.8686 - accuracy: 0.7756 - val_loss: 2.7283 - val_accuracy: 0.4583\n",
            "Epoch 40/200\n",
            "391/391 [==============================] - 10s 26ms/step - loss: 0.8375 - accuracy: 0.7832 - val_loss: 2.7501 - val_accuracy: 0.4616\n",
            "Epoch 41/200\n",
            "391/391 [==============================] - 10s 26ms/step - loss: 0.7991 - accuracy: 0.7967 - val_loss: 2.7866 - val_accuracy: 0.4584\n",
            "Epoch 42/200\n",
            "391/391 [==============================] - 10s 26ms/step - loss: 0.7720 - accuracy: 0.8010 - val_loss: 2.8435 - val_accuracy: 0.4605\n"
          ],
          "name": "stdout"
        }
      ]
    },
    {
      "cell_type": "code",
      "metadata": {
        "id": "nHfc7qzV_Fbx"
      },
      "source": [
        "model.save_weights(filepath=F\"/content/gdrive/My Drive/Checkpoints/ResNet18_ADAM_NoRegularization.h5\")"
      ],
      "execution_count": 14,
      "outputs": []
    },
    {
      "cell_type": "code",
      "metadata": {
        "id": "dZuWXGeW-nqY",
        "outputId": "889175b6-4b74-4fad-a082-1f50f9d2c7f1",
        "colab": {
          "base_uri": "https://localhost:8080/",
          "height": 591
        }
      },
      "source": [
        "import matplotlib.pyplot as plt\n",
        "import matplotlib.pyplot as plt2\n",
        "\n",
        "history_dict = history.history\n",
        "print(history_dict.keys())\n",
        "loss_values = history_dict['loss']\n",
        "val_loss_values = history_dict['val_loss']\n",
        "train_acc = history_dict['accuracy']\n",
        "test_acc = history_dict['val_accuracy']\n",
        "\n",
        "epochs = range(1, len(history_dict['accuracy']) + 1)\n",
        "\n",
        "plt.plot(epochs, loss_values, 'bo', label='Training loss')\n",
        "plt.plot(epochs, val_loss_values, 'b', label='Validation loss')\n",
        "plt.title('Training and validation loss')\n",
        "plt.xlabel('Epochs')\n",
        "plt.ylabel('Loss')\n",
        "plt.legend()\n",
        "\n",
        "plt.show()\n",
        "\n",
        "\n",
        "plt2.plot(epochs, train_acc, 'b', label='Training Accuracy')\n",
        "plt2.plot(epochs, test_acc, color = 'red', label='Validation Accuracy')\n",
        "plt2.title('Training and validation accuracy')\n",
        "plt2.xlabel('Epochs')\n",
        "plt2.ylabel('Accuracy')\n",
        "plt2.legend()\n",
        "\n",
        "plt2.show()"
      ],
      "execution_count": 15,
      "outputs": [
        {
          "output_type": "stream",
          "text": [
            "dict_keys(['loss', 'accuracy', 'val_loss', 'val_accuracy'])\n"
          ],
          "name": "stdout"
        },
        {
          "output_type": "display_data",
          "data": {
            "image/png": "[encoded data removed]",
            "text/plain": [
              "<Figure size 432x288 with 1 Axes>"
            ]
          },
          "metadata": {
            "tags": [],
            "needs_background": "light"
          }
        },
        {
          "output_type": "display_data",
          "data": {
            "image/png": "[encoded data removed]",
            "text/plain": [
              "<Figure size 432x288 with 1 Axes>"
            ]
          },
          "metadata": {
            "tags": [],
            "needs_background": "light"
          }
        }
      ]
    },
    {
      "cell_type": "code",
      "metadata": {
        "id": "AfO0lHJIE0Gy",
        "outputId": "636b5d0d-1838-4ff1-d21b-e5144ebc04e8",
        "colab": {
          "base_uri": "https://localhost:8080/",
          "height": 1000
        }
      },
      "source": [
        "y_pred = model.predict(x_test).argmax(-1)\n",
        "import sklearn.metrics as metrics\n",
        "print(metrics.classification_report(y_test.argmax(axis=1), y_pred))"
      ],
      "execution_count": 17,
      "outputs": [
        {
          "output_type": "stream",
          "text": [
            "              precision    recall  f1-score   support\n",
            "\n",
            "           0       0.75      0.52      0.62       100\n",
            "           1       0.58      0.55      0.56       100\n",
            "           2       0.29      0.28      0.28       100\n",
            "           3       0.27      0.32      0.29       100\n",
            "           4       0.25      0.26      0.25       100\n",
            "           5       0.42      0.44      0.43       100\n",
            "           6       0.52      0.57      0.54       100\n",
            "           7       0.49      0.45      0.47       100\n",
            "           8       0.67      0.62      0.64       100\n",
            "           9       0.59      0.57      0.58       100\n",
            "          10       0.30      0.22      0.25       100\n",
            "          11       0.32      0.31      0.32       100\n",
            "          12       0.50      0.46      0.48       100\n",
            "          13       0.36      0.44      0.40       100\n",
            "          14       0.47      0.37      0.41       100\n",
            "          15       0.35      0.35      0.35       100\n",
            "          16       0.49      0.52      0.50       100\n",
            "          17       0.71      0.54      0.61       100\n",
            "          18       0.37      0.36      0.36       100\n",
            "          19       0.38      0.29      0.33       100\n",
            "          20       0.81      0.68      0.74       100\n",
            "          21       0.70      0.55      0.61       100\n",
            "          22       0.42      0.47      0.44       100\n",
            "          23       0.61      0.75      0.68       100\n",
            "          24       0.59      0.67      0.63       100\n",
            "          25       0.31      0.38      0.34       100\n",
            "          26       0.37      0.38      0.38       100\n",
            "          27       0.22      0.37      0.27       100\n",
            "          28       0.55      0.71      0.62       100\n",
            "          29       0.46      0.43      0.44       100\n",
            "          30       0.42      0.47      0.44       100\n",
            "          31       0.53      0.42      0.47       100\n",
            "          32       0.45      0.34      0.39       100\n",
            "          33       0.44      0.39      0.41       100\n",
            "          34       0.44      0.41      0.42       100\n",
            "          35       0.25      0.35      0.29       100\n",
            "          36       0.43      0.47      0.45       100\n",
            "          37       0.47      0.47      0.47       100\n",
            "          38       0.28      0.40      0.33       100\n",
            "          39       0.60      0.45      0.51       100\n",
            "          40       0.43      0.36      0.39       100\n",
            "          41       0.64      0.70      0.67       100\n",
            "          42       0.46      0.42      0.44       100\n",
            "          43       0.56      0.60      0.58       100\n",
            "          44       0.18      0.19      0.19       100\n",
            "          45       0.33      0.27      0.30       100\n",
            "          46       0.23      0.15      0.18       100\n",
            "          47       0.57      0.54      0.56       100\n",
            "          48       0.62      0.72      0.66       100\n",
            "          49       0.51      0.64      0.57       100\n",
            "          50       0.28      0.27      0.28       100\n",
            "          51       0.41      0.39      0.40       100\n",
            "          52       0.53      0.62      0.57       100\n",
            "          53       0.72      0.63      0.67       100\n",
            "          54       0.57      0.59      0.58       100\n",
            "          55       0.23      0.11      0.15       100\n",
            "          56       0.72      0.63      0.67       100\n",
            "          57       0.59      0.45      0.51       100\n",
            "          58       0.54      0.52      0.53       100\n",
            "          59       0.48      0.39      0.43       100\n",
            "          60       0.77      0.82      0.79       100\n",
            "          61       0.54      0.53      0.54       100\n",
            "          62       0.49      0.48      0.48       100\n",
            "          63       0.57      0.42      0.48       100\n",
            "          64       0.22      0.29      0.25       100\n",
            "          65       0.22      0.23      0.23       100\n",
            "          66       0.40      0.38      0.39       100\n",
            "          67       0.36      0.47      0.41       100\n",
            "          68       0.85      0.78      0.81       100\n",
            "          69       0.62      0.58      0.60       100\n",
            "          70       0.48      0.44      0.46       100\n",
            "          71       0.66      0.57      0.61       100\n",
            "          72       0.20      0.22      0.21       100\n",
            "          73       0.39      0.35      0.37       100\n",
            "          74       0.25      0.34      0.29       100\n",
            "          75       0.66      0.60      0.63       100\n",
            "          76       0.72      0.73      0.73       100\n",
            "          77       0.41      0.24      0.30       100\n",
            "          78       0.17      0.26      0.20       100\n",
            "          79       0.46      0.41      0.43       100\n",
            "          80       0.32      0.28      0.30       100\n",
            "          81       0.42      0.55      0.48       100\n",
            "          82       0.65      0.78      0.71       100\n",
            "          83       0.41      0.51      0.46       100\n",
            "          84       0.39      0.37      0.38       100\n",
            "          85       0.60      0.62      0.61       100\n",
            "          86       0.56      0.46      0.51       100\n",
            "          87       0.48      0.58      0.53       100\n",
            "          88       0.51      0.41      0.46       100\n",
            "          89       0.53      0.47      0.50       100\n",
            "          90       0.44      0.45      0.45       100\n",
            "          91       0.49      0.49      0.49       100\n",
            "          92       0.39      0.44      0.41       100\n",
            "          93       0.24      0.24      0.24       100\n",
            "          94       0.88      0.77      0.82       100\n",
            "          95       0.47      0.61      0.53       100\n",
            "          96       0.45      0.46      0.45       100\n",
            "          97       0.49      0.53      0.51       100\n",
            "          98       0.28      0.18      0.22       100\n",
            "          99       0.44      0.52      0.47       100\n",
            "\n",
            "    accuracy                           0.46     10000\n",
            "   macro avg       0.47      0.46      0.46     10000\n",
            "weighted avg       0.47      0.46      0.46     10000\n",
            "\n"
          ],
          "name": "stdout"
        }
      ]
    },
    {
      "cell_type": "code",
      "metadata": {
        "id": "XI7TqTg5ozTB"
      },
      "source": [
        ""
      ],
      "execution_count": null,
      "outputs": []
    },
    {
      "cell_type": "markdown",
      "metadata": {
        "id": "l3nKGHfpqRkk"
      },
      "source": [
        "## TESTS"
      ]
    },
    {
      "cell_type": "code",
      "metadata": {
        "id": "T4Smel9NqS1r"
      },
      "source": [
        "# model.load_weights(filepath=F\"/content/gdrive/My Drive/Checkpoints/ResNet18_ADAM_NoRegularization.h5\")\n",
        "\n",
        "model.load_weights(\"ResNet18_ADAM_NoRegularization.h5\")"
      ],
      "execution_count": 18,
      "outputs": []
    },
    {
      "cell_type": "code",
      "metadata": {
        "id": "b0XDBMyDq0d3",
        "outputId": "6b86baac-7492-4e62-c3e5-d6f112563378",
        "colab": {
          "base_uri": "https://localhost:8080/",
          "height": 54
        }
      },
      "source": [
        "result = model.evaluate(batch_size=128, x=x_test, y=y_test)\n",
        "dict(zip(model.metrics_names,result))"
      ],
      "execution_count": 19,
      "outputs": [
        {
          "output_type": "stream",
          "text": [
            "79/79 [==============================] - 1s 11ms/step - loss: 2.8435 - accuracy: 0.4605\n"
          ],
          "name": "stdout"
        },
        {
          "output_type": "execute_result",
          "data": {
            "text/plain": [
              "{'accuracy': 0.46050000190734863, 'loss': 2.843470335006714}"
            ]
          },
          "metadata": {
            "tags": []
          },
          "execution_count": 19
        }
      ]
    }
  ]
}