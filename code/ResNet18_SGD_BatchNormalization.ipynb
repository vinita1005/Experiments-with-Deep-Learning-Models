{
  "nbformat": 4,
  "nbformat_minor": 0,
  "metadata": {
    "colab": {
      "name": "ResNet18_SGD_BatchNormalization.ipynb",
      "provenance": [],
      "collapsed_sections": []
    },
    "kernelspec": {
      "name": "python3",
      "display_name": "Python 3"
    },
    "accelerator": "GPU"
  },
  "cells": [
    {
      "cell_type": "markdown",
      "metadata": {
        "id": "vh7P5M1mq6Y-"
      },
      "source": [
        "## Load DataSet"
      ]
    },
    {
      "cell_type": "code",
      "metadata": {
        "id": "AubeCh7dqp5j",
        "outputId": "a8707a87-915d-4523-bdc9-34ab648dcfa7",
        "colab": {
          "base_uri": "https://localhost:8080/",
          "height": 35
        }
      },
      "source": [
        "from google.colab import drive\n",
        "drive.mount('/content/gdrive')"
      ],
      "execution_count": 16,
      "outputs": [
        {
          "output_type": "stream",
          "text": [
            "Drive already mounted at /content/gdrive; to attempt to forcibly remount, call drive.mount(\"/content/gdrive\", force_remount=True).\n"
          ],
          "name": "stdout"
        }
      ]
    },
    {
      "cell_type": "code",
      "metadata": {
        "id": "ixBthpNWrKzY"
      },
      "source": [
        "from keras.datasets import cifar100\n",
        "from keras.utils import to_categorical\n",
        "import numpy as np\n",
        "import cv2\n",
        "import os\n",
        "from keras import backend as K"
      ],
      "execution_count": null,
      "outputs": []
    },
    {
      "cell_type": "code",
      "metadata": {
        "id": "d14LEXbNqu68",
        "outputId": "a3f99e03-4f69-4af8-9231-ed97a37be79f",
        "colab": {
          "base_uri": "https://localhost:8080/",
          "height": 50
        }
      },
      "source": [
        "(x_train, y_train_), (x_test, y_test_) = cifar100.load_data()\n"
      ],
      "execution_count": null,
      "outputs": [
        {
          "output_type": "stream",
          "text": [
            "Downloading data from https://www.cs.toronto.edu/~kriz/cifar-100-python.tar.gz\n",
            "169009152/169001437 [==============================] - 6s 0us/step\n"
          ],
          "name": "stdout"
        }
      ]
    },
    {
      "cell_type": "code",
      "metadata": {
        "id": "p4lTzEl8djyJ"
      },
      "source": [
        "x_train = x_train.astype('float32') / 255\n",
        "x_test = x_test.astype('float32') / 255"
      ],
      "execution_count": null,
      "outputs": []
    },
    {
      "cell_type": "code",
      "metadata": {
        "id": "6h_PwVSJrWjf"
      },
      "source": [
        "y_train = to_categorical(y_train_)\n",
        "y_test = to_categorical(y_test_)"
      ],
      "execution_count": null,
      "outputs": []
    },
    {
      "cell_type": "markdown",
      "metadata": {
        "id": "JNKd1ENdqz9c"
      },
      "source": [
        "## ResNet18 Model"
      ]
    },
    {
      "cell_type": "code",
      "metadata": {
        "id": "DlX5MwqCoSEF"
      },
      "source": [
        "import keras\n",
        "from keras.models import Model\n",
        "from keras.layers import Dense, Activation, Dropout, Flatten, Reshape\n",
        "from keras.layers import Conv2D, Input\n",
        "from keras.layers import MaxPooling2D, AveragePooling2D, BatchNormalization\n",
        "from keras.callbacks import EarlyStopping\n",
        "from keras.layers.merge import concatenate\n",
        "from keras.regularizers import l2\n",
        "import os"
      ],
      "execution_count": null,
      "outputs": []
    },
    {
      "cell_type": "code",
      "metadata": {
        "id": "RfDkIclipUCR"
      },
      "source": [
        "input_shape = (32, 32, 3)\n",
        "input = Input(shape=input_shape)\n",
        "x = Conv2D(kernel_size=3, filters=16, strides=1, padding='same', kernel_regularizer=l2(1e-4))(input)\n",
        "x = BatchNormalization()(x)\n",
        "x = Activation('elu')(x)"
      ],
      "execution_count": null,
      "outputs": []
    },
    {
      "cell_type": "code",
      "metadata": {
        "id": "WBA3W_AW9Yr0"
      },
      "source": [
        "#Stack 1\n",
        "for block in range(2):\n",
        "  y = BatchNormalization()(x)\n",
        "  y = Activation('elu')(y)\n",
        "  y = Conv2D(kernel_size=3, filters=16, strides=1, padding='same', kernel_initializer='he_normal', kernel_regularizer=l2(1e-4))(y)\n",
        "  \n",
        "  y = BatchNormalization()(x)\n",
        "  y = Activation('elu')(y)\n",
        "  y = Conv2D(kernel_size=3, filters=16, strides=1, padding='same', kernel_regularizer=l2(1e-4))(y)\n",
        "\n",
        "  x = keras.layers.add([y, x])\n",
        "  x = Activation('elu')(x)\n",
        "\n",
        "#Stack 2\n",
        "for block in range(2):\n",
        "  y = BatchNormalization()(x)\n",
        "  y = Activation('elu')(y)\n",
        "  y = Conv2D(kernel_size=3, filters=32, strides=1, padding='same', kernel_initializer='he_normal', kernel_regularizer=l2(1e-4))(y)\n",
        "  \n",
        "  y = BatchNormalization()(x)\n",
        "  y = Activation('elu')(y)\n",
        "  y = Conv2D(kernel_size=3, filters=32, strides=1, padding='same', kernel_regularizer=l2(1e-4))(y)\n",
        "  if block == 0:\n",
        "    x_2 = Conv2D(kernel_size=1, filters=32, strides=1, padding='same')(x)\n",
        "  else:\n",
        "    x_2 = x\n",
        "  x = keras.layers.add([y, x_2])\n",
        "  x = Activation('elu')(x)\n",
        "\n",
        "#Stack 3\n",
        "for block in range(2):\n",
        "  y = BatchNormalization()(x)\n",
        "  y = Activation('elu')(y)\n",
        "  y = Conv2D(kernel_size=3, filters=64, strides=1, padding='same', kernel_initializer='he_normal', kernel_regularizer=l2(1e-4))(y)\n",
        "  \n",
        "  y = BatchNormalization()(x)\n",
        "  y = Activation('elu')(y)\n",
        "  y = Conv2D(kernel_size=3, filters=64, strides=1, padding='same', kernel_regularizer=l2(1e-4))(y)\n",
        "  if block == 0:\n",
        "    x_2 = Conv2D(kernel_size=1, filters=64, strides=1, padding='same')(x)\n",
        "  else:\n",
        "    x_2 = x\n",
        "  x = keras.layers.add([y, x_2])\n",
        "  x = Activation('elu')(x)\n",
        "\n",
        "#Stack 4\n",
        "for block in range(2):\n",
        "  y = BatchNormalization()(x)\n",
        "  y = Activation('elu')(y)\n",
        "  y = Conv2D(kernel_size=3, filters=128, strides=1, padding='same', kernel_initializer='he_normal', kernel_regularizer=l2(1e-4))(y)\n",
        "  \n",
        "  y = BatchNormalization()(x)\n",
        "  y = Activation('elu')(y)\n",
        "  y = Conv2D(kernel_size=3, filters=128, strides=1, padding='same', kernel_regularizer=l2(1e-4))(y)\n",
        "  if block == 0:\n",
        "    x_2 = Conv2D(kernel_size=1, filters=128, strides=1, padding='same')(x)\n",
        "  else:\n",
        "    x_2 = x\n",
        "  x = keras.layers.add([y, x_2])\n",
        "  x = Activation('elu')(x)"
      ],
      "execution_count": null,
      "outputs": []
    },
    {
      "cell_type": "code",
      "metadata": {
        "id": "tVSQG--VVdUI"
      },
      "source": [
        "x = BatchNormalization()(x)\n",
        "x = Activation('elu')(x)\n",
        "x = AveragePooling2D(pool_size=8)(x)\n",
        "output = Flatten()(x)\n",
        "output = Dense(100, activation='softmax', kernel_initializer='he_normal')(output)"
      ],
      "execution_count": null,
      "outputs": []
    },
    {
      "cell_type": "code",
      "metadata": {
        "id": "DSj5_am_WJaS",
        "outputId": "ffc22d83-c075-4715-dcf1-71077c169cd5",
        "colab": {
          "base_uri": "https://localhost:8080/",
          "height": 1000
        }
      },
      "source": [
        "model = Model(inputs=input, outputs=output)\n",
        "model.summary()"
      ],
      "execution_count": null,
      "outputs": [
        {
          "output_type": "stream",
          "text": [
            "Model: \"functional_1\"\n",
            "__________________________________________________________________________________________________\n",
            "Layer (type)                    Output Shape         Param #     Connected to                     \n",
            "==================================================================================================\n",
            "input_1 (InputLayer)            [(None, 32, 32, 3)]  0                                            \n",
            "__________________________________________________________________________________________________\n",
            "conv2d (Conv2D)                 (None, 32, 32, 16)   448         input_1[0][0]                    \n",
            "__________________________________________________________________________________________________\n",
            "batch_normalization (BatchNorma (None, 32, 32, 16)   64          conv2d[0][0]                     \n",
            "__________________________________________________________________________________________________\n",
            "activation (Activation)         (None, 32, 32, 16)   0           batch_normalization[0][0]        \n",
            "__________________________________________________________________________________________________\n",
            "batch_normalization_2 (BatchNor (None, 32, 32, 16)   64          activation[0][0]                 \n",
            "__________________________________________________________________________________________________\n",
            "activation_2 (Activation)       (None, 32, 32, 16)   0           batch_normalization_2[0][0]      \n",
            "__________________________________________________________________________________________________\n",
            "conv2d_2 (Conv2D)               (None, 32, 32, 16)   2320        activation_2[0][0]               \n",
            "__________________________________________________________________________________________________\n",
            "add (Add)                       (None, 32, 32, 16)   0           conv2d_2[0][0]                   \n",
            "                                                                 activation[0][0]                 \n",
            "__________________________________________________________________________________________________\n",
            "activation_3 (Activation)       (None, 32, 32, 16)   0           add[0][0]                        \n",
            "__________________________________________________________________________________________________\n",
            "batch_normalization_4 (BatchNor (None, 32, 32, 16)   64          activation_3[0][0]               \n",
            "__________________________________________________________________________________________________\n",
            "activation_5 (Activation)       (None, 32, 32, 16)   0           batch_normalization_4[0][0]      \n",
            "__________________________________________________________________________________________________\n",
            "conv2d_4 (Conv2D)               (None, 32, 32, 16)   2320        activation_5[0][0]               \n",
            "__________________________________________________________________________________________________\n",
            "add_1 (Add)                     (None, 32, 32, 16)   0           conv2d_4[0][0]                   \n",
            "                                                                 activation_3[0][0]               \n",
            "__________________________________________________________________________________________________\n",
            "activation_6 (Activation)       (None, 32, 32, 16)   0           add_1[0][0]                      \n",
            "__________________________________________________________________________________________________\n",
            "batch_normalization_6 (BatchNor (None, 32, 32, 16)   64          activation_6[0][0]               \n",
            "__________________________________________________________________________________________________\n",
            "activation_8 (Activation)       (None, 32, 32, 16)   0           batch_normalization_6[0][0]      \n",
            "__________________________________________________________________________________________________\n",
            "conv2d_6 (Conv2D)               (None, 32, 32, 32)   4640        activation_8[0][0]               \n",
            "__________________________________________________________________________________________________\n",
            "conv2d_7 (Conv2D)               (None, 32, 32, 32)   544         activation_6[0][0]               \n",
            "__________________________________________________________________________________________________\n",
            "add_2 (Add)                     (None, 32, 32, 32)   0           conv2d_6[0][0]                   \n",
            "                                                                 conv2d_7[0][0]                   \n",
            "__________________________________________________________________________________________________\n",
            "activation_9 (Activation)       (None, 32, 32, 32)   0           add_2[0][0]                      \n",
            "__________________________________________________________________________________________________\n",
            "batch_normalization_8 (BatchNor (None, 32, 32, 32)   128         activation_9[0][0]               \n",
            "__________________________________________________________________________________________________\n",
            "activation_11 (Activation)      (None, 32, 32, 32)   0           batch_normalization_8[0][0]      \n",
            "__________________________________________________________________________________________________\n",
            "conv2d_9 (Conv2D)               (None, 32, 32, 32)   9248        activation_11[0][0]              \n",
            "__________________________________________________________________________________________________\n",
            "add_3 (Add)                     (None, 32, 32, 32)   0           conv2d_9[0][0]                   \n",
            "                                                                 activation_9[0][0]               \n",
            "__________________________________________________________________________________________________\n",
            "activation_12 (Activation)      (None, 32, 32, 32)   0           add_3[0][0]                      \n",
            "__________________________________________________________________________________________________\n",
            "batch_normalization_10 (BatchNo (None, 32, 32, 32)   128         activation_12[0][0]              \n",
            "__________________________________________________________________________________________________\n",
            "activation_14 (Activation)      (None, 32, 32, 32)   0           batch_normalization_10[0][0]     \n",
            "__________________________________________________________________________________________________\n",
            "conv2d_11 (Conv2D)              (None, 32, 32, 64)   18496       activation_14[0][0]              \n",
            "__________________________________________________________________________________________________\n",
            "conv2d_12 (Conv2D)              (None, 32, 32, 64)   2112        activation_12[0][0]              \n",
            "__________________________________________________________________________________________________\n",
            "add_4 (Add)                     (None, 32, 32, 64)   0           conv2d_11[0][0]                  \n",
            "                                                                 conv2d_12[0][0]                  \n",
            "__________________________________________________________________________________________________\n",
            "activation_15 (Activation)      (None, 32, 32, 64)   0           add_4[0][0]                      \n",
            "__________________________________________________________________________________________________\n",
            "batch_normalization_12 (BatchNo (None, 32, 32, 64)   256         activation_15[0][0]              \n",
            "__________________________________________________________________________________________________\n",
            "activation_17 (Activation)      (None, 32, 32, 64)   0           batch_normalization_12[0][0]     \n",
            "__________________________________________________________________________________________________\n",
            "conv2d_14 (Conv2D)              (None, 32, 32, 64)   36928       activation_17[0][0]              \n",
            "__________________________________________________________________________________________________\n",
            "add_5 (Add)                     (None, 32, 32, 64)   0           conv2d_14[0][0]                  \n",
            "                                                                 activation_15[0][0]              \n",
            "__________________________________________________________________________________________________\n",
            "activation_18 (Activation)      (None, 32, 32, 64)   0           add_5[0][0]                      \n",
            "__________________________________________________________________________________________________\n",
            "batch_normalization_14 (BatchNo (None, 32, 32, 64)   256         activation_18[0][0]              \n",
            "__________________________________________________________________________________________________\n",
            "activation_20 (Activation)      (None, 32, 32, 64)   0           batch_normalization_14[0][0]     \n",
            "__________________________________________________________________________________________________\n",
            "conv2d_16 (Conv2D)              (None, 32, 32, 128)  73856       activation_20[0][0]              \n",
            "__________________________________________________________________________________________________\n",
            "conv2d_17 (Conv2D)              (None, 32, 32, 128)  8320        activation_18[0][0]              \n",
            "__________________________________________________________________________________________________\n",
            "add_6 (Add)                     (None, 32, 32, 128)  0           conv2d_16[0][0]                  \n",
            "                                                                 conv2d_17[0][0]                  \n",
            "__________________________________________________________________________________________________\n",
            "activation_21 (Activation)      (None, 32, 32, 128)  0           add_6[0][0]                      \n",
            "__________________________________________________________________________________________________\n",
            "batch_normalization_16 (BatchNo (None, 32, 32, 128)  512         activation_21[0][0]              \n",
            "__________________________________________________________________________________________________\n",
            "activation_23 (Activation)      (None, 32, 32, 128)  0           batch_normalization_16[0][0]     \n",
            "__________________________________________________________________________________________________\n",
            "conv2d_19 (Conv2D)              (None, 32, 32, 128)  147584      activation_23[0][0]              \n",
            "__________________________________________________________________________________________________\n",
            "add_7 (Add)                     (None, 32, 32, 128)  0           conv2d_19[0][0]                  \n",
            "                                                                 activation_21[0][0]              \n",
            "__________________________________________________________________________________________________\n",
            "activation_24 (Activation)      (None, 32, 32, 128)  0           add_7[0][0]                      \n",
            "__________________________________________________________________________________________________\n",
            "batch_normalization_17 (BatchNo (None, 32, 32, 128)  512         activation_24[0][0]              \n",
            "__________________________________________________________________________________________________\n",
            "activation_25 (Activation)      (None, 32, 32, 128)  0           batch_normalization_17[0][0]     \n",
            "__________________________________________________________________________________________________\n",
            "average_pooling2d (AveragePooli (None, 4, 4, 128)    0           activation_25[0][0]              \n",
            "__________________________________________________________________________________________________\n",
            "flatten (Flatten)               (None, 2048)         0           average_pooling2d[0][0]          \n",
            "__________________________________________________________________________________________________\n",
            "dense (Dense)                   (None, 100)          204900      flatten[0][0]                    \n",
            "==================================================================================================\n",
            "Total params: 513,764\n",
            "Trainable params: 512,740\n",
            "Non-trainable params: 1,024\n",
            "__________________________________________________________________________________________________\n"
          ],
          "name": "stdout"
        }
      ]
    },
    {
      "cell_type": "code",
      "metadata": {
        "id": "LaQF3uMDWQQh",
        "outputId": "334c2011-c80f-4720-9680-5a23d94fadc4",
        "colab": {
          "base_uri": "https://localhost:8080/",
          "height": 1000
        }
      },
      "source": [
        "\n",
        "opt = keras.optimizers.SGD(learning_rate=0.01, clipnorm=5)\n",
        "model.compile(loss=keras.losses.categorical_crossentropy, optimizer=opt, metrics=[\"accuracy\"])\n",
        "callback = EarlyStopping(monitor='val_loss', patience=20)\n",
        "history = model.fit(x_train, y_train, batch_size=128, epochs=200, verbose=1, validation_data=(x_test, y_test), callbacks=[callback])\n",
        "model.save_weights(filepath=F\"/content/gdrive/My Drive/Checkpoints/ResNet18_SGD_BatchNormalization.h5\")"
      ],
      "execution_count": null,
      "outputs": [
        {
          "output_type": "stream",
          "text": [
            "Epoch 1/200\n",
            "391/391 [==============================] - 13s 34ms/step - loss: 3.9963 - accuracy: 0.1163 - val_loss: 3.9860 - val_accuracy: 0.1088\n",
            "Epoch 2/200\n",
            "391/391 [==============================] - 13s 32ms/step - loss: 3.4747 - accuracy: 0.1987 - val_loss: 3.4158 - val_accuracy: 0.2013\n",
            "Epoch 3/200\n",
            "391/391 [==============================] - 13s 32ms/step - loss: 3.2031 - accuracy: 0.2485 - val_loss: 3.3920 - val_accuracy: 0.2101\n",
            "Epoch 4/200\n",
            "391/391 [==============================] - 13s 32ms/step - loss: 3.0110 - accuracy: 0.2842 - val_loss: 3.2160 - val_accuracy: 0.2421\n",
            "Epoch 5/200\n",
            "391/391 [==============================] - 13s 32ms/step - loss: 2.8555 - accuracy: 0.3136 - val_loss: 2.9077 - val_accuracy: 0.2963\n",
            "Epoch 6/200\n",
            "391/391 [==============================] - 13s 32ms/step - loss: 2.7254 - accuracy: 0.3376 - val_loss: 2.8029 - val_accuracy: 0.3202\n",
            "Epoch 7/200\n",
            "391/391 [==============================] - 12s 32ms/step - loss: 2.6158 - accuracy: 0.3592 - val_loss: 2.6775 - val_accuracy: 0.3419\n",
            "Epoch 8/200\n",
            "391/391 [==============================] - 13s 32ms/step - loss: 2.5141 - accuracy: 0.3801 - val_loss: 2.6200 - val_accuracy: 0.3540\n",
            "Epoch 9/200\n",
            "391/391 [==============================] - 13s 32ms/step - loss: 2.4215 - accuracy: 0.3990 - val_loss: 2.5642 - val_accuracy: 0.3643\n",
            "Epoch 10/200\n",
            "391/391 [==============================] - 12s 32ms/step - loss: 2.3360 - accuracy: 0.4177 - val_loss: 2.4691 - val_accuracy: 0.3816\n",
            "Epoch 11/200\n",
            "391/391 [==============================] - 12s 32ms/step - loss: 2.2591 - accuracy: 0.4343 - val_loss: 2.4381 - val_accuracy: 0.3875\n",
            "Epoch 12/200\n",
            "391/391 [==============================] - 12s 32ms/step - loss: 2.1890 - accuracy: 0.4489 - val_loss: 2.3541 - val_accuracy: 0.4079\n",
            "Epoch 13/200\n",
            "391/391 [==============================] - 12s 32ms/step - loss: 2.1269 - accuracy: 0.4660 - val_loss: 2.3482 - val_accuracy: 0.4133\n",
            "Epoch 14/200\n",
            "391/391 [==============================] - 12s 32ms/step - loss: 2.0708 - accuracy: 0.4772 - val_loss: 2.3236 - val_accuracy: 0.4145\n",
            "Epoch 15/200\n",
            "391/391 [==============================] - 12s 32ms/step - loss: 2.0150 - accuracy: 0.4917 - val_loss: 2.2467 - val_accuracy: 0.4345\n",
            "Epoch 16/200\n",
            "391/391 [==============================] - 12s 32ms/step - loss: 1.9658 - accuracy: 0.5012 - val_loss: 2.2446 - val_accuracy: 0.4293\n",
            "Epoch 17/200\n",
            "391/391 [==============================] - 12s 32ms/step - loss: 1.9201 - accuracy: 0.5121 - val_loss: 2.2637 - val_accuracy: 0.4289\n",
            "Epoch 18/200\n",
            "391/391 [==============================] - 12s 32ms/step - loss: 1.8773 - accuracy: 0.5225 - val_loss: 2.2375 - val_accuracy: 0.4322\n",
            "Epoch 19/200\n",
            "391/391 [==============================] - 12s 32ms/step - loss: 1.8356 - accuracy: 0.5312 - val_loss: 2.1036 - val_accuracy: 0.4604\n",
            "Epoch 20/200\n",
            "391/391 [==============================] - 12s 32ms/step - loss: 1.7979 - accuracy: 0.5411 - val_loss: 2.1287 - val_accuracy: 0.4533\n",
            "Epoch 21/200\n",
            "391/391 [==============================] - 12s 32ms/step - loss: 1.7589 - accuracy: 0.5494 - val_loss: 2.1314 - val_accuracy: 0.4624\n",
            "Epoch 22/200\n",
            "391/391 [==============================] - 12s 32ms/step - loss: 1.7242 - accuracy: 0.5605 - val_loss: 2.1616 - val_accuracy: 0.4542\n",
            "Epoch 23/200\n",
            "391/391 [==============================] - 12s 32ms/step - loss: 1.6897 - accuracy: 0.5667 - val_loss: 2.0324 - val_accuracy: 0.4803\n",
            "Epoch 24/200\n",
            "391/391 [==============================] - 12s 32ms/step - loss: 1.6566 - accuracy: 0.5745 - val_loss: 2.0460 - val_accuracy: 0.4716\n",
            "Epoch 25/200\n",
            "391/391 [==============================] - 12s 32ms/step - loss: 1.6265 - accuracy: 0.5832 - val_loss: 2.0264 - val_accuracy: 0.4820\n",
            "Epoch 26/200\n",
            "391/391 [==============================] - 13s 32ms/step - loss: 1.5954 - accuracy: 0.5900 - val_loss: 1.9991 - val_accuracy: 0.4865\n",
            "Epoch 27/200\n",
            "391/391 [==============================] - 12s 32ms/step - loss: 1.5673 - accuracy: 0.5988 - val_loss: 1.9938 - val_accuracy: 0.4880\n",
            "Epoch 28/200\n",
            "391/391 [==============================] - 12s 32ms/step - loss: 1.5398 - accuracy: 0.6052 - val_loss: 1.9829 - val_accuracy: 0.4896\n",
            "Epoch 29/200\n",
            "391/391 [==============================] - 12s 32ms/step - loss: 1.5116 - accuracy: 0.6124 - val_loss: 1.9486 - val_accuracy: 0.4992\n",
            "Epoch 30/200\n",
            "391/391 [==============================] - 12s 32ms/step - loss: 1.4838 - accuracy: 0.6175 - val_loss: 1.9269 - val_accuracy: 0.5014\n",
            "Epoch 31/200\n",
            "391/391 [==============================] - 12s 32ms/step - loss: 1.4604 - accuracy: 0.6232 - val_loss: 1.9863 - val_accuracy: 0.4930\n",
            "Epoch 32/200\n",
            "391/391 [==============================] - 12s 32ms/step - loss: 1.4329 - accuracy: 0.6326 - val_loss: 1.9852 - val_accuracy: 0.4917\n",
            "Epoch 33/200\n",
            "391/391 [==============================] - 12s 32ms/step - loss: 1.4069 - accuracy: 0.6368 - val_loss: 1.9169 - val_accuracy: 0.5068\n",
            "Epoch 34/200\n",
            "391/391 [==============================] - 12s 32ms/step - loss: 1.3837 - accuracy: 0.6427 - val_loss: 2.0426 - val_accuracy: 0.4816\n",
            "Epoch 35/200\n",
            "391/391 [==============================] - 12s 32ms/step - loss: 1.3596 - accuracy: 0.6487 - val_loss: 1.9189 - val_accuracy: 0.5072\n",
            "Epoch 36/200\n",
            "391/391 [==============================] - 12s 32ms/step - loss: 1.3353 - accuracy: 0.6559 - val_loss: 1.9242 - val_accuracy: 0.5093\n",
            "Epoch 37/200\n",
            "391/391 [==============================] - 12s 31ms/step - loss: 1.3130 - accuracy: 0.6609 - val_loss: 1.8729 - val_accuracy: 0.5230\n",
            "Epoch 38/200\n",
            "391/391 [==============================] - 12s 32ms/step - loss: 1.2918 - accuracy: 0.6669 - val_loss: 1.9032 - val_accuracy: 0.5122\n",
            "Epoch 39/200\n",
            "391/391 [==============================] - 12s 32ms/step - loss: 1.2669 - accuracy: 0.6735 - val_loss: 1.8937 - val_accuracy: 0.5116\n",
            "Epoch 40/200\n",
            "391/391 [==============================] - 12s 31ms/step - loss: 1.2455 - accuracy: 0.6806 - val_loss: 1.8900 - val_accuracy: 0.5152\n",
            "Epoch 41/200\n",
            "391/391 [==============================] - 12s 32ms/step - loss: 1.2252 - accuracy: 0.6859 - val_loss: 1.8572 - val_accuracy: 0.5221\n",
            "Epoch 42/200\n",
            "391/391 [==============================] - 12s 31ms/step - loss: 1.2047 - accuracy: 0.6900 - val_loss: 1.8568 - val_accuracy: 0.5195\n",
            "Epoch 43/200\n",
            "391/391 [==============================] - 12s 31ms/step - loss: 1.1833 - accuracy: 0.6951 - val_loss: 1.8818 - val_accuracy: 0.5202\n",
            "Epoch 44/200\n",
            "391/391 [==============================] - 12s 31ms/step - loss: 1.1615 - accuracy: 0.7033 - val_loss: 1.8691 - val_accuracy: 0.5243\n",
            "Epoch 45/200\n",
            "391/391 [==============================] - 12s 31ms/step - loss: 1.1419 - accuracy: 0.7075 - val_loss: 1.8658 - val_accuracy: 0.5238\n",
            "Epoch 46/200\n",
            "391/391 [==============================] - 12s 32ms/step - loss: 1.1214 - accuracy: 0.7128 - val_loss: 1.8844 - val_accuracy: 0.5188\n",
            "Epoch 47/200\n",
            "391/391 [==============================] - 12s 31ms/step - loss: 1.1030 - accuracy: 0.7175 - val_loss: 1.8400 - val_accuracy: 0.5314\n",
            "Epoch 48/200\n",
            "391/391 [==============================] - 12s 31ms/step - loss: 1.0820 - accuracy: 0.7252 - val_loss: 1.8862 - val_accuracy: 0.5200\n",
            "Epoch 49/200\n",
            "391/391 [==============================] - 12s 31ms/step - loss: 1.0645 - accuracy: 0.7288 - val_loss: 1.8958 - val_accuracy: 0.5169\n",
            "Epoch 50/200\n",
            "391/391 [==============================] - 12s 31ms/step - loss: 1.0445 - accuracy: 0.7350 - val_loss: 1.9040 - val_accuracy: 0.5191\n",
            "Epoch 51/200\n",
            "391/391 [==============================] - 13s 32ms/step - loss: 1.0275 - accuracy: 0.7392 - val_loss: 1.8806 - val_accuracy: 0.5209\n",
            "Epoch 52/200\n",
            "391/391 [==============================] - 12s 32ms/step - loss: 1.0089 - accuracy: 0.7472 - val_loss: 1.8802 - val_accuracy: 0.5274\n",
            "Epoch 53/200\n",
            "391/391 [==============================] - 12s 31ms/step - loss: 0.9877 - accuracy: 0.7523 - val_loss: 1.8558 - val_accuracy: 0.5262\n",
            "Epoch 54/200\n",
            "391/391 [==============================] - 12s 32ms/step - loss: 0.9717 - accuracy: 0.7555 - val_loss: 1.8728 - val_accuracy: 0.5282\n",
            "Epoch 55/200\n",
            "391/391 [==============================] - 12s 32ms/step - loss: 0.9525 - accuracy: 0.7627 - val_loss: 1.8898 - val_accuracy: 0.5272\n",
            "Epoch 56/200\n",
            "391/391 [==============================] - 12s 32ms/step - loss: 0.9376 - accuracy: 0.7646 - val_loss: 1.8936 - val_accuracy: 0.5277\n",
            "Epoch 57/200\n",
            "391/391 [==============================] - 12s 32ms/step - loss: 0.9171 - accuracy: 0.7718 - val_loss: 1.8580 - val_accuracy: 0.5314\n",
            "Epoch 58/200\n",
            "391/391 [==============================] - 12s 32ms/step - loss: 0.9008 - accuracy: 0.7751 - val_loss: 1.8511 - val_accuracy: 0.5341\n",
            "Epoch 59/200\n",
            "391/391 [==============================] - 12s 32ms/step - loss: 0.8852 - accuracy: 0.7810 - val_loss: 1.8795 - val_accuracy: 0.5287\n",
            "Epoch 60/200\n",
            "391/391 [==============================] - 12s 32ms/step - loss: 0.8676 - accuracy: 0.7876 - val_loss: 1.8829 - val_accuracy: 0.5255\n",
            "Epoch 61/200\n",
            "391/391 [==============================] - 12s 32ms/step - loss: 0.8496 - accuracy: 0.7912 - val_loss: 1.8703 - val_accuracy: 0.5316\n",
            "Epoch 62/200\n",
            "391/391 [==============================] - 12s 32ms/step - loss: 0.8327 - accuracy: 0.7976 - val_loss: 1.8843 - val_accuracy: 0.5322\n",
            "Epoch 63/200\n",
            "391/391 [==============================] - 12s 32ms/step - loss: 0.8170 - accuracy: 0.8008 - val_loss: 1.8402 - val_accuracy: 0.5355\n",
            "Epoch 64/200\n",
            "391/391 [==============================] - 12s 32ms/step - loss: 0.8031 - accuracy: 0.8049 - val_loss: 1.8993 - val_accuracy: 0.5245\n",
            "Epoch 65/200\n",
            "391/391 [==============================] - 12s 32ms/step - loss: 0.7859 - accuracy: 0.8116 - val_loss: 1.9285 - val_accuracy: 0.5214\n",
            "Epoch 66/200\n",
            "391/391 [==============================] - 12s 32ms/step - loss: 0.7687 - accuracy: 0.8179 - val_loss: 1.8702 - val_accuracy: 0.5357\n",
            "Epoch 67/200\n",
            "391/391 [==============================] - 12s 32ms/step - loss: 0.7550 - accuracy: 0.8207 - val_loss: 1.9082 - val_accuracy: 0.5337\n"
          ],
          "name": "stdout"
        }
      ]
    },
    {
      "cell_type": "code",
      "metadata": {
        "id": "dZuWXGeW-nqY",
        "outputId": "9770941d-7a64-45c3-f4a6-cb64ea5ea18c",
        "colab": {
          "base_uri": "https://localhost:8080/",
          "height": 590
        }
      },
      "source": [
        "import matplotlib.pyplot as plt\n",
        "import matplotlib.pyplot as plt2\n",
        "\n",
        "history_dict = history.history\n",
        "print(history_dict.keys())\n",
        "loss_values = history_dict['loss']\n",
        "val_loss_values = history_dict['val_loss']\n",
        "train_acc = history_dict['accuracy']\n",
        "test_acc = history_dict['val_accuracy']\n",
        "\n",
        "epochs = range(1, len(history_dict['accuracy']) + 1)\n",
        "\n",
        "plt.plot(epochs, loss_values, 'bo', label='Training loss')\n",
        "plt.plot(epochs, val_loss_values, 'b', label='Validation loss')\n",
        "plt.title('Training and validation loss')\n",
        "plt.xlabel('Epochs')\n",
        "plt.ylabel('Loss')\n",
        "plt.legend()\n",
        "\n",
        "plt.show()\n",
        "\n",
        "\n",
        "plt2.plot(epochs, train_acc, 'b', label='Training Accuracy')\n",
        "plt2.plot(epochs, test_acc, color = 'red', label='Validation Accuracy')\n",
        "plt2.title('Training and validation accuracy')\n",
        "plt2.xlabel('Epochs')\n",
        "plt2.ylabel('Accuracy')\n",
        "plt2.legend()\n",
        "\n",
        "plt2.show()"
      ],
      "execution_count": null,
      "outputs": [
        {
          "output_type": "stream",
          "text": [
            "dict_keys(['loss', 'accuracy', 'val_loss', 'val_accuracy'])\n"
          ],
          "name": "stdout"
        },
        {
          "output_type": "display_data",
          "data": {
            "image/png": "[encoded data removed]",
            "text/plain": [
              "<Figure size 432x288 with 1 Axes>"
            ]
          },
          "metadata": {
            "tags": [],
            "needs_background": "light"
          }
        },
        {
          "output_type": "display_data",
          "data": {
            "image/png": "[encoded data removed]",
            "text/plain": [
              "<Figure size 432x288 with 1 Axes>"
            ]
          },
          "metadata": {
            "tags": [],
            "needs_background": "light"
          }
        }
      ]
    },
    {
      "cell_type": "code",
      "metadata": {
        "id": "AfO0lHJIE0Gy",
        "outputId": "7edd5128-2f43-40f8-fdc8-657544469bdb",
        "colab": {
          "base_uri": "https://localhost:8080/",
          "height": 1000
        }
      },
      "source": [
        "y_pred = model.predict(x_test).argmax(-1)\n",
        "import sklearn.metrics as metrics\n",
        "print(metrics.classification_report(y_test.argmax(axis=1), y_pred))"
      ],
      "execution_count": null,
      "outputs": [
        {
          "output_type": "stream",
          "text": [
            "              precision    recall  f1-score   support\n",
            "\n",
            "           0       0.74      0.71      0.72       100\n",
            "           1       0.68      0.67      0.68       100\n",
            "           2       0.55      0.38      0.45       100\n",
            "           3       0.38      0.36      0.37       100\n",
            "           4       0.32      0.38      0.35       100\n",
            "           5       0.50      0.52      0.51       100\n",
            "           6       0.50      0.64      0.56       100\n",
            "           7       0.58      0.60      0.59       100\n",
            "           8       0.76      0.52      0.62       100\n",
            "           9       0.64      0.67      0.66       100\n",
            "          10       0.45      0.44      0.44       100\n",
            "          11       0.42      0.40      0.41       100\n",
            "          12       0.55      0.64      0.59       100\n",
            "          13       0.53      0.52      0.52       100\n",
            "          14       0.56      0.41      0.47       100\n",
            "          15       0.43      0.43      0.43       100\n",
            "          16       0.64      0.55      0.59       100\n",
            "          17       0.65      0.70      0.68       100\n",
            "          18       0.53      0.43      0.48       100\n",
            "          19       0.43      0.51      0.47       100\n",
            "          20       0.82      0.70      0.76       100\n",
            "          21       0.66      0.72      0.69       100\n",
            "          22       0.62      0.37      0.46       100\n",
            "          23       0.72      0.74      0.73       100\n",
            "          24       0.65      0.65      0.65       100\n",
            "          25       0.30      0.43      0.36       100\n",
            "          26       0.65      0.47      0.55       100\n",
            "          27       0.42      0.48      0.45       100\n",
            "          28       0.72      0.71      0.71       100\n",
            "          29       0.52      0.46      0.49       100\n",
            "          30       0.46      0.57      0.51       100\n",
            "          31       0.42      0.56      0.48       100\n",
            "          32       0.56      0.36      0.44       100\n",
            "          33       0.50      0.47      0.48       100\n",
            "          34       0.44      0.61      0.51       100\n",
            "          35       0.28      0.35      0.31       100\n",
            "          36       0.40      0.61      0.48       100\n",
            "          37       0.57      0.59      0.58       100\n",
            "          38       0.31      0.52      0.39       100\n",
            "          39       0.67      0.54      0.60       100\n",
            "          40       0.46      0.46      0.46       100\n",
            "          41       0.83      0.71      0.76       100\n",
            "          42       0.55      0.58      0.57       100\n",
            "          43       0.46      0.59      0.52       100\n",
            "          44       0.29      0.23      0.26       100\n",
            "          45       0.52      0.37      0.43       100\n",
            "          46       0.37      0.36      0.37       100\n",
            "          47       0.57      0.53      0.55       100\n",
            "          48       0.73      0.85      0.79       100\n",
            "          49       0.63      0.62      0.62       100\n",
            "          50       0.30      0.32      0.31       100\n",
            "          51       0.49      0.53      0.51       100\n",
            "          52       0.67      0.68      0.68       100\n",
            "          53       0.62      0.89      0.73       100\n",
            "          54       0.57      0.70      0.63       100\n",
            "          55       0.15      0.12      0.13       100\n",
            "          56       0.73      0.69      0.71       100\n",
            "          57       0.56      0.58      0.57       100\n",
            "          58       0.65      0.57      0.61       100\n",
            "          59       0.58      0.54      0.56       100\n",
            "          60       0.71      0.82      0.76       100\n",
            "          61       0.72      0.58      0.64       100\n",
            "          62       0.61      0.60      0.61       100\n",
            "          63       0.56      0.48      0.52       100\n",
            "          64       0.33      0.27      0.30       100\n",
            "          65       0.35      0.32      0.34       100\n",
            "          66       0.38      0.48      0.42       100\n",
            "          67       0.42      0.37      0.39       100\n",
            "          68       0.85      0.78      0.81       100\n",
            "          69       0.63      0.72      0.67       100\n",
            "          70       0.61      0.60      0.61       100\n",
            "          71       0.71      0.60      0.65       100\n",
            "          72       0.26      0.17      0.20       100\n",
            "          73       0.47      0.38      0.42       100\n",
            "          74       0.35      0.31      0.33       100\n",
            "          75       0.84      0.65      0.73       100\n",
            "          76       0.74      0.71      0.72       100\n",
            "          77       0.38      0.52      0.44       100\n",
            "          78       0.45      0.23      0.30       100\n",
            "          79       0.62      0.53      0.57       100\n",
            "          80       0.29      0.34      0.31       100\n",
            "          81       0.54      0.61      0.58       100\n",
            "          82       0.74      0.80      0.77       100\n",
            "          83       0.51      0.47      0.49       100\n",
            "          84       0.42      0.50      0.46       100\n",
            "          85       0.56      0.64      0.60       100\n",
            "          86       0.61      0.54      0.57       100\n",
            "          87       0.55      0.58      0.57       100\n",
            "          88       0.57      0.67      0.62       100\n",
            "          89       0.67      0.60      0.63       100\n",
            "          90       0.66      0.53      0.59       100\n",
            "          91       0.65      0.62      0.63       100\n",
            "          92       0.49      0.51      0.50       100\n",
            "          93       0.40      0.32      0.36       100\n",
            "          94       0.76      0.88      0.81       100\n",
            "          95       0.56      0.56      0.56       100\n",
            "          96       0.47      0.51      0.49       100\n",
            "          97       0.45      0.57      0.50       100\n",
            "          98       0.31      0.30      0.30       100\n",
            "          99       0.61      0.39      0.48       100\n",
            "\n",
            "    accuracy                           0.53     10000\n",
            "   macro avg       0.54      0.53      0.53     10000\n",
            "weighted avg       0.54      0.53      0.53     10000\n",
            "\n"
          ],
          "name": "stdout"
        }
      ]
    },
    {
      "cell_type": "code",
      "metadata": {
        "id": "XI7TqTg5ozTB"
      },
      "source": [
        ""
      ],
      "execution_count": null,
      "outputs": []
    },
    {
      "cell_type": "markdown",
      "metadata": {
        "id": "v1M94nUIEncw"
      },
      "source": [
        "TESTS"
      ]
    },
    {
      "cell_type": "code",
      "metadata": {
        "id": "T4Smel9NqS1r"
      },
      "source": [
        "model.load_weights(filepath=F\"/content/gdrive/My Drive/Checkpoints/ResNet18_SGD_BatchNormalization.h5\")\n",
        "# model.load_weights(\"ResNet18_ADAM_Dropout.h5\")"
      ],
      "execution_count": 17,
      "outputs": []
    },
    {
      "cell_type": "code",
      "metadata": {
        "id": "b0XDBMyDq0d3",
        "outputId": "28fb8f77-d215-4398-c2a5-461ac1bd388f",
        "colab": {
          "base_uri": "https://localhost:8080/",
          "height": 54
        }
      },
      "source": [
        "result = model.evaluate(batch_size=128, x=x_test, y=y_test)\n",
        "dict(zip(model.metrics_names,result))"
      ],
      "execution_count": 18,
      "outputs": [
        {
          "output_type": "stream",
          "text": [
            "79/79 [==============================] - 1s 12ms/step - loss: 1.9082 - accuracy: 0.5337\n"
          ],
          "name": "stdout"
        },
        {
          "output_type": "execute_result",
          "data": {
            "text/plain": [
              "{'accuracy': 0.5336999893188477, 'loss': 1.9081732034683228}"
            ]
          },
          "metadata": {
            "tags": []
          },
          "execution_count": 18
        }
      ]
    },
    {
      "cell_type": "code",
      "metadata": {
        "id": "fbJs_Sl9Pu5x"
      },
      "source": [
        ""
      ],
      "execution_count": null,
      "outputs": []
    }
  ]
}