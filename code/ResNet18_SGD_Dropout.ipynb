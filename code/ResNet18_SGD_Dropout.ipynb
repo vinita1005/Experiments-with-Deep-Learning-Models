{
  "nbformat": 4,
  "nbformat_minor": 0,
  "metadata": {
    "colab": {
      "name": "ResNet18_SGD_Dropout.ipynb",
      "provenance": [],
      "collapsed_sections": []
    },
    "kernelspec": {
      "name": "python3",
      "display_name": "Python 3"
    },
    "accelerator": "GPU"
  },
  "cells": [
    {
      "cell_type": "markdown",
      "metadata": {
        "id": "vh7P5M1mq6Y-"
      },
      "source": [
        "## Load DataSet"
      ]
    },
    {
      "cell_type": "code",
      "metadata": {
        "id": "AubeCh7dqp5j",
        "outputId": "25b0dd61-4589-4aa4-e7f0-191e3a9c857c",
        "colab": {
          "base_uri": "https://localhost:8080/",
          "height": 35
        }
      },
      "source": [
        "from google.colab import drive\n",
        "drive.mount('/content/gdrive')"
      ],
      "execution_count": null,
      "outputs": [
        {
          "output_type": "stream",
          "text": [
            "Mounted at /content/gdrive\n"
          ],
          "name": "stdout"
        }
      ]
    },
    {
      "cell_type": "code",
      "metadata": {
        "id": "ixBthpNWrKzY"
      },
      "source": [
        "from keras.datasets import cifar100\n",
        "from keras.utils import to_categorical\n",
        "import numpy as np\n",
        "import cv2\n",
        "import os\n",
        "from keras import backend as K"
      ],
      "execution_count": null,
      "outputs": []
    },
    {
      "cell_type": "code",
      "metadata": {
        "id": "d14LEXbNqu68",
        "outputId": "cf4fd107-6b2d-4d28-e421-f8871b02c8b1",
        "colab": {
          "base_uri": "https://localhost:8080/",
          "height": 54
        }
      },
      "source": [
        "(x_train, y_train_), (x_test, y_test_) = cifar100.load_data()\n"
      ],
      "execution_count": null,
      "outputs": [
        {
          "output_type": "stream",
          "text": [
            "Downloading data from https://www.cs.toronto.edu/~kriz/cifar-100-python.tar.gz\n",
            "169009152/169001437 [==============================] - 6s 0us/step\n"
          ],
          "name": "stdout"
        }
      ]
    },
    {
      "cell_type": "code",
      "metadata": {
        "id": "p4lTzEl8djyJ"
      },
      "source": [
        "x_train = x_train.astype('float32') / 255\n",
        "x_test = x_test.astype('float32') / 255"
      ],
      "execution_count": null,
      "outputs": []
    },
    {
      "cell_type": "code",
      "metadata": {
        "id": "6h_PwVSJrWjf"
      },
      "source": [
        "y_train = to_categorical(y_train_)\n",
        "y_test = to_categorical(y_test_)"
      ],
      "execution_count": null,
      "outputs": []
    },
    {
      "cell_type": "markdown",
      "metadata": {
        "id": "JNKd1ENdqz9c"
      },
      "source": [
        "## ResNet18 Model"
      ]
    },
    {
      "cell_type": "code",
      "metadata": {
        "id": "DlX5MwqCoSEF"
      },
      "source": [
        "import keras\n",
        "from keras.models import Model\n",
        "from keras.layers import Dense, Activation, Dropout, Flatten, Reshape\n",
        "from keras.layers import Conv2D, Input\n",
        "from keras.layers import MaxPooling2D, AveragePooling2D, Dropout\n",
        "from keras.callbacks import EarlyStopping\n",
        "from keras.layers.merge import concatenate\n",
        "from keras.regularizers import l2\n",
        "import os"
      ],
      "execution_count": null,
      "outputs": []
    },
    {
      "cell_type": "code",
      "metadata": {
        "id": "RfDkIclipUCR"
      },
      "source": [
        "input_shape = (32, 32, 3)\n",
        "input = Input(shape=input_shape)\n",
        "x = Conv2D(kernel_size=3, filters=16, strides=1, padding='same', kernel_regularizer=l2(1e-4))(input)\n",
        "x = Activation('elu')(x)"
      ],
      "execution_count": null,
      "outputs": []
    },
    {
      "cell_type": "code",
      "metadata": {
        "id": "WBA3W_AW9Yr0"
      },
      "source": [
        "#Stack 1\n",
        "for block in range(2):\n",
        "  y = Activation('elu')(x)\n",
        "  y = Dropout(0.2)(y)\n",
        "  y = Conv2D(kernel_size=3, filters=16, strides=1, padding='same', kernel_initializer='he_normal', kernel_regularizer=l2(1e-4))(y)\n",
        "  y = Activation('elu')(x)\n",
        "  y = Dropout(0.2)(y)\n",
        "  y = Conv2D(kernel_size=3, filters=16, strides=1, padding='same', kernel_regularizer=l2(1e-4))(y)\n",
        "\n",
        "  x = keras.layers.add([y, x])\n",
        "  x = Activation('elu')(x)\n",
        "\n",
        "#Stack 2\n",
        "for block in range(2):\n",
        "  y = Activation('elu')(x)\n",
        "  y = Dropout(0.2)(y)\n",
        "  y = Conv2D(kernel_size=3, filters=32, strides=1, padding='same', kernel_initializer='he_normal', kernel_regularizer=l2(1e-4))(y)\n",
        "  y = Activation('elu')(x)\n",
        "  y = Dropout(0.2)(y)\n",
        "  y = Conv2D(kernel_size=3, filters=32, strides=1, padding='same', kernel_regularizer=l2(1e-4))(y)\n",
        "  if block == 0:\n",
        "    x_2 = Conv2D(kernel_size=1, filters=32, strides=1, padding='same')(x)\n",
        "  else:\n",
        "    x_2 = x\n",
        "  x = keras.layers.add([y, x_2])\n",
        "  x = Activation('elu')(x)\n",
        "\n",
        "#Stack 3\n",
        "for block in range(2):\n",
        "  y = Activation('elu')(x)\n",
        "  y = Dropout(0.2)(y)\n",
        "  y = Conv2D(kernel_size=3, filters=64, strides=1, padding='same', kernel_initializer='he_normal', kernel_regularizer=l2(1e-4))(y)\n",
        "  y = Activation('elu')(x)\n",
        "  y = Dropout(0.2)(y)\n",
        "  y = Conv2D(kernel_size=3, filters=64, strides=1, padding='same', kernel_regularizer=l2(1e-4))(y)\n",
        "  if block == 0:\n",
        "    x_2 = Conv2D(kernel_size=1, filters=64, strides=1, padding='same')(x)\n",
        "  else:\n",
        "    x_2 = x\n",
        "  x = keras.layers.add([y, x_2])\n",
        "  x = Activation('elu')(x)\n",
        "\n",
        "#Stack 4\n",
        "for block in range(2):\n",
        "  y = Activation('elu')(x)\n",
        "  y = Dropout(0.2)(y)\n",
        "  y = Conv2D(kernel_size=3, filters=128, strides=1, padding='same', kernel_initializer='he_normal', kernel_regularizer=l2(1e-4))(y)\n",
        "  y = Activation('elu')(x)\n",
        "  y = Dropout(0.2)(y)\n",
        "  y = Conv2D(kernel_size=3, filters=128, strides=1, padding='same', kernel_regularizer=l2(1e-4))(y)\n",
        "  if block == 0:\n",
        "    x_2 = Conv2D(kernel_size=1, filters=128, strides=1, padding='same')(x)\n",
        "  else:\n",
        "    x_2 = x\n",
        "  x = keras.layers.add([y, x_2])\n",
        "  x = Activation('elu')(x)"
      ],
      "execution_count": null,
      "outputs": []
    },
    {
      "cell_type": "code",
      "metadata": {
        "id": "tVSQG--VVdUI"
      },
      "source": [
        "x = Activation('elu')(x)\n",
        "x = Dropout(0.2)(x)\n",
        "x = AveragePooling2D(pool_size=8)(x)\n",
        "output = Flatten()(x)\n",
        "output = Dense(100, activation='softmax', kernel_initializer='he_normal')(output)"
      ],
      "execution_count": null,
      "outputs": []
    },
    {
      "cell_type": "code",
      "metadata": {
        "id": "DSj5_am_WJaS",
        "outputId": "59e6b199-2895-49dc-efce-082c06ed31b9",
        "colab": {
          "base_uri": "https://localhost:8080/",
          "height": 1000
        }
      },
      "source": [
        "model = Model(inputs=input, outputs=output)\n",
        "model.summary()"
      ],
      "execution_count": null,
      "outputs": [
        {
          "output_type": "stream",
          "text": [
            "Model: \"functional_1\"\n",
            "__________________________________________________________________________________________________\n",
            "Layer (type)                    Output Shape         Param #     Connected to                     \n",
            "==================================================================================================\n",
            "input_1 (InputLayer)            [(None, 32, 32, 3)]  0                                            \n",
            "__________________________________________________________________________________________________\n",
            "conv2d (Conv2D)                 (None, 32, 32, 16)   448         input_1[0][0]                    \n",
            "__________________________________________________________________________________________________\n",
            "activation (Activation)         (None, 32, 32, 16)   0           conv2d[0][0]                     \n",
            "__________________________________________________________________________________________________\n",
            "activation_2 (Activation)       (None, 32, 32, 16)   0           activation[0][0]                 \n",
            "__________________________________________________________________________________________________\n",
            "dropout_1 (Dropout)             (None, 32, 32, 16)   0           activation_2[0][0]               \n",
            "__________________________________________________________________________________________________\n",
            "conv2d_2 (Conv2D)               (None, 32, 32, 16)   2320        dropout_1[0][0]                  \n",
            "__________________________________________________________________________________________________\n",
            "add (Add)                       (None, 32, 32, 16)   0           conv2d_2[0][0]                   \n",
            "                                                                 activation[0][0]                 \n",
            "__________________________________________________________________________________________________\n",
            "activation_3 (Activation)       (None, 32, 32, 16)   0           add[0][0]                        \n",
            "__________________________________________________________________________________________________\n",
            "activation_5 (Activation)       (None, 32, 32, 16)   0           activation_3[0][0]               \n",
            "__________________________________________________________________________________________________\n",
            "dropout_3 (Dropout)             (None, 32, 32, 16)   0           activation_5[0][0]               \n",
            "__________________________________________________________________________________________________\n",
            "conv2d_4 (Conv2D)               (None, 32, 32, 16)   2320        dropout_3[0][0]                  \n",
            "__________________________________________________________________________________________________\n",
            "add_1 (Add)                     (None, 32, 32, 16)   0           conv2d_4[0][0]                   \n",
            "                                                                 activation_3[0][0]               \n",
            "__________________________________________________________________________________________________\n",
            "activation_6 (Activation)       (None, 32, 32, 16)   0           add_1[0][0]                      \n",
            "__________________________________________________________________________________________________\n",
            "activation_8 (Activation)       (None, 32, 32, 16)   0           activation_6[0][0]               \n",
            "__________________________________________________________________________________________________\n",
            "dropout_5 (Dropout)             (None, 32, 32, 16)   0           activation_8[0][0]               \n",
            "__________________________________________________________________________________________________\n",
            "conv2d_6 (Conv2D)               (None, 32, 32, 32)   4640        dropout_5[0][0]                  \n",
            "__________________________________________________________________________________________________\n",
            "conv2d_7 (Conv2D)               (None, 32, 32, 32)   544         activation_6[0][0]               \n",
            "__________________________________________________________________________________________________\n",
            "add_2 (Add)                     (None, 32, 32, 32)   0           conv2d_6[0][0]                   \n",
            "                                                                 conv2d_7[0][0]                   \n",
            "__________________________________________________________________________________________________\n",
            "activation_9 (Activation)       (None, 32, 32, 32)   0           add_2[0][0]                      \n",
            "__________________________________________________________________________________________________\n",
            "activation_11 (Activation)      (None, 32, 32, 32)   0           activation_9[0][0]               \n",
            "__________________________________________________________________________________________________\n",
            "dropout_7 (Dropout)             (None, 32, 32, 32)   0           activation_11[0][0]              \n",
            "__________________________________________________________________________________________________\n",
            "conv2d_9 (Conv2D)               (None, 32, 32, 32)   9248        dropout_7[0][0]                  \n",
            "__________________________________________________________________________________________________\n",
            "add_3 (Add)                     (None, 32, 32, 32)   0           conv2d_9[0][0]                   \n",
            "                                                                 activation_9[0][0]               \n",
            "__________________________________________________________________________________________________\n",
            "activation_12 (Activation)      (None, 32, 32, 32)   0           add_3[0][0]                      \n",
            "__________________________________________________________________________________________________\n",
            "activation_14 (Activation)      (None, 32, 32, 32)   0           activation_12[0][0]              \n",
            "__________________________________________________________________________________________________\n",
            "dropout_9 (Dropout)             (None, 32, 32, 32)   0           activation_14[0][0]              \n",
            "__________________________________________________________________________________________________\n",
            "conv2d_11 (Conv2D)              (None, 32, 32, 64)   18496       dropout_9[0][0]                  \n",
            "__________________________________________________________________________________________________\n",
            "conv2d_12 (Conv2D)              (None, 32, 32, 64)   2112        activation_12[0][0]              \n",
            "__________________________________________________________________________________________________\n",
            "add_4 (Add)                     (None, 32, 32, 64)   0           conv2d_11[0][0]                  \n",
            "                                                                 conv2d_12[0][0]                  \n",
            "__________________________________________________________________________________________________\n",
            "activation_15 (Activation)      (None, 32, 32, 64)   0           add_4[0][0]                      \n",
            "__________________________________________________________________________________________________\n",
            "activation_17 (Activation)      (None, 32, 32, 64)   0           activation_15[0][0]              \n",
            "__________________________________________________________________________________________________\n",
            "dropout_11 (Dropout)            (None, 32, 32, 64)   0           activation_17[0][0]              \n",
            "__________________________________________________________________________________________________\n",
            "conv2d_14 (Conv2D)              (None, 32, 32, 64)   36928       dropout_11[0][0]                 \n",
            "__________________________________________________________________________________________________\n",
            "add_5 (Add)                     (None, 32, 32, 64)   0           conv2d_14[0][0]                  \n",
            "                                                                 activation_15[0][0]              \n",
            "__________________________________________________________________________________________________\n",
            "activation_18 (Activation)      (None, 32, 32, 64)   0           add_5[0][0]                      \n",
            "__________________________________________________________________________________________________\n",
            "activation_20 (Activation)      (None, 32, 32, 64)   0           activation_18[0][0]              \n",
            "__________________________________________________________________________________________________\n",
            "dropout_13 (Dropout)            (None, 32, 32, 64)   0           activation_20[0][0]              \n",
            "__________________________________________________________________________________________________\n",
            "conv2d_16 (Conv2D)              (None, 32, 32, 128)  73856       dropout_13[0][0]                 \n",
            "__________________________________________________________________________________________________\n",
            "conv2d_17 (Conv2D)              (None, 32, 32, 128)  8320        activation_18[0][0]              \n",
            "__________________________________________________________________________________________________\n",
            "add_6 (Add)                     (None, 32, 32, 128)  0           conv2d_16[0][0]                  \n",
            "                                                                 conv2d_17[0][0]                  \n",
            "__________________________________________________________________________________________________\n",
            "activation_21 (Activation)      (None, 32, 32, 128)  0           add_6[0][0]                      \n",
            "__________________________________________________________________________________________________\n",
            "activation_23 (Activation)      (None, 32, 32, 128)  0           activation_21[0][0]              \n",
            "__________________________________________________________________________________________________\n",
            "dropout_15 (Dropout)            (None, 32, 32, 128)  0           activation_23[0][0]              \n",
            "__________________________________________________________________________________________________\n",
            "conv2d_19 (Conv2D)              (None, 32, 32, 128)  147584      dropout_15[0][0]                 \n",
            "__________________________________________________________________________________________________\n",
            "add_7 (Add)                     (None, 32, 32, 128)  0           conv2d_19[0][0]                  \n",
            "                                                                 activation_21[0][0]              \n",
            "__________________________________________________________________________________________________\n",
            "activation_24 (Activation)      (None, 32, 32, 128)  0           add_7[0][0]                      \n",
            "__________________________________________________________________________________________________\n",
            "activation_25 (Activation)      (None, 32, 32, 128)  0           activation_24[0][0]              \n",
            "__________________________________________________________________________________________________\n",
            "dropout_16 (Dropout)            (None, 32, 32, 128)  0           activation_25[0][0]              \n",
            "__________________________________________________________________________________________________\n",
            "average_pooling2d (AveragePooli (None, 4, 4, 128)    0           dropout_16[0][0]                 \n",
            "__________________________________________________________________________________________________\n",
            "flatten (Flatten)               (None, 2048)         0           average_pooling2d[0][0]          \n",
            "__________________________________________________________________________________________________\n",
            "dense (Dense)                   (None, 100)          204900      flatten[0][0]                    \n",
            "==================================================================================================\n",
            "Total params: 511,716\n",
            "Trainable params: 511,716\n",
            "Non-trainable params: 0\n",
            "__________________________________________________________________________________________________\n"
          ],
          "name": "stdout"
        }
      ]
    },
    {
      "cell_type": "code",
      "metadata": {
        "id": "LaQF3uMDWQQh",
        "outputId": "c2930979-2287-4d95-9b4d-3aab40f9d291",
        "colab": {
          "base_uri": "https://localhost:8080/",
          "height": 1000
        }
      },
      "source": [
        "opt = keras.optimizers.SGD(learning_rate=0.01, clipnorm=5)\n",
        "model.compile(loss=keras.losses.categorical_crossentropy, optimizer=opt, metrics=[\"accuracy\"])\n",
        "callback = EarlyStopping(monitor='val_loss', patience=20)\n",
        "history = model.fit(x_train, y_train, batch_size=128, epochs=200, verbose=1, validation_data=(x_test, y_test), callbacks=[callback])\n",
        "model.save_weights(filepath=F\"/content/gdrive/My Drive/Checkpoints/ResNet18_SGD_Dropout.h5\")"
      ],
      "execution_count": null,
      "outputs": [
        {
          "output_type": "stream",
          "text": [
            "Epoch 1/200\n",
            "391/391 [==============================] - 21s 54ms/step - loss: 4.3233 - accuracy: 0.0543 - val_loss: 4.0409 - val_accuracy: 0.0910\n",
            "Epoch 2/200\n",
            "391/391 [==============================] - 20s 52ms/step - loss: 3.8230 - accuracy: 0.1299 - val_loss: 3.7991 - val_accuracy: 0.1358\n",
            "Epoch 3/200\n",
            "391/391 [==============================] - 20s 52ms/step - loss: 3.6032 - accuracy: 0.1701 - val_loss: 3.5521 - val_accuracy: 0.1826\n",
            "Epoch 4/200\n",
            "391/391 [==============================] - 20s 52ms/step - loss: 3.4612 - accuracy: 0.1923 - val_loss: 3.4781 - val_accuracy: 0.1937\n",
            "Epoch 5/200\n",
            "391/391 [==============================] - 20s 52ms/step - loss: 3.3583 - accuracy: 0.2118 - val_loss: 3.3568 - val_accuracy: 0.2205\n",
            "Epoch 6/200\n",
            "391/391 [==============================] - 20s 52ms/step - loss: 3.2505 - accuracy: 0.2346 - val_loss: 3.5180 - val_accuracy: 0.1973\n",
            "Epoch 7/200\n",
            "391/391 [==============================] - 20s 52ms/step - loss: 3.1534 - accuracy: 0.2522 - val_loss: 3.1889 - val_accuracy: 0.2509\n",
            "Epoch 8/200\n",
            "391/391 [==============================] - 20s 52ms/step - loss: 3.0539 - accuracy: 0.2711 - val_loss: 3.1817 - val_accuracy: 0.2544\n",
            "Epoch 9/200\n",
            "391/391 [==============================] - 20s 52ms/step - loss: 2.9604 - accuracy: 0.2896 - val_loss: 3.1261 - val_accuracy: 0.2685\n",
            "Epoch 10/200\n",
            "391/391 [==============================] - 21s 52ms/step - loss: 2.8723 - accuracy: 0.3096 - val_loss: 2.9513 - val_accuracy: 0.2988\n",
            "Epoch 11/200\n",
            "391/391 [==============================] - 20s 52ms/step - loss: 2.7857 - accuracy: 0.3277 - val_loss: 2.9576 - val_accuracy: 0.2982\n",
            "Epoch 12/200\n",
            "391/391 [==============================] - 21s 53ms/step - loss: 2.7095 - accuracy: 0.3396 - val_loss: 2.8753 - val_accuracy: 0.3122\n",
            "Epoch 13/200\n",
            "391/391 [==============================] - 21s 53ms/step - loss: 2.6366 - accuracy: 0.3560 - val_loss: 2.8729 - val_accuracy: 0.3126\n",
            "Epoch 14/200\n",
            "391/391 [==============================] - 21s 53ms/step - loss: 2.5672 - accuracy: 0.3681 - val_loss: 2.7603 - val_accuracy: 0.3397\n",
            "Epoch 15/200\n",
            "391/391 [==============================] - 21s 52ms/step - loss: 2.5077 - accuracy: 0.3816 - val_loss: 2.7198 - val_accuracy: 0.3445\n",
            "Epoch 16/200\n",
            "391/391 [==============================] - 21s 53ms/step - loss: 2.4469 - accuracy: 0.3952 - val_loss: 2.6545 - val_accuracy: 0.3584\n",
            "Epoch 17/200\n",
            "391/391 [==============================] - 21s 53ms/step - loss: 2.3863 - accuracy: 0.4085 - val_loss: 2.6600 - val_accuracy: 0.3628\n",
            "Epoch 18/200\n",
            "391/391 [==============================] - 21s 53ms/step - loss: 2.3343 - accuracy: 0.4186 - val_loss: 2.6142 - val_accuracy: 0.3674\n",
            "Epoch 19/200\n",
            "391/391 [==============================] - 20s 52ms/step - loss: 2.2793 - accuracy: 0.4292 - val_loss: 2.5630 - val_accuracy: 0.3799\n",
            "Epoch 20/200\n",
            "391/391 [==============================] - 21s 53ms/step - loss: 2.2322 - accuracy: 0.4430 - val_loss: 2.5322 - val_accuracy: 0.3849\n",
            "Epoch 21/200\n",
            "391/391 [==============================] - 21s 53ms/step - loss: 2.1824 - accuracy: 0.4514 - val_loss: 2.5193 - val_accuracy: 0.3865\n",
            "Epoch 22/200\n",
            "391/391 [==============================] - 21s 53ms/step - loss: 2.1354 - accuracy: 0.4617 - val_loss: 2.5177 - val_accuracy: 0.3919\n",
            "Epoch 23/200\n",
            "391/391 [==============================] - 21s 52ms/step - loss: 2.0888 - accuracy: 0.4711 - val_loss: 2.4833 - val_accuracy: 0.3946\n",
            "Epoch 24/200\n",
            "391/391 [==============================] - 21s 53ms/step - loss: 2.0476 - accuracy: 0.4814 - val_loss: 2.4385 - val_accuracy: 0.4063\n",
            "Epoch 25/200\n",
            "391/391 [==============================] - 21s 53ms/step - loss: 2.0091 - accuracy: 0.4887 - val_loss: 2.4397 - val_accuracy: 0.4109\n",
            "Epoch 26/200\n",
            "391/391 [==============================] - 21s 53ms/step - loss: 1.9672 - accuracy: 0.4975 - val_loss: 2.4323 - val_accuracy: 0.4102\n",
            "Epoch 27/200\n",
            "391/391 [==============================] - 21s 53ms/step - loss: 1.9306 - accuracy: 0.5083 - val_loss: 2.4263 - val_accuracy: 0.4151\n",
            "Epoch 28/200\n",
            "391/391 [==============================] - 21s 53ms/step - loss: 1.8918 - accuracy: 0.5150 - val_loss: 2.3845 - val_accuracy: 0.4201\n",
            "Epoch 29/200\n",
            "391/391 [==============================] - 21s 53ms/step - loss: 1.8548 - accuracy: 0.5215 - val_loss: 2.4269 - val_accuracy: 0.4234\n",
            "Epoch 30/200\n",
            "391/391 [==============================] - 21s 53ms/step - loss: 1.8155 - accuracy: 0.5315 - val_loss: 2.3629 - val_accuracy: 0.4302\n",
            "Epoch 31/200\n",
            "391/391 [==============================] - 21s 53ms/step - loss: 1.7893 - accuracy: 0.5390 - val_loss: 2.3615 - val_accuracy: 0.4294\n",
            "Epoch 32/200\n",
            "391/391 [==============================] - 21s 53ms/step - loss: 1.7532 - accuracy: 0.5482 - val_loss: 2.3813 - val_accuracy: 0.4305\n",
            "Epoch 33/200\n",
            "391/391 [==============================] - 21s 53ms/step - loss: 1.7180 - accuracy: 0.5571 - val_loss: 2.3479 - val_accuracy: 0.4366\n",
            "Epoch 34/200\n",
            "391/391 [==============================] - 21s 53ms/step - loss: 1.6853 - accuracy: 0.5638 - val_loss: 2.3778 - val_accuracy: 0.4418\n",
            "Epoch 35/200\n",
            "391/391 [==============================] - 21s 53ms/step - loss: 1.6608 - accuracy: 0.5672 - val_loss: 2.3552 - val_accuracy: 0.4362\n",
            "Epoch 36/200\n",
            "391/391 [==============================] - 21s 53ms/step - loss: 1.6272 - accuracy: 0.5744 - val_loss: 2.3239 - val_accuracy: 0.4428\n",
            "Epoch 37/200\n",
            "391/391 [==============================] - 21s 53ms/step - loss: 1.5954 - accuracy: 0.5840 - val_loss: 2.3744 - val_accuracy: 0.4408\n",
            "Epoch 38/200\n",
            "391/391 [==============================] - 21s 53ms/step - loss: 1.5638 - accuracy: 0.5906 - val_loss: 2.3313 - val_accuracy: 0.4497\n",
            "Epoch 39/200\n",
            "391/391 [==============================] - 21s 53ms/step - loss: 1.5377 - accuracy: 0.5956 - val_loss: 2.3471 - val_accuracy: 0.4508\n",
            "Epoch 40/200\n",
            "391/391 [==============================] - 21s 53ms/step - loss: 1.5133 - accuracy: 0.6037 - val_loss: 2.3454 - val_accuracy: 0.4542\n",
            "Epoch 41/200\n",
            "391/391 [==============================] - 21s 53ms/step - loss: 1.4823 - accuracy: 0.6093 - val_loss: 2.3022 - val_accuracy: 0.4628\n",
            "Epoch 42/200\n",
            "391/391 [==============================] - 21s 53ms/step - loss: 1.4526 - accuracy: 0.6150 - val_loss: 2.3557 - val_accuracy: 0.4563\n",
            "Epoch 43/200\n",
            "391/391 [==============================] - 21s 53ms/step - loss: 1.4266 - accuracy: 0.6221 - val_loss: 2.3182 - val_accuracy: 0.4632\n",
            "Epoch 44/200\n",
            "391/391 [==============================] - 21s 53ms/step - loss: 1.3986 - accuracy: 0.6314 - val_loss: 2.3151 - val_accuracy: 0.4702\n",
            "Epoch 45/200\n",
            "391/391 [==============================] - 21s 52ms/step - loss: 1.3750 - accuracy: 0.6354 - val_loss: 2.3619 - val_accuracy: 0.4606\n",
            "Epoch 46/200\n",
            "391/391 [==============================] - 21s 52ms/step - loss: 1.3469 - accuracy: 0.6412 - val_loss: 2.4161 - val_accuracy: 0.4536\n",
            "Epoch 47/200\n",
            "391/391 [==============================] - 21s 53ms/step - loss: 1.3215 - accuracy: 0.6463 - val_loss: 2.3245 - val_accuracy: 0.4674\n",
            "Epoch 48/200\n",
            "391/391 [==============================] - 21s 53ms/step - loss: 1.2968 - accuracy: 0.6559 - val_loss: 2.3434 - val_accuracy: 0.4676\n",
            "Epoch 49/200\n",
            "391/391 [==============================] - 21s 53ms/step - loss: 1.2732 - accuracy: 0.6592 - val_loss: 2.4088 - val_accuracy: 0.4612\n",
            "Epoch 50/200\n",
            "391/391 [==============================] - 21s 52ms/step - loss: 1.2495 - accuracy: 0.6639 - val_loss: 2.4899 - val_accuracy: 0.4537\n",
            "Epoch 51/200\n",
            "391/391 [==============================] - 21s 53ms/step - loss: 1.2256 - accuracy: 0.6718 - val_loss: 2.4217 - val_accuracy: 0.4647\n",
            "Epoch 52/200\n",
            "391/391 [==============================] - 20s 52ms/step - loss: 1.1985 - accuracy: 0.6785 - val_loss: 2.4283 - val_accuracy: 0.4720\n",
            "Epoch 53/200\n",
            "391/391 [==============================] - 20s 52ms/step - loss: 1.1766 - accuracy: 0.6832 - val_loss: 2.4626 - val_accuracy: 0.4676\n",
            "Epoch 54/200\n",
            "391/391 [==============================] - 21s 52ms/step - loss: 1.1509 - accuracy: 0.6905 - val_loss: 2.4707 - val_accuracy: 0.4669\n",
            "Epoch 55/200\n",
            "391/391 [==============================] - 21s 53ms/step - loss: 1.1312 - accuracy: 0.6945 - val_loss: 2.4755 - val_accuracy: 0.4663\n",
            "Epoch 56/200\n",
            "391/391 [==============================] - 21s 53ms/step - loss: 1.1023 - accuracy: 0.7034 - val_loss: 2.5062 - val_accuracy: 0.4595\n",
            "Epoch 57/200\n",
            "391/391 [==============================] - 21s 53ms/step - loss: 1.0853 - accuracy: 0.7036 - val_loss: 2.5043 - val_accuracy: 0.4687\n",
            "Epoch 58/200\n",
            "391/391 [==============================] - 21s 53ms/step - loss: 1.0605 - accuracy: 0.7110 - val_loss: 2.5505 - val_accuracy: 0.4685\n",
            "Epoch 59/200\n",
            "391/391 [==============================] - 21s 53ms/step - loss: 1.0403 - accuracy: 0.7164 - val_loss: 2.4859 - val_accuracy: 0.4752\n",
            "Epoch 60/200\n",
            "391/391 [==============================] - 20s 52ms/step - loss: 1.0202 - accuracy: 0.7190 - val_loss: 2.5661 - val_accuracy: 0.4710\n",
            "Epoch 61/200\n",
            "391/391 [==============================] - 20s 52ms/step - loss: 1.0025 - accuracy: 0.7257 - val_loss: 2.5974 - val_accuracy: 0.4708\n"
          ],
          "name": "stdout"
        }
      ]
    },
    {
      "cell_type": "code",
      "metadata": {
        "id": "dZuWXGeW-nqY",
        "outputId": "cd672ea0-600e-4e8a-f916-3bc4ab24388f",
        "colab": {
          "base_uri": "https://localhost:8080/",
          "height": 591
        }
      },
      "source": [
        "import matplotlib.pyplot as plt\n",
        "import matplotlib.pyplot as plt2\n",
        "\n",
        "history_dict = history.history\n",
        "print(history_dict.keys())\n",
        "loss_values = history_dict['loss']\n",
        "val_loss_values = history_dict['val_loss']\n",
        "train_acc = history_dict['accuracy']\n",
        "test_acc = history_dict['val_accuracy']\n",
        "\n",
        "epochs = range(1, len(history_dict['accuracy']) + 1)\n",
        "\n",
        "plt.plot(epochs, loss_values, 'bo', label='Training loss')\n",
        "plt.plot(epochs, val_loss_values, 'b', label='Validation loss')\n",
        "plt.title('Training and validation loss')\n",
        "plt.xlabel('Epochs')\n",
        "plt.ylabel('Loss')\n",
        "plt.legend()\n",
        "\n",
        "plt.show()\n",
        "\n",
        "\n",
        "plt2.plot(epochs, train_acc, 'b', label='Training Accuracy')\n",
        "plt2.plot(epochs, test_acc, color = 'red', label='Validation Accuracy')\n",
        "plt2.title('Training and validation accuracy')\n",
        "plt2.xlabel('Epochs')\n",
        "plt2.ylabel('Accuracy')\n",
        "plt2.legend()\n",
        "\n",
        "plt2.show()"
      ],
      "execution_count": null,
      "outputs": [
        {
          "output_type": "stream",
          "text": [
            "dict_keys(['loss', 'accuracy', 'val_loss', 'val_accuracy'])\n"
          ],
          "name": "stdout"
        },
        {
          "output_type": "display_data",
          "data": {
            "image/png": "[encoded data removed]",
            "text/plain": [
              "<Figure size 432x288 with 1 Axes>"
            ]
          },
          "metadata": {
            "tags": [],
            "needs_background": "light"
          }
        },
        {
          "output_type": "display_data",
          "data": {
            "image/png": "[encoded data removed]",
            "text/plain": [
              "<Figure size 432x288 with 1 Axes>"
            ]
          },
          "metadata": {
            "tags": [],
            "needs_background": "light"
          }
        }
      ]
    },
    {
      "cell_type": "code",
      "metadata": {
        "id": "AfO0lHJIE0Gy",
        "outputId": "08546247-1bf4-4d77-d21f-ffaf183b49e4",
        "colab": {
          "base_uri": "https://localhost:8080/",
          "height": 1000
        }
      },
      "source": [
        "y_pred = model.predict(x_test).argmax(-1)\n",
        "import sklearn.metrics as metrics\n",
        "print(metrics.classification_report(y_test.argmax(axis=1), y_pred))"
      ],
      "execution_count": null,
      "outputs": [
        {
          "output_type": "stream",
          "text": [
            "              precision    recall  f1-score   support\n",
            "\n",
            "           0       0.59      0.78      0.67       100\n",
            "           1       0.63      0.54      0.58       100\n",
            "           2       0.29      0.44      0.35       100\n",
            "           3       0.22      0.21      0.22       100\n",
            "           4       0.50      0.16      0.24       100\n",
            "           5       0.52      0.34      0.41       100\n",
            "           6       0.48      0.43      0.46       100\n",
            "           7       0.65      0.46      0.54       100\n",
            "           8       0.72      0.60      0.66       100\n",
            "           9       0.54      0.59      0.56       100\n",
            "          10       0.42      0.32      0.36       100\n",
            "          11       0.28      0.32      0.30       100\n",
            "          12       0.40      0.57      0.47       100\n",
            "          13       0.39      0.62      0.48       100\n",
            "          14       0.44      0.39      0.41       100\n",
            "          15       0.46      0.39      0.42       100\n",
            "          16       0.56      0.48      0.52       100\n",
            "          17       0.66      0.57      0.61       100\n",
            "          18       0.38      0.49      0.43       100\n",
            "          19       0.52      0.32      0.40       100\n",
            "          20       0.72      0.74      0.73       100\n",
            "          21       0.66      0.59      0.62       100\n",
            "          22       0.43      0.47      0.45       100\n",
            "          23       0.55      0.47      0.51       100\n",
            "          24       0.77      0.54      0.64       100\n",
            "          25       0.29      0.30      0.29       100\n",
            "          26       0.57      0.33      0.42       100\n",
            "          27       0.33      0.30      0.32       100\n",
            "          28       0.52      0.72      0.60       100\n",
            "          29       0.38      0.44      0.41       100\n",
            "          30       0.42      0.36      0.39       100\n",
            "          31       0.45      0.40      0.42       100\n",
            "          32       0.39      0.43      0.41       100\n",
            "          33       0.50      0.43      0.46       100\n",
            "          34       0.46      0.37      0.41       100\n",
            "          35       0.25      0.19      0.22       100\n",
            "          36       0.63      0.38      0.48       100\n",
            "          37       0.51      0.40      0.45       100\n",
            "          38       0.29      0.34      0.31       100\n",
            "          39       0.46      0.46      0.46       100\n",
            "          40       0.32      0.48      0.38       100\n",
            "          41       0.69      0.73      0.71       100\n",
            "          42       0.52      0.39      0.45       100\n",
            "          43       0.51      0.55      0.53       100\n",
            "          44       0.19      0.23      0.21       100\n",
            "          45       0.47      0.28      0.35       100\n",
            "          46       0.23      0.38      0.29       100\n",
            "          47       0.63      0.59      0.61       100\n",
            "          48       0.75      0.80      0.78       100\n",
            "          49       0.55      0.69      0.61       100\n",
            "          50       0.29      0.38      0.33       100\n",
            "          51       0.61      0.37      0.46       100\n",
            "          52       0.55      0.65      0.60       100\n",
            "          53       0.63      0.70      0.66       100\n",
            "          54       0.50      0.63      0.56       100\n",
            "          55       0.13      0.04      0.06       100\n",
            "          56       0.54      0.67      0.60       100\n",
            "          57       0.50      0.60      0.55       100\n",
            "          58       0.64      0.58      0.61       100\n",
            "          59       0.38      0.43      0.41       100\n",
            "          60       0.77      0.79      0.78       100\n",
            "          61       0.57      0.55      0.56       100\n",
            "          62       0.54      0.48      0.51       100\n",
            "          63       0.49      0.45      0.47       100\n",
            "          64       0.34      0.25      0.29       100\n",
            "          65       0.22      0.30      0.25       100\n",
            "          66       0.35      0.36      0.35       100\n",
            "          67       0.31      0.36      0.33       100\n",
            "          68       0.65      0.80      0.71       100\n",
            "          69       0.38      0.68      0.49       100\n",
            "          70       0.51      0.33      0.40       100\n",
            "          71       0.67      0.67      0.67       100\n",
            "          72       0.24      0.16      0.19       100\n",
            "          73       0.36      0.51      0.42       100\n",
            "          74       0.41      0.28      0.33       100\n",
            "          75       0.82      0.66      0.73       100\n",
            "          76       0.50      0.76      0.60       100\n",
            "          77       0.30      0.30      0.30       100\n",
            "          78       0.32      0.18      0.23       100\n",
            "          79       0.44      0.50      0.47       100\n",
            "          80       0.23      0.36      0.28       100\n",
            "          81       0.61      0.46      0.53       100\n",
            "          82       0.79      0.73      0.76       100\n",
            "          83       0.48      0.46      0.47       100\n",
            "          84       0.51      0.37      0.43       100\n",
            "          85       0.63      0.57      0.60       100\n",
            "          86       0.43      0.60      0.50       100\n",
            "          87       0.51      0.62      0.56       100\n",
            "          88       0.55      0.42      0.47       100\n",
            "          89       0.69      0.48      0.56       100\n",
            "          90       0.53      0.51      0.52       100\n",
            "          91       0.47      0.60      0.53       100\n",
            "          92       0.32      0.45      0.38       100\n",
            "          93       0.46      0.24      0.32       100\n",
            "          94       0.72      0.85      0.78       100\n",
            "          95       0.42      0.57      0.48       100\n",
            "          96       0.49      0.45      0.47       100\n",
            "          97       0.63      0.48      0.55       100\n",
            "          98       0.27      0.22      0.24       100\n",
            "          99       0.36      0.42      0.39       100\n",
            "\n",
            "    accuracy                           0.47     10000\n",
            "   macro avg       0.48      0.47      0.47     10000\n",
            "weighted avg       0.48      0.47      0.47     10000\n",
            "\n"
          ],
          "name": "stdout"
        }
      ]
    },
    {
      "cell_type": "code",
      "metadata": {
        "id": "XI7TqTg5ozTB"
      },
      "source": [
        ""
      ],
      "execution_count": null,
      "outputs": []
    },
    {
      "cell_type": "markdown",
      "metadata": {
        "id": "v1M94nUIEncw"
      },
      "source": [
        "TESTS"
      ]
    },
    {
      "cell_type": "code",
      "metadata": {
        "id": "T4Smel9NqS1r"
      },
      "source": [
        "# model.load_weights(filepath=F\"/content/gdrive/My Drive/Checkpoints/ResNet18_SGD_Dropout.h5\")\n",
        "\n",
        "model.load_weights(\"ResNet18_SGD_Dropout.h5\")"
      ],
      "execution_count": null,
      "outputs": []
    },
    {
      "cell_type": "code",
      "metadata": {
        "id": "b0XDBMyDq0d3",
        "outputId": "bbf54e31-2e3c-4a32-9d5e-557b87b24137",
        "colab": {
          "base_uri": "https://localhost:8080/",
          "height": 54
        }
      },
      "source": [
        "result = model.evaluate(batch_size=128, x=x_test, y=y_test)\n",
        "dict(zip(model.metrics_names,result))"
      ],
      "execution_count": null,
      "outputs": [
        {
          "output_type": "stream",
          "text": [
            "79/79 [==============================] - 1s 11ms/step - loss: 2.5824 - accuracy: 0.4836\n"
          ],
          "name": "stdout"
        },
        {
          "output_type": "execute_result",
          "data": {
            "text/plain": [
              "{'accuracy': 0.483599990606308, 'loss': 2.582385301589966}"
            ]
          },
          "metadata": {
            "tags": []
          },
          "execution_count": 19
        }
      ]
    }
  ]
}