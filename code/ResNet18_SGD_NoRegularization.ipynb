{
  "nbformat": 4,
  "nbformat_minor": 0,
  "metadata": {
    "colab": {
      "name": "ResNet18_SGD_NoRegularization.ipynb",
      "provenance": [],
      "collapsed_sections": []
    },
    "kernelspec": {
      "name": "python3",
      "display_name": "Python 3"
    },
    "accelerator": "GPU"
  },
  "cells": [
    {
      "cell_type": "markdown",
      "metadata": {
        "id": "vh7P5M1mq6Y-"
      },
      "source": [
        "## Load DataSet"
      ]
    },
    {
      "cell_type": "code",
      "metadata": {
        "id": "AubeCh7dqp5j",
        "outputId": "79007a91-29a1-4637-a3da-24f04fc4ec1e",
        "colab": {
          "base_uri": "https://localhost:8080/",
          "height": 34
        }
      },
      "source": [
        "from google.colab import drive\n",
        "drive.mount('/content/gdrive')"
      ],
      "execution_count": null,
      "outputs": [
        {
          "output_type": "stream",
          "text": [
            "Mounted at /content/gdrive\n"
          ],
          "name": "stdout"
        }
      ]
    },
    {
      "cell_type": "code",
      "metadata": {
        "id": "ixBthpNWrKzY"
      },
      "source": [
        "from keras.datasets import cifar100\n",
        "from keras.utils import to_categorical\n",
        "import numpy as np\n",
        "import cv2\n",
        "import os\n",
        "from keras import backend as K"
      ],
      "execution_count": null,
      "outputs": []
    },
    {
      "cell_type": "code",
      "metadata": {
        "id": "d14LEXbNqu68",
        "outputId": "fdc5c75b-311b-47a7-8e63-e86440147f0c",
        "colab": {
          "base_uri": "https://localhost:8080/",
          "height": 50
        }
      },
      "source": [
        "(x_train, y_train_), (x_test, y_test_) = cifar100.load_data()\n"
      ],
      "execution_count": null,
      "outputs": [
        {
          "output_type": "stream",
          "text": [
            "Downloading data from https://www.cs.toronto.edu/~kriz/cifar-100-python.tar.gz\n",
            "169009152/169001437 [==============================] - 6s 0us/step\n"
          ],
          "name": "stdout"
        }
      ]
    },
    {
      "cell_type": "code",
      "metadata": {
        "id": "p4lTzEl8djyJ"
      },
      "source": [
        "x_train = x_train.astype('float32') / 255\n",
        "x_test = x_test.astype('float32') / 255"
      ],
      "execution_count": null,
      "outputs": []
    },
    {
      "cell_type": "code",
      "metadata": {
        "id": "6h_PwVSJrWjf"
      },
      "source": [
        "y_train = to_categorical(y_train_)\n",
        "y_test = to_categorical(y_test_)"
      ],
      "execution_count": null,
      "outputs": []
    },
    {
      "cell_type": "markdown",
      "metadata": {
        "id": "JNKd1ENdqz9c"
      },
      "source": [
        "## ResNet18 Model"
      ]
    },
    {
      "cell_type": "code",
      "metadata": {
        "id": "DlX5MwqCoSEF"
      },
      "source": [
        "import keras\n",
        "from keras.models import Model\n",
        "from keras.layers import Dense, Activation, Dropout, Flatten, Reshape\n",
        "from keras.layers import Conv2D, Input\n",
        "from keras.layers import MaxPooling2D, AveragePooling2D\n",
        "from keras.callbacks import EarlyStopping\n",
        "from keras.layers.merge import concatenate\n",
        "from keras.regularizers import l2\n",
        "import os"
      ],
      "execution_count": null,
      "outputs": []
    },
    {
      "cell_type": "code",
      "metadata": {
        "id": "RfDkIclipUCR"
      },
      "source": [
        "input_shape = (32, 32, 3)\n",
        "input = Input(shape=input_shape)\n",
        "x = Conv2D(kernel_size=3, filters=16, strides=1, padding='same', kernel_regularizer=l2(1e-4))(input)\n",
        "x = Activation('elu')(x)"
      ],
      "execution_count": null,
      "outputs": []
    },
    {
      "cell_type": "code",
      "metadata": {
        "id": "WBA3W_AW9Yr0"
      },
      "source": [
        "#Stack 1\n",
        "for block in range(2):\n",
        "  y = Activation('elu')(x)\n",
        "  y = Conv2D(kernel_size=3, filters=16, strides=1, padding='same', kernel_initializer='he_normal', kernel_regularizer=l2(1e-4))(y)\n",
        "  y = Activation('elu')(x)\n",
        "  y = Conv2D(kernel_size=3, filters=16, strides=1, padding='same', kernel_regularizer=l2(1e-4))(y)\n",
        "\n",
        "  x = keras.layers.add([y, x])\n",
        "  x = Activation('elu')(x)\n",
        "\n",
        "#Stack 2\n",
        "for block in range(2):\n",
        "  y = Activation('elu')(x)\n",
        "  y = Conv2D(kernel_size=3, filters=32, strides=1, padding='same', kernel_initializer='he_normal', kernel_regularizer=l2(1e-4))(y)\n",
        "  y = Activation('elu')(x)\n",
        "  y = Conv2D(kernel_size=3, filters=32, strides=1, padding='same', kernel_regularizer=l2(1e-4))(y)\n",
        "  if block == 0:\n",
        "    x_2 = Conv2D(kernel_size=1, filters=32, strides=1, padding='same')(x)\n",
        "  else:\n",
        "    x_2 = x\n",
        "  x = keras.layers.add([y, x_2])\n",
        "  x = Activation('elu')(x)\n",
        "\n",
        "#Stack 3\n",
        "for block in range(2):\n",
        "  y = Activation('elu')(x)\n",
        "  y = Conv2D(kernel_size=3, filters=64, strides=1, padding='same', kernel_initializer='he_normal', kernel_regularizer=l2(1e-4))(y)\n",
        "  y = Activation('elu')(x)\n",
        "  y = Conv2D(kernel_size=3, filters=64, strides=1, padding='same', kernel_regularizer=l2(1e-4))(y)\n",
        "  if block == 0:\n",
        "    x_2 = Conv2D(kernel_size=1, filters=64, strides=1, padding='same')(x)\n",
        "  else:\n",
        "    x_2 = x\n",
        "  x = keras.layers.add([y, x_2])\n",
        "  x = Activation('elu')(x)\n",
        "\n",
        "#Stack 4\n",
        "for block in range(2):\n",
        "  y = Activation('elu')(x)\n",
        "  y = Conv2D(kernel_size=3, filters=128, strides=1, padding='same', kernel_initializer='he_normal', kernel_regularizer=l2(1e-4))(y)\n",
        "  y = Activation('elu')(x)\n",
        "  y = Conv2D(kernel_size=3, filters=128, strides=1, padding='same', kernel_regularizer=l2(1e-4))(y)\n",
        "  if block == 0:\n",
        "    x_2 = Conv2D(kernel_size=1, filters=128, strides=1, padding='same')(x)\n",
        "  else:\n",
        "    x_2 = x\n",
        "  x = keras.layers.add([y, x_2])\n",
        "  x = Activation('elu')(x)"
      ],
      "execution_count": null,
      "outputs": []
    },
    {
      "cell_type": "code",
      "metadata": {
        "id": "tVSQG--VVdUI"
      },
      "source": [
        "# x = Activation('elu')(x)\n",
        "x = AveragePooling2D(pool_size=8)(x)\n",
        "output = Flatten()(x)\n",
        "output = Dense(100, activation='softmax', kernel_initializer='he_normal')(output)"
      ],
      "execution_count": null,
      "outputs": []
    },
    {
      "cell_type": "code",
      "metadata": {
        "id": "DSj5_am_WJaS",
        "outputId": "6987b3c0-8961-4658-85d9-143c06f6141a",
        "colab": {
          "base_uri": "https://localhost:8080/",
          "height": 1000
        }
      },
      "source": [
        "model = Model(inputs=input, outputs=output)\n",
        "model.summary()"
      ],
      "execution_count": null,
      "outputs": [
        {
          "output_type": "stream",
          "text": [
            "Model: \"functional_1\"\n",
            "__________________________________________________________________________________________________\n",
            "Layer (type)                    Output Shape         Param #     Connected to                     \n",
            "==================================================================================================\n",
            "input_1 (InputLayer)            [(None, 32, 32, 3)]  0                                            \n",
            "__________________________________________________________________________________________________\n",
            "conv2d (Conv2D)                 (None, 32, 32, 16)   448         input_1[0][0]                    \n",
            "__________________________________________________________________________________________________\n",
            "activation (Activation)         (None, 32, 32, 16)   0           conv2d[0][0]                     \n",
            "__________________________________________________________________________________________________\n",
            "activation_2 (Activation)       (None, 32, 32, 16)   0           activation[0][0]                 \n",
            "__________________________________________________________________________________________________\n",
            "conv2d_2 (Conv2D)               (None, 32, 32, 16)   2320        activation_2[0][0]               \n",
            "__________________________________________________________________________________________________\n",
            "add (Add)                       (None, 32, 32, 16)   0           conv2d_2[0][0]                   \n",
            "                                                                 activation[0][0]                 \n",
            "__________________________________________________________________________________________________\n",
            "activation_3 (Activation)       (None, 32, 32, 16)   0           add[0][0]                        \n",
            "__________________________________________________________________________________________________\n",
            "activation_5 (Activation)       (None, 32, 32, 16)   0           activation_3[0][0]               \n",
            "__________________________________________________________________________________________________\n",
            "conv2d_4 (Conv2D)               (None, 32, 32, 16)   2320        activation_5[0][0]               \n",
            "__________________________________________________________________________________________________\n",
            "add_1 (Add)                     (None, 32, 32, 16)   0           conv2d_4[0][0]                   \n",
            "                                                                 activation_3[0][0]               \n",
            "__________________________________________________________________________________________________\n",
            "activation_6 (Activation)       (None, 32, 32, 16)   0           add_1[0][0]                      \n",
            "__________________________________________________________________________________________________\n",
            "activation_8 (Activation)       (None, 32, 32, 16)   0           activation_6[0][0]               \n",
            "__________________________________________________________________________________________________\n",
            "conv2d_6 (Conv2D)               (None, 32, 32, 32)   4640        activation_8[0][0]               \n",
            "__________________________________________________________________________________________________\n",
            "conv2d_7 (Conv2D)               (None, 32, 32, 32)   544         activation_6[0][0]               \n",
            "__________________________________________________________________________________________________\n",
            "add_2 (Add)                     (None, 32, 32, 32)   0           conv2d_6[0][0]                   \n",
            "                                                                 conv2d_7[0][0]                   \n",
            "__________________________________________________________________________________________________\n",
            "activation_9 (Activation)       (None, 32, 32, 32)   0           add_2[0][0]                      \n",
            "__________________________________________________________________________________________________\n",
            "activation_11 (Activation)      (None, 32, 32, 32)   0           activation_9[0][0]               \n",
            "__________________________________________________________________________________________________\n",
            "conv2d_9 (Conv2D)               (None, 32, 32, 32)   9248        activation_11[0][0]              \n",
            "__________________________________________________________________________________________________\n",
            "add_3 (Add)                     (None, 32, 32, 32)   0           conv2d_9[0][0]                   \n",
            "                                                                 activation_9[0][0]               \n",
            "__________________________________________________________________________________________________\n",
            "activation_12 (Activation)      (None, 32, 32, 32)   0           add_3[0][0]                      \n",
            "__________________________________________________________________________________________________\n",
            "activation_14 (Activation)      (None, 32, 32, 32)   0           activation_12[0][0]              \n",
            "__________________________________________________________________________________________________\n",
            "conv2d_11 (Conv2D)              (None, 32, 32, 64)   18496       activation_14[0][0]              \n",
            "__________________________________________________________________________________________________\n",
            "conv2d_12 (Conv2D)              (None, 32, 32, 64)   2112        activation_12[0][0]              \n",
            "__________________________________________________________________________________________________\n",
            "add_4 (Add)                     (None, 32, 32, 64)   0           conv2d_11[0][0]                  \n",
            "                                                                 conv2d_12[0][0]                  \n",
            "__________________________________________________________________________________________________\n",
            "activation_15 (Activation)      (None, 32, 32, 64)   0           add_4[0][0]                      \n",
            "__________________________________________________________________________________________________\n",
            "activation_17 (Activation)      (None, 32, 32, 64)   0           activation_15[0][0]              \n",
            "__________________________________________________________________________________________________\n",
            "conv2d_14 (Conv2D)              (None, 32, 32, 64)   36928       activation_17[0][0]              \n",
            "__________________________________________________________________________________________________\n",
            "add_5 (Add)                     (None, 32, 32, 64)   0           conv2d_14[0][0]                  \n",
            "                                                                 activation_15[0][0]              \n",
            "__________________________________________________________________________________________________\n",
            "activation_18 (Activation)      (None, 32, 32, 64)   0           add_5[0][0]                      \n",
            "__________________________________________________________________________________________________\n",
            "activation_20 (Activation)      (None, 32, 32, 64)   0           activation_18[0][0]              \n",
            "__________________________________________________________________________________________________\n",
            "conv2d_16 (Conv2D)              (None, 32, 32, 128)  73856       activation_20[0][0]              \n",
            "__________________________________________________________________________________________________\n",
            "conv2d_17 (Conv2D)              (None, 32, 32, 128)  8320        activation_18[0][0]              \n",
            "__________________________________________________________________________________________________\n",
            "add_6 (Add)                     (None, 32, 32, 128)  0           conv2d_16[0][0]                  \n",
            "                                                                 conv2d_17[0][0]                  \n",
            "__________________________________________________________________________________________________\n",
            "activation_21 (Activation)      (None, 32, 32, 128)  0           add_6[0][0]                      \n",
            "__________________________________________________________________________________________________\n",
            "activation_23 (Activation)      (None, 32, 32, 128)  0           activation_21[0][0]              \n",
            "__________________________________________________________________________________________________\n",
            "conv2d_19 (Conv2D)              (None, 32, 32, 128)  147584      activation_23[0][0]              \n",
            "__________________________________________________________________________________________________\n",
            "add_7 (Add)                     (None, 32, 32, 128)  0           conv2d_19[0][0]                  \n",
            "                                                                 activation_21[0][0]              \n",
            "__________________________________________________________________________________________________\n",
            "activation_24 (Activation)      (None, 32, 32, 128)  0           add_7[0][0]                      \n",
            "__________________________________________________________________________________________________\n",
            "average_pooling2d (AveragePooli (None, 4, 4, 128)    0           activation_24[0][0]              \n",
            "__________________________________________________________________________________________________\n",
            "flatten (Flatten)               (None, 2048)         0           average_pooling2d[0][0]          \n",
            "__________________________________________________________________________________________________\n",
            "dense (Dense)                   (None, 100)          204900      flatten[0][0]                    \n",
            "==================================================================================================\n",
            "Total params: 511,716\n",
            "Trainable params: 511,716\n",
            "Non-trainable params: 0\n",
            "__________________________________________________________________________________________________\n"
          ],
          "name": "stdout"
        }
      ]
    },
    {
      "cell_type": "code",
      "metadata": {
        "id": "LaQF3uMDWQQh",
        "outputId": "e50cedc0-78d7-44d4-c78f-fc3f56442e8e",
        "colab": {
          "base_uri": "https://localhost:8080/",
          "height": 1000
        }
      },
      "source": [
        "\n",
        "opt = keras.optimizers.SGD(learning_rate=0.01)\n",
        "model.compile(loss=keras.losses.categorical_crossentropy, optimizer=opt, metrics=[\"accuracy\"])\n",
        "callback = EarlyStopping(monitor='val_loss', patience=20)\n",
        "history = model.fit(x_train, y_train, batch_size=128, epochs=200, verbose=1, validation_data=(x_test, y_test), callbacks=[callback])\n",
        "model.save_weights(filepath=F\"/content/gdrive/My Drive/Checkpoints/ResNet18_SGD_NoRegularization.h5\")"
      ],
      "execution_count": null,
      "outputs": [
        {
          "output_type": "stream",
          "text": [
            "Epoch 1/200\n",
            "391/391 [==============================] - 10s 26ms/step - loss: 4.0475 - accuracy: 0.0927 - val_loss: 3.8564 - val_accuracy: 0.1279\n",
            "Epoch 2/200\n",
            "391/391 [==============================] - 10s 25ms/step - loss: 3.7070 - accuracy: 0.1508 - val_loss: 3.6076 - val_accuracy: 0.1749\n",
            "Epoch 3/200\n",
            "391/391 [==============================] - 10s 25ms/step - loss: 3.5059 - accuracy: 0.1873 - val_loss: 3.4674 - val_accuracy: 0.1938\n",
            "Epoch 4/200\n",
            "391/391 [==============================] - 10s 25ms/step - loss: 3.3538 - accuracy: 0.2153 - val_loss: 3.3573 - val_accuracy: 0.2190\n",
            "Epoch 5/200\n",
            "391/391 [==============================] - 10s 25ms/step - loss: 3.2141 - accuracy: 0.2404 - val_loss: 3.1937 - val_accuracy: 0.2488\n",
            "Epoch 6/200\n",
            "391/391 [==============================] - 10s 25ms/step - loss: 3.0760 - accuracy: 0.2663 - val_loss: 3.0857 - val_accuracy: 0.2694\n",
            "Epoch 7/200\n",
            "391/391 [==============================] - 10s 25ms/step - loss: 2.9490 - accuracy: 0.2911 - val_loss: 3.0299 - val_accuracy: 0.2757\n",
            "Epoch 8/200\n",
            "391/391 [==============================] - 10s 25ms/step - loss: 2.8311 - accuracy: 0.3143 - val_loss: 2.9313 - val_accuracy: 0.3006\n",
            "Epoch 9/200\n",
            "391/391 [==============================] - 10s 25ms/step - loss: 2.7314 - accuracy: 0.3364 - val_loss: 2.8422 - val_accuracy: 0.3159\n",
            "Epoch 10/200\n",
            "391/391 [==============================] - 10s 25ms/step - loss: 2.6405 - accuracy: 0.3538 - val_loss: 2.7681 - val_accuracy: 0.3262\n",
            "Epoch 11/200\n",
            "391/391 [==============================] - 10s 26ms/step - loss: 2.5536 - accuracy: 0.3734 - val_loss: 2.7379 - val_accuracy: 0.3286\n",
            "Epoch 12/200\n",
            "391/391 [==============================] - 10s 25ms/step - loss: 2.4777 - accuracy: 0.3892 - val_loss: 2.6597 - val_accuracy: 0.3492\n",
            "Epoch 13/200\n",
            "391/391 [==============================] - 10s 25ms/step - loss: 2.3985 - accuracy: 0.4045 - val_loss: 2.6236 - val_accuracy: 0.3601\n",
            "Epoch 14/200\n",
            "391/391 [==============================] - 10s 25ms/step - loss: 2.3237 - accuracy: 0.4231 - val_loss: 2.5595 - val_accuracy: 0.3711\n",
            "Epoch 15/200\n",
            "391/391 [==============================] - 10s 25ms/step - loss: 2.2561 - accuracy: 0.4366 - val_loss: 2.5210 - val_accuracy: 0.3845\n",
            "Epoch 16/200\n",
            "391/391 [==============================] - 10s 25ms/step - loss: 2.1879 - accuracy: 0.4516 - val_loss: 2.5091 - val_accuracy: 0.3851\n",
            "Epoch 17/200\n",
            "391/391 [==============================] - 10s 25ms/step - loss: 2.1292 - accuracy: 0.4644 - val_loss: 2.4635 - val_accuracy: 0.3935\n",
            "Epoch 18/200\n",
            "391/391 [==============================] - 10s 25ms/step - loss: 2.0670 - accuracy: 0.4797 - val_loss: 2.4426 - val_accuracy: 0.4001\n",
            "Epoch 19/200\n",
            "391/391 [==============================] - 10s 25ms/step - loss: 2.0100 - accuracy: 0.4911 - val_loss: 2.4175 - val_accuracy: 0.4107\n",
            "Epoch 20/200\n",
            "391/391 [==============================] - 10s 25ms/step - loss: 1.9578 - accuracy: 0.5036 - val_loss: 2.3716 - val_accuracy: 0.4179\n",
            "Epoch 21/200\n",
            "391/391 [==============================] - 10s 25ms/step - loss: 1.9000 - accuracy: 0.5177 - val_loss: 2.3533 - val_accuracy: 0.4254\n",
            "Epoch 22/200\n",
            "391/391 [==============================] - 10s 25ms/step - loss: 1.8505 - accuracy: 0.5282 - val_loss: 2.3449 - val_accuracy: 0.4278\n",
            "Epoch 23/200\n",
            "391/391 [==============================] - 10s 25ms/step - loss: 1.8000 - accuracy: 0.5404 - val_loss: 2.3401 - val_accuracy: 0.4267\n",
            "Epoch 24/200\n",
            "391/391 [==============================] - 10s 25ms/step - loss: 1.7517 - accuracy: 0.5523 - val_loss: 2.3865 - val_accuracy: 0.4242\n",
            "Epoch 25/200\n",
            "391/391 [==============================] - 10s 25ms/step - loss: 1.7034 - accuracy: 0.5638 - val_loss: 2.3696 - val_accuracy: 0.4290\n",
            "Epoch 26/200\n",
            "391/391 [==============================] - 10s 25ms/step - loss: 1.6556 - accuracy: 0.5750 - val_loss: 2.2956 - val_accuracy: 0.4436\n",
            "Epoch 27/200\n",
            "391/391 [==============================] - 10s 25ms/step - loss: 1.6070 - accuracy: 0.5856 - val_loss: 2.3060 - val_accuracy: 0.4452\n",
            "Epoch 28/200\n",
            "391/391 [==============================] - 10s 25ms/step - loss: 1.5672 - accuracy: 0.5941 - val_loss: 2.3769 - val_accuracy: 0.4311\n",
            "Epoch 29/200\n",
            "391/391 [==============================] - 10s 25ms/step - loss: 1.5202 - accuracy: 0.6051 - val_loss: 2.3526 - val_accuracy: 0.4446\n",
            "Epoch 30/200\n",
            "391/391 [==============================] - 10s 25ms/step - loss: 1.4794 - accuracy: 0.6167 - val_loss: 2.3173 - val_accuracy: 0.4422\n",
            "Epoch 31/200\n",
            "391/391 [==============================] - 10s 25ms/step - loss: 1.4358 - accuracy: 0.6262 - val_loss: 2.2799 - val_accuracy: 0.4536\n",
            "Epoch 32/200\n",
            "391/391 [==============================] - 10s 25ms/step - loss: 1.3950 - accuracy: 0.6361 - val_loss: 2.3175 - val_accuracy: 0.4518\n",
            "Epoch 33/200\n",
            "391/391 [==============================] - 10s 25ms/step - loss: 1.3567 - accuracy: 0.6471 - val_loss: 2.2895 - val_accuracy: 0.4599\n",
            "Epoch 34/200\n",
            "391/391 [==============================] - 10s 25ms/step - loss: 1.3136 - accuracy: 0.6567 - val_loss: 2.3251 - val_accuracy: 0.4596\n",
            "Epoch 35/200\n",
            "391/391 [==============================] - 10s 25ms/step - loss: 1.2755 - accuracy: 0.6668 - val_loss: 2.3510 - val_accuracy: 0.4576\n",
            "Epoch 36/200\n",
            "391/391 [==============================] - 10s 25ms/step - loss: 1.2347 - accuracy: 0.6757 - val_loss: 2.3511 - val_accuracy: 0.4605\n",
            "Epoch 37/200\n",
            "391/391 [==============================] - 10s 25ms/step - loss: 1.2011 - accuracy: 0.6838 - val_loss: 2.4053 - val_accuracy: 0.4570\n",
            "Epoch 38/200\n",
            "391/391 [==============================] - 10s 25ms/step - loss: 1.1552 - accuracy: 0.6951 - val_loss: 2.3751 - val_accuracy: 0.4649\n",
            "Epoch 39/200\n",
            "391/391 [==============================] - 10s 25ms/step - loss: 1.1163 - accuracy: 0.7056 - val_loss: 2.4536 - val_accuracy: 0.4594\n",
            "Epoch 40/200\n",
            "391/391 [==============================] - 10s 26ms/step - loss: 1.0772 - accuracy: 0.7163 - val_loss: 2.4412 - val_accuracy: 0.4629\n",
            "Epoch 41/200\n",
            "391/391 [==============================] - 10s 25ms/step - loss: 1.0451 - accuracy: 0.7243 - val_loss: 2.5028 - val_accuracy: 0.4639\n",
            "Epoch 42/200\n",
            "391/391 [==============================] - 10s 25ms/step - loss: 1.0057 - accuracy: 0.7310 - val_loss: 2.5246 - val_accuracy: 0.4699\n",
            "Epoch 43/200\n",
            "391/391 [==============================] - 10s 26ms/step - loss: 0.9687 - accuracy: 0.7433 - val_loss: 2.5540 - val_accuracy: 0.4595\n",
            "Epoch 44/200\n",
            "391/391 [==============================] - 10s 25ms/step - loss: 0.9353 - accuracy: 0.7519 - val_loss: 2.7039 - val_accuracy: 0.4502\n",
            "Epoch 45/200\n",
            "391/391 [==============================] - 10s 25ms/step - loss: 0.8991 - accuracy: 0.7588 - val_loss: 2.6271 - val_accuracy: 0.4633\n",
            "Epoch 46/200\n",
            "391/391 [==============================] - 10s 25ms/step - loss: 0.8640 - accuracy: 0.7711 - val_loss: 2.6611 - val_accuracy: 0.4543\n",
            "Epoch 47/200\n",
            "391/391 [==============================] - 10s 25ms/step - loss: 0.8313 - accuracy: 0.7776 - val_loss: 2.6784 - val_accuracy: 0.4652\n",
            "Epoch 48/200\n",
            "391/391 [==============================] - 10s 25ms/step - loss: 0.7960 - accuracy: 0.7859 - val_loss: 2.8132 - val_accuracy: 0.4536\n",
            "Epoch 49/200\n",
            "391/391 [==============================] - 10s 25ms/step - loss: 0.7630 - accuracy: 0.7961 - val_loss: 2.9773 - val_accuracy: 0.4460\n",
            "Epoch 50/200\n",
            "391/391 [==============================] - 10s 25ms/step - loss: 0.7319 - accuracy: 0.8028 - val_loss: 2.8994 - val_accuracy: 0.4567\n",
            "Epoch 51/200\n",
            "391/391 [==============================] - 10s 25ms/step - loss: 0.6955 - accuracy: 0.8137 - val_loss: 3.0164 - val_accuracy: 0.4462\n"
          ],
          "name": "stdout"
        }
      ]
    },
    {
      "cell_type": "code",
      "metadata": {
        "id": "dZuWXGeW-nqY",
        "outputId": "9af72d94-6e12-4014-a5d1-13ba6fed582e",
        "colab": {
          "base_uri": "https://localhost:8080/",
          "height": 590
        }
      },
      "source": [
        "import matplotlib.pyplot as plt\n",
        "import matplotlib.pyplot as plt2\n",
        "\n",
        "history_dict = history.history\n",
        "print(history_dict.keys())\n",
        "loss_values = history_dict['loss']\n",
        "val_loss_values = history_dict['val_loss']\n",
        "train_acc = history_dict['accuracy']\n",
        "test_acc = history_dict['val_accuracy']\n",
        "\n",
        "epochs = range(1, len(history_dict['accuracy']) + 1)\n",
        "\n",
        "plt.plot(epochs, loss_values, 'bo', label='Training loss')\n",
        "plt.plot(epochs, val_loss_values, 'b', label='Validation loss')\n",
        "plt.title('Training and validation loss')\n",
        "plt.xlabel('Epochs')\n",
        "plt.ylabel('Loss')\n",
        "plt.legend()\n",
        "\n",
        "plt.show()\n",
        "\n",
        "\n",
        "plt2.plot(epochs, train_acc, 'b', label='Training Accuracy')\n",
        "plt2.plot(epochs, test_acc, color = 'red', label='Validation Accuracy')\n",
        "plt2.title('Training and validation accuracy')\n",
        "plt2.xlabel('Epochs')\n",
        "plt2.ylabel('Accuracy')\n",
        "plt2.legend()\n",
        "\n",
        "plt2.show()"
      ],
      "execution_count": null,
      "outputs": [
        {
          "output_type": "stream",
          "text": [
            "dict_keys(['loss', 'accuracy', 'val_loss', 'val_accuracy'])\n"
          ],
          "name": "stdout"
        },
        {
          "output_type": "display_data",
          "data": {
            "image/png": "[encoded data removed]",
            "text/plain": [
              "<Figure size 432x288 with 1 Axes>"
            ]
          },
          "metadata": {
            "tags": [],
            "needs_background": "light"
          }
        },
        {
          "output_type": "display_data",
          "data": {
            "image/png": "[encoded data removed]",
            "text/plain": [
              "<Figure size 432x288 with 1 Axes>"
            ]
          },
          "metadata": {
            "tags": [],
            "needs_background": "light"
          }
        }
      ]
    },
    {
      "cell_type": "code",
      "metadata": {
        "id": "AfO0lHJIE0Gy",
        "outputId": "0100c2cf-e522-479c-8ee7-bf4f0f5673c6",
        "colab": {
          "base_uri": "https://localhost:8080/",
          "height": 1000
        }
      },
      "source": [
        "y_pred = model.predict(x_test).argmax(-1)\n",
        "import sklearn.metrics as metrics\n",
        "print(metrics.classification_report(y_test.argmax(axis=1), y_pred))"
      ],
      "execution_count": null,
      "outputs": [
        {
          "output_type": "stream",
          "text": [
            "              precision    recall  f1-score   support\n",
            "\n",
            "           0       0.74      0.63      0.68       100\n",
            "           1       0.57      0.63      0.60       100\n",
            "           2       0.29      0.31      0.30       100\n",
            "           3       0.28      0.20      0.23       100\n",
            "           4       0.23      0.32      0.27       100\n",
            "           5       0.39      0.41      0.40       100\n",
            "           6       0.68      0.46      0.55       100\n",
            "           7       0.57      0.48      0.52       100\n",
            "           8       0.69      0.61      0.65       100\n",
            "           9       0.65      0.46      0.54       100\n",
            "          10       0.31      0.37      0.33       100\n",
            "          11       0.39      0.28      0.33       100\n",
            "          12       0.36      0.56      0.44       100\n",
            "          13       0.43      0.32      0.37       100\n",
            "          14       0.39      0.26      0.31       100\n",
            "          15       0.52      0.28      0.36       100\n",
            "          16       0.66      0.38      0.48       100\n",
            "          17       0.66      0.63      0.65       100\n",
            "          18       0.26      0.31      0.28       100\n",
            "          19       0.47      0.33      0.39       100\n",
            "          20       0.75      0.69      0.72       100\n",
            "          21       0.75      0.42      0.54       100\n",
            "          22       0.52      0.43      0.47       100\n",
            "          23       0.64      0.56      0.60       100\n",
            "          24       0.73      0.59      0.65       100\n",
            "          25       0.36      0.31      0.34       100\n",
            "          26       0.43      0.39      0.41       100\n",
            "          27       0.28      0.32      0.30       100\n",
            "          28       0.74      0.58      0.65       100\n",
            "          29       0.41      0.39      0.40       100\n",
            "          30       0.49      0.41      0.45       100\n",
            "          31       0.56      0.31      0.40       100\n",
            "          32       0.31      0.40      0.35       100\n",
            "          33       0.47      0.41      0.44       100\n",
            "          34       0.40      0.61      0.49       100\n",
            "          35       0.28      0.20      0.23       100\n",
            "          36       0.43      0.46      0.44       100\n",
            "          37       0.38      0.42      0.40       100\n",
            "          38       0.22      0.37      0.28       100\n",
            "          39       0.55      0.59      0.57       100\n",
            "          40       0.45      0.35      0.40       100\n",
            "          41       0.71      0.63      0.67       100\n",
            "          42       0.51      0.36      0.42       100\n",
            "          43       0.64      0.35      0.45       100\n",
            "          44       0.16      0.18      0.17       100\n",
            "          45       0.25      0.30      0.27       100\n",
            "          46       0.40      0.20      0.27       100\n",
            "          47       0.57      0.52      0.54       100\n",
            "          48       0.85      0.68      0.76       100\n",
            "          49       0.58      0.75      0.66       100\n",
            "          50       0.16      0.44      0.23       100\n",
            "          51       0.43      0.37      0.40       100\n",
            "          52       0.59      0.61      0.60       100\n",
            "          53       0.78      0.62      0.69       100\n",
            "          54       0.54      0.49      0.52       100\n",
            "          55       0.14      0.08      0.10       100\n",
            "          56       0.70      0.62      0.66       100\n",
            "          57       0.59      0.43      0.50       100\n",
            "          58       0.58      0.49      0.53       100\n",
            "          59       0.67      0.40      0.50       100\n",
            "          60       0.78      0.77      0.77       100\n",
            "          61       0.60      0.42      0.49       100\n",
            "          62       0.48      0.54      0.51       100\n",
            "          63       0.52      0.40      0.45       100\n",
            "          64       0.27      0.35      0.31       100\n",
            "          65       0.21      0.20      0.21       100\n",
            "          66       0.36      0.46      0.40       100\n",
            "          67       0.31      0.33      0.32       100\n",
            "          68       0.88      0.67      0.76       100\n",
            "          69       0.61      0.56      0.58       100\n",
            "          70       0.48      0.42      0.45       100\n",
            "          71       0.63      0.64      0.64       100\n",
            "          72       0.16      0.25      0.20       100\n",
            "          73       0.34      0.38      0.36       100\n",
            "          74       0.21      0.35      0.27       100\n",
            "          75       0.70      0.67      0.68       100\n",
            "          76       0.71      0.65      0.68       100\n",
            "          77       0.36      0.28      0.31       100\n",
            "          78       0.18      0.40      0.24       100\n",
            "          79       0.39      0.37      0.38       100\n",
            "          80       0.32      0.19      0.24       100\n",
            "          81       0.46      0.57      0.51       100\n",
            "          82       0.64      0.74      0.69       100\n",
            "          83       0.44      0.34      0.38       100\n",
            "          84       0.44      0.49      0.46       100\n",
            "          85       0.51      0.68      0.58       100\n",
            "          86       0.43      0.60      0.50       100\n",
            "          87       0.52      0.55      0.53       100\n",
            "          88       0.51      0.41      0.46       100\n",
            "          89       0.67      0.45      0.54       100\n",
            "          90       0.35      0.66      0.46       100\n",
            "          91       0.45      0.55      0.50       100\n",
            "          92       0.31      0.36      0.33       100\n",
            "          93       0.22      0.24      0.23       100\n",
            "          94       0.83      0.72      0.77       100\n",
            "          95       0.53      0.42      0.47       100\n",
            "          96       0.35      0.49      0.41       100\n",
            "          97       0.53      0.42      0.47       100\n",
            "          98       0.33      0.13      0.19       100\n",
            "          99       0.26      0.54      0.35       100\n",
            "\n",
            "    accuracy                           0.45     10000\n",
            "   macro avg       0.48      0.45      0.45     10000\n",
            "weighted avg       0.48      0.45      0.45     10000\n",
            "\n"
          ],
          "name": "stdout"
        }
      ]
    },
    {
      "cell_type": "code",
      "metadata": {
        "id": "XI7TqTg5ozTB"
      },
      "source": [
        ""
      ],
      "execution_count": null,
      "outputs": []
    },
    {
      "cell_type": "markdown",
      "metadata": {
        "id": "v1M94nUIEncw"
      },
      "source": [
        "TESTS"
      ]
    },
    {
      "cell_type": "code",
      "metadata": {
        "id": "T4Smel9NqS1r"
      },
      "source": [
        "model.load_weights(filepath=F\"/content/gdrive/My Drive/Checkpoints/ResNet18_SGD_NoRegularization.h5\")\n",
        "\n",
        "# model.load_weights(\"ResNet18_ADAM_Dropout.h5\")"
      ],
      "execution_count": 15,
      "outputs": []
    },
    {
      "cell_type": "code",
      "metadata": {
        "id": "b0XDBMyDq0d3",
        "outputId": "390dee29-54a9-4164-9f38-70a2b4a2ca6b",
        "colab": {
          "base_uri": "https://localhost:8080/",
          "height": 54
        }
      },
      "source": [
        "result = model.evaluate(batch_size=128, x=x_test, y=y_test)\n",
        "dict(zip(model.metrics_names,result))"
      ],
      "execution_count": 16,
      "outputs": [
        {
          "output_type": "stream",
          "text": [
            "79/79 [==============================] - 1s 11ms/step - loss: 3.0164 - accuracy: 0.4462\n"
          ],
          "name": "stdout"
        },
        {
          "output_type": "execute_result",
          "data": {
            "text/plain": [
              "{'accuracy': 0.44620001316070557, 'loss': 3.016359329223633}"
            ]
          },
          "metadata": {
            "tags": []
          },
          "execution_count": 16
        }
      ]
    },
    {
      "cell_type": "code",
      "metadata": {
        "id": "sjIL0V-iQMcP"
      },
      "source": [
        ""
      ],
      "execution_count": null,
      "outputs": []
    }
  ]
}