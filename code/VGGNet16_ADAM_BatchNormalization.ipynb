{
  "nbformat": 4,
  "nbformat_minor": 0,
  "metadata": {
    "colab": {
      "name": "VGGNet16_ADAM_BatchNormalization.ipynb",
      "provenance": [],
      "collapsed_sections": []
    },
    "kernelspec": {
      "name": "python3",
      "display_name": "Python 3"
    },
    "accelerator": "GPU"
  },
  "cells": [
    {
      "cell_type": "markdown",
      "metadata": {
        "id": "vh7P5M1mq6Y-"
      },
      "source": [
        "## Load DataSet"
      ]
    },
    {
      "cell_type": "code",
      "metadata": {
        "id": "AubeCh7dqp5j",
        "outputId": "db38fe33-aa19-43d4-d2ad-45894cee332c",
        "colab": {
          "base_uri": "https://localhost:8080/",
          "height": 35
        }
      },
      "source": [
        "from google.colab import drive\n",
        "drive.mount('/content/gdrive')"
      ],
      "execution_count": 1,
      "outputs": [
        {
          "output_type": "stream",
          "text": [
            "Mounted at /content/gdrive\n"
          ],
          "name": "stdout"
        }
      ]
    },
    {
      "cell_type": "code",
      "metadata": {
        "id": "ixBthpNWrKzY"
      },
      "source": [
        "from keras.datasets import cifar100\n",
        "from keras.utils import to_categorical\n",
        "import numpy as np\n",
        "import cv2\n",
        "import os\n",
        "from keras import backend as K"
      ],
      "execution_count": 2,
      "outputs": []
    },
    {
      "cell_type": "code",
      "metadata": {
        "id": "d14LEXbNqu68",
        "outputId": "fea89d1e-9b34-4d7f-b5b4-47632dab8897",
        "colab": {
          "base_uri": "https://localhost:8080/",
          "height": 54
        }
      },
      "source": [
        "(x_train, y_train_), (x_test, y_test_) = cifar100.load_data()\n"
      ],
      "execution_count": 3,
      "outputs": [
        {
          "output_type": "stream",
          "text": [
            "Downloading data from https://www.cs.toronto.edu/~kriz/cifar-100-python.tar.gz\n",
            "169009152/169001437 [==============================] - 4s 0us/step\n"
          ],
          "name": "stdout"
        }
      ]
    },
    {
      "cell_type": "code",
      "metadata": {
        "id": "p4lTzEl8djyJ"
      },
      "source": [
        "x_train = x_train.astype('float32') / 255\n",
        "x_test = x_test.astype('float32') / 255"
      ],
      "execution_count": 4,
      "outputs": []
    },
    {
      "cell_type": "code",
      "metadata": {
        "id": "6h_PwVSJrWjf"
      },
      "source": [
        "y_train = to_categorical(y_train_)\n",
        "y_test = to_categorical(y_test_)"
      ],
      "execution_count": 5,
      "outputs": []
    },
    {
      "cell_type": "markdown",
      "metadata": {
        "id": "qF_QcyQ4yyCY"
      },
      "source": [
        "# VGGNet16 Model"
      ]
    },
    {
      "cell_type": "code",
      "metadata": {
        "id": "wyijCffI118j"
      },
      "source": [
        "import keras\n",
        "from keras.models import Sequential\n",
        "from keras.layers import Dense, Activation, Dropout, Flatten, Reshape\n",
        "from keras.layers import Conv2D, BatchNormalization\n",
        "from keras.layers import MaxPooling2D\n",
        "from keras.callbacks import EarlyStopping"
      ],
      "execution_count": 6,
      "outputs": []
    },
    {
      "cell_type": "code",
      "metadata": {
        "id": "uY38SClO2AZA"
      },
      "source": [
        "input_shape = (32, 32, 3)\n",
        "model = Sequential()"
      ],
      "execution_count": 7,
      "outputs": []
    },
    {
      "cell_type": "code",
      "metadata": {
        "id": "S5EkfTlA2Hp_"
      },
      "source": [
        "# model.add(Conv2D(filters=32, kernel_size=(3, 3), activation='elu',padding='same', input_shape=input_shape))\n",
        "# model.add(Conv2D(filters=32, kernel_size=(3, 3), padding='same', activation='elu'))\n",
        "# model.add(BatchNormalization())\n",
        "# model.add(MaxPooling2D(pool_size=(2, 2), strides=(2, 2), padding='same', data_format='channels_last'))"
      ],
      "execution_count": 8,
      "outputs": []
    },
    {
      "cell_type": "code",
      "metadata": {
        "id": "WmlhFcnS2IXn"
      },
      "source": [
        "model.add(Conv2D(filters=64, kernel_size=(3, 3),padding='same', input_shape=input_shape))\n",
        "model.add(BatchNormalization())\n",
        "model.add(Activation('elu'))\n",
        "model.add(Conv2D(filters=64, kernel_size=(3, 3),padding='same'))\n",
        "model.add(BatchNormalization())\n",
        "model.add(Activation('elu'))\n",
        "model.add(MaxPooling2D(pool_size=(2, 2), strides=(2, 2), padding='same', data_format='channels_last'))"
      ],
      "execution_count": 9,
      "outputs": []
    },
    {
      "cell_type": "code",
      "metadata": {
        "id": "s1ct0Gg62KRD"
      },
      "source": [
        "model.add(Conv2D(filters=128, kernel_size=(3, 3),padding='same'))\n",
        "model.add(BatchNormalization())\n",
        "model.add(Activation('elu'))\n",
        "model.add(Conv2D(filters=128, kernel_size=(3, 3),padding='same'))\n",
        "model.add(BatchNormalization())\n",
        "model.add(Activation('elu'))\n",
        "model.add(MaxPooling2D(pool_size=(2, 2), strides=(2, 2), padding='same', data_format='channels_last'))"
      ],
      "execution_count": 10,
      "outputs": []
    },
    {
      "cell_type": "code",
      "metadata": {
        "id": "nB8XUq9M2L9s"
      },
      "source": [
        "model.add(Conv2D(filters=256, kernel_size=(3, 3),padding='same'))\n",
        "model.add(BatchNormalization())\n",
        "model.add(Activation('elu'))\n",
        "model.add(Conv2D(filters=256, kernel_size=(3, 3),padding='same'))\n",
        "model.add(BatchNormalization())\n",
        "model.add(Activation('elu'))\n",
        "model.add(Conv2D(filters=256, kernel_size=(3, 3),padding='same'))\n",
        "model.add(BatchNormalization())\n",
        "model.add(Activation('elu'))\n",
        "model.add(Conv2D(filters=256, kernel_size=(3, 3),padding='same'))\n",
        "model.add(BatchNormalization())\n",
        "model.add(Activation('elu'))\n",
        "model.add(MaxPooling2D(pool_size=(2, 2), strides=(2, 2), padding='same', data_format='channels_last'))"
      ],
      "execution_count": 11,
      "outputs": []
    },
    {
      "cell_type": "code",
      "metadata": {
        "id": "LWRjHCX-2PX3"
      },
      "source": [
        "# model.add(Conv2D(filters=256, kernel_size=(3, 3),padding='same', activation='elu'))\n",
        "# model.add(Conv2D(filters=256, kernel_size=(3, 3),padding='same', activation='elu'))\n",
        "# model.add(Conv2D(filters=256, kernel_size=(3, 3),padding='same', activation='elu'))\n",
        "# model.add(BatchNormalization())\n",
        "# model.add(MaxPooling2D(pool_size=(2, 2), strides=(2, 2), padding='same', data_format='channels_last'))"
      ],
      "execution_count": 12,
      "outputs": []
    },
    {
      "cell_type": "code",
      "metadata": {
        "id": "1xQkKg9d2R1L",
        "outputId": "fbc88cf3-9bc2-4d1d-9d20-b46783c72647",
        "colab": {
          "base_uri": "https://localhost:8080/",
          "height": 1000
        }
      },
      "source": [
        "model.add(Flatten())\n",
        "model.add(Dense(4096, activation='elu'))\n",
        "model.add(Dense(4096, activation='elu'))\n",
        "model.add(Dense(100, activation='softmax'))\n",
        "model.summary()"
      ],
      "execution_count": 13,
      "outputs": [
        {
          "output_type": "stream",
          "text": [
            "Model: \"sequential\"\n",
            "_________________________________________________________________\n",
            "Layer (type)                 Output Shape              Param #   \n",
            "=================================================================\n",
            "conv2d (Conv2D)              (None, 32, 32, 64)        1792      \n",
            "_________________________________________________________________\n",
            "batch_normalization (BatchNo (None, 32, 32, 64)        256       \n",
            "_________________________________________________________________\n",
            "activation (Activation)      (None, 32, 32, 64)        0         \n",
            "_________________________________________________________________\n",
            "conv2d_1 (Conv2D)            (None, 32, 32, 64)        36928     \n",
            "_________________________________________________________________\n",
            "batch_normalization_1 (Batch (None, 32, 32, 64)        256       \n",
            "_________________________________________________________________\n",
            "activation_1 (Activation)    (None, 32, 32, 64)        0         \n",
            "_________________________________________________________________\n",
            "max_pooling2d (MaxPooling2D) (None, 16, 16, 64)        0         \n",
            "_________________________________________________________________\n",
            "conv2d_2 (Conv2D)            (None, 16, 16, 128)       73856     \n",
            "_________________________________________________________________\n",
            "batch_normalization_2 (Batch (None, 16, 16, 128)       512       \n",
            "_________________________________________________________________\n",
            "activation_2 (Activation)    (None, 16, 16, 128)       0         \n",
            "_________________________________________________________________\n",
            "conv2d_3 (Conv2D)            (None, 16, 16, 128)       147584    \n",
            "_________________________________________________________________\n",
            "batch_normalization_3 (Batch (None, 16, 16, 128)       512       \n",
            "_________________________________________________________________\n",
            "activation_3 (Activation)    (None, 16, 16, 128)       0         \n",
            "_________________________________________________________________\n",
            "max_pooling2d_1 (MaxPooling2 (None, 8, 8, 128)         0         \n",
            "_________________________________________________________________\n",
            "conv2d_4 (Conv2D)            (None, 8, 8, 256)         295168    \n",
            "_________________________________________________________________\n",
            "batch_normalization_4 (Batch (None, 8, 8, 256)         1024      \n",
            "_________________________________________________________________\n",
            "activation_4 (Activation)    (None, 8, 8, 256)         0         \n",
            "_________________________________________________________________\n",
            "conv2d_5 (Conv2D)            (None, 8, 8, 256)         590080    \n",
            "_________________________________________________________________\n",
            "batch_normalization_5 (Batch (None, 8, 8, 256)         1024      \n",
            "_________________________________________________________________\n",
            "activation_5 (Activation)    (None, 8, 8, 256)         0         \n",
            "_________________________________________________________________\n",
            "conv2d_6 (Conv2D)            (None, 8, 8, 256)         590080    \n",
            "_________________________________________________________________\n",
            "batch_normalization_6 (Batch (None, 8, 8, 256)         1024      \n",
            "_________________________________________________________________\n",
            "activation_6 (Activation)    (None, 8, 8, 256)         0         \n",
            "_________________________________________________________________\n",
            "conv2d_7 (Conv2D)            (None, 8, 8, 256)         590080    \n",
            "_________________________________________________________________\n",
            "batch_normalization_7 (Batch (None, 8, 8, 256)         1024      \n",
            "_________________________________________________________________\n",
            "activation_7 (Activation)    (None, 8, 8, 256)         0         \n",
            "_________________________________________________________________\n",
            "max_pooling2d_2 (MaxPooling2 (None, 4, 4, 256)         0         \n",
            "_________________________________________________________________\n",
            "flatten (Flatten)            (None, 4096)              0         \n",
            "_________________________________________________________________\n",
            "dense (Dense)                (None, 4096)              16781312  \n",
            "_________________________________________________________________\n",
            "dense_1 (Dense)              (None, 4096)              16781312  \n",
            "_________________________________________________________________\n",
            "dense_2 (Dense)              (None, 100)               409700    \n",
            "=================================================================\n",
            "Total params: 36,303,524\n",
            "Trainable params: 36,300,708\n",
            "Non-trainable params: 2,816\n",
            "_________________________________________________________________\n"
          ],
          "name": "stdout"
        }
      ]
    },
    {
      "cell_type": "code",
      "metadata": {
        "id": "bw_YnKdz2ULv",
        "outputId": "a575ce30-76f9-4aeb-a0c4-e2c71ce8adaf",
        "colab": {
          "base_uri": "https://localhost:8080/",
          "height": 926
        }
      },
      "source": [
        "opt = keras.optimizers.Adam(learning_rate=0.0001, clipnorm=5)\n",
        "model.compile(loss=keras.losses.categorical_crossentropy, optimizer=opt, metrics=[\"accuracy\"])\n",
        "callback = EarlyStopping(monitor='val_loss', patience=20)\n",
        "history = model.fit(x_train, y_train, batch_size=128, epochs=200, verbose=1, validation_data=(x_test, y_test), callbacks=[callback])"
      ],
      "execution_count": 14,
      "outputs": [
        {
          "output_type": "stream",
          "text": [
            "Epoch 1/200\n",
            "391/391 [==============================] - 13s 34ms/step - loss: 3.1972 - accuracy: 0.2467 - val_loss: 4.0969 - val_accuracy: 0.1403\n",
            "Epoch 2/200\n",
            "391/391 [==============================] - 13s 33ms/step - loss: 2.2098 - accuracy: 0.4281 - val_loss: 2.3472 - val_accuracy: 0.3936\n",
            "Epoch 3/200\n",
            "391/391 [==============================] - 13s 33ms/step - loss: 1.7235 - accuracy: 0.5326 - val_loss: 2.2219 - val_accuracy: 0.4402\n",
            "Epoch 4/200\n",
            "391/391 [==============================] - 13s 33ms/step - loss: 1.3051 - accuracy: 0.6298 - val_loss: 2.3062 - val_accuracy: 0.4503\n",
            "Epoch 5/200\n",
            "391/391 [==============================] - 13s 33ms/step - loss: 0.8797 - accuracy: 0.7435 - val_loss: 2.2078 - val_accuracy: 0.4743\n",
            "Epoch 6/200\n",
            "391/391 [==============================] - 13s 33ms/step - loss: 0.5511 - accuracy: 0.8376 - val_loss: 2.3201 - val_accuracy: 0.4772\n",
            "Epoch 7/200\n",
            "391/391 [==============================] - 13s 33ms/step - loss: 0.3161 - accuracy: 0.9071 - val_loss: 2.3472 - val_accuracy: 0.4939\n",
            "Epoch 8/200\n",
            "391/391 [==============================] - 13s 33ms/step - loss: 0.1767 - accuracy: 0.9522 - val_loss: 2.5337 - val_accuracy: 0.4903\n",
            "Epoch 9/200\n",
            "391/391 [==============================] - 13s 33ms/step - loss: 0.1365 - accuracy: 0.9622 - val_loss: 2.6448 - val_accuracy: 0.4850\n",
            "Epoch 10/200\n",
            "391/391 [==============================] - 13s 33ms/step - loss: 0.1542 - accuracy: 0.9547 - val_loss: 2.6451 - val_accuracy: 0.4757\n",
            "Epoch 11/200\n",
            "391/391 [==============================] - 13s 33ms/step - loss: 0.1599 - accuracy: 0.9513 - val_loss: 2.7444 - val_accuracy: 0.4857\n",
            "Epoch 12/200\n",
            "391/391 [==============================] - 13s 33ms/step - loss: 0.1264 - accuracy: 0.9630 - val_loss: 2.8777 - val_accuracy: 0.4758\n",
            "Epoch 13/200\n",
            "391/391 [==============================] - 13s 33ms/step - loss: 0.1134 - accuracy: 0.9662 - val_loss: 2.9951 - val_accuracy: 0.4786\n",
            "Epoch 14/200\n",
            "391/391 [==============================] - 13s 33ms/step - loss: 0.1267 - accuracy: 0.9599 - val_loss: 3.2984 - val_accuracy: 0.4769\n",
            "Epoch 15/200\n",
            "391/391 [==============================] - 13s 33ms/step - loss: 0.1161 - accuracy: 0.9638 - val_loss: 3.0876 - val_accuracy: 0.4954\n",
            "Epoch 16/200\n",
            "391/391 [==============================] - 13s 33ms/step - loss: 0.0967 - accuracy: 0.9698 - val_loss: 3.1476 - val_accuracy: 0.4932\n",
            "Epoch 17/200\n",
            "391/391 [==============================] - 13s 33ms/step - loss: 0.1036 - accuracy: 0.9672 - val_loss: 3.3470 - val_accuracy: 0.4816\n",
            "Epoch 18/200\n",
            "391/391 [==============================] - 13s 33ms/step - loss: 0.1005 - accuracy: 0.9679 - val_loss: 3.1861 - val_accuracy: 0.4934\n",
            "Epoch 19/200\n",
            "391/391 [==============================] - 13s 33ms/step - loss: 0.0825 - accuracy: 0.9746 - val_loss: 3.2021 - val_accuracy: 0.4875\n",
            "Epoch 20/200\n",
            "391/391 [==============================] - 13s 33ms/step - loss: 0.0868 - accuracy: 0.9722 - val_loss: 3.3774 - val_accuracy: 0.4927\n",
            "Epoch 21/200\n",
            "391/391 [==============================] - 13s 33ms/step - loss: 0.0895 - accuracy: 0.9717 - val_loss: 3.3918 - val_accuracy: 0.4761\n",
            "Epoch 22/200\n",
            "391/391 [==============================] - 13s 33ms/step - loss: 0.0724 - accuracy: 0.9777 - val_loss: 3.3249 - val_accuracy: 0.4871\n",
            "Epoch 23/200\n",
            "391/391 [==============================] - 13s 33ms/step - loss: 0.0801 - accuracy: 0.9752 - val_loss: 3.5443 - val_accuracy: 0.4941\n",
            "Epoch 24/200\n",
            "391/391 [==============================] - 13s 33ms/step - loss: 0.0815 - accuracy: 0.9744 - val_loss: 3.3442 - val_accuracy: 0.4905\n",
            "Epoch 25/200\n",
            "391/391 [==============================] - 13s 33ms/step - loss: 0.0662 - accuracy: 0.9794 - val_loss: 3.4240 - val_accuracy: 0.4966\n"
          ],
          "name": "stdout"
        }
      ]
    },
    {
      "cell_type": "code",
      "metadata": {
        "id": "JSaK0f75apPV"
      },
      "source": [
        "model.save_weights(filepath=F\"/content/gdrive/My Drive/Checkpoints/VGGNet16_ADAM_BatchNormalization.h5\")"
      ],
      "execution_count": 15,
      "outputs": []
    },
    {
      "cell_type": "code",
      "metadata": {
        "id": "dZuWXGeW-nqY",
        "outputId": "90c856ff-4848-4850-e127-f06eb4e55107",
        "colab": {
          "base_uri": "https://localhost:8080/",
          "height": 591
        }
      },
      "source": [
        "import matplotlib.pyplot as plt\n",
        "import matplotlib.pyplot as plt2\n",
        "\n",
        "history_dict = history.history\n",
        "print(history_dict.keys())\n",
        "loss_values = history_dict['loss']\n",
        "val_loss_values = history_dict['val_loss']\n",
        "train_acc = history_dict['accuracy']\n",
        "test_acc = history_dict['val_accuracy']\n",
        "\n",
        "epochs = range(1, len(history_dict['accuracy']) + 1)\n",
        "\n",
        "plt.plot(epochs, loss_values, 'bo', label='Training loss')\n",
        "plt.plot(epochs, val_loss_values, 'b', label='Validation loss')\n",
        "plt.title('Training and validation loss')\n",
        "plt.xlabel('Epochs')\n",
        "plt.ylabel('Loss')\n",
        "plt.legend()\n",
        "\n",
        "plt.show()\n",
        "\n",
        "\n",
        "plt2.plot(epochs, train_acc, 'b', label='Training Accuracy')\n",
        "plt2.plot(epochs, test_acc, color = 'red', label='Validation Accuracy')\n",
        "plt2.title('Training and validation accuracy')\n",
        "plt2.xlabel('Epochs')\n",
        "plt2.ylabel('Accuracy')\n",
        "plt2.legend()\n",
        "\n",
        "plt2.show()"
      ],
      "execution_count": 18,
      "outputs": [
        {
          "output_type": "stream",
          "text": [
            "dict_keys(['loss', 'accuracy', 'val_loss', 'val_accuracy'])\n"
          ],
          "name": "stdout"
        },
        {
          "output_type": "display_data",
          "data": {
            "image/png": "[encoded data removed]",
            "text/plain": [
              "<Figure size 432x288 with 1 Axes>"
            ]
          },
          "metadata": {
            "tags": [],
            "needs_background": "light"
          }
        },
        {
          "output_type": "display_data",
          "data": {
            "image/png": "[encoded data removed]",
            "text/plain": [
              "<Figure size 432x288 with 1 Axes>"
            ]
          },
          "metadata": {
            "tags": [],
            "needs_background": "light"
          }
        }
      ]
    },
    {
      "cell_type": "code",
      "metadata": {
        "id": "AfO0lHJIE0Gy",
        "outputId": "7bed98ef-8bf4-4918-b7ba-00dc390087e6",
        "colab": {
          "base_uri": "https://localhost:8080/",
          "height": 1000
        }
      },
      "source": [
        "y_pred = model.predict(x_test).argmax(-1)\n",
        "import sklearn.metrics as metrics\n",
        "print(metrics.classification_report(y_test.argmax(axis=1), y_pred))"
      ],
      "execution_count": 19,
      "outputs": [
        {
          "output_type": "stream",
          "text": [
            "              precision    recall  f1-score   support\n",
            "\n",
            "           0       0.74      0.70      0.72       100\n",
            "           1       0.56      0.73      0.63       100\n",
            "           2       0.42      0.44      0.43       100\n",
            "           3       0.35      0.23      0.28       100\n",
            "           4       0.32      0.34      0.33       100\n",
            "           5       0.54      0.41      0.47       100\n",
            "           6       0.67      0.40      0.50       100\n",
            "           7       0.39      0.57      0.46       100\n",
            "           8       0.92      0.46      0.61       100\n",
            "           9       0.67      0.58      0.62       100\n",
            "          10       0.37      0.45      0.41       100\n",
            "          11       0.34      0.32      0.33       100\n",
            "          12       0.53      0.54      0.53       100\n",
            "          13       0.46      0.26      0.33       100\n",
            "          14       0.83      0.29      0.43       100\n",
            "          15       0.53      0.42      0.47       100\n",
            "          16       0.48      0.62      0.54       100\n",
            "          17       0.73      0.62      0.67       100\n",
            "          18       0.30      0.63      0.40       100\n",
            "          19       0.50      0.34      0.40       100\n",
            "          20       0.95      0.59      0.73       100\n",
            "          21       0.63      0.66      0.65       100\n",
            "          22       0.56      0.45      0.50       100\n",
            "          23       0.62      0.69      0.65       100\n",
            "          24       0.75      0.64      0.69       100\n",
            "          25       0.28      0.48      0.35       100\n",
            "          26       0.69      0.40      0.51       100\n",
            "          27       0.35      0.48      0.40       100\n",
            "          28       0.82      0.51      0.63       100\n",
            "          29       0.33      0.58      0.42       100\n",
            "          30       0.47      0.47      0.47       100\n",
            "          31       0.51      0.45      0.48       100\n",
            "          32       0.59      0.35      0.44       100\n",
            "          33       0.57      0.38      0.46       100\n",
            "          34       0.67      0.43      0.52       100\n",
            "          35       0.53      0.26      0.35       100\n",
            "          36       0.45      0.47      0.46       100\n",
            "          37       0.49      0.38      0.43       100\n",
            "          38       0.30      0.42      0.35       100\n",
            "          39       0.47      0.70      0.56       100\n",
            "          40       0.23      0.55      0.32       100\n",
            "          41       0.90      0.55      0.68       100\n",
            "          42       0.52      0.58      0.55       100\n",
            "          43       0.64      0.51      0.57       100\n",
            "          44       0.26      0.23      0.24       100\n",
            "          45       0.62      0.21      0.31       100\n",
            "          46       0.36      0.27      0.31       100\n",
            "          47       0.50      0.63      0.56       100\n",
            "          48       0.64      0.85      0.73       100\n",
            "          49       0.58      0.70      0.63       100\n",
            "          50       0.20      0.56      0.29       100\n",
            "          51       0.53      0.47      0.50       100\n",
            "          52       0.62      0.58      0.60       100\n",
            "          53       0.81      0.60      0.69       100\n",
            "          54       0.69      0.61      0.65       100\n",
            "          55       0.39      0.15      0.22       100\n",
            "          56       0.72      0.71      0.72       100\n",
            "          57       0.52      0.63      0.57       100\n",
            "          58       0.37      0.75      0.50       100\n",
            "          59       0.65      0.41      0.50       100\n",
            "          60       0.77      0.88      0.82       100\n",
            "          61       0.63      0.49      0.55       100\n",
            "          62       0.59      0.57      0.58       100\n",
            "          63       0.60      0.42      0.49       100\n",
            "          64       0.31      0.27      0.29       100\n",
            "          65       0.19      0.43      0.26       100\n",
            "          66       0.51      0.44      0.47       100\n",
            "          67       0.45      0.37      0.41       100\n",
            "          68       0.83      0.76      0.79       100\n",
            "          69       0.75      0.68      0.71       100\n",
            "          70       0.66      0.39      0.49       100\n",
            "          71       0.74      0.57      0.64       100\n",
            "          72       0.29      0.15      0.20       100\n",
            "          73       0.39      0.46      0.42       100\n",
            "          74       0.28      0.37      0.32       100\n",
            "          75       0.72      0.75      0.74       100\n",
            "          76       0.77      0.72      0.75       100\n",
            "          77       0.37      0.28      0.32       100\n",
            "          78       0.41      0.24      0.30       100\n",
            "          79       0.76      0.55      0.64       100\n",
            "          80       0.28      0.34      0.31       100\n",
            "          81       0.56      0.50      0.53       100\n",
            "          82       0.78      0.72      0.75       100\n",
            "          83       0.67      0.35      0.46       100\n",
            "          84       0.45      0.40      0.43       100\n",
            "          85       0.49      0.66      0.56       100\n",
            "          86       0.57      0.51      0.54       100\n",
            "          87       0.42      0.72      0.53       100\n",
            "          88       0.47      0.58      0.52       100\n",
            "          89       0.27      0.72      0.39       100\n",
            "          90       0.65      0.36      0.46       100\n",
            "          91       0.70      0.62      0.66       100\n",
            "          92       0.48      0.44      0.46       100\n",
            "          93       0.32      0.23      0.27       100\n",
            "          94       0.84      0.78      0.81       100\n",
            "          95       0.58      0.57      0.57       100\n",
            "          96       0.54      0.51      0.52       100\n",
            "          97       0.45      0.56      0.50       100\n",
            "          98       0.38      0.11      0.17       100\n",
            "          99       0.60      0.50      0.54       100\n",
            "\n",
            "    accuracy                           0.50     10000\n",
            "   macro avg       0.54      0.50      0.50     10000\n",
            "weighted avg       0.54      0.50      0.50     10000\n",
            "\n"
          ],
          "name": "stdout"
        }
      ]
    },
    {
      "cell_type": "code",
      "metadata": {
        "id": "1iKRhppw2IWC"
      },
      "source": [
        ""
      ],
      "execution_count": null,
      "outputs": []
    },
    {
      "cell_type": "markdown",
      "metadata": {
        "id": "Lc4s78X2a0JH"
      },
      "source": [
        "## TESTS"
      ]
    },
    {
      "cell_type": "code",
      "metadata": {
        "id": "T4Smel9NqS1r"
      },
      "source": [
        "# model.load_weights(filepath=F\"/content/gdrive/My Drive/Checkpoints/VGGNet16_ADAM_BatchNormalization.h5\")\n",
        "\n",
        "model.load_weights(\"VGGNet16_ADAM_BatchNormalization.h5\")"
      ],
      "execution_count": null,
      "outputs": []
    },
    {
      "cell_type": "code",
      "metadata": {
        "id": "b0XDBMyDq0d3",
        "outputId": "695ef284-da47-4e0c-cb95-dc3f37269c17",
        "colab": {
          "base_uri": "https://localhost:8080/",
          "height": 54
        }
      },
      "source": [
        "result = model.evaluate(batch_size=128, x=x_test, y=y_test)\n",
        "dict(zip(model.metrics_names,result))"
      ],
      "execution_count": 20,
      "outputs": [
        {
          "output_type": "stream",
          "text": [
            "79/79 [==============================] - 1s 10ms/step - loss: 3.4240 - accuracy: 0.4966\n"
          ],
          "name": "stdout"
        },
        {
          "output_type": "execute_result",
          "data": {
            "text/plain": [
              "{'accuracy': 0.4966000020503998, 'loss': 3.423987865447998}"
            ]
          },
          "metadata": {
            "tags": []
          },
          "execution_count": 20
        }
      ]
    },
    {
      "cell_type": "code",
      "metadata": {
        "id": "6DPtTI4zcs67"
      },
      "source": [
        ""
      ],
      "execution_count": null,
      "outputs": []
    }
  ]
}