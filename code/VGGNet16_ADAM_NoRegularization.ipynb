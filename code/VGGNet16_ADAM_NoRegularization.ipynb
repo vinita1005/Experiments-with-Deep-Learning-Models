{
  "nbformat": 4,
  "nbformat_minor": 0,
  "metadata": {
    "colab": {
      "name": "VGGNet16_ADAM_NoRegularization.ipynb",
      "provenance": [],
      "collapsed_sections": []
    },
    "kernelspec": {
      "name": "python3",
      "display_name": "Python 3"
    },
    "accelerator": "GPU"
  },
  "cells": [
    {
      "cell_type": "markdown",
      "metadata": {
        "id": "QLfagOwiqsM8"
      },
      "source": [
        "\n",
        "\n",
        "---\n",
        "\n",
        "## Load Data\n"
      ]
    },
    {
      "cell_type": "code",
      "metadata": {
        "id": "jTXNlsmrqCOz",
        "outputId": "14d547c5-36ed-462a-d46d-31c6b176d75c",
        "colab": {
          "base_uri": "https://localhost:8080/",
          "height": 35
        }
      },
      "source": [
        "from google.colab import drive\n",
        "drive.mount('/content/gdrive')"
      ],
      "execution_count": 1,
      "outputs": [
        {
          "output_type": "stream",
          "text": [
            "Mounted at /content/gdrive\n"
          ],
          "name": "stdout"
        }
      ]
    },
    {
      "cell_type": "code",
      "metadata": {
        "id": "ixBthpNWrKzY"
      },
      "source": [
        "from keras.datasets import cifar100\n",
        "from keras.utils import to_categorical\n",
        "import numpy as np\n",
        "import cv2\n",
        "import os\n",
        "from keras import backend as K"
      ],
      "execution_count": 2,
      "outputs": []
    },
    {
      "cell_type": "code",
      "metadata": {
        "id": "d14LEXbNqu68",
        "outputId": "d785a3f9-7f81-48e4-bab6-acdc6fef9f8d",
        "colab": {
          "base_uri": "https://localhost:8080/",
          "height": 54
        }
      },
      "source": [
        "(x_train, y_train_), (x_test, y_test_) = cifar100.load_data()\n"
      ],
      "execution_count": 3,
      "outputs": [
        {
          "output_type": "stream",
          "text": [
            "Downloading data from https://www.cs.toronto.edu/~kriz/cifar-100-python.tar.gz\n",
            "169009152/169001437 [==============================] - 6s 0us/step\n"
          ],
          "name": "stdout"
        }
      ]
    },
    {
      "cell_type": "code",
      "metadata": {
        "id": "p4lTzEl8djyJ"
      },
      "source": [
        "x_train = x_train.astype('float32') / 255\n",
        "x_test = x_test.astype('float32') / 255"
      ],
      "execution_count": 4,
      "outputs": []
    },
    {
      "cell_type": "code",
      "metadata": {
        "id": "6h_PwVSJrWjf"
      },
      "source": [
        "y_train = to_categorical(y_train_)\n",
        "y_test = to_categorical(y_test_)"
      ],
      "execution_count": 5,
      "outputs": []
    },
    {
      "cell_type": "markdown",
      "metadata": {
        "id": "mPTGGSnFaZlh"
      },
      "source": [
        "## VGGNet16 Model"
      ]
    },
    {
      "cell_type": "code",
      "metadata": {
        "id": "LnwNYnBhcg4j"
      },
      "source": [
        "import keras\n",
        "import tensorflow as tf\n",
        "from keras.models import Sequential\n",
        "from keras.layers import Dense, Activation, Dropout, Flatten, Reshape\n",
        "from keras.layers import Conv2D\n",
        "from keras.layers import MaxPooling2D\n",
        "from keras.callbacks import EarlyStopping\n",
        "import os"
      ],
      "execution_count": 6,
      "outputs": []
    },
    {
      "cell_type": "code",
      "metadata": {
        "id": "rrLsD21hmO-u"
      },
      "source": [
        "input_shape = (32, 32, 3)\n",
        "model = Sequential()"
      ],
      "execution_count": 7,
      "outputs": []
    },
    {
      "cell_type": "code",
      "metadata": {
        "id": "6bwpbPjwmuAJ"
      },
      "source": [
        "model.add(Conv2D(filters=64, kernel_size=(3, 3),padding='same', activation=tf.keras.layers.LeakyReLU(alpha=0.3), input_shape=input_shape))\n",
        "model.add(Conv2D(filters=64, kernel_size=(3, 3),padding='same', activation=tf.keras.layers.LeakyReLU(alpha=0.3)))\n",
        "model.add(MaxPooling2D(pool_size=(2, 2), strides=(2, 2), padding='same', data_format='channels_last'))"
      ],
      "execution_count": 8,
      "outputs": []
    },
    {
      "cell_type": "code",
      "metadata": {
        "id": "M-WqLtWsm38T"
      },
      "source": [
        "model.add(Conv2D(filters=128, kernel_size=(3, 3),padding='same', activation=tf.keras.layers.LeakyReLU(alpha=0.3)))\n",
        "model.add(Conv2D(filters=128, kernel_size=(3, 3),padding='same', activation=tf.keras.layers.LeakyReLU(alpha=0.3)))\n",
        "# model.add(Conv2D(filters=128, kernel_size=(3, 3),padding='same', activation='elu'))\n",
        "model.add(MaxPooling2D(pool_size=(2, 2), strides=(2, 2), padding='same', data_format='channels_last'))"
      ],
      "execution_count": 9,
      "outputs": []
    },
    {
      "cell_type": "code",
      "metadata": {
        "id": "AwmAY9OFm4o6"
      },
      "source": [
        "model.add(Conv2D(filters=256, kernel_size=(3, 3),padding='same', activation=tf.keras.layers.LeakyReLU(alpha=0.3)))\n",
        "model.add(Conv2D(filters=256, kernel_size=(3, 3),padding='same', activation=tf.keras.layers.LeakyReLU(alpha=0.3)))\n",
        "model.add(Conv2D(filters=256, kernel_size=(3, 3),padding='same', activation=tf.keras.layers.LeakyReLU(alpha=0.3)))\n",
        "model.add(Conv2D(filters=256, kernel_size=(3, 3),padding='same', activation=tf.keras.layers.LeakyReLU(alpha=0.3)))\n",
        "model.add(MaxPooling2D(pool_size=(2, 2), strides=(2, 2), padding='same', data_format='channels_last'))"
      ],
      "execution_count": 10,
      "outputs": []
    },
    {
      "cell_type": "code",
      "metadata": {
        "id": "VqIOZyXrm5Gl"
      },
      "source": [
        "# model.add(Conv2D(filters=256, kernel_size=(3, 3),padding='same', activation='elu'))\n",
        "# model.add(Conv2D(filters=256, kernel_size=(3, 3),padding='same', activation='elu'))\n",
        "# model.add(Conv2D(filters=256, kernel_size=(3, 3),padding='same', activation='elu'))\n",
        "# model.add(MaxPooling2D(pool_size=(2, 2), strides=(2, 2), padding='same', data_format='channels_last'))"
      ],
      "execution_count": 11,
      "outputs": []
    },
    {
      "cell_type": "code",
      "metadata": {
        "id": "BCwl6DAinCqm",
        "outputId": "8e6dbaae-5567-4f60-c38d-d21ec20c10a6",
        "colab": {
          "base_uri": "https://localhost:8080/",
          "height": 708
        }
      },
      "source": [
        "model.add(Flatten())\n",
        "model.add(Dense(4096, activation='relu'))\n",
        "model.add(Dense(4096, activation='relu'))\n",
        "model.add(Dense(100, activation='softmax'))\n",
        "model.summary()"
      ],
      "execution_count": 12,
      "outputs": [
        {
          "output_type": "stream",
          "text": [
            "Model: \"sequential\"\n",
            "_________________________________________________________________\n",
            "Layer (type)                 Output Shape              Param #   \n",
            "=================================================================\n",
            "conv2d (Conv2D)              (None, 32, 32, 64)        1792      \n",
            "_________________________________________________________________\n",
            "conv2d_1 (Conv2D)            (None, 32, 32, 64)        36928     \n",
            "_________________________________________________________________\n",
            "max_pooling2d (MaxPooling2D) (None, 16, 16, 64)        0         \n",
            "_________________________________________________________________\n",
            "conv2d_2 (Conv2D)            (None, 16, 16, 128)       73856     \n",
            "_________________________________________________________________\n",
            "conv2d_3 (Conv2D)            (None, 16, 16, 128)       147584    \n",
            "_________________________________________________________________\n",
            "max_pooling2d_1 (MaxPooling2 (None, 8, 8, 128)         0         \n",
            "_________________________________________________________________\n",
            "conv2d_4 (Conv2D)            (None, 8, 8, 256)         295168    \n",
            "_________________________________________________________________\n",
            "conv2d_5 (Conv2D)            (None, 8, 8, 256)         590080    \n",
            "_________________________________________________________________\n",
            "conv2d_6 (Conv2D)            (None, 8, 8, 256)         590080    \n",
            "_________________________________________________________________\n",
            "conv2d_7 (Conv2D)            (None, 8, 8, 256)         590080    \n",
            "_________________________________________________________________\n",
            "max_pooling2d_2 (MaxPooling2 (None, 4, 4, 256)         0         \n",
            "_________________________________________________________________\n",
            "flatten (Flatten)            (None, 4096)              0         \n",
            "_________________________________________________________________\n",
            "dense (Dense)                (None, 4096)              16781312  \n",
            "_________________________________________________________________\n",
            "dense_1 (Dense)              (None, 4096)              16781312  \n",
            "_________________________________________________________________\n",
            "dense_2 (Dense)              (None, 100)               409700    \n",
            "=================================================================\n",
            "Total params: 36,297,892\n",
            "Trainable params: 36,297,892\n",
            "Non-trainable params: 0\n",
            "_________________________________________________________________\n"
          ],
          "name": "stdout"
        }
      ]
    },
    {
      "cell_type": "code",
      "metadata": {
        "id": "jOPKC_gnpbaY",
        "outputId": "c55a8d1e-80ae-45b5-a439-05bde512b267",
        "colab": {
          "base_uri": "https://localhost:8080/",
          "height": 890
        }
      },
      "source": [
        "callback = EarlyStopping(monitor='val_loss', patience=20)\n",
        "opt = keras.optimizers.Adam(learning_rate=0.0001, clipnorm=5)\n",
        "model.compile(loss=keras.losses.categorical_crossentropy, optimizer=opt, metrics=[\"accuracy\"])\n",
        "history = model.fit(x_train, y_train, batch_size=128, epochs=200, verbose=1, validation_data=(x_test, y_test), callbacks=[callback])\n",
        "model.save_weights(filepath=F'/content/gdrive/My Drive/Checkpoints/VGGNet16_ADAM_NoRegularization.h5')"
      ],
      "execution_count": 13,
      "outputs": [
        {
          "output_type": "stream",
          "text": [
            "Epoch 1/200\n",
            "391/391 [==============================] - 9s 22ms/step - loss: 3.9273 - accuracy: 0.0974 - val_loss: 3.4175 - val_accuracy: 0.1880\n",
            "Epoch 2/200\n",
            "391/391 [==============================] - 8s 21ms/step - loss: 3.1264 - accuracy: 0.2371 - val_loss: 2.9839 - val_accuracy: 0.2635\n",
            "Epoch 3/200\n",
            "391/391 [==============================] - 8s 21ms/step - loss: 2.6485 - accuracy: 0.3298 - val_loss: 2.6607 - val_accuracy: 0.3323\n",
            "Epoch 4/200\n",
            "391/391 [==============================] - 8s 21ms/step - loss: 2.2280 - accuracy: 0.4186 - val_loss: 2.5153 - val_accuracy: 0.3705\n",
            "Epoch 5/200\n",
            "391/391 [==============================] - 8s 21ms/step - loss: 1.7440 - accuracy: 0.5262 - val_loss: 2.5473 - val_accuracy: 0.3872\n",
            "Epoch 6/200\n",
            "391/391 [==============================] - 8s 21ms/step - loss: 1.1378 - accuracy: 0.6765 - val_loss: 2.7142 - val_accuracy: 0.3882\n",
            "Epoch 7/200\n",
            "391/391 [==============================] - 8s 21ms/step - loss: 0.5398 - accuracy: 0.8398 - val_loss: 3.6787 - val_accuracy: 0.3781\n",
            "Epoch 8/200\n",
            "391/391 [==============================] - 8s 21ms/step - loss: 0.2506 - accuracy: 0.9238 - val_loss: 4.0096 - val_accuracy: 0.3830\n",
            "Epoch 9/200\n",
            "391/391 [==============================] - 8s 21ms/step - loss: 0.1650 - accuracy: 0.9515 - val_loss: 4.4626 - val_accuracy: 0.3878\n",
            "Epoch 10/200\n",
            "391/391 [==============================] - 8s 21ms/step - loss: 0.1196 - accuracy: 0.9660 - val_loss: 4.6410 - val_accuracy: 0.3908\n",
            "Epoch 11/200\n",
            "391/391 [==============================] - 8s 21ms/step - loss: 0.1121 - accuracy: 0.9674 - val_loss: 4.9147 - val_accuracy: 0.3850\n",
            "Epoch 12/200\n",
            "391/391 [==============================] - 8s 21ms/step - loss: 0.1112 - accuracy: 0.9686 - val_loss: 4.8122 - val_accuracy: 0.3843\n",
            "Epoch 13/200\n",
            "391/391 [==============================] - 8s 21ms/step - loss: 0.0865 - accuracy: 0.9757 - val_loss: 4.8022 - val_accuracy: 0.3841\n",
            "Epoch 14/200\n",
            "391/391 [==============================] - 8s 21ms/step - loss: 0.0841 - accuracy: 0.9766 - val_loss: 4.9445 - val_accuracy: 0.3870\n",
            "Epoch 15/200\n",
            "391/391 [==============================] - 8s 21ms/step - loss: 0.0808 - accuracy: 0.9778 - val_loss: 5.2186 - val_accuracy: 0.3766\n",
            "Epoch 16/200\n",
            "391/391 [==============================] - 8s 21ms/step - loss: 0.0739 - accuracy: 0.9796 - val_loss: 5.2386 - val_accuracy: 0.3784\n",
            "Epoch 17/200\n",
            "391/391 [==============================] - 8s 21ms/step - loss: 0.0718 - accuracy: 0.9802 - val_loss: 5.3837 - val_accuracy: 0.3870\n",
            "Epoch 18/200\n",
            "391/391 [==============================] - 8s 21ms/step - loss: 0.0766 - accuracy: 0.9788 - val_loss: 5.0359 - val_accuracy: 0.3885\n",
            "Epoch 19/200\n",
            "391/391 [==============================] - 8s 21ms/step - loss: 0.0710 - accuracy: 0.9792 - val_loss: 5.4729 - val_accuracy: 0.3877\n",
            "Epoch 20/200\n",
            "391/391 [==============================] - 8s 21ms/step - loss: 0.0609 - accuracy: 0.9832 - val_loss: 5.2132 - val_accuracy: 0.3815\n",
            "Epoch 21/200\n",
            "391/391 [==============================] - 8s 21ms/step - loss: 0.0557 - accuracy: 0.9847 - val_loss: 5.7289 - val_accuracy: 0.3860\n",
            "Epoch 22/200\n",
            "391/391 [==============================] - 8s 21ms/step - loss: 0.0584 - accuracy: 0.9846 - val_loss: 5.5200 - val_accuracy: 0.3826\n",
            "Epoch 23/200\n",
            "391/391 [==============================] - 8s 21ms/step - loss: 0.0529 - accuracy: 0.9852 - val_loss: 5.7082 - val_accuracy: 0.3837\n",
            "Epoch 24/200\n",
            "391/391 [==============================] - 8s 21ms/step - loss: 0.0525 - accuracy: 0.9851 - val_loss: 5.6718 - val_accuracy: 0.3816\n"
          ],
          "name": "stdout"
        }
      ]
    },
    {
      "cell_type": "code",
      "metadata": {
        "id": "dZuWXGeW-nqY",
        "outputId": "028a4856-c26f-4829-e0f7-2023f208531a",
        "colab": {
          "base_uri": "https://localhost:8080/",
          "height": 591
        }
      },
      "source": [
        "import matplotlib.pyplot as plt\n",
        "import matplotlib.pyplot as plt2\n",
        "\n",
        "history_dict = history.history\n",
        "print(history_dict.keys())\n",
        "loss_values = history_dict['loss']\n",
        "val_loss_values = history_dict['val_loss']\n",
        "train_acc = history_dict['accuracy']\n",
        "test_acc = history_dict['val_accuracy']\n",
        "\n",
        "epochs = range(1, len(history_dict['accuracy']) + 1)\n",
        "\n",
        "plt.plot(epochs, loss_values, 'bo', label='Training loss')\n",
        "plt.plot(epochs, val_loss_values, 'b', label='Validation loss')\n",
        "plt.title('Training and validation loss')\n",
        "plt.xlabel('Epochs')\n",
        "plt.ylabel('Loss')\n",
        "plt.legend()\n",
        "\n",
        "plt.show()\n",
        "\n",
        "\n",
        "plt2.plot(epochs, train_acc, 'b', label='Training Accuracy')\n",
        "plt2.plot(epochs, test_acc, color = 'red', label='Validation Accuracy')\n",
        "plt2.title('Training and validation accuracy')\n",
        "plt2.xlabel('Epochs')\n",
        "plt2.ylabel('Accuracy')\n",
        "plt2.legend()\n",
        "\n",
        "plt2.show()"
      ],
      "execution_count": 14,
      "outputs": [
        {
          "output_type": "stream",
          "text": [
            "dict_keys(['loss', 'accuracy', 'val_loss', 'val_accuracy'])\n"
          ],
          "name": "stdout"
        },
        {
          "output_type": "display_data",
          "data": {
            "image/png": "[encoded data removed]",
            "text/plain": [
              "<Figure size 432x288 with 1 Axes>"
            ]
          },
          "metadata": {
            "tags": [],
            "needs_background": "light"
          }
        },
        {
          "output_type": "display_data",
          "data": {
            "image/png": "[encoded data removed]",
            "text/plain": [
              "<Figure size 432x288 with 1 Axes>"
            ]
          },
          "metadata": {
            "tags": [],
            "needs_background": "light"
          }
        }
      ]
    },
    {
      "cell_type": "code",
      "metadata": {
        "id": "AfO0lHJIE0Gy",
        "outputId": "edbf4b6c-f62e-415f-e040-b65809a625de",
        "colab": {
          "base_uri": "https://localhost:8080/",
          "height": 1000
        }
      },
      "source": [
        "y_pred = model.predict(x_test).argmax(-1)\n",
        "import sklearn.metrics as metrics\n",
        "print(metrics.classification_report(y_test.argmax(axis=1), y_pred))"
      ],
      "execution_count": 15,
      "outputs": [
        {
          "output_type": "stream",
          "text": [
            "              precision    recall  f1-score   support\n",
            "\n",
            "           0       0.70      0.72      0.71       100\n",
            "           1       0.55      0.54      0.54       100\n",
            "           2       0.19      0.21      0.20       100\n",
            "           3       0.20      0.15      0.17       100\n",
            "           4       0.24      0.13      0.17       100\n",
            "           5       0.40      0.31      0.35       100\n",
            "           6       0.41      0.32      0.36       100\n",
            "           7       0.47      0.48      0.47       100\n",
            "           8       0.31      0.45      0.37       100\n",
            "           9       0.61      0.40      0.48       100\n",
            "          10       0.23      0.18      0.20       100\n",
            "          11       0.26      0.20      0.23       100\n",
            "          12       0.39      0.52      0.45       100\n",
            "          13       0.33      0.31      0.32       100\n",
            "          14       0.28      0.24      0.26       100\n",
            "          15       0.26      0.28      0.27       100\n",
            "          16       0.31      0.33      0.32       100\n",
            "          17       0.46      0.59      0.52       100\n",
            "          18       0.30      0.24      0.27       100\n",
            "          19       0.33      0.23      0.27       100\n",
            "          20       0.59      0.71      0.64       100\n",
            "          21       0.47      0.49      0.48       100\n",
            "          22       0.37      0.41      0.39       100\n",
            "          23       0.70      0.59      0.64       100\n",
            "          24       0.65      0.64      0.64       100\n",
            "          25       0.28      0.23      0.25       100\n",
            "          26       0.33      0.37      0.35       100\n",
            "          27       0.16      0.20      0.17       100\n",
            "          28       0.50      0.58      0.54       100\n",
            "          29       0.45      0.34      0.39       100\n",
            "          30       0.30      0.45      0.36       100\n",
            "          31       0.26      0.34      0.30       100\n",
            "          32       0.42      0.26      0.32       100\n",
            "          33       0.27      0.36      0.31       100\n",
            "          34       0.32      0.35      0.33       100\n",
            "          35       0.19      0.12      0.15       100\n",
            "          36       0.42      0.31      0.36       100\n",
            "          37       0.15      0.19      0.17       100\n",
            "          38       0.27      0.12      0.17       100\n",
            "          39       0.62      0.59      0.61       100\n",
            "          40       0.37      0.34      0.35       100\n",
            "          41       0.64      0.58      0.61       100\n",
            "          42       0.30      0.39      0.34       100\n",
            "          43       0.39      0.32      0.35       100\n",
            "          44       0.15      0.17      0.16       100\n",
            "          45       0.26      0.27      0.27       100\n",
            "          46       0.28      0.20      0.23       100\n",
            "          47       0.38      0.55      0.45       100\n",
            "          48       0.67      0.62      0.64       100\n",
            "          49       0.43      0.53      0.48       100\n",
            "          50       0.22      0.29      0.25       100\n",
            "          51       0.40      0.34      0.37       100\n",
            "          52       0.49      0.50      0.49       100\n",
            "          53       0.61      0.53      0.57       100\n",
            "          54       0.34      0.42      0.37       100\n",
            "          55       0.26      0.12      0.16       100\n",
            "          56       0.46      0.52      0.49       100\n",
            "          57       0.42      0.48      0.45       100\n",
            "          58       0.53      0.44      0.48       100\n",
            "          59       0.30      0.43      0.35       100\n",
            "          60       0.76      0.74      0.75       100\n",
            "          61       0.42      0.57      0.48       100\n",
            "          62       0.39      0.61      0.47       100\n",
            "          63       0.25      0.39      0.30       100\n",
            "          64       0.14      0.27      0.19       100\n",
            "          65       0.30      0.30      0.30       100\n",
            "          66       0.53      0.26      0.35       100\n",
            "          67       0.33      0.31      0.32       100\n",
            "          68       0.73      0.61      0.67       100\n",
            "          69       0.63      0.62      0.62       100\n",
            "          70       0.47      0.28      0.35       100\n",
            "          71       0.55      0.59      0.57       100\n",
            "          72       0.15      0.26      0.19       100\n",
            "          73       0.29      0.34      0.31       100\n",
            "          74       0.32      0.25      0.28       100\n",
            "          75       0.75      0.64      0.69       100\n",
            "          76       0.58      0.65      0.61       100\n",
            "          77       0.30      0.13      0.18       100\n",
            "          78       0.24      0.22      0.23       100\n",
            "          79       0.32      0.32      0.32       100\n",
            "          80       0.20      0.17      0.18       100\n",
            "          81       0.28      0.34      0.30       100\n",
            "          82       0.77      0.62      0.69       100\n",
            "          83       0.37      0.25      0.30       100\n",
            "          84       0.26      0.21      0.23       100\n",
            "          85       0.44      0.39      0.41       100\n",
            "          86       0.52      0.46      0.49       100\n",
            "          87       0.46      0.39      0.42       100\n",
            "          88       0.48      0.24      0.32       100\n",
            "          89       0.31      0.43      0.36       100\n",
            "          90       0.34      0.35      0.34       100\n",
            "          91       0.57      0.55      0.56       100\n",
            "          92       0.31      0.35      0.33       100\n",
            "          93       0.22      0.22      0.22       100\n",
            "          94       0.71      0.58      0.64       100\n",
            "          95       0.40      0.46      0.43       100\n",
            "          96       0.37      0.29      0.32       100\n",
            "          97       0.30      0.44      0.36       100\n",
            "          98       0.16      0.11      0.13       100\n",
            "          99       0.41      0.43      0.42       100\n",
            "\n",
            "    accuracy                           0.38     10000\n",
            "   macro avg       0.39      0.38      0.38     10000\n",
            "weighted avg       0.39      0.38      0.38     10000\n",
            "\n"
          ],
          "name": "stdout"
        }
      ]
    },
    {
      "cell_type": "code",
      "metadata": {
        "id": "_Dvmbanbn3H_"
      },
      "source": [
        ""
      ],
      "execution_count": null,
      "outputs": []
    },
    {
      "cell_type": "markdown",
      "metadata": {
        "id": "ih6a7d2jcQHp"
      },
      "source": [
        "## TESTS"
      ]
    },
    {
      "cell_type": "code",
      "metadata": {
        "id": "T4Smel9NqS1r"
      },
      "source": [
        "# model.load_weights(filepath=F\"/content/gdrive/My Drive/Checkpoints/VGGNet16_ADAM_NoRegularization.h5\")\n",
        "\n",
        "model.load_weights(\"VGGNet16_ADAM_NoRegularization.h5\")"
      ],
      "execution_count": 16,
      "outputs": []
    },
    {
      "cell_type": "code",
      "metadata": {
        "id": "b0XDBMyDq0d3",
        "outputId": "57699276-99f9-4448-dd06-4f42c7cdc102",
        "colab": {
          "base_uri": "https://localhost:8080/",
          "height": 54
        }
      },
      "source": [
        "result = model.evaluate(batch_size=128, x=x_test, y=y_test)\n",
        "dict(zip(model.metrics_names,result))"
      ],
      "execution_count": 17,
      "outputs": [
        {
          "output_type": "stream",
          "text": [
            "79/79 [==============================] - 1s 8ms/step - loss: 5.6718 - accuracy: 0.3816\n"
          ],
          "name": "stdout"
        },
        {
          "output_type": "execute_result",
          "data": {
            "text/plain": [
              "{'accuracy': 0.3815999925136566, 'loss': 5.671812534332275}"
            ]
          },
          "metadata": {
            "tags": []
          },
          "execution_count": 17
        }
      ]
    },
    {
      "cell_type": "code",
      "metadata": {
        "id": "CCSzMHbve1Uw"
      },
      "source": [
        ""
      ],
      "execution_count": null,
      "outputs": []
    }
  ]
}