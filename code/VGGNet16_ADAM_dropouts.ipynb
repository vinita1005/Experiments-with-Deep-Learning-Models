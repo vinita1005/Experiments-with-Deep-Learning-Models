{
  "nbformat": 4,
  "nbformat_minor": 0,
  "metadata": {
    "colab": {
      "name": "VGGNet16_ADAM_dropouts.ipynb",
      "provenance": [],
      "collapsed_sections": []
    },
    "kernelspec": {
      "name": "python3",
      "display_name": "Python 3"
    },
    "accelerator": "GPU"
  },
  "cells": [
    {
      "cell_type": "markdown",
      "metadata": {
        "id": "0DG0It4LZfI3"
      },
      "source": [
        "## Load Data Set"
      ]
    },
    {
      "cell_type": "code",
      "metadata": {
        "id": "AubeCh7dqp5j",
        "outputId": "ac53440d-0a2f-4bd7-e74b-05fa4485a6ee",
        "colab": {
          "base_uri": "https://localhost:8080/",
          "height": 35
        }
      },
      "source": [
        "from google.colab import drive\n",
        "drive.mount('/content/gdrive')"
      ],
      "execution_count": 1,
      "outputs": [
        {
          "output_type": "stream",
          "text": [
            "Mounted at /content/gdrive\n"
          ],
          "name": "stdout"
        }
      ]
    },
    {
      "cell_type": "code",
      "metadata": {
        "id": "ixBthpNWrKzY"
      },
      "source": [
        "from keras.datasets import cifar100\n",
        "from keras.utils import to_categorical\n",
        "import numpy as np\n",
        "import cv2\n",
        "import os\n",
        "from keras import backend as K"
      ],
      "execution_count": 2,
      "outputs": []
    },
    {
      "cell_type": "code",
      "metadata": {
        "id": "d14LEXbNqu68",
        "outputId": "94586c85-5c89-4054-d49a-c1a2523a2dcb",
        "colab": {
          "base_uri": "https://localhost:8080/",
          "height": 54
        }
      },
      "source": [
        "(x_train, y_train_), (x_test, y_test_) = cifar100.load_data()\n"
      ],
      "execution_count": 3,
      "outputs": [
        {
          "output_type": "stream",
          "text": [
            "Downloading data from https://www.cs.toronto.edu/~kriz/cifar-100-python.tar.gz\n",
            "169009152/169001437 [==============================] - 6s 0us/step\n"
          ],
          "name": "stdout"
        }
      ]
    },
    {
      "cell_type": "code",
      "metadata": {
        "id": "p4lTzEl8djyJ"
      },
      "source": [
        "x_train = x_train.astype('float32') / 255\n",
        "x_test = x_test.astype('float32') / 255"
      ],
      "execution_count": 4,
      "outputs": []
    },
    {
      "cell_type": "code",
      "metadata": {
        "id": "6h_PwVSJrWjf"
      },
      "source": [
        "y_train = to_categorical(y_train_)\n",
        "y_test = to_categorical(y_test_)"
      ],
      "execution_count": 5,
      "outputs": []
    },
    {
      "cell_type": "markdown",
      "metadata": {
        "id": "t-D5sIb83H1t"
      },
      "source": [
        "# VGGNet16 Model"
      ]
    },
    {
      "cell_type": "code",
      "metadata": {
        "id": "LnwNYnBhcg4j"
      },
      "source": [
        "import keras\n",
        "from keras.models import Sequential\n",
        "from keras.layers import Dense, Activation, Dropout, Flatten, Reshape\n",
        "from keras.layers import Conv2D\n",
        "from keras.layers import MaxPooling2D\n",
        "from keras.callbacks import EarlyStopping\n",
        "import os"
      ],
      "execution_count": 6,
      "outputs": []
    },
    {
      "cell_type": "code",
      "metadata": {
        "id": "FhbSm9Rx4H1s"
      },
      "source": [
        "input_shape = (32, 32, 3)\n",
        "model = Sequential()"
      ],
      "execution_count": 7,
      "outputs": []
    },
    {
      "cell_type": "code",
      "metadata": {
        "id": "rvg7zbUNmrD5"
      },
      "source": [
        "# model.add(Conv2D(filters=32, kernel_size=(3, 3), activation='elu',padding='same', input_shape=input_shape))\n",
        "# model.add(Conv2D(filters=32, kernel_size=(3, 3), padding='same', activation='elu'))\n",
        "# model.add(MaxPooling2D(pool_size=(2, 2), strides=(2, 2), padding='same', data_format='channels_last'))\n",
        "# model.add(Dropout(0.2))"
      ],
      "execution_count": 8,
      "outputs": []
    },
    {
      "cell_type": "code",
      "metadata": {
        "id": "6bwpbPjwmuAJ"
      },
      "source": [
        "model.add(Conv2D(filters=64, kernel_size=(3, 3),padding='same', activation='elu', input_shape=input_shape))\n",
        "model.add(Dropout(0.2))\n",
        "model.add(Conv2D(filters=64, kernel_size=(3, 3),padding='same', activation='elu'))\n",
        "model.add(Dropout(0.2))\n",
        "model.add(MaxPooling2D(pool_size=(2, 2), strides=(2, 2), padding='same', data_format='channels_last'))\n"
      ],
      "execution_count": 9,
      "outputs": []
    },
    {
      "cell_type": "code",
      "metadata": {
        "id": "M-WqLtWsm38T"
      },
      "source": [
        "model.add(Conv2D(filters=128, kernel_size=(3, 3),padding='same', activation='elu'))\n",
        "model.add(Dropout(0.2))\n",
        "model.add(Conv2D(filters=128, kernel_size=(3, 3),padding='same', activation='elu'))\n",
        "model.add(Dropout(0.2))\n",
        "model.add(MaxPooling2D(pool_size=(2, 2), strides=(2, 2), padding='same', data_format='channels_last'))"
      ],
      "execution_count": 10,
      "outputs": []
    },
    {
      "cell_type": "code",
      "metadata": {
        "id": "AwmAY9OFm4o6"
      },
      "source": [
        "model.add(Conv2D(filters=256, kernel_size=(3, 3),padding='same', activation='elu'))\n",
        "model.add(Dropout(0.2))\n",
        "model.add(Conv2D(filters=256, kernel_size=(3, 3),padding='same', activation='elu'))\n",
        "model.add(Dropout(0.2))\n",
        "model.add(Conv2D(filters=256, kernel_size=(3, 3),padding='same', activation='elu'))\n",
        "model.add(Dropout(0.2))\n",
        "model.add(Conv2D(filters=256, kernel_size=(3, 3),padding='same', activation='elu'))\n",
        "model.add(Dropout(0.2))\n",
        "model.add(MaxPooling2D(pool_size=(2, 2), strides=(2, 2), padding='same', data_format='channels_last'))"
      ],
      "execution_count": 11,
      "outputs": []
    },
    {
      "cell_type": "code",
      "metadata": {
        "id": "BCwl6DAinCqm",
        "outputId": "cb7827f4-1a04-4b1e-8eca-607b5c26df6b",
        "colab": {
          "base_uri": "https://localhost:8080/",
          "height": 999
        }
      },
      "source": [
        "model.add(Flatten())\n",
        "model.add(Dense(4096, activation='elu'))\n",
        "model.add(Dense(4096, activation='elu'))\n",
        "model.add(Dense(100, activation='softmax'))\n",
        "model.summary()"
      ],
      "execution_count": 12,
      "outputs": [
        {
          "output_type": "stream",
          "text": [
            "Model: \"sequential\"\n",
            "_________________________________________________________________\n",
            "Layer (type)                 Output Shape              Param #   \n",
            "=================================================================\n",
            "conv2d (Conv2D)              (None, 32, 32, 64)        1792      \n",
            "_________________________________________________________________\n",
            "dropout (Dropout)            (None, 32, 32, 64)        0         \n",
            "_________________________________________________________________\n",
            "conv2d_1 (Conv2D)            (None, 32, 32, 64)        36928     \n",
            "_________________________________________________________________\n",
            "dropout_1 (Dropout)          (None, 32, 32, 64)        0         \n",
            "_________________________________________________________________\n",
            "max_pooling2d (MaxPooling2D) (None, 16, 16, 64)        0         \n",
            "_________________________________________________________________\n",
            "conv2d_2 (Conv2D)            (None, 16, 16, 128)       73856     \n",
            "_________________________________________________________________\n",
            "dropout_2 (Dropout)          (None, 16, 16, 128)       0         \n",
            "_________________________________________________________________\n",
            "conv2d_3 (Conv2D)            (None, 16, 16, 128)       147584    \n",
            "_________________________________________________________________\n",
            "dropout_3 (Dropout)          (None, 16, 16, 128)       0         \n",
            "_________________________________________________________________\n",
            "max_pooling2d_1 (MaxPooling2 (None, 8, 8, 128)         0         \n",
            "_________________________________________________________________\n",
            "conv2d_4 (Conv2D)            (None, 8, 8, 256)         295168    \n",
            "_________________________________________________________________\n",
            "dropout_4 (Dropout)          (None, 8, 8, 256)         0         \n",
            "_________________________________________________________________\n",
            "conv2d_5 (Conv2D)            (None, 8, 8, 256)         590080    \n",
            "_________________________________________________________________\n",
            "dropout_5 (Dropout)          (None, 8, 8, 256)         0         \n",
            "_________________________________________________________________\n",
            "conv2d_6 (Conv2D)            (None, 8, 8, 256)         590080    \n",
            "_________________________________________________________________\n",
            "dropout_6 (Dropout)          (None, 8, 8, 256)         0         \n",
            "_________________________________________________________________\n",
            "conv2d_7 (Conv2D)            (None, 8, 8, 256)         590080    \n",
            "_________________________________________________________________\n",
            "dropout_7 (Dropout)          (None, 8, 8, 256)         0         \n",
            "_________________________________________________________________\n",
            "max_pooling2d_2 (MaxPooling2 (None, 4, 4, 256)         0         \n",
            "_________________________________________________________________\n",
            "flatten (Flatten)            (None, 4096)              0         \n",
            "_________________________________________________________________\n",
            "dense (Dense)                (None, 4096)              16781312  \n",
            "_________________________________________________________________\n",
            "dense_1 (Dense)              (None, 4096)              16781312  \n",
            "_________________________________________________________________\n",
            "dense_2 (Dense)              (None, 100)               409700    \n",
            "=================================================================\n",
            "Total params: 36,297,892\n",
            "Trainable params: 36,297,892\n",
            "Non-trainable params: 0\n",
            "_________________________________________________________________\n"
          ],
          "name": "stdout"
        }
      ]
    },
    {
      "cell_type": "code",
      "metadata": {
        "id": "qiRLCVKfbD4y",
        "outputId": "6079287d-1918-40fb-d45e-54e2c80892c8",
        "colab": {
          "base_uri": "https://localhost:8080/",
          "height": 999
        }
      },
      "source": [
        "opt = keras.optimizers.Adam(learning_rate=0.0001, clipnorm=5)\n",
        "model.compile(loss=keras.losses.categorical_crossentropy, optimizer=opt, metrics=[\"accuracy\"])\n",
        "callback = EarlyStopping(monitor='val_loss', patience=20)\n",
        "history = model.fit(x_train, y_train, batch_size=128, epochs=200, verbose=1, validation_data=(x_test, y_test), callbacks=[callback])\n",
        "model.save_weights(filepath=F\"/content/gdrive/My Drive/Checkpoints/VGGNet16_ADAM_Dropouts.h5\")"
      ],
      "execution_count": 13,
      "outputs": [
        {
          "output_type": "stream",
          "text": [
            "Epoch 1/200\n",
            "391/391 [==============================] - 9s 24ms/step - loss: 3.7925 - accuracy: 0.1295 - val_loss: 7.8400 - val_accuracy: 0.0558\n",
            "Epoch 2/200\n",
            "391/391 [==============================] - 9s 23ms/step - loss: 3.0936 - accuracy: 0.2504 - val_loss: 5.5930 - val_accuracy: 0.1160\n",
            "Epoch 3/200\n",
            "391/391 [==============================] - 9s 23ms/step - loss: 2.7439 - accuracy: 0.3183 - val_loss: 3.6164 - val_accuracy: 0.2461\n",
            "Epoch 4/200\n",
            "391/391 [==============================] - 9s 23ms/step - loss: 2.4796 - accuracy: 0.3710 - val_loss: 3.1083 - val_accuracy: 0.3055\n",
            "Epoch 5/200\n",
            "391/391 [==============================] - 9s 22ms/step - loss: 2.2697 - accuracy: 0.4123 - val_loss: 2.9673 - val_accuracy: 0.3445\n",
            "Epoch 6/200\n",
            "391/391 [==============================] - 9s 22ms/step - loss: 2.0947 - accuracy: 0.4537 - val_loss: 2.9518 - val_accuracy: 0.3616\n",
            "Epoch 7/200\n",
            "391/391 [==============================] - 9s 22ms/step - loss: 1.9240 - accuracy: 0.4912 - val_loss: 2.8009 - val_accuracy: 0.3814\n",
            "Epoch 8/200\n",
            "391/391 [==============================] - 9s 22ms/step - loss: 1.7628 - accuracy: 0.5273 - val_loss: 2.9230 - val_accuracy: 0.3859\n",
            "Epoch 9/200\n",
            "391/391 [==============================] - 9s 23ms/step - loss: 1.5698 - accuracy: 0.5698 - val_loss: 2.9698 - val_accuracy: 0.4169\n",
            "Epoch 10/200\n",
            "391/391 [==============================] - 9s 23ms/step - loss: 1.3280 - accuracy: 0.6270 - val_loss: 2.9882 - val_accuracy: 0.4238\n",
            "Epoch 11/200\n",
            "391/391 [==============================] - 9s 23ms/step - loss: 1.0630 - accuracy: 0.6912 - val_loss: 2.8445 - val_accuracy: 0.4509\n",
            "Epoch 12/200\n",
            "391/391 [==============================] - 9s 23ms/step - loss: 0.7508 - accuracy: 0.7738 - val_loss: 3.2284 - val_accuracy: 0.4585\n",
            "Epoch 13/200\n",
            "391/391 [==============================] - 9s 22ms/step - loss: 0.4990 - accuracy: 0.8437 - val_loss: 3.6281 - val_accuracy: 0.4645\n",
            "Epoch 14/200\n",
            "391/391 [==============================] - 9s 22ms/step - loss: 0.3246 - accuracy: 0.8982 - val_loss: 3.7334 - val_accuracy: 0.4770\n",
            "Epoch 15/200\n",
            "391/391 [==============================] - 9s 23ms/step - loss: 0.2244 - accuracy: 0.9276 - val_loss: 4.4829 - val_accuracy: 0.4718\n",
            "Epoch 16/200\n",
            "391/391 [==============================] - 9s 23ms/step - loss: 0.1753 - accuracy: 0.9444 - val_loss: 4.5337 - val_accuracy: 0.4867\n",
            "Epoch 17/200\n",
            "391/391 [==============================] - 9s 23ms/step - loss: 0.1453 - accuracy: 0.9543 - val_loss: 4.4204 - val_accuracy: 0.4858\n",
            "Epoch 18/200\n",
            "391/391 [==============================] - 9s 22ms/step - loss: 0.1287 - accuracy: 0.9592 - val_loss: 4.7404 - val_accuracy: 0.4844\n",
            "Epoch 19/200\n",
            "391/391 [==============================] - 9s 22ms/step - loss: 0.1259 - accuracy: 0.9601 - val_loss: 5.2040 - val_accuracy: 0.4767\n",
            "Epoch 20/200\n",
            "391/391 [==============================] - 9s 22ms/step - loss: 0.1047 - accuracy: 0.9665 - val_loss: 5.3871 - val_accuracy: 0.4790\n",
            "Epoch 21/200\n",
            "391/391 [==============================] - 9s 22ms/step - loss: 0.1000 - accuracy: 0.9676 - val_loss: 5.2143 - val_accuracy: 0.4760\n",
            "Epoch 22/200\n",
            "391/391 [==============================] - 9s 23ms/step - loss: 0.1010 - accuracy: 0.9679 - val_loss: 5.1251 - val_accuracy: 0.4850\n",
            "Epoch 23/200\n",
            "391/391 [==============================] - 9s 23ms/step - loss: 0.0819 - accuracy: 0.9743 - val_loss: 5.4376 - val_accuracy: 0.4894\n",
            "Epoch 24/200\n",
            "391/391 [==============================] - 9s 23ms/step - loss: 0.0856 - accuracy: 0.9740 - val_loss: 5.6535 - val_accuracy: 0.4849\n",
            "Epoch 25/200\n",
            "391/391 [==============================] - 9s 23ms/step - loss: 0.0812 - accuracy: 0.9745 - val_loss: 6.1011 - val_accuracy: 0.4820\n",
            "Epoch 26/200\n",
            "391/391 [==============================] - 9s 22ms/step - loss: 0.0725 - accuracy: 0.9769 - val_loss: 6.0189 - val_accuracy: 0.4891\n",
            "Epoch 27/200\n",
            "391/391 [==============================] - 9s 23ms/step - loss: 0.0764 - accuracy: 0.9762 - val_loss: 5.8620 - val_accuracy: 0.4937\n"
          ],
          "name": "stdout"
        }
      ]
    },
    {
      "cell_type": "code",
      "metadata": {
        "id": "dZuWXGeW-nqY",
        "outputId": "8e3b0704-3f05-4c2c-bb3a-be1f3c967722",
        "colab": {
          "base_uri": "https://localhost:8080/",
          "height": 591
        }
      },
      "source": [
        "import matplotlib.pyplot as plt\n",
        "import matplotlib.pyplot as plt2\n",
        "\n",
        "history_dict = history.history\n",
        "print(history_dict.keys())\n",
        "loss_values = history_dict['loss']\n",
        "val_loss_values = history_dict['val_loss']\n",
        "train_acc = history_dict['accuracy']\n",
        "test_acc = history_dict['val_accuracy']\n",
        "\n",
        "epochs = range(1, len(history_dict['accuracy']) + 1)\n",
        "\n",
        "plt.plot(epochs, loss_values, 'bo', label='Training loss')\n",
        "plt.plot(epochs, val_loss_values, 'b', label='Validation loss')\n",
        "plt.title('Training and validation loss')\n",
        "plt.xlabel('Epochs')\n",
        "plt.ylabel('Loss')\n",
        "plt.legend()\n",
        "\n",
        "plt.show()\n",
        "\n",
        "\n",
        "plt2.plot(epochs, train_acc, 'b', label='Training Accuracy')\n",
        "plt2.plot(epochs, test_acc, color = 'red', label='Validation Accuracy')\n",
        "plt2.title('Training and validation accuracy')\n",
        "plt2.xlabel('Epochs')\n",
        "plt2.ylabel('Accuracy')\n",
        "plt2.legend()\n",
        "\n",
        "plt2.show()"
      ],
      "execution_count": 14,
      "outputs": [
        {
          "output_type": "stream",
          "text": [
            "dict_keys(['loss', 'accuracy', 'val_loss', 'val_accuracy'])\n"
          ],
          "name": "stdout"
        },
        {
          "output_type": "display_data",
          "data": {
            "image/png": "[encoded data removed]",
            "text/plain": [
              "<Figure size 432x288 with 1 Axes>"
            ]
          },
          "metadata": {
            "tags": [],
            "needs_background": "light"
          }
        },
        {
          "output_type": "display_data",
          "data": {
            "image/png": "[encoded data removed]",
            "text/plain": [
              "<Figure size 432x288 with 1 Axes>"
            ]
          },
          "metadata": {
            "tags": [],
            "needs_background": "light"
          }
        }
      ]
    },
    {
      "cell_type": "code",
      "metadata": {
        "id": "AfO0lHJIE0Gy",
        "outputId": "0eb03e4d-e0a8-4f8a-b5d3-b0a59fa72215",
        "colab": {
          "base_uri": "https://localhost:8080/",
          "height": 1000
        }
      },
      "source": [
        "y_pred = model.predict(x_test).argmax(-1)\n",
        "import sklearn.metrics as metrics\n",
        "print(metrics.classification_report(y_test.argmax(axis=1), y_pred))"
      ],
      "execution_count": 15,
      "outputs": [
        {
          "output_type": "stream",
          "text": [
            "              precision    recall  f1-score   support\n",
            "\n",
            "           0       0.72      0.72      0.72       100\n",
            "           1       0.67      0.58      0.62       100\n",
            "           2       0.52      0.37      0.43       100\n",
            "           3       0.27      0.23      0.25       100\n",
            "           4       0.32      0.38      0.35       100\n",
            "           5       0.55      0.36      0.43       100\n",
            "           6       0.43      0.50      0.46       100\n",
            "           7       0.33      0.60      0.42       100\n",
            "           8       0.57      0.71      0.63       100\n",
            "           9       0.63      0.67      0.65       100\n",
            "          10       0.33      0.25      0.29       100\n",
            "          11       0.32      0.35      0.34       100\n",
            "          12       0.74      0.48      0.58       100\n",
            "          13       0.45      0.41      0.43       100\n",
            "          14       0.45      0.34      0.39       100\n",
            "          15       0.51      0.39      0.44       100\n",
            "          16       0.54      0.56      0.55       100\n",
            "          17       0.63      0.69      0.66       100\n",
            "          18       0.46      0.39      0.42       100\n",
            "          19       0.56      0.33      0.42       100\n",
            "          20       0.76      0.78      0.77       100\n",
            "          21       0.71      0.55      0.62       100\n",
            "          22       0.38      0.47      0.42       100\n",
            "          23       0.58      0.69      0.63       100\n",
            "          24       0.55      0.71      0.62       100\n",
            "          25       0.46      0.35      0.40       100\n",
            "          26       0.51      0.55      0.53       100\n",
            "          27       0.28      0.32      0.30       100\n",
            "          28       0.63      0.77      0.69       100\n",
            "          29       0.56      0.48      0.52       100\n",
            "          30       0.55      0.49      0.52       100\n",
            "          31       0.74      0.31      0.44       100\n",
            "          32       0.47      0.43      0.45       100\n",
            "          33       0.35      0.53      0.42       100\n",
            "          34       0.42      0.54      0.47       100\n",
            "          35       0.38      0.18      0.24       100\n",
            "          36       0.40      0.52      0.45       100\n",
            "          37       0.44      0.38      0.41       100\n",
            "          38       0.31      0.44      0.37       100\n",
            "          39       0.52      0.68      0.59       100\n",
            "          40       0.57      0.41      0.48       100\n",
            "          41       0.82      0.65      0.73       100\n",
            "          42       0.47      0.53      0.50       100\n",
            "          43       0.52      0.64      0.58       100\n",
            "          44       0.24      0.19      0.21       100\n",
            "          45       0.51      0.30      0.38       100\n",
            "          46       0.34      0.22      0.27       100\n",
            "          47       0.56      0.53      0.54       100\n",
            "          48       0.72      0.64      0.68       100\n",
            "          49       0.60      0.64      0.62       100\n",
            "          50       0.44      0.28      0.34       100\n",
            "          51       0.33      0.58      0.42       100\n",
            "          52       0.42      0.80      0.55       100\n",
            "          53       0.59      0.66      0.62       100\n",
            "          54       0.45      0.57      0.50       100\n",
            "          55       0.16      0.14      0.15       100\n",
            "          56       0.70      0.74      0.72       100\n",
            "          57       0.50      0.53      0.51       100\n",
            "          58       0.56      0.66      0.61       100\n",
            "          59       0.47      0.53      0.50       100\n",
            "          60       0.60      0.90      0.72       100\n",
            "          61       0.41      0.68      0.51       100\n",
            "          62       0.45      0.50      0.47       100\n",
            "          63       0.53      0.42      0.47       100\n",
            "          64       0.30      0.25      0.27       100\n",
            "          65       0.23      0.26      0.25       100\n",
            "          66       0.48      0.43      0.46       100\n",
            "          67       0.52      0.46      0.49       100\n",
            "          68       0.64      0.87      0.74       100\n",
            "          69       0.57      0.77      0.66       100\n",
            "          70       0.41      0.42      0.42       100\n",
            "          71       0.58      0.72      0.64       100\n",
            "          72       0.25      0.17      0.20       100\n",
            "          73       0.55      0.36      0.44       100\n",
            "          74       0.25      0.32      0.28       100\n",
            "          75       0.71      0.75      0.73       100\n",
            "          76       0.79      0.76      0.78       100\n",
            "          77       0.50      0.31      0.38       100\n",
            "          78       0.30      0.37      0.33       100\n",
            "          79       0.51      0.49      0.50       100\n",
            "          80       0.36      0.32      0.34       100\n",
            "          81       0.58      0.36      0.44       100\n",
            "          82       0.68      0.69      0.68       100\n",
            "          83       0.35      0.33      0.34       100\n",
            "          84       0.58      0.39      0.47       100\n",
            "          85       0.56      0.65      0.60       100\n",
            "          86       0.74      0.46      0.57       100\n",
            "          87       0.51      0.59      0.55       100\n",
            "          88       0.36      0.50      0.42       100\n",
            "          89       0.71      0.52      0.60       100\n",
            "          90       0.45      0.69      0.54       100\n",
            "          91       0.76      0.58      0.66       100\n",
            "          92       0.51      0.22      0.31       100\n",
            "          93       0.43      0.25      0.32       100\n",
            "          94       0.65      0.88      0.75       100\n",
            "          95       0.63      0.48      0.55       100\n",
            "          96       0.48      0.32      0.38       100\n",
            "          97       0.59      0.44      0.50       100\n",
            "          98       0.21      0.28      0.24       100\n",
            "          99       0.65      0.49      0.56       100\n",
            "\n",
            "    accuracy                           0.49     10000\n",
            "   macro avg       0.50      0.49      0.49     10000\n",
            "weighted avg       0.50      0.49      0.49     10000\n",
            "\n"
          ],
          "name": "stdout"
        }
      ]
    },
    {
      "cell_type": "code",
      "metadata": {
        "id": "K27KHjvw7gXf"
      },
      "source": [
        ""
      ],
      "execution_count": null,
      "outputs": []
    },
    {
      "cell_type": "code",
      "metadata": {
        "id": "T4Smel9NqS1r"
      },
      "source": [
        "# model.load_weights(filepath=F\"/content/gdrive/My Drive/Checkpoints/VGGNet16_ADAM_Dropouts.h5\")\n",
        "\n",
        "model.load_weights(\"VGGNet16_ADAM_Dropouts.h5\")"
      ],
      "execution_count": 16,
      "outputs": []
    },
    {
      "cell_type": "code",
      "metadata": {
        "id": "b0XDBMyDq0d3",
        "outputId": "2797ad1e-085d-4fbb-92ef-2a1a9fe79a7a",
        "colab": {
          "base_uri": "https://localhost:8080/",
          "height": 54
        }
      },
      "source": [
        "result = model.evaluate(batch_size=128, x=x_test, y=y_test)\n",
        "dict(zip(model.metrics_names,result))"
      ],
      "execution_count": 17,
      "outputs": [
        {
          "output_type": "stream",
          "text": [
            "79/79 [==============================] - 1s 7ms/step - loss: 5.8620 - accuracy: 0.4937\n"
          ],
          "name": "stdout"
        },
        {
          "output_type": "execute_result",
          "data": {
            "text/plain": [
              "{'accuracy': 0.4936999976634979, 'loss': 5.861963748931885}"
            ]
          },
          "metadata": {
            "tags": []
          },
          "execution_count": 17
        }
      ]
    },
    {
      "cell_type": "code",
      "metadata": {
        "id": "jY7wguEmffkg"
      },
      "source": [
        ""
      ],
      "execution_count": null,
      "outputs": []
    }
  ]
}