{
  "nbformat": 4,
  "nbformat_minor": 0,
  "metadata": {
    "colab": {
      "name": "VGGNet16_SGD_BatchNormalization.ipynb",
      "provenance": [],
      "collapsed_sections": []
    },
    "kernelspec": {
      "name": "python3",
      "display_name": "Python 3"
    },
    "accelerator": "GPU"
  },
  "cells": [
    {
      "cell_type": "markdown",
      "metadata": {
        "id": "AB_inzh1Elo-"
      },
      "source": [
        "## Load DataSet"
      ]
    },
    {
      "cell_type": "code",
      "metadata": {
        "id": "AubeCh7dqp5j",
        "outputId": "8486b8bf-f6cb-4c03-fb55-c6dfdeeea515",
        "colab": {
          "base_uri": "https://localhost:8080/",
          "height": 35
        }
      },
      "source": [
        "from google.colab import drive\n",
        "drive.mount('/content/gdrive')"
      ],
      "execution_count": 1,
      "outputs": [
        {
          "output_type": "stream",
          "text": [
            "Mounted at /content/gdrive\n"
          ],
          "name": "stdout"
        }
      ]
    },
    {
      "cell_type": "code",
      "metadata": {
        "id": "ixBthpNWrKzY"
      },
      "source": [
        "from keras.datasets import cifar100\n",
        "from keras.utils import to_categorical\n",
        "import numpy as np\n",
        "import cv2\n",
        "import os\n",
        "from keras import backend as K"
      ],
      "execution_count": 2,
      "outputs": []
    },
    {
      "cell_type": "code",
      "metadata": {
        "id": "d14LEXbNqu68",
        "outputId": "465e5cc0-f0ff-4b90-8800-decbf4ca2ce5",
        "colab": {
          "base_uri": "https://localhost:8080/",
          "height": 54
        }
      },
      "source": [
        "(x_train, y_train_), (x_test, y_test_) = cifar100.load_data()\n"
      ],
      "execution_count": 3,
      "outputs": [
        {
          "output_type": "stream",
          "text": [
            "Downloading data from https://www.cs.toronto.edu/~kriz/cifar-100-python.tar.gz\n",
            "169009152/169001437 [==============================] - 6s 0us/step\n"
          ],
          "name": "stdout"
        }
      ]
    },
    {
      "cell_type": "code",
      "metadata": {
        "id": "p4lTzEl8djyJ"
      },
      "source": [
        "x_train = x_train.astype('float32') / 255\n",
        "x_test = x_test.astype('float32') / 255"
      ],
      "execution_count": 4,
      "outputs": []
    },
    {
      "cell_type": "code",
      "metadata": {
        "id": "6h_PwVSJrWjf"
      },
      "source": [
        "y_train = to_categorical(y_train_)\n",
        "y_test = to_categorical(y_test_)"
      ],
      "execution_count": 5,
      "outputs": []
    },
    {
      "cell_type": "markdown",
      "metadata": {
        "id": "Dsy5YawFE5i2"
      },
      "source": [
        "## VGGNet16 Model"
      ]
    },
    {
      "cell_type": "code",
      "metadata": {
        "id": "wyijCffI118j"
      },
      "source": [
        "import keras\n",
        "from keras.models import Sequential\n",
        "from keras.layers import Dense, Activation, Dropout, Flatten, Reshape\n",
        "from keras.layers import Conv2D, BatchNormalization\n",
        "from keras.layers import MaxPooling2D\n",
        "from keras.callbacks import EarlyStopping"
      ],
      "execution_count": 6,
      "outputs": []
    },
    {
      "cell_type": "code",
      "metadata": {
        "id": "uY38SClO2AZA"
      },
      "source": [
        "input_shape = (32, 32, 3)\n",
        "model = Sequential()"
      ],
      "execution_count": 7,
      "outputs": []
    },
    {
      "cell_type": "code",
      "metadata": {
        "id": "WmlhFcnS2IXn"
      },
      "source": [
        "model.add(Conv2D(filters=64, kernel_size=(3, 3),padding='same', input_shape=input_shape))\n",
        "model.add(BatchNormalization())\n",
        "model.add(Activation('elu'))\n",
        "model.add(Conv2D(filters=64, kernel_size=(3, 3),padding='same'))\n",
        "model.add(BatchNormalization())\n",
        "model.add(Activation('elu'))\n",
        "model.add(MaxPooling2D(pool_size=(2, 2), strides=(2, 2), padding='same', data_format='channels_last'))"
      ],
      "execution_count": 8,
      "outputs": []
    },
    {
      "cell_type": "code",
      "metadata": {
        "id": "s1ct0Gg62KRD"
      },
      "source": [
        "model.add(Conv2D(filters=128, kernel_size=(3, 3),padding='same'))\n",
        "model.add(BatchNormalization())\n",
        "model.add(Activation('elu'))\n",
        "model.add(Conv2D(filters=128, kernel_size=(3, 3),padding='same'))\n",
        "model.add(BatchNormalization())\n",
        "model.add(Activation('elu'))\n",
        "model.add(MaxPooling2D(pool_size=(2, 2), strides=(2, 2), padding='same', data_format='channels_last'))"
      ],
      "execution_count": 9,
      "outputs": []
    },
    {
      "cell_type": "code",
      "metadata": {
        "id": "nB8XUq9M2L9s"
      },
      "source": [
        "model.add(Conv2D(filters=256, kernel_size=(3, 3),padding='same'))\n",
        "model.add(BatchNormalization())\n",
        "model.add(Activation('elu'))\n",
        "model.add(Conv2D(filters=256, kernel_size=(3, 3),padding='same'))\n",
        "model.add(BatchNormalization())\n",
        "model.add(Activation('elu'))\n",
        "model.add(Conv2D(filters=256, kernel_size=(3, 3),padding='same'))\n",
        "model.add(BatchNormalization())\n",
        "model.add(Activation('elu'))\n",
        "model.add(Conv2D(filters=256, kernel_size=(3, 3),padding='same'))\n",
        "model.add(BatchNormalization())\n",
        "model.add(Activation('elu'))\n",
        "model.add(MaxPooling2D(pool_size=(2, 2), strides=(2, 2), padding='same', data_format='channels_last'))"
      ],
      "execution_count": 10,
      "outputs": []
    },
    {
      "cell_type": "code",
      "metadata": {
        "id": "LWRjHCX-2PX3"
      },
      "source": [
        "# model.add(Conv2D(filters=256, kernel_size=(3, 3),padding='same', activation='elu'))\n",
        "# model.add(Conv2D(filters=256, kernel_size=(3, 3),padding='same', activation='elu'))\n",
        "# model.add(Conv2D(filters=256, kernel_size=(3, 3),padding='same', activation='elu'))\n",
        "# model.add(BatchNormalization())\n",
        "# model.add(MaxPooling2D(pool_size=(2, 2), strides=(2, 2), padding='same', data_format='channels_last'))"
      ],
      "execution_count": 11,
      "outputs": []
    },
    {
      "cell_type": "code",
      "metadata": {
        "id": "1xQkKg9d2R1L",
        "outputId": "fac6e7d4-05af-47c9-8e08-4de349d63d82",
        "colab": {
          "base_uri": "https://localhost:8080/",
          "height": 1000
        }
      },
      "source": [
        "model.add(Flatten())\n",
        "model.add(Dense(4096, activation='elu'))\n",
        "model.add(Dense(4096, activation='elu'))\n",
        "model.add(Dense(100, activation='softmax'))\n",
        "model.summary()"
      ],
      "execution_count": 12,
      "outputs": [
        {
          "output_type": "stream",
          "text": [
            "Model: \"sequential\"\n",
            "_________________________________________________________________\n",
            "Layer (type)                 Output Shape              Param #   \n",
            "=================================================================\n",
            "conv2d (Conv2D)              (None, 32, 32, 64)        1792      \n",
            "_________________________________________________________________\n",
            "batch_normalization (BatchNo (None, 32, 32, 64)        256       \n",
            "_________________________________________________________________\n",
            "activation (Activation)      (None, 32, 32, 64)        0         \n",
            "_________________________________________________________________\n",
            "conv2d_1 (Conv2D)            (None, 32, 32, 64)        36928     \n",
            "_________________________________________________________________\n",
            "batch_normalization_1 (Batch (None, 32, 32, 64)        256       \n",
            "_________________________________________________________________\n",
            "activation_1 (Activation)    (None, 32, 32, 64)        0         \n",
            "_________________________________________________________________\n",
            "max_pooling2d (MaxPooling2D) (None, 16, 16, 64)        0         \n",
            "_________________________________________________________________\n",
            "conv2d_2 (Conv2D)            (None, 16, 16, 128)       73856     \n",
            "_________________________________________________________________\n",
            "batch_normalization_2 (Batch (None, 16, 16, 128)       512       \n",
            "_________________________________________________________________\n",
            "activation_2 (Activation)    (None, 16, 16, 128)       0         \n",
            "_________________________________________________________________\n",
            "conv2d_3 (Conv2D)            (None, 16, 16, 128)       147584    \n",
            "_________________________________________________________________\n",
            "batch_normalization_3 (Batch (None, 16, 16, 128)       512       \n",
            "_________________________________________________________________\n",
            "activation_3 (Activation)    (None, 16, 16, 128)       0         \n",
            "_________________________________________________________________\n",
            "max_pooling2d_1 (MaxPooling2 (None, 8, 8, 128)         0         \n",
            "_________________________________________________________________\n",
            "conv2d_4 (Conv2D)            (None, 8, 8, 256)         295168    \n",
            "_________________________________________________________________\n",
            "batch_normalization_4 (Batch (None, 8, 8, 256)         1024      \n",
            "_________________________________________________________________\n",
            "activation_4 (Activation)    (None, 8, 8, 256)         0         \n",
            "_________________________________________________________________\n",
            "conv2d_5 (Conv2D)            (None, 8, 8, 256)         590080    \n",
            "_________________________________________________________________\n",
            "batch_normalization_5 (Batch (None, 8, 8, 256)         1024      \n",
            "_________________________________________________________________\n",
            "activation_5 (Activation)    (None, 8, 8, 256)         0         \n",
            "_________________________________________________________________\n",
            "conv2d_6 (Conv2D)            (None, 8, 8, 256)         590080    \n",
            "_________________________________________________________________\n",
            "batch_normalization_6 (Batch (None, 8, 8, 256)         1024      \n",
            "_________________________________________________________________\n",
            "activation_6 (Activation)    (None, 8, 8, 256)         0         \n",
            "_________________________________________________________________\n",
            "conv2d_7 (Conv2D)            (None, 8, 8, 256)         590080    \n",
            "_________________________________________________________________\n",
            "batch_normalization_7 (Batch (None, 8, 8, 256)         1024      \n",
            "_________________________________________________________________\n",
            "activation_7 (Activation)    (None, 8, 8, 256)         0         \n",
            "_________________________________________________________________\n",
            "max_pooling2d_2 (MaxPooling2 (None, 4, 4, 256)         0         \n",
            "_________________________________________________________________\n",
            "flatten (Flatten)            (None, 4096)              0         \n",
            "_________________________________________________________________\n",
            "dense (Dense)                (None, 4096)              16781312  \n",
            "_________________________________________________________________\n",
            "dense_1 (Dense)              (None, 4096)              16781312  \n",
            "_________________________________________________________________\n",
            "dense_2 (Dense)              (None, 100)               409700    \n",
            "=================================================================\n",
            "Total params: 36,303,524\n",
            "Trainable params: 36,300,708\n",
            "Non-trainable params: 2,816\n",
            "_________________________________________________________________\n"
          ],
          "name": "stdout"
        }
      ]
    },
    {
      "cell_type": "code",
      "metadata": {
        "id": "wDzR9ql-BCX9",
        "outputId": "e0238eba-c443-4078-dd76-51a487a1ff8b",
        "colab": {
          "base_uri": "https://localhost:8080/",
          "height": 1000
        }
      },
      "source": [
        "opt = keras.optimizers.SGD(learning_rate=0.001, clipnorm=5)\n",
        "model.compile(loss=keras.losses.categorical_crossentropy, optimizer=opt, metrics=[\"accuracy\"])\n",
        "callback = EarlyStopping(monitor='val_loss', patience=20)\n",
        "history = model.fit(x_train, y_train, batch_size=128, epochs=200, verbose=1, validation_data=(x_test, y_test), callbacks=[callback]) \n",
        "model.save_weights(filepath=F\"/content/gdrive/My Drive/Checkpoints/VGGNet16_SGD_BatchNormalization.h5\")"
      ],
      "execution_count": 13,
      "outputs": [
        {
          "output_type": "stream",
          "text": [
            "Epoch 1/200\n",
            "391/391 [==============================] - 13s 33ms/step - loss: 4.0040 - accuracy: 0.1111 - val_loss: 4.4045 - val_accuracy: 0.0527\n",
            "Epoch 2/200\n",
            "391/391 [==============================] - 12s 32ms/step - loss: 3.3906 - accuracy: 0.2091 - val_loss: 3.3193 - val_accuracy: 0.2182\n",
            "Epoch 3/200\n",
            "391/391 [==============================] - 12s 31ms/step - loss: 3.1124 - accuracy: 0.2612 - val_loss: 3.1204 - val_accuracy: 0.2548\n",
            "Epoch 4/200\n",
            "391/391 [==============================] - 12s 31ms/step - loss: 2.9003 - accuracy: 0.3010 - val_loss: 2.9907 - val_accuracy: 0.2729\n",
            "Epoch 5/200\n",
            "391/391 [==============================] - 12s 31ms/step - loss: 2.7222 - accuracy: 0.3371 - val_loss: 2.9381 - val_accuracy: 0.2837\n",
            "Epoch 6/200\n",
            "391/391 [==============================] - 12s 32ms/step - loss: 2.5697 - accuracy: 0.3693 - val_loss: 2.7547 - val_accuracy: 0.3189\n",
            "Epoch 7/200\n",
            "391/391 [==============================] - 12s 32ms/step - loss: 2.4402 - accuracy: 0.3964 - val_loss: 2.6909 - val_accuracy: 0.3293\n",
            "Epoch 8/200\n",
            "391/391 [==============================] - 12s 31ms/step - loss: 2.3274 - accuracy: 0.4218 - val_loss: 2.6242 - val_accuracy: 0.3399\n",
            "Epoch 9/200\n",
            "391/391 [==============================] - 12s 31ms/step - loss: 2.2278 - accuracy: 0.4424 - val_loss: 2.6643 - val_accuracy: 0.3292\n",
            "Epoch 10/200\n",
            "391/391 [==============================] - 12s 31ms/step - loss: 2.1349 - accuracy: 0.4674 - val_loss: 2.6051 - val_accuracy: 0.3460\n",
            "Epoch 11/200\n",
            "391/391 [==============================] - 12s 32ms/step - loss: 2.0506 - accuracy: 0.4885 - val_loss: 2.4428 - val_accuracy: 0.3763\n",
            "Epoch 12/200\n",
            "391/391 [==============================] - 12s 31ms/step - loss: 1.9690 - accuracy: 0.5065 - val_loss: 2.4520 - val_accuracy: 0.3760\n",
            "Epoch 13/200\n",
            "391/391 [==============================] - 12s 31ms/step - loss: 1.8933 - accuracy: 0.5255 - val_loss: 2.4065 - val_accuracy: 0.3859\n",
            "Epoch 14/200\n",
            "391/391 [==============================] - 12s 31ms/step - loss: 1.8214 - accuracy: 0.5432 - val_loss: 2.3920 - val_accuracy: 0.3923\n",
            "Epoch 15/200\n",
            "391/391 [==============================] - 12s 31ms/step - loss: 1.7512 - accuracy: 0.5631 - val_loss: 2.3403 - val_accuracy: 0.4000\n",
            "Epoch 16/200\n",
            "391/391 [==============================] - 12s 31ms/step - loss: 1.6857 - accuracy: 0.5805 - val_loss: 2.2975 - val_accuracy: 0.4068\n",
            "Epoch 17/200\n",
            "391/391 [==============================] - 12s 32ms/step - loss: 1.6220 - accuracy: 0.5960 - val_loss: 2.2701 - val_accuracy: 0.4176\n",
            "Epoch 18/200\n",
            "391/391 [==============================] - 12s 32ms/step - loss: 1.5607 - accuracy: 0.6152 - val_loss: 2.2798 - val_accuracy: 0.4132\n",
            "Epoch 19/200\n",
            "391/391 [==============================] - 12s 32ms/step - loss: 1.5004 - accuracy: 0.6313 - val_loss: 2.3051 - val_accuracy: 0.4116\n",
            "Epoch 20/200\n",
            "391/391 [==============================] - 12s 32ms/step - loss: 1.4423 - accuracy: 0.6491 - val_loss: 2.2800 - val_accuracy: 0.4211\n",
            "Epoch 21/200\n",
            "391/391 [==============================] - 12s 32ms/step - loss: 1.3837 - accuracy: 0.6645 - val_loss: 2.2684 - val_accuracy: 0.4251\n",
            "Epoch 22/200\n",
            "391/391 [==============================] - 12s 32ms/step - loss: 1.3294 - accuracy: 0.6803 - val_loss: 2.2325 - val_accuracy: 0.4278\n",
            "Epoch 23/200\n",
            "391/391 [==============================] - 12s 32ms/step - loss: 1.2761 - accuracy: 0.6969 - val_loss: 2.2245 - val_accuracy: 0.4270\n",
            "Epoch 24/200\n",
            "391/391 [==============================] - 12s 32ms/step - loss: 1.2218 - accuracy: 0.7113 - val_loss: 2.2338 - val_accuracy: 0.4272\n",
            "Epoch 25/200\n",
            "391/391 [==============================] - 12s 32ms/step - loss: 1.1694 - accuracy: 0.7296 - val_loss: 2.2169 - val_accuracy: 0.4327\n",
            "Epoch 26/200\n",
            "391/391 [==============================] - 12s 31ms/step - loss: 1.1208 - accuracy: 0.7454 - val_loss: 2.2012 - val_accuracy: 0.4329\n",
            "Epoch 27/200\n",
            "391/391 [==============================] - 12s 32ms/step - loss: 1.0717 - accuracy: 0.7574 - val_loss: 2.2080 - val_accuracy: 0.4353\n",
            "Epoch 28/200\n",
            "391/391 [==============================] - 12s 32ms/step - loss: 1.0224 - accuracy: 0.7731 - val_loss: 2.2015 - val_accuracy: 0.4354\n",
            "Epoch 29/200\n",
            "391/391 [==============================] - 12s 32ms/step - loss: 0.9735 - accuracy: 0.7880 - val_loss: 2.2445 - val_accuracy: 0.4305\n",
            "Epoch 30/200\n",
            "391/391 [==============================] - 12s 31ms/step - loss: 0.9295 - accuracy: 0.8020 - val_loss: 2.2072 - val_accuracy: 0.4387\n",
            "Epoch 31/200\n",
            "391/391 [==============================] - 12s 32ms/step - loss: 0.8826 - accuracy: 0.8165 - val_loss: 2.2180 - val_accuracy: 0.4354\n",
            "Epoch 32/200\n",
            "391/391 [==============================] - 12s 32ms/step - loss: 0.8403 - accuracy: 0.8301 - val_loss: 2.2088 - val_accuracy: 0.4374\n",
            "Epoch 33/200\n",
            "391/391 [==============================] - 12s 31ms/step - loss: 0.7977 - accuracy: 0.8412 - val_loss: 2.2112 - val_accuracy: 0.4365\n",
            "Epoch 34/200\n",
            "391/391 [==============================] - 12s 32ms/step - loss: 0.7539 - accuracy: 0.8546 - val_loss: 2.2328 - val_accuracy: 0.4294\n",
            "Epoch 35/200\n",
            "391/391 [==============================] - 13s 32ms/step - loss: 0.7168 - accuracy: 0.8665 - val_loss: 2.2356 - val_accuracy: 0.4338\n",
            "Epoch 36/200\n",
            "391/391 [==============================] - 12s 32ms/step - loss: 0.6748 - accuracy: 0.8796 - val_loss: 2.2496 - val_accuracy: 0.4329\n",
            "Epoch 37/200\n",
            "391/391 [==============================] - 12s 32ms/step - loss: 0.6385 - accuracy: 0.8896 - val_loss: 2.2434 - val_accuracy: 0.4339\n",
            "Epoch 38/200\n",
            "391/391 [==============================] - 12s 32ms/step - loss: 0.6028 - accuracy: 0.8998 - val_loss: 2.2560 - val_accuracy: 0.4319\n",
            "Epoch 39/200\n",
            "391/391 [==============================] - 12s 32ms/step - loss: 0.5665 - accuracy: 0.9102 - val_loss: 2.2460 - val_accuracy: 0.4355\n",
            "Epoch 40/200\n",
            "391/391 [==============================] - 12s 32ms/step - loss: 0.5330 - accuracy: 0.9193 - val_loss: 2.2514 - val_accuracy: 0.4365\n",
            "Epoch 41/200\n",
            "391/391 [==============================] - 12s 32ms/step - loss: 0.5004 - accuracy: 0.9278 - val_loss: 2.2673 - val_accuracy: 0.4368\n",
            "Epoch 42/200\n",
            "391/391 [==============================] - 12s 32ms/step - loss: 0.4699 - accuracy: 0.9369 - val_loss: 2.3043 - val_accuracy: 0.4231\n",
            "Epoch 43/200\n",
            "391/391 [==============================] - 12s 32ms/step - loss: 0.4404 - accuracy: 0.9434 - val_loss: 2.2650 - val_accuracy: 0.4371\n",
            "Epoch 44/200\n",
            "391/391 [==============================] - 12s 32ms/step - loss: 0.4129 - accuracy: 0.9505 - val_loss: 2.2655 - val_accuracy: 0.4350\n",
            "Epoch 45/200\n",
            "391/391 [==============================] - 12s 32ms/step - loss: 0.3868 - accuracy: 0.9571 - val_loss: 2.3109 - val_accuracy: 0.4252\n",
            "Epoch 46/200\n",
            "391/391 [==============================] - 12s 32ms/step - loss: 0.3616 - accuracy: 0.9617 - val_loss: 2.2961 - val_accuracy: 0.4310\n"
          ],
          "name": "stdout"
        }
      ]
    },
    {
      "cell_type": "code",
      "metadata": {
        "id": "ACRqCpaNkuYQ"
      },
      "source": [
        "model.save_weights(filepath=F\"/content/gdrive/My Drive/Checkpoints/VGGNet16_SGD_BatchNormalization.h5\")"
      ],
      "execution_count": 17,
      "outputs": []
    },
    {
      "cell_type": "code",
      "metadata": {
        "id": "dZuWXGeW-nqY",
        "outputId": "1ecbf5dc-36cd-4ff0-9c9e-1eb43737eab9",
        "colab": {
          "base_uri": "https://localhost:8080/",
          "height": 591
        }
      },
      "source": [
        "import matplotlib.pyplot as plt\n",
        "import matplotlib.pyplot as plt2\n",
        "\n",
        "history_dict = history.history\n",
        "print(history_dict.keys())\n",
        "loss_values = history_dict['loss']\n",
        "val_loss_values = history_dict['val_loss']\n",
        "train_acc = history_dict['accuracy']\n",
        "test_acc = history_dict['val_accuracy']\n",
        "\n",
        "epochs = range(1, len(history_dict['accuracy']) + 1)\n",
        "\n",
        "plt.plot(epochs, loss_values, 'bo', label='Training loss')\n",
        "plt.plot(epochs, val_loss_values, 'b', label='Validation loss')\n",
        "plt.title('Training and validation loss')\n",
        "plt.xlabel('Epochs')\n",
        "plt.ylabel('Loss')\n",
        "plt.legend()\n",
        "\n",
        "plt.show()\n",
        "\n",
        "\n",
        "plt2.plot(epochs, train_acc, 'b', label='Training Accuracy')\n",
        "plt2.plot(epochs, test_acc, color = 'red', label='Validation Accuracy')\n",
        "plt2.title('Training and validation accuracy')\n",
        "plt2.xlabel('Epochs')\n",
        "plt2.ylabel('Accuracy')\n",
        "plt2.legend()\n",
        "\n",
        "plt2.show()"
      ],
      "execution_count": 14,
      "outputs": [
        {
          "output_type": "stream",
          "text": [
            "dict_keys(['loss', 'accuracy', 'val_loss', 'val_accuracy'])\n"
          ],
          "name": "stdout"
        },
        {
          "output_type": "display_data",
          "data": {
            "image/png": "[encoded data removed]",
            "text/plain": [
              "<Figure size 432x288 with 1 Axes>"
            ]
          },
          "metadata": {
            "tags": [],
            "needs_background": "light"
          }
        },
        {
          "output_type": "display_data",
          "data": {
            "image/png": "[encoded data removed]",
            "text/plain": [
              "<Figure size 432x288 with 1 Axes>"
            ]
          },
          "metadata": {
            "tags": [],
            "needs_background": "light"
          }
        }
      ]
    },
    {
      "cell_type": "code",
      "metadata": {
        "id": "AfO0lHJIE0Gy",
        "outputId": "e9f42ed1-7024-4a5c-b01e-16fcafb95da1",
        "colab": {
          "base_uri": "https://localhost:8080/",
          "height": 1000
        }
      },
      "source": [
        "y_pred = model.predict(x_test).argmax(-1)\n",
        "import sklearn.metrics as metrics\n",
        "print(metrics.classification_report(y_test.argmax(axis=1), y_pred))"
      ],
      "execution_count": 15,
      "outputs": [
        {
          "output_type": "stream",
          "text": [
            "              precision    recall  f1-score   support\n",
            "\n",
            "           0       0.68      0.75      0.71       100\n",
            "           1       0.47      0.52      0.50       100\n",
            "           2       0.28      0.32      0.30       100\n",
            "           3       0.16      0.11      0.13       100\n",
            "           4       0.26      0.30      0.28       100\n",
            "           5       0.40      0.38      0.39       100\n",
            "           6       0.64      0.34      0.44       100\n",
            "           7       0.50      0.47      0.48       100\n",
            "           8       0.54      0.58      0.56       100\n",
            "           9       0.65      0.59      0.62       100\n",
            "          10       0.52      0.30      0.38       100\n",
            "          11       0.23      0.19      0.21       100\n",
            "          12       0.41      0.36      0.38       100\n",
            "          13       0.43      0.45      0.44       100\n",
            "          14       0.35      0.42      0.38       100\n",
            "          15       0.29      0.32      0.31       100\n",
            "          16       0.42      0.50      0.46       100\n",
            "          17       0.58      0.66      0.62       100\n",
            "          18       0.38      0.28      0.32       100\n",
            "          19       0.29      0.29      0.29       100\n",
            "          20       0.71      0.66      0.68       100\n",
            "          21       0.53      0.69      0.60       100\n",
            "          22       0.33      0.43      0.37       100\n",
            "          23       0.63      0.58      0.60       100\n",
            "          24       0.77      0.50      0.61       100\n",
            "          25       0.25      0.30      0.28       100\n",
            "          26       0.25      0.37      0.30       100\n",
            "          27       0.23      0.35      0.27       100\n",
            "          28       0.74      0.68      0.71       100\n",
            "          29       0.43      0.33      0.38       100\n",
            "          30       0.38      0.42      0.40       100\n",
            "          31       0.42      0.38      0.40       100\n",
            "          32       0.44      0.39      0.41       100\n",
            "          33       0.54      0.44      0.48       100\n",
            "          34       0.45      0.34      0.39       100\n",
            "          35       0.24      0.27      0.25       100\n",
            "          36       0.52      0.45      0.48       100\n",
            "          37       0.42      0.35      0.38       100\n",
            "          38       0.25      0.35      0.29       100\n",
            "          39       0.53      0.64      0.58       100\n",
            "          40       0.42      0.33      0.37       100\n",
            "          41       0.73      0.61      0.67       100\n",
            "          42       0.34      0.42      0.38       100\n",
            "          43       0.42      0.43      0.42       100\n",
            "          44       0.17      0.26      0.21       100\n",
            "          45       0.29      0.19      0.23       100\n",
            "          46       0.27      0.24      0.26       100\n",
            "          47       0.66      0.48      0.55       100\n",
            "          48       0.55      0.72      0.62       100\n",
            "          49       0.70      0.49      0.58       100\n",
            "          50       0.22      0.20      0.21       100\n",
            "          51       0.42      0.34      0.38       100\n",
            "          52       0.57      0.64      0.60       100\n",
            "          53       0.61      0.60      0.60       100\n",
            "          54       0.53      0.62      0.57       100\n",
            "          55       0.15      0.14      0.14       100\n",
            "          56       0.64      0.55      0.59       100\n",
            "          57       0.49      0.44      0.47       100\n",
            "          58       0.49      0.56      0.52       100\n",
            "          59       0.43      0.36      0.39       100\n",
            "          60       0.78      0.67      0.72       100\n",
            "          61       0.59      0.44      0.51       100\n",
            "          62       0.53      0.49      0.51       100\n",
            "          63       0.51      0.41      0.46       100\n",
            "          64       0.17      0.16      0.16       100\n",
            "          65       0.25      0.28      0.27       100\n",
            "          66       0.28      0.30      0.29       100\n",
            "          67       0.40      0.32      0.36       100\n",
            "          68       0.67      0.75      0.71       100\n",
            "          69       0.65      0.63      0.64       100\n",
            "          70       0.59      0.41      0.48       100\n",
            "          71       0.58      0.67      0.62       100\n",
            "          72       0.16      0.19      0.18       100\n",
            "          73       0.30      0.52      0.38       100\n",
            "          74       0.26      0.33      0.29       100\n",
            "          75       0.50      0.69      0.58       100\n",
            "          76       0.59      0.74      0.66       100\n",
            "          77       0.22      0.16      0.19       100\n",
            "          78       0.21      0.21      0.21       100\n",
            "          79       0.47      0.42      0.44       100\n",
            "          80       0.24      0.13      0.17       100\n",
            "          81       0.46      0.42      0.44       100\n",
            "          82       0.73      0.76      0.75       100\n",
            "          83       0.41      0.42      0.42       100\n",
            "          84       0.41      0.28      0.33       100\n",
            "          85       0.45      0.67      0.54       100\n",
            "          86       0.42      0.53      0.47       100\n",
            "          87       0.52      0.51      0.51       100\n",
            "          88       0.52      0.30      0.38       100\n",
            "          89       0.50      0.46      0.48       100\n",
            "          90       0.40      0.34      0.37       100\n",
            "          91       0.45      0.44      0.44       100\n",
            "          92       0.33      0.44      0.38       100\n",
            "          93       0.24      0.25      0.25       100\n",
            "          94       0.77      0.78      0.78       100\n",
            "          95       0.45      0.51      0.48       100\n",
            "          96       0.45      0.45      0.45       100\n",
            "          97       0.39      0.37      0.38       100\n",
            "          98       0.17      0.19      0.18       100\n",
            "          99       0.36      0.39      0.38       100\n",
            "\n",
            "    accuracy                           0.43     10000\n",
            "   macro avg       0.44      0.43      0.43     10000\n",
            "weighted avg       0.44      0.43      0.43     10000\n",
            "\n"
          ],
          "name": "stdout"
        }
      ]
    },
    {
      "cell_type": "markdown",
      "metadata": {
        "id": "o5IZaG28iCXN"
      },
      "source": [
        "#TESTS "
      ]
    },
    {
      "cell_type": "code",
      "metadata": {
        "id": "T4Smel9NqS1r"
      },
      "source": [
        "# model.load_weights(filepath=F\"/content/gdrive/My Drive/Checkpoints/VGGNet16_SGD_BatchNormalization.h5\")\n",
        "\n",
        "model.load_weights(\"VGGNet16_SGD_BatchNormalization.h5\")"
      ],
      "execution_count": 18,
      "outputs": []
    },
    {
      "cell_type": "code",
      "metadata": {
        "id": "b0XDBMyDq0d3",
        "outputId": "e58d6b1f-99e8-4fab-8aab-85d5360af492",
        "colab": {
          "base_uri": "https://localhost:8080/",
          "height": 54
        }
      },
      "source": [
        "result = model.evaluate(batch_size=128, x=x_test, y=y_test)\n",
        "dict(zip(model.metrics_names,result))"
      ],
      "execution_count": 19,
      "outputs": [
        {
          "output_type": "stream",
          "text": [
            "79/79 [==============================] - 1s 10ms/step - loss: 2.2961 - accuracy: 0.4310\n"
          ],
          "name": "stdout"
        },
        {
          "output_type": "execute_result",
          "data": {
            "text/plain": [
              "{'accuracy': 0.4309999942779541, 'loss': 2.296146869659424}"
            ]
          },
          "metadata": {
            "tags": []
          },
          "execution_count": 19
        }
      ]
    },
    {
      "cell_type": "code",
      "metadata": {
        "id": "z3ymGcGpk2Ri"
      },
      "source": [
        ""
      ],
      "execution_count": null,
      "outputs": []
    }
  ]
}