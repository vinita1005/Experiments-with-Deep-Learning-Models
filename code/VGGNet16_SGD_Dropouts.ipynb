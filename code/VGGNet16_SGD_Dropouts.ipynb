{
  "nbformat": 4,
  "nbformat_minor": 0,
  "metadata": {
    "colab": {
      "name": "VGGNet16_SGD_Dropouts.ipynb",
      "provenance": [],
      "collapsed_sections": []
    },
    "kernelspec": {
      "name": "python3",
      "display_name": "Python 3"
    },
    "accelerator": "GPU"
  },
  "cells": [
    {
      "cell_type": "markdown",
      "metadata": {
        "id": "0DG0It4LZfI3"
      },
      "source": [
        "## Load Data Set"
      ]
    },
    {
      "cell_type": "code",
      "metadata": {
        "id": "AubeCh7dqp5j",
        "outputId": "5eec771d-4523-43ea-ab6b-218bb91e5a40",
        "colab": {
          "base_uri": "https://localhost:8080/",
          "height": 35
        }
      },
      "source": [
        "from google.colab import drive\n",
        "drive.mount('/content/gdrive')"
      ],
      "execution_count": 1,
      "outputs": [
        {
          "output_type": "stream",
          "text": [
            "Mounted at /content/gdrive\n"
          ],
          "name": "stdout"
        }
      ]
    },
    {
      "cell_type": "code",
      "metadata": {
        "id": "ixBthpNWrKzY"
      },
      "source": [
        "from keras.datasets import cifar100\n",
        "from keras.utils import to_categorical\n",
        "import numpy as np\n",
        "import cv2\n",
        "import os\n",
        "from keras import backend as K"
      ],
      "execution_count": 2,
      "outputs": []
    },
    {
      "cell_type": "code",
      "metadata": {
        "id": "d14LEXbNqu68",
        "outputId": "d1a56f7f-b261-43dc-a927-0ac8a0c59519",
        "colab": {
          "base_uri": "https://localhost:8080/",
          "height": 54
        }
      },
      "source": [
        "(x_train, y_train_), (x_test, y_test_) = cifar100.load_data()\n"
      ],
      "execution_count": 3,
      "outputs": [
        {
          "output_type": "stream",
          "text": [
            "Downloading data from https://www.cs.toronto.edu/~kriz/cifar-100-python.tar.gz\n",
            "169009152/169001437 [==============================] - 6s 0us/step\n"
          ],
          "name": "stdout"
        }
      ]
    },
    {
      "cell_type": "code",
      "metadata": {
        "id": "p4lTzEl8djyJ"
      },
      "source": [
        "x_train = x_train.astype('float32') / 255\n",
        "x_test = x_test.astype('float32') / 255"
      ],
      "execution_count": 4,
      "outputs": []
    },
    {
      "cell_type": "code",
      "metadata": {
        "id": "6h_PwVSJrWjf"
      },
      "source": [
        "y_train = to_categorical(y_train_)\n",
        "y_test = to_categorical(y_test_)"
      ],
      "execution_count": 5,
      "outputs": []
    },
    {
      "cell_type": "markdown",
      "metadata": {
        "id": "t-D5sIb83H1t"
      },
      "source": [
        "# VGGNet16 Model"
      ]
    },
    {
      "cell_type": "code",
      "metadata": {
        "id": "LnwNYnBhcg4j"
      },
      "source": [
        "import keras\n",
        "from keras.models import Sequential\n",
        "from keras.layers import Dense, Activation, Dropout, Flatten, Reshape\n",
        "from keras.layers import Conv2D\n",
        "from keras.layers import MaxPooling2D\n",
        "from keras.callbacks import EarlyStopping\n",
        "import os"
      ],
      "execution_count": 6,
      "outputs": []
    },
    {
      "cell_type": "code",
      "metadata": {
        "id": "FhbSm9Rx4H1s"
      },
      "source": [
        "input_shape = (32, 32, 3)\n",
        "model = Sequential()"
      ],
      "execution_count": 7,
      "outputs": []
    },
    {
      "cell_type": "code",
      "metadata": {
        "id": "rvg7zbUNmrD5"
      },
      "source": [
        "# model.add(Conv2D(filters=32, kernel_size=(3, 3), activation='elu',padding='same', input_shape=input_shape))\n",
        "# model.add(Conv2D(filters=32, kernel_size=(3, 3), padding='same', activation='elu'))\n",
        "# model.add(MaxPooling2D(pool_size=(2, 2), strides=(2, 2), padding='same', data_format='channels_last'))\n",
        "# model.add(Dropout(0.2))"
      ],
      "execution_count": 8,
      "outputs": []
    },
    {
      "cell_type": "code",
      "metadata": {
        "id": "6bwpbPjwmuAJ"
      },
      "source": [
        "model.add(Conv2D(filters=64, kernel_size=(3, 3),padding='same', activation='elu', input_shape=input_shape))\n",
        "model.add(Conv2D(filters=64, kernel_size=(3, 3),padding='same', activation='elu'))\n",
        "model.add(MaxPooling2D(pool_size=(2, 2), strides=(2, 2), padding='same', data_format='channels_last'))\n"
      ],
      "execution_count": 9,
      "outputs": []
    },
    {
      "cell_type": "code",
      "metadata": {
        "id": "M-WqLtWsm38T"
      },
      "source": [
        "model.add(Conv2D(filters=128, kernel_size=(3, 3),padding='same', activation='elu'))\n",
        "model.add(Conv2D(filters=128, kernel_size=(3, 3),padding='same', activation='elu'))\n",
        "model.add(MaxPooling2D(pool_size=(2, 2), strides=(2, 2), padding='same', data_format='channels_last'))"
      ],
      "execution_count": 10,
      "outputs": []
    },
    {
      "cell_type": "code",
      "metadata": {
        "id": "AwmAY9OFm4o6"
      },
      "source": [
        "model.add(Conv2D(filters=256, kernel_size=(3, 3),padding='same', activation='elu'))\n",
        "model.add(Conv2D(filters=256, kernel_size=(3, 3),padding='same', activation='elu'))\n",
        "model.add(Conv2D(filters=256, kernel_size=(3, 3),padding='same', activation='elu'))\n",
        "model.add(Conv2D(filters=256, kernel_size=(3, 3),padding='same', activation='elu'))\n",
        "model.add(MaxPooling2D(pool_size=(2, 2), strides=(2, 2), padding='same', data_format='channels_last'))"
      ],
      "execution_count": 11,
      "outputs": []
    },
    {
      "cell_type": "code",
      "metadata": {
        "id": "BCwl6DAinCqm",
        "outputId": "d340f29f-cb27-4a9a-8567-75bea7a89abf",
        "colab": {
          "base_uri": "https://localhost:8080/",
          "height": 781
        }
      },
      "source": [
        "model.add(Flatten())\n",
        "model.add(Dense(4096, activation='elu'))\n",
        "model.add(Dropout(0.2))\n",
        "model.add(Dense(4096, activation='elu'))\n",
        "model.add(Dropout(0.2))\n",
        "model.add(Dense(100, activation='softmax'))\n",
        "model.summary()"
      ],
      "execution_count": 12,
      "outputs": [
        {
          "output_type": "stream",
          "text": [
            "Model: \"sequential\"\n",
            "_________________________________________________________________\n",
            "Layer (type)                 Output Shape              Param #   \n",
            "=================================================================\n",
            "conv2d (Conv2D)              (None, 32, 32, 64)        1792      \n",
            "_________________________________________________________________\n",
            "conv2d_1 (Conv2D)            (None, 32, 32, 64)        36928     \n",
            "_________________________________________________________________\n",
            "max_pooling2d (MaxPooling2D) (None, 16, 16, 64)        0         \n",
            "_________________________________________________________________\n",
            "conv2d_2 (Conv2D)            (None, 16, 16, 128)       73856     \n",
            "_________________________________________________________________\n",
            "conv2d_3 (Conv2D)            (None, 16, 16, 128)       147584    \n",
            "_________________________________________________________________\n",
            "max_pooling2d_1 (MaxPooling2 (None, 8, 8, 128)         0         \n",
            "_________________________________________________________________\n",
            "conv2d_4 (Conv2D)            (None, 8, 8, 256)         295168    \n",
            "_________________________________________________________________\n",
            "conv2d_5 (Conv2D)            (None, 8, 8, 256)         590080    \n",
            "_________________________________________________________________\n",
            "conv2d_6 (Conv2D)            (None, 8, 8, 256)         590080    \n",
            "_________________________________________________________________\n",
            "conv2d_7 (Conv2D)            (None, 8, 8, 256)         590080    \n",
            "_________________________________________________________________\n",
            "max_pooling2d_2 (MaxPooling2 (None, 4, 4, 256)         0         \n",
            "_________________________________________________________________\n",
            "flatten (Flatten)            (None, 4096)              0         \n",
            "_________________________________________________________________\n",
            "dense (Dense)                (None, 4096)              16781312  \n",
            "_________________________________________________________________\n",
            "dropout (Dropout)            (None, 4096)              0         \n",
            "_________________________________________________________________\n",
            "dense_1 (Dense)              (None, 4096)              16781312  \n",
            "_________________________________________________________________\n",
            "dropout_1 (Dropout)          (None, 4096)              0         \n",
            "_________________________________________________________________\n",
            "dense_2 (Dense)              (None, 100)               409700    \n",
            "=================================================================\n",
            "Total params: 36,297,892\n",
            "Trainable params: 36,297,892\n",
            "Non-trainable params: 0\n",
            "_________________________________________________________________\n"
          ],
          "name": "stdout"
        }
      ]
    },
    {
      "cell_type": "code",
      "metadata": {
        "id": "qiRLCVKfbD4y",
        "outputId": "872e0e49-8355-4cf5-9cfa-60bd8fc64ad6",
        "colab": {
          "base_uri": "https://localhost:8080/",
          "height": 1000
        }
      },
      "source": [
        "opt = keras.optimizers.SGD(learning_rate=0.01, clipnorm=5)\n",
        "model.compile(loss=keras.losses.categorical_crossentropy, optimizer=opt, metrics=[\"accuracy\"])\n",
        "callback = EarlyStopping(monitor='val_loss', patience=20)\n",
        "history = model.fit(x_train, y_train, batch_size=128, epochs=200, verbose=1, validation_data=(x_test, y_test), callbacks=[callback])\n",
        "model.save_weights(filepath=F\"/content/gdrive/My Drive/Checkpoints/VGGNet16_SGD_Dropouts.h5\")"
      ],
      "execution_count": 13,
      "outputs": [
        {
          "output_type": "stream",
          "text": [
            "Epoch 1/200\n",
            "391/391 [==============================] - 8s 19ms/step - loss: 4.4086 - accuracy: 0.0371 - val_loss: 4.0999 - val_accuracy: 0.0829\n",
            "Epoch 2/200\n",
            "391/391 [==============================] - 7s 18ms/step - loss: 3.8764 - accuracy: 0.1153 - val_loss: 3.6404 - val_accuracy: 0.1533\n",
            "Epoch 3/200\n",
            "391/391 [==============================] - 7s 18ms/step - loss: 3.5414 - accuracy: 0.1735 - val_loss: 3.4297 - val_accuracy: 0.1939\n",
            "Epoch 4/200\n",
            "391/391 [==============================] - 7s 18ms/step - loss: 3.2956 - accuracy: 0.2139 - val_loss: 3.1942 - val_accuracy: 0.2346\n",
            "Epoch 5/200\n",
            "391/391 [==============================] - 7s 18ms/step - loss: 3.0894 - accuracy: 0.2540 - val_loss: 3.0483 - val_accuracy: 0.2583\n",
            "Epoch 6/200\n",
            "391/391 [==============================] - 7s 18ms/step - loss: 2.9220 - accuracy: 0.2856 - val_loss: 2.8704 - val_accuracy: 0.2982\n",
            "Epoch 7/200\n",
            "391/391 [==============================] - 7s 18ms/step - loss: 2.7663 - accuracy: 0.3156 - val_loss: 2.7962 - val_accuracy: 0.3077\n",
            "Epoch 8/200\n",
            "391/391 [==============================] - 7s 18ms/step - loss: 2.6272 - accuracy: 0.3426 - val_loss: 2.6621 - val_accuracy: 0.3437\n",
            "Epoch 9/200\n",
            "391/391 [==============================] - 7s 18ms/step - loss: 2.4926 - accuracy: 0.3677 - val_loss: 2.5914 - val_accuracy: 0.3535\n",
            "Epoch 10/200\n",
            "391/391 [==============================] - 7s 18ms/step - loss: 2.3604 - accuracy: 0.3984 - val_loss: 2.5724 - val_accuracy: 0.3577\n",
            "Epoch 11/200\n",
            "391/391 [==============================] - 7s 19ms/step - loss: 2.2259 - accuracy: 0.4263 - val_loss: 2.4539 - val_accuracy: 0.3878\n",
            "Epoch 12/200\n",
            "391/391 [==============================] - 7s 18ms/step - loss: 2.0947 - accuracy: 0.4542 - val_loss: 2.3935 - val_accuracy: 0.4026\n",
            "Epoch 13/200\n",
            "391/391 [==============================] - 7s 18ms/step - loss: 1.9605 - accuracy: 0.4865 - val_loss: 2.3533 - val_accuracy: 0.4165\n",
            "Epoch 14/200\n",
            "391/391 [==============================] - 7s 18ms/step - loss: 1.8245 - accuracy: 0.5168 - val_loss: 2.3822 - val_accuracy: 0.4137\n",
            "Epoch 15/200\n",
            "391/391 [==============================] - 7s 18ms/step - loss: 1.6867 - accuracy: 0.5468 - val_loss: 2.3209 - val_accuracy: 0.4273\n",
            "Epoch 16/200\n",
            "391/391 [==============================] - 7s 18ms/step - loss: 1.5367 - accuracy: 0.5814 - val_loss: 2.3415 - val_accuracy: 0.4345\n",
            "Epoch 17/200\n",
            "391/391 [==============================] - 7s 18ms/step - loss: 1.3914 - accuracy: 0.6157 - val_loss: 2.3494 - val_accuracy: 0.4329\n",
            "Epoch 18/200\n",
            "391/391 [==============================] - 7s 18ms/step - loss: 1.2367 - accuracy: 0.6514 - val_loss: 2.3950 - val_accuracy: 0.4373\n",
            "Epoch 19/200\n",
            "391/391 [==============================] - 7s 18ms/step - loss: 1.0904 - accuracy: 0.6899 - val_loss: 2.4939 - val_accuracy: 0.4293\n",
            "Epoch 20/200\n",
            "391/391 [==============================] - 7s 18ms/step - loss: 0.9429 - accuracy: 0.7255 - val_loss: 2.5510 - val_accuracy: 0.4349\n",
            "Epoch 21/200\n",
            "391/391 [==============================] - 7s 18ms/step - loss: 0.8017 - accuracy: 0.7649 - val_loss: 2.6220 - val_accuracy: 0.4349\n",
            "Epoch 22/200\n",
            "391/391 [==============================] - 7s 18ms/step - loss: 0.6780 - accuracy: 0.7958 - val_loss: 2.6859 - val_accuracy: 0.4406\n",
            "Epoch 23/200\n",
            "391/391 [==============================] - 7s 18ms/step - loss: 0.5513 - accuracy: 0.8325 - val_loss: 2.8454 - val_accuracy: 0.4364\n",
            "Epoch 24/200\n",
            "391/391 [==============================] - 7s 18ms/step - loss: 0.4600 - accuracy: 0.8561 - val_loss: 2.8962 - val_accuracy: 0.4454\n",
            "Epoch 25/200\n",
            "391/391 [==============================] - 7s 18ms/step - loss: 0.3745 - accuracy: 0.8834 - val_loss: 2.9812 - val_accuracy: 0.4395\n",
            "Epoch 26/200\n",
            "391/391 [==============================] - 7s 18ms/step - loss: 0.3081 - accuracy: 0.9034 - val_loss: 3.0889 - val_accuracy: 0.4415\n",
            "Epoch 27/200\n",
            "391/391 [==============================] - 7s 18ms/step - loss: 0.2548 - accuracy: 0.9194 - val_loss: 3.1690 - val_accuracy: 0.4413\n",
            "Epoch 28/200\n",
            "391/391 [==============================] - 7s 18ms/step - loss: 0.2209 - accuracy: 0.9309 - val_loss: 3.2220 - val_accuracy: 0.4471\n",
            "Epoch 29/200\n",
            "391/391 [==============================] - 7s 18ms/step - loss: 0.1875 - accuracy: 0.9415 - val_loss: 3.3409 - val_accuracy: 0.4396\n",
            "Epoch 30/200\n",
            "391/391 [==============================] - 7s 18ms/step - loss: 0.1606 - accuracy: 0.9492 - val_loss: 3.3641 - val_accuracy: 0.4466\n",
            "Epoch 31/200\n",
            "391/391 [==============================] - 7s 18ms/step - loss: 0.1382 - accuracy: 0.9568 - val_loss: 3.4184 - val_accuracy: 0.4475\n",
            "Epoch 32/200\n",
            "391/391 [==============================] - 7s 18ms/step - loss: 0.1198 - accuracy: 0.9641 - val_loss: 3.4695 - val_accuracy: 0.4520\n",
            "Epoch 33/200\n",
            "391/391 [==============================] - 7s 18ms/step - loss: 0.1100 - accuracy: 0.9653 - val_loss: 3.5148 - val_accuracy: 0.4501\n",
            "Epoch 34/200\n",
            "391/391 [==============================] - 7s 18ms/step - loss: 0.0935 - accuracy: 0.9710 - val_loss: 3.5468 - val_accuracy: 0.4506\n",
            "Epoch 35/200\n",
            "391/391 [==============================] - 7s 18ms/step - loss: 0.0831 - accuracy: 0.9754 - val_loss: 3.6537 - val_accuracy: 0.4489\n"
          ],
          "name": "stdout"
        }
      ]
    },
    {
      "cell_type": "code",
      "metadata": {
        "id": "dZuWXGeW-nqY",
        "outputId": "32a9a89b-3c0e-4dfe-9734-2abedfcdce2a",
        "colab": {
          "base_uri": "https://localhost:8080/",
          "height": 591
        }
      },
      "source": [
        "import matplotlib.pyplot as plt\n",
        "import matplotlib.pyplot as plt2\n",
        "\n",
        "history_dict = history.history\n",
        "print(history_dict.keys())\n",
        "loss_values = history_dict['loss']\n",
        "val_loss_values = history_dict['val_loss']\n",
        "train_acc = history_dict['accuracy']\n",
        "test_acc = history_dict['val_accuracy']\n",
        "\n",
        "epochs = range(1, len(history_dict['accuracy']) + 1)\n",
        "\n",
        "plt.plot(epochs, loss_values, 'bo', label='Training loss')\n",
        "plt.plot(epochs, val_loss_values, 'b', label='Validation loss')\n",
        "plt.title('Training and validation loss')\n",
        "plt.xlabel('Epochs')\n",
        "plt.ylabel('Loss')\n",
        "plt.legend()\n",
        "\n",
        "plt.show()\n",
        "\n",
        "\n",
        "plt2.plot(epochs, train_acc, 'b', label='Training Accuracy')\n",
        "plt2.plot(epochs, test_acc, color = 'red', label='Validation Accuracy')\n",
        "plt2.title('Training and validation accuracy')\n",
        "plt2.xlabel('Epochs')\n",
        "plt2.ylabel('Accuracy')\n",
        "plt2.legend()\n",
        "\n",
        "plt2.show()"
      ],
      "execution_count": 14,
      "outputs": [
        {
          "output_type": "stream",
          "text": [
            "dict_keys(['loss', 'accuracy', 'val_loss', 'val_accuracy'])\n"
          ],
          "name": "stdout"
        },
        {
          "output_type": "display_data",
          "data": {
            "image/png": "[encoded data removed]",
            "text/plain": [
              "<Figure size 432x288 with 1 Axes>"
            ]
          },
          "metadata": {
            "tags": [],
            "needs_background": "light"
          }
        },
        {
          "output_type": "display_data",
          "data": {
            "image/png": "[encoded data removed]",
            "text/plain": [
              "<Figure size 432x288 with 1 Axes>"
            ]
          },
          "metadata": {
            "tags": [],
            "needs_background": "light"
          }
        }
      ]
    },
    {
      "cell_type": "code",
      "metadata": {
        "id": "AfO0lHJIE0Gy",
        "outputId": "239f7e4f-c17a-4f0e-d41c-96b505e94737",
        "colab": {
          "base_uri": "https://localhost:8080/",
          "height": 1000
        }
      },
      "source": [
        "y_pred = model.predict(x_test).argmax(-1)\n",
        "import sklearn.metrics as metrics\n",
        "print(metrics.classification_report(y_test.argmax(axis=1), y_pred))"
      ],
      "execution_count": 15,
      "outputs": [
        {
          "output_type": "stream",
          "text": [
            "              precision    recall  f1-score   support\n",
            "\n",
            "           0       0.67      0.67      0.67       100\n",
            "           1       0.49      0.60      0.54       100\n",
            "           2       0.29      0.30      0.30       100\n",
            "           3       0.23      0.17      0.20       100\n",
            "           4       0.23      0.47      0.31       100\n",
            "           5       0.37      0.47      0.42       100\n",
            "           6       0.47      0.51      0.49       100\n",
            "           7       0.42      0.62      0.50       100\n",
            "           8       0.37      0.48      0.42       100\n",
            "           9       0.43      0.62      0.51       100\n",
            "          10       0.23      0.31      0.26       100\n",
            "          11       0.34      0.21      0.26       100\n",
            "          12       0.59      0.54      0.57       100\n",
            "          13       0.29      0.28      0.28       100\n",
            "          14       0.42      0.31      0.36       100\n",
            "          15       0.38      0.36      0.37       100\n",
            "          16       0.50      0.40      0.44       100\n",
            "          17       0.59      0.67      0.63       100\n",
            "          18       0.45      0.29      0.35       100\n",
            "          19       0.48      0.30      0.37       100\n",
            "          20       0.78      0.72      0.75       100\n",
            "          21       0.57      0.63      0.60       100\n",
            "          22       0.49      0.33      0.40       100\n",
            "          23       0.53      0.74      0.62       100\n",
            "          24       0.70      0.66      0.68       100\n",
            "          25       0.26      0.32      0.29       100\n",
            "          26       0.49      0.35      0.41       100\n",
            "          27       0.30      0.31      0.30       100\n",
            "          28       0.57      0.60      0.58       100\n",
            "          29       0.63      0.37      0.47       100\n",
            "          30       0.45      0.44      0.45       100\n",
            "          31       0.42      0.41      0.42       100\n",
            "          32       0.32      0.40      0.36       100\n",
            "          33       0.39      0.35      0.37       100\n",
            "          34       0.43      0.43      0.43       100\n",
            "          35       0.25      0.23      0.24       100\n",
            "          36       0.46      0.37      0.41       100\n",
            "          37       0.30      0.42      0.35       100\n",
            "          38       0.28      0.38      0.32       100\n",
            "          39       0.48      0.64      0.55       100\n",
            "          40       0.38      0.39      0.38       100\n",
            "          41       0.66      0.65      0.66       100\n",
            "          42       0.36      0.38      0.37       100\n",
            "          43       0.51      0.49      0.50       100\n",
            "          44       0.25      0.29      0.27       100\n",
            "          45       0.33      0.28      0.30       100\n",
            "          46       0.28      0.30      0.29       100\n",
            "          47       0.55      0.56      0.55       100\n",
            "          48       0.65      0.60      0.63       100\n",
            "          49       0.55      0.54      0.54       100\n",
            "          50       0.36      0.30      0.33       100\n",
            "          51       0.52      0.30      0.38       100\n",
            "          52       0.56      0.68      0.61       100\n",
            "          53       0.56      0.71      0.63       100\n",
            "          54       0.56      0.49      0.52       100\n",
            "          55       0.31      0.16      0.21       100\n",
            "          56       0.62      0.67      0.64       100\n",
            "          57       0.51      0.50      0.50       100\n",
            "          58       0.40      0.60      0.48       100\n",
            "          59       0.46      0.37      0.41       100\n",
            "          60       0.68      0.80      0.73       100\n",
            "          61       0.54      0.49      0.51       100\n",
            "          62       0.47      0.55      0.51       100\n",
            "          63       0.62      0.35      0.45       100\n",
            "          64       0.30      0.25      0.27       100\n",
            "          65       0.31      0.30      0.30       100\n",
            "          66       0.54      0.26      0.35       100\n",
            "          67       0.37      0.43      0.40       100\n",
            "          68       0.80      0.69      0.74       100\n",
            "          69       0.63      0.66      0.64       100\n",
            "          70       0.44      0.54      0.48       100\n",
            "          71       0.63      0.67      0.65       100\n",
            "          72       0.16      0.17      0.17       100\n",
            "          73       0.42      0.31      0.36       100\n",
            "          74       0.33      0.36      0.34       100\n",
            "          75       0.76      0.68      0.72       100\n",
            "          76       0.64      0.75      0.69       100\n",
            "          77       0.31      0.28      0.29       100\n",
            "          78       0.39      0.30      0.34       100\n",
            "          79       0.44      0.41      0.42       100\n",
            "          80       0.34      0.23      0.28       100\n",
            "          81       0.36      0.40      0.38       100\n",
            "          82       0.72      0.72      0.72       100\n",
            "          83       0.46      0.41      0.43       100\n",
            "          84       0.42      0.24      0.31       100\n",
            "          85       0.48      0.64      0.55       100\n",
            "          86       0.50      0.55      0.52       100\n",
            "          87       0.46      0.46      0.46       100\n",
            "          88       0.45      0.35      0.40       100\n",
            "          89       0.40      0.53      0.45       100\n",
            "          90       0.25      0.46      0.32       100\n",
            "          91       0.54      0.60      0.57       100\n",
            "          92       0.43      0.18      0.25       100\n",
            "          93       0.41      0.24      0.30       100\n",
            "          94       0.62      0.77      0.69       100\n",
            "          95       0.58      0.52      0.55       100\n",
            "          96       0.35      0.33      0.34       100\n",
            "          97       0.36      0.43      0.39       100\n",
            "          98       0.25      0.20      0.22       100\n",
            "          99       0.58      0.44      0.50       100\n",
            "\n",
            "    accuracy                           0.45     10000\n",
            "   macro avg       0.46      0.45      0.44     10000\n",
            "weighted avg       0.46      0.45      0.44     10000\n",
            "\n"
          ],
          "name": "stdout"
        }
      ]
    },
    {
      "cell_type": "code",
      "metadata": {
        "id": "K27KHjvw7gXf"
      },
      "source": [
        ""
      ],
      "execution_count": null,
      "outputs": []
    },
    {
      "cell_type": "markdown",
      "metadata": {
        "id": "b8SADQsAT1JV"
      },
      "source": [
        "## TESTS"
      ]
    },
    {
      "cell_type": "code",
      "metadata": {
        "id": "T4Smel9NqS1r"
      },
      "source": [
        "# model.load_weights(filepath=F\"/content/gdrive/My Drive/Checkpoints/VGGNet16_SGD_Dropouts.h5\")\n",
        "\n",
        "model.load_weights(\"VGGNet16_SGD_Dropouts.h5\")"
      ],
      "execution_count": 16,
      "outputs": []
    },
    {
      "cell_type": "code",
      "metadata": {
        "id": "b0XDBMyDq0d3",
        "outputId": "f6959ba9-e6a2-4d16-9089-a50b8f826831",
        "colab": {
          "base_uri": "https://localhost:8080/",
          "height": 54
        }
      },
      "source": [
        "result = model.evaluate(batch_size=128, x=x_test, y=y_test)\n",
        "dict(zip(model.metrics_names,result))"
      ],
      "execution_count": 17,
      "outputs": [
        {
          "output_type": "stream",
          "text": [
            "79/79 [==============================] - 1s 7ms/step - loss: 3.6537 - accuracy: 0.4489\n"
          ],
          "name": "stdout"
        },
        {
          "output_type": "execute_result",
          "data": {
            "text/plain": [
              "{'accuracy': 0.4489000141620636, 'loss': 3.6537270545959473}"
            ]
          },
          "metadata": {
            "tags": []
          },
          "execution_count": 17
        }
      ]
    },
    {
      "cell_type": "code",
      "metadata": {
        "id": "6z1pZ9j-lLta"
      },
      "source": [
        ""
      ],
      "execution_count": null,
      "outputs": []
    }
  ]
}