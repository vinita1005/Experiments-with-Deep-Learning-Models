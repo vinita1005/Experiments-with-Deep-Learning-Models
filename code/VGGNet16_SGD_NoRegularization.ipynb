{
  "nbformat": 4,
  "nbformat_minor": 0,
  "metadata": {
    "colab": {
      "name": "VGGNet16_SGD_NoRegularization.ipynb",
      "provenance": [],
      "collapsed_sections": []
    },
    "kernelspec": {
      "name": "python3",
      "display_name": "Python 3"
    },
    "accelerator": "GPU"
  },
  "cells": [
    {
      "cell_type": "markdown",
      "metadata": {
        "id": "QLfagOwiqsM8"
      },
      "source": [
        "\n",
        "\n",
        "---\n",
        "\n",
        "## Load Data\n"
      ]
    },
    {
      "cell_type": "code",
      "metadata": {
        "id": "jTXNlsmrqCOz",
        "outputId": "10ece1f6-20d3-4af0-8148-d444d1bf7436",
        "colab": {
          "base_uri": "https://localhost:8080/",
          "height": 35
        }
      },
      "source": [
        "from google.colab import drive\n",
        "drive.mount('/content/gdrive')"
      ],
      "execution_count": 1,
      "outputs": [
        {
          "output_type": "stream",
          "text": [
            "Mounted at /content/gdrive\n"
          ],
          "name": "stdout"
        }
      ]
    },
    {
      "cell_type": "code",
      "metadata": {
        "id": "ixBthpNWrKzY"
      },
      "source": [
        "from keras.datasets import cifar100\n",
        "from keras.utils import to_categorical\n",
        "import numpy as np\n",
        "import cv2\n",
        "import os\n",
        "from keras import backend as K"
      ],
      "execution_count": 2,
      "outputs": []
    },
    {
      "cell_type": "code",
      "metadata": {
        "id": "d14LEXbNqu68",
        "outputId": "46288ddb-cfcf-4502-c15d-d074fc0cf96e",
        "colab": {
          "base_uri": "https://localhost:8080/",
          "height": 54
        }
      },
      "source": [
        "(x_train, y_train_), (x_test, y_test_) = cifar100.load_data()\n"
      ],
      "execution_count": 3,
      "outputs": [
        {
          "output_type": "stream",
          "text": [
            "Downloading data from https://www.cs.toronto.edu/~kriz/cifar-100-python.tar.gz\n",
            "169009152/169001437 [==============================] - 6s 0us/step\n"
          ],
          "name": "stdout"
        }
      ]
    },
    {
      "cell_type": "code",
      "metadata": {
        "id": "p4lTzEl8djyJ"
      },
      "source": [
        "x_train = x_train.astype('float32') / 255\n",
        "x_test = x_test.astype('float32') / 255"
      ],
      "execution_count": 4,
      "outputs": []
    },
    {
      "cell_type": "code",
      "metadata": {
        "id": "6h_PwVSJrWjf"
      },
      "source": [
        "y_train = to_categorical(y_train_)\n",
        "y_test = to_categorical(y_test_)"
      ],
      "execution_count": 5,
      "outputs": []
    },
    {
      "cell_type": "markdown",
      "metadata": {
        "id": "mPTGGSnFaZlh"
      },
      "source": [
        "## VGGNet16 Model"
      ]
    },
    {
      "cell_type": "code",
      "metadata": {
        "id": "LnwNYnBhcg4j"
      },
      "source": [
        "import keras\n",
        "import tensorflow as tf\n",
        "from keras.models import Sequential\n",
        "from keras.layers import Dense, Activation, Dropout, Flatten, Reshape\n",
        "from keras.layers import Conv2D\n",
        "from keras.layers import MaxPooling2D\n",
        "from keras.callbacks import EarlyStopping\n",
        "import os"
      ],
      "execution_count": 6,
      "outputs": []
    },
    {
      "cell_type": "code",
      "metadata": {
        "id": "rrLsD21hmO-u"
      },
      "source": [
        "input_shape = (32, 32, 3)\n",
        "model = Sequential()"
      ],
      "execution_count": 7,
      "outputs": []
    },
    {
      "cell_type": "code",
      "metadata": {
        "id": "rvg7zbUNmrD5"
      },
      "source": [
        "# model.add(Conv2D(filters=32, kernel_size=(3, 3), activation='elu',padding='same', input_shape=input_shape))\n",
        "# model.add(Conv2D(filters=32, kernel_size=(3, 3), padding='same', activation='elu'))\n",
        "# model.add(MaxPooling2D(pool_size=(2, 2), strides=(2, 2), padding='same', data_format='channels_last'))"
      ],
      "execution_count": 8,
      "outputs": []
    },
    {
      "cell_type": "code",
      "metadata": {
        "id": "6bwpbPjwmuAJ"
      },
      "source": [
        "model.add(Conv2D(filters=64, kernel_size=(3, 3),padding='same', activation='elu', input_shape=input_shape))\n",
        "model.add(Conv2D(filters=64, kernel_size=(3, 3),padding='same', activation='elu'))\n",
        "model.add(MaxPooling2D(pool_size=(2, 2), strides=(2, 2), padding='same', data_format='channels_last'))"
      ],
      "execution_count": 9,
      "outputs": []
    },
    {
      "cell_type": "code",
      "metadata": {
        "id": "M-WqLtWsm38T"
      },
      "source": [
        "model.add(Conv2D(filters=128, kernel_size=(3, 3),padding='same', activation='elu'))\n",
        "model.add(Conv2D(filters=128, kernel_size=(3, 3),padding='same', activation='elu'))\n",
        "# model.add(Conv2D(filters=128, kernel_size=(3, 3),padding='same', activation='elu'))\n",
        "model.add(MaxPooling2D(pool_size=(2, 2), strides=(2, 2), padding='same', data_format='channels_last'))"
      ],
      "execution_count": 10,
      "outputs": []
    },
    {
      "cell_type": "code",
      "metadata": {
        "id": "AwmAY9OFm4o6"
      },
      "source": [
        "model.add(Conv2D(filters=256, kernel_size=(3, 3),padding='same', activation='elu'))\n",
        "model.add(Conv2D(filters=256, kernel_size=(3, 3),padding='same', activation='elu'))\n",
        "model.add(Conv2D(filters=256, kernel_size=(3, 3),padding='same', activation='elu'))\n",
        "model.add(Conv2D(filters=256, kernel_size=(3, 3),padding='same', activation='elu'))\n",
        "model.add(MaxPooling2D(pool_size=(2, 2), strides=(2, 2), padding='same', data_format='channels_last'))"
      ],
      "execution_count": 11,
      "outputs": []
    },
    {
      "cell_type": "code",
      "metadata": {
        "id": "VqIOZyXrm5Gl"
      },
      "source": [
        "# model.add(Conv2D(filters=256, kernel_size=(3, 3),padding='same', activation='elu'))\n",
        "# model.add(Conv2D(filters=256, kernel_size=(3, 3),padding='same', activation='elu'))\n",
        "# model.add(Conv2D(filters=256, kernel_size=(3, 3),padding='same', activation='elu'))\n",
        "# model.add(MaxPooling2D(pool_size=(2, 2), strides=(2, 2), padding='same', data_format='channels_last'))"
      ],
      "execution_count": 12,
      "outputs": []
    },
    {
      "cell_type": "code",
      "metadata": {
        "id": "BCwl6DAinCqm",
        "outputId": "54fee1a9-b93e-4b65-8e4e-36742b9943ca",
        "colab": {
          "base_uri": "https://localhost:8080/",
          "height": 708
        }
      },
      "source": [
        "model.add(Flatten())\n",
        "model.add(Dense(4096, activation='relu'))\n",
        "model.add(Dense(4096, activation='relu'))\n",
        "model.add(Dense(100, activation='softmax'))\n",
        "model.summary()"
      ],
      "execution_count": 13,
      "outputs": [
        {
          "output_type": "stream",
          "text": [
            "Model: \"sequential\"\n",
            "_________________________________________________________________\n",
            "Layer (type)                 Output Shape              Param #   \n",
            "=================================================================\n",
            "conv2d (Conv2D)              (None, 32, 32, 64)        1792      \n",
            "_________________________________________________________________\n",
            "conv2d_1 (Conv2D)            (None, 32, 32, 64)        36928     \n",
            "_________________________________________________________________\n",
            "max_pooling2d (MaxPooling2D) (None, 16, 16, 64)        0         \n",
            "_________________________________________________________________\n",
            "conv2d_2 (Conv2D)            (None, 16, 16, 128)       73856     \n",
            "_________________________________________________________________\n",
            "conv2d_3 (Conv2D)            (None, 16, 16, 128)       147584    \n",
            "_________________________________________________________________\n",
            "max_pooling2d_1 (MaxPooling2 (None, 8, 8, 128)         0         \n",
            "_________________________________________________________________\n",
            "conv2d_4 (Conv2D)            (None, 8, 8, 256)         295168    \n",
            "_________________________________________________________________\n",
            "conv2d_5 (Conv2D)            (None, 8, 8, 256)         590080    \n",
            "_________________________________________________________________\n",
            "conv2d_6 (Conv2D)            (None, 8, 8, 256)         590080    \n",
            "_________________________________________________________________\n",
            "conv2d_7 (Conv2D)            (None, 8, 8, 256)         590080    \n",
            "_________________________________________________________________\n",
            "max_pooling2d_2 (MaxPooling2 (None, 4, 4, 256)         0         \n",
            "_________________________________________________________________\n",
            "flatten (Flatten)            (None, 4096)              0         \n",
            "_________________________________________________________________\n",
            "dense (Dense)                (None, 4096)              16781312  \n",
            "_________________________________________________________________\n",
            "dense_1 (Dense)              (None, 4096)              16781312  \n",
            "_________________________________________________________________\n",
            "dense_2 (Dense)              (None, 100)               409700    \n",
            "=================================================================\n",
            "Total params: 36,297,892\n",
            "Trainable params: 36,297,892\n",
            "Non-trainable params: 0\n",
            "_________________________________________________________________\n"
          ],
          "name": "stdout"
        }
      ]
    },
    {
      "cell_type": "code",
      "metadata": {
        "id": "jOPKC_gnpbaY",
        "outputId": "bd050594-a568-4e42-d9a6-46ec87a93187",
        "colab": {
          "base_uri": "https://localhost:8080/",
          "height": 1000
        }
      },
      "source": [
        "callback = EarlyStopping(monitor='val_loss', patience=20)\n",
        "opt = keras.optimizers.SGD(learning_rate=0.001, clipnorm=5)\n",
        "model.compile(loss=keras.losses.categorical_crossentropy, optimizer=opt, metrics=[\"accuracy\"])\n",
        "history = model.fit(x_train, y_train, batch_size=128, epochs=200, verbose=1, validation_data=(x_test, y_test), callbacks=[callback])\n",
        "model.save_weights(filepath=F'/content/gdrive/My Drive/Checkpoints/VGGNet16_SGD_NoRegularization.h5')"
      ],
      "execution_count": 14,
      "outputs": [
        {
          "output_type": "stream",
          "text": [
            "Epoch 1/200\n",
            "391/391 [==============================] - 12s 30ms/step - loss: 4.6041 - accuracy: 0.0118 - val_loss: 4.6021 - val_accuracy: 0.0139\n",
            "Epoch 2/200\n",
            "391/391 [==============================] - 11s 29ms/step - loss: 4.6003 - accuracy: 0.0166 - val_loss: 4.5984 - val_accuracy: 0.0173\n",
            "Epoch 3/200\n",
            "391/391 [==============================] - 11s 29ms/step - loss: 4.5963 - accuracy: 0.0217 - val_loss: 4.5942 - val_accuracy: 0.0225\n",
            "Epoch 4/200\n",
            "391/391 [==============================] - 12s 30ms/step - loss: 4.5916 - accuracy: 0.0266 - val_loss: 4.5889 - val_accuracy: 0.0270\n",
            "Epoch 5/200\n",
            "391/391 [==============================] - 11s 29ms/step - loss: 4.5855 - accuracy: 0.0298 - val_loss: 4.5817 - val_accuracy: 0.0279\n",
            "Epoch 6/200\n",
            "391/391 [==============================] - 11s 29ms/step - loss: 4.5765 - accuracy: 0.0323 - val_loss: 4.5706 - val_accuracy: 0.0304\n",
            "Epoch 7/200\n",
            "391/391 [==============================] - 11s 29ms/step - loss: 4.5618 - accuracy: 0.0359 - val_loss: 4.5511 - val_accuracy: 0.0340\n",
            "Epoch 8/200\n",
            "391/391 [==============================] - 11s 29ms/step - loss: 4.5332 - accuracy: 0.0380 - val_loss: 4.5099 - val_accuracy: 0.0377\n",
            "Epoch 9/200\n",
            "391/391 [==============================] - 11s 29ms/step - loss: 4.4670 - accuracy: 0.0394 - val_loss: 4.4115 - val_accuracy: 0.0423\n",
            "Epoch 10/200\n",
            "391/391 [==============================] - 11s 29ms/step - loss: 4.3407 - accuracy: 0.0492 - val_loss: 4.2746 - val_accuracy: 0.0531\n",
            "Epoch 11/200\n",
            "391/391 [==============================] - 11s 29ms/step - loss: 4.2234 - accuracy: 0.0613 - val_loss: 4.1857 - val_accuracy: 0.0699\n",
            "Epoch 12/200\n",
            "391/391 [==============================] - 11s 29ms/step - loss: 4.1480 - accuracy: 0.0716 - val_loss: 4.1318 - val_accuracy: 0.0735\n",
            "Epoch 13/200\n",
            "391/391 [==============================] - 11s 29ms/step - loss: 4.0887 - accuracy: 0.0816 - val_loss: 4.0794 - val_accuracy: 0.0760\n",
            "Epoch 14/200\n",
            "391/391 [==============================] - 11s 29ms/step - loss: 4.0351 - accuracy: 0.0864 - val_loss: 4.0272 - val_accuracy: 0.0941\n",
            "Epoch 15/200\n",
            "391/391 [==============================] - 11s 29ms/step - loss: 3.9862 - accuracy: 0.0988 - val_loss: 3.9855 - val_accuracy: 0.0938\n",
            "Epoch 16/200\n",
            "391/391 [==============================] - 11s 29ms/step - loss: 3.9369 - accuracy: 0.1060 - val_loss: 3.9364 - val_accuracy: 0.1029\n",
            "Epoch 17/200\n",
            "391/391 [==============================] - 11s 29ms/step - loss: 3.8859 - accuracy: 0.1153 - val_loss: 3.8923 - val_accuracy: 0.1134\n",
            "Epoch 18/200\n",
            "391/391 [==============================] - 11s 29ms/step - loss: 3.8356 - accuracy: 0.1228 - val_loss: 3.8470 - val_accuracy: 0.1217\n",
            "Epoch 19/200\n",
            "391/391 [==============================] - 11s 29ms/step - loss: 3.7864 - accuracy: 0.1309 - val_loss: 3.8042 - val_accuracy: 0.1312\n",
            "Epoch 20/200\n",
            "391/391 [==============================] - 11s 29ms/step - loss: 3.7445 - accuracy: 0.1369 - val_loss: 3.7598 - val_accuracy: 0.1364\n",
            "Epoch 21/200\n",
            "391/391 [==============================] - 11s 29ms/step - loss: 3.7081 - accuracy: 0.1432 - val_loss: 3.7374 - val_accuracy: 0.1365\n",
            "Epoch 22/200\n",
            "391/391 [==============================] - 11s 29ms/step - loss: 3.6743 - accuracy: 0.1497 - val_loss: 3.7040 - val_accuracy: 0.1448\n",
            "Epoch 23/200\n",
            "391/391 [==============================] - 11s 29ms/step - loss: 3.6414 - accuracy: 0.1555 - val_loss: 3.6688 - val_accuracy: 0.1500\n",
            "Epoch 24/200\n",
            "391/391 [==============================] - 11s 29ms/step - loss: 3.6112 - accuracy: 0.1595 - val_loss: 3.6444 - val_accuracy: 0.1570\n",
            "Epoch 25/200\n",
            "391/391 [==============================] - 11s 29ms/step - loss: 3.5826 - accuracy: 0.1664 - val_loss: 3.6340 - val_accuracy: 0.1571\n",
            "Epoch 26/200\n",
            "391/391 [==============================] - 11s 29ms/step - loss: 3.5556 - accuracy: 0.1705 - val_loss: 3.6148 - val_accuracy: 0.1594\n",
            "Epoch 27/200\n",
            "391/391 [==============================] - 11s 29ms/step - loss: 3.5276 - accuracy: 0.1756 - val_loss: 3.5921 - val_accuracy: 0.1652\n",
            "Epoch 28/200\n",
            "391/391 [==============================] - 11s 29ms/step - loss: 3.5012 - accuracy: 0.1814 - val_loss: 3.5663 - val_accuracy: 0.1705\n",
            "Epoch 29/200\n",
            "391/391 [==============================] - 11s 29ms/step - loss: 3.4744 - accuracy: 0.1850 - val_loss: 3.5315 - val_accuracy: 0.1810\n",
            "Epoch 30/200\n",
            "391/391 [==============================] - 11s 29ms/step - loss: 3.4476 - accuracy: 0.1905 - val_loss: 3.5163 - val_accuracy: 0.1812\n",
            "Epoch 31/200\n",
            "391/391 [==============================] - 12s 30ms/step - loss: 3.4225 - accuracy: 0.1936 - val_loss: 3.5022 - val_accuracy: 0.1857\n",
            "Epoch 32/200\n",
            "391/391 [==============================] - 12s 29ms/step - loss: 3.3950 - accuracy: 0.1989 - val_loss: 3.4877 - val_accuracy: 0.1895\n",
            "Epoch 33/200\n",
            "391/391 [==============================] - 11s 29ms/step - loss: 3.3691 - accuracy: 0.2045 - val_loss: 3.4520 - val_accuracy: 0.1959\n",
            "Epoch 34/200\n",
            "391/391 [==============================] - 11s 29ms/step - loss: 3.3416 - accuracy: 0.2093 - val_loss: 3.4388 - val_accuracy: 0.1980\n",
            "Epoch 35/200\n",
            "391/391 [==============================] - 11s 29ms/step - loss: 3.3146 - accuracy: 0.2134 - val_loss: 3.4256 - val_accuracy: 0.1994\n",
            "Epoch 36/200\n",
            "391/391 [==============================] - 11s 29ms/step - loss: 3.2888 - accuracy: 0.2182 - val_loss: 3.4436 - val_accuracy: 0.1923\n",
            "Epoch 37/200\n",
            "391/391 [==============================] - 11s 29ms/step - loss: 3.2601 - accuracy: 0.2246 - val_loss: 3.3804 - val_accuracy: 0.2074\n",
            "Epoch 38/200\n",
            "391/391 [==============================] - 11s 29ms/step - loss: 3.2348 - accuracy: 0.2295 - val_loss: 3.3665 - val_accuracy: 0.2095\n",
            "Epoch 39/200\n",
            "391/391 [==============================] - 11s 29ms/step - loss: 3.2054 - accuracy: 0.2346 - val_loss: 3.3337 - val_accuracy: 0.2202\n",
            "Epoch 40/200\n",
            "391/391 [==============================] - 11s 29ms/step - loss: 3.1797 - accuracy: 0.2382 - val_loss: 3.3208 - val_accuracy: 0.2187\n",
            "Epoch 41/200\n",
            "391/391 [==============================] - 11s 29ms/step - loss: 3.1539 - accuracy: 0.2433 - val_loss: 3.2884 - val_accuracy: 0.2251\n",
            "Epoch 42/200\n",
            "391/391 [==============================] - 11s 29ms/step - loss: 3.1265 - accuracy: 0.2483 - val_loss: 3.3293 - val_accuracy: 0.2170\n",
            "Epoch 43/200\n",
            "391/391 [==============================] - 11s 29ms/step - loss: 3.1011 - accuracy: 0.2535 - val_loss: 3.2564 - val_accuracy: 0.2254\n",
            "Epoch 44/200\n",
            "391/391 [==============================] - 11s 29ms/step - loss: 3.0757 - accuracy: 0.2570 - val_loss: 3.2366 - val_accuracy: 0.2337\n",
            "Epoch 45/200\n",
            "391/391 [==============================] - 11s 29ms/step - loss: 3.0513 - accuracy: 0.2622 - val_loss: 3.2447 - val_accuracy: 0.2344\n",
            "Epoch 46/200\n",
            "391/391 [==============================] - 11s 29ms/step - loss: 3.0227 - accuracy: 0.2689 - val_loss: 3.2481 - val_accuracy: 0.2305\n",
            "Epoch 47/200\n",
            "391/391 [==============================] - 11s 29ms/step - loss: 3.0008 - accuracy: 0.2732 - val_loss: 3.2318 - val_accuracy: 0.2343\n",
            "Epoch 48/200\n",
            "391/391 [==============================] - 11s 29ms/step - loss: 2.9737 - accuracy: 0.2771 - val_loss: 3.2286 - val_accuracy: 0.2353\n",
            "Epoch 49/200\n",
            "391/391 [==============================] - 11s 29ms/step - loss: 2.9493 - accuracy: 0.2833 - val_loss: 3.2454 - val_accuracy: 0.2318\n",
            "Epoch 50/200\n",
            "391/391 [==============================] - 11s 29ms/step - loss: 2.9247 - accuracy: 0.2878 - val_loss: 3.1544 - val_accuracy: 0.2469\n",
            "Epoch 51/200\n",
            "391/391 [==============================] - 11s 29ms/step - loss: 2.9028 - accuracy: 0.2940 - val_loss: 3.1393 - val_accuracy: 0.2513\n",
            "Epoch 52/200\n",
            "391/391 [==============================] - 11s 29ms/step - loss: 2.8814 - accuracy: 0.2965 - val_loss: 3.1295 - val_accuracy: 0.2538\n",
            "Epoch 53/200\n",
            "391/391 [==============================] - 11s 29ms/step - loss: 2.8543 - accuracy: 0.3014 - val_loss: 3.1188 - val_accuracy: 0.2557\n",
            "Epoch 54/200\n",
            "391/391 [==============================] - 11s 29ms/step - loss: 2.8311 - accuracy: 0.3049 - val_loss: 3.1214 - val_accuracy: 0.2517\n",
            "Epoch 55/200\n",
            "391/391 [==============================] - 11s 29ms/step - loss: 2.8099 - accuracy: 0.3091 - val_loss: 3.1049 - val_accuracy: 0.2597\n",
            "Epoch 56/200\n",
            "391/391 [==============================] - 11s 29ms/step - loss: 2.7840 - accuracy: 0.3148 - val_loss: 3.1128 - val_accuracy: 0.2564\n",
            "Epoch 57/200\n",
            "391/391 [==============================] - 11s 29ms/step - loss: 2.7653 - accuracy: 0.3194 - val_loss: 3.1023 - val_accuracy: 0.2619\n",
            "Epoch 58/200\n",
            "391/391 [==============================] - 12s 30ms/step - loss: 2.7412 - accuracy: 0.3258 - val_loss: 3.1125 - val_accuracy: 0.2614\n",
            "Epoch 59/200\n",
            "391/391 [==============================] - 12s 30ms/step - loss: 2.7179 - accuracy: 0.3293 - val_loss: 3.1193 - val_accuracy: 0.2661\n",
            "Epoch 60/200\n",
            "391/391 [==============================] - 11s 29ms/step - loss: 2.7019 - accuracy: 0.3330 - val_loss: 3.0799 - val_accuracy: 0.2714\n",
            "Epoch 61/200\n",
            "391/391 [==============================] - 11s 29ms/step - loss: 2.6763 - accuracy: 0.3370 - val_loss: 3.0845 - val_accuracy: 0.2709\n",
            "Epoch 62/200\n",
            "391/391 [==============================] - 11s 29ms/step - loss: 2.6523 - accuracy: 0.3429 - val_loss: 3.0594 - val_accuracy: 0.2732\n",
            "Epoch 63/200\n",
            "391/391 [==============================] - 11s 29ms/step - loss: 2.6312 - accuracy: 0.3470 - val_loss: 3.0779 - val_accuracy: 0.2706\n",
            "Epoch 64/200\n",
            "391/391 [==============================] - 11s 29ms/step - loss: 2.6092 - accuracy: 0.3524 - val_loss: 3.0508 - val_accuracy: 0.2770\n",
            "Epoch 65/200\n",
            "391/391 [==============================] - 11s 29ms/step - loss: 2.5900 - accuracy: 0.3556 - val_loss: 3.0453 - val_accuracy: 0.2805\n",
            "Epoch 66/200\n",
            "391/391 [==============================] - 11s 29ms/step - loss: 2.5661 - accuracy: 0.3605 - val_loss: 3.0539 - val_accuracy: 0.2821\n",
            "Epoch 67/200\n",
            "391/391 [==============================] - 11s 29ms/step - loss: 2.5478 - accuracy: 0.3640 - val_loss: 3.0486 - val_accuracy: 0.2811\n",
            "Epoch 68/200\n",
            "391/391 [==============================] - 11s 29ms/step - loss: 2.5252 - accuracy: 0.3693 - val_loss: 3.0347 - val_accuracy: 0.2797\n",
            "Epoch 69/200\n",
            "391/391 [==============================] - 12s 29ms/step - loss: 2.5063 - accuracy: 0.3733 - val_loss: 3.0730 - val_accuracy: 0.2835\n",
            "Epoch 70/200\n",
            "391/391 [==============================] - 11s 29ms/step - loss: 2.4857 - accuracy: 0.3771 - val_loss: 3.0444 - val_accuracy: 0.2834\n",
            "Epoch 71/200\n",
            "391/391 [==============================] - 11s 29ms/step - loss: 2.4638 - accuracy: 0.3824 - val_loss: 3.0651 - val_accuracy: 0.2779\n",
            "Epoch 72/200\n",
            "391/391 [==============================] - 11s 29ms/step - loss: 2.4475 - accuracy: 0.3841 - val_loss: 3.0543 - val_accuracy: 0.2811\n",
            "Epoch 73/200\n",
            "391/391 [==============================] - 11s 29ms/step - loss: 2.4222 - accuracy: 0.3916 - val_loss: 3.0318 - val_accuracy: 0.2868\n",
            "Epoch 74/200\n",
            "391/391 [==============================] - 11s 29ms/step - loss: 2.4055 - accuracy: 0.3942 - val_loss: 3.0636 - val_accuracy: 0.2868\n",
            "Epoch 75/200\n",
            "391/391 [==============================] - 11s 29ms/step - loss: 2.3831 - accuracy: 0.3992 - val_loss: 3.0687 - val_accuracy: 0.2831\n",
            "Epoch 76/200\n",
            "391/391 [==============================] - 11s 29ms/step - loss: 2.3660 - accuracy: 0.4033 - val_loss: 3.0190 - val_accuracy: 0.2957\n",
            "Epoch 77/200\n",
            "391/391 [==============================] - 11s 29ms/step - loss: 2.3447 - accuracy: 0.4088 - val_loss: 3.0532 - val_accuracy: 0.2911\n",
            "Epoch 78/200\n",
            "391/391 [==============================] - 12s 30ms/step - loss: 2.3259 - accuracy: 0.4118 - val_loss: 3.0297 - val_accuracy: 0.2949\n",
            "Epoch 79/200\n",
            "391/391 [==============================] - 11s 29ms/step - loss: 2.3053 - accuracy: 0.4156 - val_loss: 3.0280 - val_accuracy: 0.2937\n",
            "Epoch 80/200\n",
            "391/391 [==============================] - 11s 29ms/step - loss: 2.2875 - accuracy: 0.4205 - val_loss: 3.0321 - val_accuracy: 0.2977\n",
            "Epoch 81/200\n",
            "391/391 [==============================] - 11s 29ms/step - loss: 2.2651 - accuracy: 0.4261 - val_loss: 3.0377 - val_accuracy: 0.2995\n",
            "Epoch 82/200\n",
            "391/391 [==============================] - 11s 29ms/step - loss: 2.2467 - accuracy: 0.4293 - val_loss: 3.0546 - val_accuracy: 0.2963\n",
            "Epoch 83/200\n",
            "391/391 [==============================] - 11s 29ms/step - loss: 2.2299 - accuracy: 0.4315 - val_loss: 3.0357 - val_accuracy: 0.3021\n",
            "Epoch 84/200\n",
            "391/391 [==============================] - 11s 29ms/step - loss: 2.2098 - accuracy: 0.4372 - val_loss: 3.0401 - val_accuracy: 0.3033\n",
            "Epoch 85/200\n",
            "391/391 [==============================] - 12s 30ms/step - loss: 2.1898 - accuracy: 0.4438 - val_loss: 3.1172 - val_accuracy: 0.2889\n",
            "Epoch 86/200\n",
            "391/391 [==============================] - 12s 30ms/step - loss: 2.1713 - accuracy: 0.4457 - val_loss: 3.0700 - val_accuracy: 0.2965\n",
            "Epoch 87/200\n",
            "391/391 [==============================] - 11s 29ms/step - loss: 2.1511 - accuracy: 0.4506 - val_loss: 3.0958 - val_accuracy: 0.2932\n",
            "Epoch 88/200\n",
            "391/391 [==============================] - 11s 29ms/step - loss: 2.1329 - accuracy: 0.4542 - val_loss: 3.1054 - val_accuracy: 0.2912\n",
            "Epoch 89/200\n",
            "391/391 [==============================] - 11s 29ms/step - loss: 2.1158 - accuracy: 0.4579 - val_loss: 3.0888 - val_accuracy: 0.2968\n",
            "Epoch 90/200\n",
            "391/391 [==============================] - 11s 29ms/step - loss: 2.0949 - accuracy: 0.4622 - val_loss: 3.1064 - val_accuracy: 0.3012\n",
            "Epoch 91/200\n",
            "391/391 [==============================] - 11s 29ms/step - loss: 2.0788 - accuracy: 0.4633 - val_loss: 3.0808 - val_accuracy: 0.3000\n",
            "Epoch 92/200\n",
            "391/391 [==============================] - 11s 29ms/step - loss: 2.0551 - accuracy: 0.4732 - val_loss: 3.1325 - val_accuracy: 0.2956\n",
            "Epoch 93/200\n",
            "391/391 [==============================] - 11s 29ms/step - loss: 2.0395 - accuracy: 0.4737 - val_loss: 3.0981 - val_accuracy: 0.3046\n",
            "Epoch 94/200\n",
            "391/391 [==============================] - 11s 29ms/step - loss: 2.0193 - accuracy: 0.4804 - val_loss: 3.1103 - val_accuracy: 0.2993\n",
            "Epoch 95/200\n",
            "391/391 [==============================] - 11s 29ms/step - loss: 2.0005 - accuracy: 0.4846 - val_loss: 3.1392 - val_accuracy: 0.2960\n",
            "Epoch 96/200\n",
            "391/391 [==============================] - 11s 29ms/step - loss: 1.9806 - accuracy: 0.4893 - val_loss: 3.1062 - val_accuracy: 0.3042\n"
          ],
          "name": "stdout"
        }
      ]
    },
    {
      "cell_type": "code",
      "metadata": {
        "id": "dZuWXGeW-nqY",
        "outputId": "c0c2c104-8fba-4f67-d077-95c0824bf84b",
        "colab": {
          "base_uri": "https://localhost:8080/",
          "height": 591
        }
      },
      "source": [
        "import matplotlib.pyplot as plt\n",
        "import matplotlib.pyplot as plt2\n",
        "\n",
        "history_dict = history.history\n",
        "print(history_dict.keys())\n",
        "loss_values = history_dict['loss']\n",
        "val_loss_values = history_dict['val_loss']\n",
        "train_acc = history_dict['accuracy']\n",
        "test_acc = history_dict['val_accuracy']\n",
        "\n",
        "epochs = range(1, len(history_dict['accuracy']) + 1)\n",
        "\n",
        "plt.plot(epochs, loss_values, 'bo', label='Training loss')\n",
        "plt.plot(epochs, val_loss_values, 'b', label='Validation loss')\n",
        "plt.title('Training and validation loss')\n",
        "plt.xlabel('Epochs')\n",
        "plt.ylabel('Loss')\n",
        "plt.legend()\n",
        "\n",
        "plt.show()\n",
        "\n",
        "\n",
        "plt2.plot(epochs, train_acc, 'b', label='Training Accuracy')\n",
        "plt2.plot(epochs, test_acc, color = 'red', label='Validation Accuracy')\n",
        "plt2.title('Training and validation accuracy')\n",
        "plt2.xlabel('Epochs')\n",
        "plt2.ylabel('Accuracy')\n",
        "plt2.legend()\n",
        "\n",
        "plt2.show()"
      ],
      "execution_count": 15,
      "outputs": [
        {
          "output_type": "stream",
          "text": [
            "dict_keys(['loss', 'accuracy', 'val_loss', 'val_accuracy'])\n"
          ],
          "name": "stdout"
        },
        {
          "output_type": "display_data",
          "data": {
            "image/png": "[encoded data removed]",
            "text/plain": [
              "<Figure size 432x288 with 1 Axes>"
            ]
          },
          "metadata": {
            "tags": [],
            "needs_background": "light"
          }
        },
        {
          "output_type": "display_data",
          "data": {
            "image/png": "[encoded data removed]",
            "text/plain": [
              "<Figure size 432x288 with 1 Axes>"
            ]
          },
          "metadata": {
            "tags": [],
            "needs_background": "light"
          }
        }
      ]
    },
    {
      "cell_type": "code",
      "metadata": {
        "id": "AfO0lHJIE0Gy",
        "outputId": "f0c7d62b-e6b2-408c-b0bc-ebd8730de60b",
        "colab": {
          "base_uri": "https://localhost:8080/",
          "height": 1000
        }
      },
      "source": [
        "y_pred = model.predict(x_test).argmax(-1)\n",
        "import sklearn.metrics as metrics\n",
        "print(metrics.classification_report(y_test.argmax(axis=1), y_pred))"
      ],
      "execution_count": null,
      "outputs": [
        {
          "output_type": "stream",
          "text": [
            "              precision    recall  f1-score   support\n",
            "\n",
            "           0       0.42      0.66      0.52       100\n",
            "           1       0.40      0.36      0.38       100\n",
            "           2       0.17      0.20      0.19       100\n",
            "           3       0.19      0.11      0.14       100\n",
            "           4       0.15      0.09      0.11       100\n",
            "           5       0.18      0.36      0.24       100\n",
            "           6       0.26      0.23      0.25       100\n",
            "           7       0.39      0.21      0.27       100\n",
            "           8       0.36      0.24      0.29       100\n",
            "           9       0.45      0.33      0.38       100\n",
            "          10       0.10      0.09      0.10       100\n",
            "          11       0.36      0.13      0.19       100\n",
            "          12       0.18      0.40      0.25       100\n",
            "          13       0.19      0.32      0.24       100\n",
            "          14       0.22      0.16      0.19       100\n",
            "          15       0.30      0.21      0.25       100\n",
            "          16       0.55      0.18      0.27       100\n",
            "          17       0.41      0.41      0.41       100\n",
            "          18       0.35      0.26      0.30       100\n",
            "          19       0.28      0.15      0.19       100\n",
            "          20       0.71      0.52      0.60       100\n",
            "          21       0.38      0.59      0.46       100\n",
            "          22       0.27      0.27      0.27       100\n",
            "          23       0.58      0.40      0.47       100\n",
            "          24       0.43      0.58      0.49       100\n",
            "          25       0.28      0.19      0.23       100\n",
            "          26       0.29      0.19      0.23       100\n",
            "          27       0.21      0.12      0.15       100\n",
            "          28       0.60      0.35      0.44       100\n",
            "          29       0.25      0.30      0.27       100\n",
            "          30       0.47      0.21      0.29       100\n",
            "          31       0.24      0.20      0.22       100\n",
            "          32       0.27      0.32      0.29       100\n",
            "          33       0.28      0.23      0.25       100\n",
            "          34       0.28      0.21      0.24       100\n",
            "          35       0.15      0.32      0.20       100\n",
            "          36       0.33      0.25      0.28       100\n",
            "          37       0.23      0.30      0.26       100\n",
            "          38       0.24      0.05      0.08       100\n",
            "          39       0.38      0.39      0.39       100\n",
            "          40       0.21      0.37      0.26       100\n",
            "          41       0.42      0.57      0.48       100\n",
            "          42       0.21      0.24      0.23       100\n",
            "          43       0.25      0.39      0.30       100\n",
            "          44       0.16      0.12      0.14       100\n",
            "          45       0.19      0.24      0.21       100\n",
            "          46       0.30      0.08      0.13       100\n",
            "          47       0.33      0.44      0.38       100\n",
            "          48       0.34      0.55      0.42       100\n",
            "          49       0.26      0.42      0.32       100\n",
            "          50       0.10      0.04      0.06       100\n",
            "          51       0.30      0.23      0.26       100\n",
            "          52       0.48      0.49      0.49       100\n",
            "          53       0.56      0.43      0.49       100\n",
            "          54       0.32      0.33      0.32       100\n",
            "          55       0.09      0.04      0.06       100\n",
            "          56       0.30      0.47      0.36       100\n",
            "          57       0.25      0.30      0.27       100\n",
            "          58       0.36      0.36      0.36       100\n",
            "          59       0.27      0.22      0.24       100\n",
            "          60       0.72      0.76      0.74       100\n",
            "          61       0.32      0.38      0.35       100\n",
            "          62       0.44      0.48      0.46       100\n",
            "          63       0.27      0.35      0.30       100\n",
            "          64       0.17      0.08      0.11       100\n",
            "          65       0.23      0.16      0.19       100\n",
            "          66       0.19      0.27      0.22       100\n",
            "          67       0.34      0.33      0.34       100\n",
            "          68       0.63      0.58      0.60       100\n",
            "          69       0.58      0.51      0.54       100\n",
            "          70       0.43      0.33      0.37       100\n",
            "          71       0.71      0.41      0.52       100\n",
            "          72       0.12      0.06      0.08       100\n",
            "          73       0.24      0.43      0.31       100\n",
            "          74       0.10      0.37      0.16       100\n",
            "          75       0.50      0.54      0.52       100\n",
            "          76       0.56      0.57      0.57       100\n",
            "          77       0.10      0.11      0.10       100\n",
            "          78       0.14      0.17      0.15       100\n",
            "          79       0.25      0.26      0.26       100\n",
            "          80       0.10      0.31      0.15       100\n",
            "          81       0.29      0.23      0.26       100\n",
            "          82       0.53      0.70      0.60       100\n",
            "          83       0.23      0.23      0.23       100\n",
            "          84       0.24      0.17      0.20       100\n",
            "          85       0.50      0.35      0.41       100\n",
            "          86       0.58      0.22      0.32       100\n",
            "          87       0.22      0.27      0.24       100\n",
            "          88       0.28      0.08      0.12       100\n",
            "          89       0.41      0.26      0.32       100\n",
            "          90       0.26      0.18      0.21       100\n",
            "          91       0.38      0.45      0.41       100\n",
            "          92       0.23      0.15      0.18       100\n",
            "          93       0.12      0.12      0.12       100\n",
            "          94       0.66      0.53      0.59       100\n",
            "          95       0.41      0.50      0.45       100\n",
            "          96       0.22      0.19      0.21       100\n",
            "          97       0.45      0.17      0.25       100\n",
            "          98       0.23      0.07      0.11       100\n",
            "          99       0.26      0.30      0.28       100\n",
            "\n",
            "    accuracy                           0.30     10000\n",
            "   macro avg       0.32      0.30      0.30     10000\n",
            "weighted avg       0.32      0.30      0.30     10000\n",
            "\n"
          ],
          "name": "stdout"
        }
      ]
    },
    {
      "cell_type": "code",
      "metadata": {
        "id": "_Dvmbanbn3H_"
      },
      "source": [
        ""
      ],
      "execution_count": null,
      "outputs": []
    },
    {
      "cell_type": "markdown",
      "metadata": {
        "id": "b8SADQsAT1JV"
      },
      "source": [
        "## TESTS"
      ]
    },
    {
      "cell_type": "code",
      "metadata": {
        "id": "T4Smel9NqS1r"
      },
      "source": [
        "# model.load_weights(filepath=F\"/content/gdrive/My Drive/Checkpoints/VGGNet16_SGD_NoRegularization.h5\")\n",
        "\n",
        "model.load_weights(\"VGGNet16_SGD_NoRegularization.h5\")"
      ],
      "execution_count": null,
      "outputs": []
    },
    {
      "cell_type": "code",
      "metadata": {
        "id": "b0XDBMyDq0d3",
        "outputId": "b22d4457-d63a-4396-9549-16c1a018cd8a",
        "colab": {
          "base_uri": "https://localhost:8080/",
          "height": 54
        }
      },
      "source": [
        "result = model.evaluate(batch_size=128, x=x_test, y=y_test)\n",
        "dict(zip(model.metrics_names,result))"
      ],
      "execution_count": null,
      "outputs": [
        {
          "output_type": "stream",
          "text": [
            "79/79 [==============================] - 3s 32ms/step - loss: 3.2787 - accuracy: 0.3058\n"
          ],
          "name": "stdout"
        },
        {
          "output_type": "execute_result",
          "data": {
            "text/plain": [
              "{'accuracy': 0.3057999908924103, 'loss': 3.2787327766418457}"
            ]
          },
          "metadata": {
            "tags": []
          },
          "execution_count": 22
        }
      ]
    }
  ]
}